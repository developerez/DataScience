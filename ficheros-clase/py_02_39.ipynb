{
 "cells": [
  {
   "cell_type": "markdown",
   "metadata": {},
   "source": [
    "**for**: sentencia que se usa para generar iteraciones o también llamados bucles"
   ]
  },
  {
   "cell_type": "code",
   "execution_count": 27,
   "metadata": {},
   "outputs": [],
   "source": [
    "resultado=[]"
   ]
  },
  {
   "cell_type": "code",
   "execution_count": 28,
   "metadata": {},
   "outputs": [
    {
     "data": {
      "text/plain": [
       "[4, 9, 16, 25, 36, 49, 64, 81, 100]"
      ]
     },
     "execution_count": 28,
     "metadata": {},
     "output_type": "execute_result"
    }
   ],
   "source": [
    "for i in range(2,11):\n",
    "    resultado.append(i**2)\n",
    "resultado"
   ]
  },
  {
   "cell_type": "code",
   "execution_count": 5,
   "metadata": {},
   "outputs": [
    {
     "data": {
      "text/plain": [
       "[4, 9, 16, 25, 36, 49, 64, 81, 100]"
      ]
     },
     "execution_count": 5,
     "metadata": {},
     "output_type": "execute_result"
    }
   ],
   "source": [
    "resultado"
   ]
  },
  {
   "cell_type": "markdown",
   "metadata": {},
   "source": [
    "- **append()**: la función append se utiliza para ir agregando elementos a un objeto"
   ]
  },
  {
   "cell_type": "markdown",
   "metadata": {},
   "source": [
    "**while**: realiza un recorrido sobre valores, pero es condicional, por eso toma el nombre de bucle condicional"
   ]
  },
  {
   "cell_type": "code",
   "execution_count": 6,
   "metadata": {},
   "outputs": [],
   "source": [
    "x=0\n",
    "y=20"
   ]
  },
  {
   "cell_type": "code",
   "execution_count": 7,
   "metadata": {},
   "outputs": [
    {
     "name": "stdout",
     "output_type": "stream",
     "text": [
      "0\n",
      "1\n",
      "2\n",
      "3\n",
      "4\n",
      "5\n",
      "6\n",
      "7\n",
      "8\n",
      "9\n",
      "10\n",
      "11\n",
      "12\n",
      "13\n",
      "14\n",
      "15\n",
      "16\n",
      "17\n",
      "18\n",
      "19\n"
     ]
    }
   ],
   "source": [
    "while x<y:\n",
    "    print(x)\n",
    "    x+=1"
   ]
  },
  {
   "cell_type": "markdown",
   "metadata": {},
   "source": [
    "**tipeado dinámico**"
   ]
  },
  {
   "cell_type": "code",
   "execution_count": 8,
   "metadata": {},
   "outputs": [
    {
     "name": "stdout",
     "output_type": "stream",
     "text": [
      "[2, 3, 4, 5]\n"
     ]
    }
   ],
   "source": [
    "lista = [2,3,4,5]; print(lista)"
   ]
  },
  {
   "cell_type": "code",
   "execution_count": 9,
   "metadata": {},
   "outputs": [
    {
     "name": "stdout",
     "output_type": "stream",
     "text": [
      "[2, 3, 4, 5]\n"
     ]
    }
   ],
   "source": [
    "lista2 = lista; print(lista2)"
   ]
  },
  {
   "cell_type": "markdown",
   "metadata": {},
   "source": [
    "**Nota**: modificamos un valor en el objeto lista"
   ]
  },
  {
   "cell_type": "code",
   "execution_count": 11,
   "metadata": {},
   "outputs": [],
   "source": [
    "lista[0]=100"
   ]
  },
  {
   "cell_type": "code",
   "execution_count": 12,
   "metadata": {},
   "outputs": [
    {
     "name": "stdout",
     "output_type": "stream",
     "text": [
      "[100, 3, 4, 5]\n"
     ]
    }
   ],
   "source": [
    "print(lista)"
   ]
  },
  {
   "cell_type": "code",
   "execution_count": 13,
   "metadata": {},
   "outputs": [
    {
     "name": "stdout",
     "output_type": "stream",
     "text": [
      "[100, 3, 4, 5]\n"
     ]
    }
   ],
   "source": [
    "print(lista2)"
   ]
  },
  {
   "cell_type": "code",
   "execution_count": 14,
   "metadata": {},
   "outputs": [],
   "source": [
    "lista2=lista.copy()"
   ]
  },
  {
   "cell_type": "code",
   "execution_count": 16,
   "metadata": {},
   "outputs": [],
   "source": [
    "lista[0]=2"
   ]
  },
  {
   "cell_type": "code",
   "execution_count": 17,
   "metadata": {},
   "outputs": [
    {
     "data": {
      "text/plain": [
       "[2, 3, 4, 5]"
      ]
     },
     "execution_count": 17,
     "metadata": {},
     "output_type": "execute_result"
    }
   ],
   "source": [
    "lista"
   ]
  },
  {
   "cell_type": "code",
   "execution_count": 18,
   "metadata": {},
   "outputs": [
    {
     "data": {
      "text/plain": [
       "[100, 3, 4, 5]"
      ]
     },
     "execution_count": 18,
     "metadata": {},
     "output_type": "execute_result"
    }
   ],
   "source": [
    "lista2"
   ]
  },
  {
   "cell_type": "code",
   "execution_count": null,
   "metadata": {},
   "outputs": [],
   "source": [
    "cálculos / segundo realiza tu ordenador"
   ]
  },
  {
   "cell_type": "code",
   "execution_count": null,
   "metadata": {},
   "outputs": [],
   "source": [
    "mil registros"
   ]
  },
  {
   "cell_type": "code",
   "execution_count": 19,
   "metadata": {},
   "outputs": [
    {
     "data": {
      "text/plain": [
       "1000000"
      ]
     },
     "execution_count": 19,
     "metadata": {},
     "output_type": "execute_result"
    }
   ],
   "source": [
    "1000*1000"
   ]
  },
  {
   "cell_type": "code",
   "execution_count": 22,
   "metadata": {},
   "outputs": [
    {
     "data": {
      "text/plain": [
       "18.51851851851852"
      ]
     },
     "execution_count": 22,
     "metadata": {},
     "output_type": "execute_result"
    }
   ],
   "source": [
    "((1000000/15)/60)/60"
   ]
  },
  {
   "cell_type": "code",
   "execution_count": null,
   "metadata": {},
   "outputs": [],
   "source": [
    "h2o para python (trabaja en un clúster de procesamiento paralelo de doce núcleos)"
   ]
  },
  {
   "cell_type": "code",
   "execution_count": null,
   "metadata": {},
   "outputs": [],
   "source": [
    "h2o para R (trabaja con un núcleo de procesamiento)"
   ]
  },
  {
   "cell_type": "markdown",
   "metadata": {},
   "source": [
    "**Estructuras de objetos**"
   ]
  },
  {
   "cell_type": "markdown",
   "metadata": {},
   "source": [
    "**Números**"
   ]
  },
  {
   "cell_type": "code",
   "execution_count": 32,
   "metadata": {},
   "outputs": [
    {
     "name": "stdout",
     "output_type": "stream",
     "text": [
      "40\n"
     ]
    },
    {
     "data": {
      "text/plain": [
       "int"
      ]
     },
     "execution_count": 32,
     "metadata": {},
     "output_type": "execute_result"
    }
   ],
   "source": [
    "n_entero = 40; print(n_entero); type(n_entero)"
   ]
  },
  {
   "cell_type": "code",
   "execution_count": 39,
   "metadata": {},
   "outputs": [
    {
     "name": "stdout",
     "output_type": "stream",
     "text": [
      "11.0\n"
     ]
    },
    {
     "data": {
      "text/plain": [
       "float"
      ]
     },
     "execution_count": 39,
     "metadata": {},
     "output_type": "execute_result"
    }
   ],
   "source": [
    "n_real = 11.0; print(n_real); type(n_real)"
   ]
  },
  {
   "cell_type": "markdown",
   "metadata": {},
   "source": [
    "**sistemas numéricos**"
   ]
  },
  {
   "cell_type": "code",
   "execution_count": 41,
   "metadata": {},
   "outputs": [
    {
     "name": "stdout",
     "output_type": "stream",
     "text": [
      "3\n"
     ]
    }
   ],
   "source": [
    "n_bin = 0b11; print(n_bin)"
   ]
  },
  {
   "cell_type": "code",
   "execution_count": 43,
   "metadata": {},
   "outputs": [
    {
     "data": {
      "text/plain": [
       "'0b11'"
      ]
     },
     "execution_count": 43,
     "metadata": {},
     "output_type": "execute_result"
    }
   ],
   "source": [
    "bin(3)"
   ]
  },
  {
   "cell_type": "markdown",
   "metadata": {},
   "source": [
    "**Nota**: para python no es un problema trabajar con diferentes sistemas numéricos, ya que los convierte en el sistema decimal"
   ]
  },
  {
   "cell_type": "code",
   "execution_count": 44,
   "metadata": {},
   "outputs": [
    {
     "name": "stdout",
     "output_type": "stream",
     "text": [
      "15\n"
     ]
    }
   ],
   "source": [
    "n_hex = 0xf; print(n_hex)"
   ]
  },
  {
   "cell_type": "code",
   "execution_count": 45,
   "metadata": {},
   "outputs": [
    {
     "data": {
      "text/plain": [
       "'0xf'"
      ]
     },
     "execution_count": 45,
     "metadata": {},
     "output_type": "execute_result"
    }
   ],
   "source": [
    "hex(15)"
   ]
  },
  {
   "cell_type": "markdown",
   "metadata": {},
   "source": [
    "**Conjuntos**"
   ]
  },
  {
   "cell_type": "code",
   "execution_count": 48,
   "metadata": {},
   "outputs": [
    {
     "name": "stdout",
     "output_type": "stream",
     "text": [
      "{2, 3, 4, 10, 11, 15}\n"
     ]
    }
   ],
   "source": [
    "conjunto = {2,3,4,10,11,15};type(conjunto);print(conjunto)"
   ]
  },
  {
   "cell_type": "code",
   "execution_count": 49,
   "metadata": {},
   "outputs": [],
   "source": [
    "conjunto2 = {3,11,19,21}"
   ]
  },
  {
   "cell_type": "code",
   "execution_count": 50,
   "metadata": {},
   "outputs": [
    {
     "data": {
      "text/plain": [
       "{3, 11}"
      ]
     },
     "execution_count": 50,
     "metadata": {},
     "output_type": "execute_result"
    }
   ],
   "source": [
    "conjunto & conjunto2"
   ]
  },
  {
   "cell_type": "code",
   "execution_count": 51,
   "metadata": {},
   "outputs": [
    {
     "data": {
      "text/plain": [
       "{3, 11}"
      ]
     },
     "execution_count": 51,
     "metadata": {},
     "output_type": "execute_result"
    }
   ],
   "source": [
    "conjunto.intersection(conjunto2)"
   ]
  },
  {
   "cell_type": "code",
   "execution_count": 52,
   "metadata": {},
   "outputs": [],
   "source": [
    "duplicados = {2,3,4,4,5,6,9,11,11,23}"
   ]
  },
  {
   "cell_type": "code",
   "execution_count": 53,
   "metadata": {},
   "outputs": [
    {
     "name": "stdout",
     "output_type": "stream",
     "text": [
      "{2, 3, 4, 5, 6, 9, 11, 23}\n"
     ]
    }
   ],
   "source": [
    "print(duplicados)"
   ]
  },
  {
   "cell_type": "markdown",
   "metadata": {},
   "source": [
    "**Cadena de texto**"
   ]
  },
  {
   "cell_type": "code",
   "execution_count": 54,
   "metadata": {},
   "outputs": [],
   "source": [
    "cadena = \"este es un objeto tipo texto\""
   ]
  },
  {
   "cell_type": "code",
   "execution_count": 55,
   "metadata": {},
   "outputs": [
    {
     "name": "stdout",
     "output_type": "stream",
     "text": [
      "este es un objeto tipo texto\n"
     ]
    }
   ],
   "source": [
    "print(cadena)"
   ]
  },
  {
   "cell_type": "code",
   "execution_count": 56,
   "metadata": {},
   "outputs": [
    {
     "data": {
      "text/plain": [
       "str"
      ]
     },
     "execution_count": 56,
     "metadata": {},
     "output_type": "execute_result"
    }
   ],
   "source": [
    "type(cadena)"
   ]
  },
  {
   "cell_type": "markdown",
   "metadata": {},
   "source": [
    "**Nota**: los objetos tipo texto su formato es object o string"
   ]
  },
  {
   "cell_type": "markdown",
   "metadata": {},
   "source": [
    "**pandas.read_csv()**: función para importar ficheros csv"
   ]
  },
  {
   "cell_type": "markdown",
   "metadata": {},
   "source": [
    "parámetro encoding=None"
   ]
  },
  {
   "cell_type": "code",
   "execution_count": 57,
   "metadata": {},
   "outputs": [
    {
     "data": {
      "text/plain": [
       "bytearray(b'Sig\\xfce\\xf1as')"
      ]
     },
     "execution_count": 57,
     "metadata": {},
     "output_type": "execute_result"
    }
   ],
   "source": [
    "bytearray(\"Sigüeñas\",\"latin\")"
   ]
  },
  {
   "cell_type": "code",
   "execution_count": 59,
   "metadata": {},
   "outputs": [
    {
     "data": {
      "text/plain": [
       "bytearray(b'\\xe2\\x89\\x87\\xd0\\x85I\\x81\\xa2')"
      ]
     },
     "execution_count": 59,
     "metadata": {},
     "output_type": "execute_result"
    }
   ],
   "source": [
    "bytearray(\"Sigüeñas\",\"cp273\")"
   ]
  },
  {
   "cell_type": "markdown",
   "metadata": {},
   "source": [
    "https://docs.python.org/3/library/codecs.html#standard-encodings"
   ]
  },
  {
   "cell_type": "markdown",
   "metadata": {},
   "source": [
    "**Listas**"
   ]
  },
  {
   "cell_type": "markdown",
   "metadata": {},
   "source": [
    "- nos permite almacenar valores u objetos de diferentes tipos (o formatos)- se diferencia de los vectores\n",
    "- se pueden modificar después de crearlas - se diferencia de las tuplas.\n",
    "- se define usando []"
   ]
  },
  {
   "cell_type": "code",
   "execution_count": 61,
   "metadata": {},
   "outputs": [
    {
     "data": {
      "text/plain": [
       "list"
      ]
     },
     "execution_count": 61,
     "metadata": {},
     "output_type": "execute_result"
    }
   ],
   "source": [
    "alumno = [\"Miguel\",24,True];type(alumno)"
   ]
  },
  {
   "cell_type": "code",
   "execution_count": 63,
   "metadata": {},
   "outputs": [],
   "source": [
    "alumno[1]=26"
   ]
  },
  {
   "cell_type": "code",
   "execution_count": 64,
   "metadata": {},
   "outputs": [
    {
     "name": "stdout",
     "output_type": "stream",
     "text": [
      "['Miguel', 26, True]\n"
     ]
    }
   ],
   "source": [
    "print(alumno)"
   ]
  },
  {
   "cell_type": "code",
   "execution_count": 65,
   "metadata": {},
   "outputs": [],
   "source": [
    "alumno.append(\"Miraflores\")"
   ]
  },
  {
   "cell_type": "code",
   "execution_count": 66,
   "metadata": {},
   "outputs": [
    {
     "name": "stdout",
     "output_type": "stream",
     "text": [
      "['Miguel', 26, True, 'Miraflores']\n"
     ]
    }
   ],
   "source": [
    "print(alumno)"
   ]
  },
  {
   "cell_type": "code",
   "execution_count": 67,
   "metadata": {},
   "outputs": [],
   "source": [
    "alumno.insert(1,\"Jacinto\")"
   ]
  },
  {
   "cell_type": "code",
   "execution_count": 68,
   "metadata": {},
   "outputs": [
    {
     "name": "stdout",
     "output_type": "stream",
     "text": [
      "['Miguel', 'Jacinto', 26, True, 'Miraflores']\n"
     ]
    }
   ],
   "source": [
    "print(alumno)"
   ]
  },
  {
   "cell_type": "code",
   "execution_count": 69,
   "metadata": {},
   "outputs": [],
   "source": [
    "del alumno[1]"
   ]
  },
  {
   "cell_type": "code",
   "execution_count": 70,
   "metadata": {},
   "outputs": [
    {
     "data": {
      "text/plain": [
       "['Miguel', 26, True, 'Miraflores']"
      ]
     },
     "execution_count": 70,
     "metadata": {},
     "output_type": "execute_result"
    }
   ],
   "source": [
    "alumno"
   ]
  },
  {
   "cell_type": "code",
   "execution_count": 71,
   "metadata": {},
   "outputs": [],
   "source": [
    "alumnos = [[\"Miguel\",24,True],[\"Ibrahim\",30,True]]"
   ]
  },
  {
   "cell_type": "code",
   "execution_count": 80,
   "metadata": {},
   "outputs": [],
   "source": [
    "alumnos[1][0]=\"Ibrahim\""
   ]
  },
  {
   "cell_type": "code",
   "execution_count": 77,
   "metadata": {},
   "outputs": [],
   "source": [
    "alumnos[1][0]=alumnos[1][0].replace(\"Ibrahim\",\"Perez\")"
   ]
  },
  {
   "cell_type": "code",
   "execution_count": 81,
   "metadata": {},
   "outputs": [
    {
     "data": {
      "text/plain": [
       "[['Miguel', 24, True], ['Ibrahim', 30, True]]"
      ]
     },
     "execution_count": 81,
     "metadata": {},
     "output_type": "execute_result"
    }
   ],
   "source": [
    "alumnos"
   ]
  },
  {
   "cell_type": "markdown",
   "metadata": {},
   "source": [
    "**Ejemplo de crear un DF a partir de una lista de listas**"
   ]
  },
  {
   "cell_type": "code",
   "execution_count": 82,
   "metadata": {},
   "outputs": [],
   "source": [
    "import pandas as pd"
   ]
  },
  {
   "cell_type": "code",
   "execution_count": 84,
   "metadata": {},
   "outputs": [],
   "source": [
    "data=pd.DataFrame(alumnos,#lista de listas\n",
    "            columns=[\"nombre\",\"edad\",\"sexo=masculino\"])"
   ]
  },
  {
   "cell_type": "code",
   "execution_count": 85,
   "metadata": {},
   "outputs": [
    {
     "name": "stdout",
     "output_type": "stream",
     "text": [
      "<class 'pandas.core.frame.DataFrame'>\n",
      "RangeIndex: 2 entries, 0 to 1\n",
      "Data columns (total 3 columns):\n",
      " #   Column          Non-Null Count  Dtype \n",
      "---  ------          --------------  ----- \n",
      " 0   nombre          2 non-null      object\n",
      " 1   edad            2 non-null      int64 \n",
      " 2   sexo=masculino  2 non-null      bool  \n",
      "dtypes: bool(1), int64(1), object(1)\n",
      "memory usage: 162.0+ bytes\n"
     ]
    }
   ],
   "source": [
    "data.info()"
   ]
  },
  {
   "cell_type": "code",
   "execution_count": 86,
   "metadata": {},
   "outputs": [
    {
     "data": {
      "text/plain": [
       "'C:\\\\Users\\\\SOCIAL DATA'"
      ]
     },
     "execution_count": 86,
     "metadata": {},
     "output_type": "execute_result"
    }
   ],
   "source": [
    "import os\n",
    "os.getcwd()"
   ]
  },
  {
   "cell_type": "markdown",
   "metadata": {},
   "source": [
    "**Tuplas**"
   ]
  },
  {
   "cell_type": "markdown",
   "metadata": {},
   "source": [
    "- una vez que es creado es un objeto inmodificable"
   ]
  },
  {
   "cell_type": "code",
   "execution_count": 87,
   "metadata": {},
   "outputs": [],
   "source": [
    "alumno_tupla = \"Ibrahim\",30,True"
   ]
  },
  {
   "cell_type": "code",
   "execution_count": 89,
   "metadata": {},
   "outputs": [
    {
     "ename": "TypeError",
     "evalue": "'tuple' object does not support item assignment",
     "output_type": "error",
     "traceback": [
      "\u001b[1;31m---------------------------------------------------------------------------\u001b[0m",
      "\u001b[1;31mTypeError\u001b[0m                                 Traceback (most recent call last)",
      "\u001b[1;32m<ipython-input-89-d2a4c6bae60e>\u001b[0m in \u001b[0;36m<module>\u001b[1;34m\u001b[0m\n\u001b[1;32m----> 1\u001b[1;33m \u001b[0malumno_tupla\u001b[0m\u001b[1;33m[\u001b[0m\u001b[1;36m1\u001b[0m\u001b[1;33m]\u001b[0m\u001b[1;33m=\u001b[0m\u001b[1;36m32\u001b[0m\u001b[1;33m\u001b[0m\u001b[1;33m\u001b[0m\u001b[0m\n\u001b[0m",
      "\u001b[1;31mTypeError\u001b[0m: 'tuple' object does not support item assignment"
     ]
    }
   ],
   "source": [
    "alumno_tupla[1]=32"
   ]
  },
  {
   "cell_type": "markdown",
   "metadata": {},
   "source": [
    "**¿Podríamos modificar una tupla a otra estructura de objeto?**"
   ]
  },
  {
   "cell_type": "code",
   "execution_count": 90,
   "metadata": {},
   "outputs": [],
   "source": [
    "alumno_list = list(alumno_tupla)"
   ]
  },
  {
   "cell_type": "code",
   "execution_count": 91,
   "metadata": {},
   "outputs": [
    {
     "data": {
      "text/plain": [
       "list"
      ]
     },
     "execution_count": 91,
     "metadata": {},
     "output_type": "execute_result"
    }
   ],
   "source": [
    "type(alumno_list)"
   ]
  },
  {
   "cell_type": "code",
   "execution_count": 92,
   "metadata": {},
   "outputs": [
    {
     "data": {
      "text/plain": [
       "['Ibrahim', 30, True]"
      ]
     },
     "execution_count": 92,
     "metadata": {},
     "output_type": "execute_result"
    }
   ],
   "source": [
    "alumno_list"
   ]
  },
  {
   "cell_type": "markdown",
   "metadata": {},
   "source": [
    "**Vectores & matrices**"
   ]
  },
  {
   "cell_type": "code",
   "execution_count": 29,
   "metadata": {},
   "outputs": [],
   "source": [
    "import numpy as np"
   ]
  },
  {
   "cell_type": "code",
   "execution_count": 94,
   "metadata": {},
   "outputs": [
    {
     "data": {
      "text/plain": [
       "array(['25', '30', '32', '28'], dtype='<U11')"
      ]
     },
     "execution_count": 94,
     "metadata": {},
     "output_type": "execute_result"
    }
   ],
   "source": [
    "np.array([25,30,32,\"28\"])"
   ]
  },
  {
   "cell_type": "markdown",
   "metadata": {},
   "source": [
    "- son objetos que admiten un tipo de formato"
   ]
  },
  {
   "cell_type": "code",
   "execution_count": 95,
   "metadata": {},
   "outputs": [],
   "source": [
    "edades=np.array([25,30,32,28])"
   ]
  },
  {
   "cell_type": "code",
   "execution_count": 97,
   "metadata": {},
   "outputs": [],
   "source": [
    "edades[1]=27"
   ]
  },
  {
   "cell_type": "code",
   "execution_count": 98,
   "metadata": {},
   "outputs": [
    {
     "name": "stdout",
     "output_type": "stream",
     "text": [
      "[25 27 32 28]\n"
     ]
    }
   ],
   "source": [
    "print(edades)"
   ]
  },
  {
   "cell_type": "markdown",
   "metadata": {},
   "source": [
    "**Diccionarios**"
   ]
  },
  {
   "cell_type": "code",
   "execution_count": 99,
   "metadata": {},
   "outputs": [],
   "source": [
    "alumno_dict ={\"alumno\":[\"Ibrahim\",\"Harol\",\"Enrique\",\"Katherin\"],\n",
    "             \"edad\":[30,24,28,32],\n",
    "             \"masculino\":[True,True,True,False],\n",
    "             \"universidad\":[\"PUCP\",\"UNI\",\"PUCP\",\"UNALM\"]}"
   ]
  },
  {
   "cell_type": "code",
   "execution_count": 100,
   "metadata": {},
   "outputs": [
    {
     "data": {
      "text/plain": [
       "dict"
      ]
     },
     "execution_count": 100,
     "metadata": {},
     "output_type": "execute_result"
    }
   ],
   "source": [
    "type(alumno_dict)"
   ]
  },
  {
   "cell_type": "code",
   "execution_count": 101,
   "metadata": {},
   "outputs": [
    {
     "name": "stdout",
     "output_type": "stream",
     "text": [
      "{'alumno': ['Ibrahim', 'Harol', 'Enrique', 'Katherin'], 'edad': [30, 24, 28, 32], 'masculino': [True, True, True, False], 'universidad': ['PUCP', 'UNI', 'PUCP', 'UNALM']}\n"
     ]
    }
   ],
   "source": [
    "print(alumno_dict)"
   ]
  },
  {
   "cell_type": "code",
   "execution_count": 104,
   "metadata": {},
   "outputs": [],
   "source": [
    "alumno_dict[\"alumno\"][2]=\"Oliver\""
   ]
  },
  {
   "cell_type": "code",
   "execution_count": 105,
   "metadata": {},
   "outputs": [
    {
     "name": "stdout",
     "output_type": "stream",
     "text": [
      "{'alumno': ['Ibrahim', 'Harol', 'Oliver', 'Katherin'], 'edad': [30, 24, 28, 32], 'masculino': [True, True, True, False], 'universidad': ['PUCP', 'UNI', 'PUCP', 'UNALM']}\n"
     ]
    }
   ],
   "source": [
    "print(alumno_dict)"
   ]
  },
  {
   "cell_type": "code",
   "execution_count": 106,
   "metadata": {},
   "outputs": [],
   "source": [
    "import pandas as pd"
   ]
  },
  {
   "cell_type": "code",
   "execution_count": 107,
   "metadata": {},
   "outputs": [],
   "source": [
    "df_alumnos = pd.DataFrame(alumno_dict)"
   ]
  },
  {
   "cell_type": "code",
   "execution_count": 108,
   "metadata": {},
   "outputs": [
    {
     "data": {
      "text/html": [
       "<div>\n",
       "<style scoped>\n",
       "    .dataframe tbody tr th:only-of-type {\n",
       "        vertical-align: middle;\n",
       "    }\n",
       "\n",
       "    .dataframe tbody tr th {\n",
       "        vertical-align: top;\n",
       "    }\n",
       "\n",
       "    .dataframe thead th {\n",
       "        text-align: right;\n",
       "    }\n",
       "</style>\n",
       "<table border=\"1\" class=\"dataframe\">\n",
       "  <thead>\n",
       "    <tr style=\"text-align: right;\">\n",
       "      <th></th>\n",
       "      <th>alumno</th>\n",
       "      <th>edad</th>\n",
       "      <th>masculino</th>\n",
       "      <th>universidad</th>\n",
       "    </tr>\n",
       "  </thead>\n",
       "  <tbody>\n",
       "    <tr>\n",
       "      <th>0</th>\n",
       "      <td>Ibrahim</td>\n",
       "      <td>30</td>\n",
       "      <td>True</td>\n",
       "      <td>PUCP</td>\n",
       "    </tr>\n",
       "    <tr>\n",
       "      <th>1</th>\n",
       "      <td>Harol</td>\n",
       "      <td>24</td>\n",
       "      <td>True</td>\n",
       "      <td>UNI</td>\n",
       "    </tr>\n",
       "    <tr>\n",
       "      <th>2</th>\n",
       "      <td>Oliver</td>\n",
       "      <td>28</td>\n",
       "      <td>True</td>\n",
       "      <td>PUCP</td>\n",
       "    </tr>\n",
       "    <tr>\n",
       "      <th>3</th>\n",
       "      <td>Katherin</td>\n",
       "      <td>32</td>\n",
       "      <td>False</td>\n",
       "      <td>UNALM</td>\n",
       "    </tr>\n",
       "  </tbody>\n",
       "</table>\n",
       "</div>"
      ],
      "text/plain": [
       "     alumno  edad  masculino universidad\n",
       "0   Ibrahim    30       True        PUCP\n",
       "1     Harol    24       True         UNI\n",
       "2    Oliver    28       True        PUCP\n",
       "3  Katherin    32      False       UNALM"
      ]
     },
     "execution_count": 108,
     "metadata": {},
     "output_type": "execute_result"
    }
   ],
   "source": [
    "df_alumnos"
   ]
  },
  {
   "cell_type": "markdown",
   "metadata": {},
   "source": [
    "**DataFrame**"
   ]
  },
  {
   "cell_type": "code",
   "execution_count": 30,
   "metadata": {},
   "outputs": [],
   "source": [
    "import pandas as pd"
   ]
  },
  {
   "cell_type": "markdown",
   "metadata": {},
   "source": [
    "**algunos ejemplos de manipulación de unDF**"
   ]
  },
  {
   "cell_type": "markdown",
   "metadata": {},
   "source": [
    "Consultar las etiquetas de una columna de un DF"
   ]
  },
  {
   "cell_type": "code",
   "execution_count": 112,
   "metadata": {},
   "outputs": [
    {
     "name": "stdout",
     "output_type": "stream",
     "text": [
      "['alumno', 'edad', 'masculino', 'universidad']\n"
     ]
    }
   ],
   "source": [
    "name_columns= df_alumnos.columns.tolist();print(name_columns)"
   ]
  },
  {
   "cell_type": "markdown",
   "metadata": {},
   "source": [
    "Consultar los valores de columna de un DF"
   ]
  },
  {
   "cell_type": "code",
   "execution_count": 113,
   "metadata": {},
   "outputs": [],
   "source": [
    "value_x = df_alumnos[\"edad\"].values"
   ]
  },
  {
   "cell_type": "code",
   "execution_count": 114,
   "metadata": {},
   "outputs": [
    {
     "data": {
      "text/plain": [
       "array([30, 24, 28, 32], dtype=int64)"
      ]
     },
     "execution_count": 114,
     "metadata": {},
     "output_type": "execute_result"
    }
   ],
   "source": [
    "value_x"
   ]
  },
  {
   "cell_type": "code",
   "execution_count": 116,
   "metadata": {},
   "outputs": [
    {
     "data": {
      "text/plain": [
       "array([[30, 'PUCP'],\n",
       "       [24, 'UNI'],\n",
       "       [28, 'PUCP'],\n",
       "       [32, 'UNALM']], dtype=object)"
      ]
     },
     "execution_count": 116,
     "metadata": {},
     "output_type": "execute_result"
    }
   ],
   "source": [
    "df_alumnos[[\"edad\",\"universidad\"]].values"
   ]
  },
  {
   "cell_type": "code",
   "execution_count": 118,
   "metadata": {},
   "outputs": [
    {
     "data": {
      "text/plain": [
       "array([[30, 'PUCP'],\n",
       "       [24, 'UNI'],\n",
       "       [28, 'PUCP'],\n",
       "       [32, 'UNALM']], dtype=object)"
      ]
     },
     "execution_count": 118,
     "metadata": {},
     "output_type": "execute_result"
    }
   ],
   "source": [
    "df_alumnos.iloc[:,[1,3]].values"
   ]
  },
  {
   "cell_type": "code",
   "execution_count": 119,
   "metadata": {},
   "outputs": [
    {
     "data": {
      "text/html": [
       "<div>\n",
       "<style scoped>\n",
       "    .dataframe tbody tr th:only-of-type {\n",
       "        vertical-align: middle;\n",
       "    }\n",
       "\n",
       "    .dataframe tbody tr th {\n",
       "        vertical-align: top;\n",
       "    }\n",
       "\n",
       "    .dataframe thead th {\n",
       "        text-align: right;\n",
       "    }\n",
       "</style>\n",
       "<table border=\"1\" class=\"dataframe\">\n",
       "  <thead>\n",
       "    <tr style=\"text-align: right;\">\n",
       "      <th></th>\n",
       "      <th>alumno</th>\n",
       "      <th>edad</th>\n",
       "      <th>masculino</th>\n",
       "      <th>universidad</th>\n",
       "    </tr>\n",
       "  </thead>\n",
       "  <tbody>\n",
       "    <tr>\n",
       "      <th>0</th>\n",
       "      <td>Ibrahim</td>\n",
       "      <td>30</td>\n",
       "      <td>True</td>\n",
       "      <td>PUCP</td>\n",
       "    </tr>\n",
       "    <tr>\n",
       "      <th>1</th>\n",
       "      <td>Harol</td>\n",
       "      <td>24</td>\n",
       "      <td>True</td>\n",
       "      <td>UNI</td>\n",
       "    </tr>\n",
       "  </tbody>\n",
       "</table>\n",
       "</div>"
      ],
      "text/plain": [
       "    alumno  edad  masculino universidad\n",
       "0  Ibrahim    30       True        PUCP\n",
       "1    Harol    24       True         UNI"
      ]
     },
     "execution_count": 119,
     "metadata": {},
     "output_type": "execute_result"
    }
   ],
   "source": [
    "df_alumnos.head(n=2)"
   ]
  },
  {
   "cell_type": "code",
   "execution_count": 120,
   "metadata": {},
   "outputs": [
    {
     "data": {
      "text/html": [
       "<div>\n",
       "<style scoped>\n",
       "    .dataframe tbody tr th:only-of-type {\n",
       "        vertical-align: middle;\n",
       "    }\n",
       "\n",
       "    .dataframe tbody tr th {\n",
       "        vertical-align: top;\n",
       "    }\n",
       "\n",
       "    .dataframe thead th {\n",
       "        text-align: right;\n",
       "    }\n",
       "</style>\n",
       "<table border=\"1\" class=\"dataframe\">\n",
       "  <thead>\n",
       "    <tr style=\"text-align: right;\">\n",
       "      <th></th>\n",
       "      <th>alumno</th>\n",
       "      <th>edad</th>\n",
       "      <th>masculino</th>\n",
       "      <th>universidad</th>\n",
       "    </tr>\n",
       "  </thead>\n",
       "  <tbody>\n",
       "    <tr>\n",
       "      <th>2</th>\n",
       "      <td>Oliver</td>\n",
       "      <td>28</td>\n",
       "      <td>True</td>\n",
       "      <td>PUCP</td>\n",
       "    </tr>\n",
       "    <tr>\n",
       "      <th>3</th>\n",
       "      <td>Katherin</td>\n",
       "      <td>32</td>\n",
       "      <td>False</td>\n",
       "      <td>UNALM</td>\n",
       "    </tr>\n",
       "  </tbody>\n",
       "</table>\n",
       "</div>"
      ],
      "text/plain": [
       "     alumno  edad  masculino universidad\n",
       "2    Oliver    28       True        PUCP\n",
       "3  Katherin    32      False       UNALM"
      ]
     },
     "execution_count": 120,
     "metadata": {},
     "output_type": "execute_result"
    }
   ],
   "source": [
    "df_alumnos.tail(n=2)"
   ]
  },
  {
   "cell_type": "markdown",
   "metadata": {},
   "source": [
    "**¿Cómo generamos una copia del DF?**"
   ]
  },
  {
   "cell_type": "code",
   "execution_count": 121,
   "metadata": {},
   "outputs": [],
   "source": [
    "data = df_alumnos.copy()"
   ]
  },
  {
   "cell_type": "code",
   "execution_count": 123,
   "metadata": {},
   "outputs": [],
   "source": [
    "data.iloc[1,1]=26"
   ]
  },
  {
   "cell_type": "code",
   "execution_count": 124,
   "metadata": {},
   "outputs": [
    {
     "data": {
      "text/html": [
       "<div>\n",
       "<style scoped>\n",
       "    .dataframe tbody tr th:only-of-type {\n",
       "        vertical-align: middle;\n",
       "    }\n",
       "\n",
       "    .dataframe tbody tr th {\n",
       "        vertical-align: top;\n",
       "    }\n",
       "\n",
       "    .dataframe thead th {\n",
       "        text-align: right;\n",
       "    }\n",
       "</style>\n",
       "<table border=\"1\" class=\"dataframe\">\n",
       "  <thead>\n",
       "    <tr style=\"text-align: right;\">\n",
       "      <th></th>\n",
       "      <th>alumno</th>\n",
       "      <th>edad</th>\n",
       "      <th>masculino</th>\n",
       "      <th>universidad</th>\n",
       "    </tr>\n",
       "  </thead>\n",
       "  <tbody>\n",
       "    <tr>\n",
       "      <th>0</th>\n",
       "      <td>Ibrahim</td>\n",
       "      <td>30</td>\n",
       "      <td>True</td>\n",
       "      <td>PUCP</td>\n",
       "    </tr>\n",
       "    <tr>\n",
       "      <th>1</th>\n",
       "      <td>Harol</td>\n",
       "      <td>26</td>\n",
       "      <td>True</td>\n",
       "      <td>UNI</td>\n",
       "    </tr>\n",
       "    <tr>\n",
       "      <th>2</th>\n",
       "      <td>Oliver</td>\n",
       "      <td>28</td>\n",
       "      <td>True</td>\n",
       "      <td>PUCP</td>\n",
       "    </tr>\n",
       "    <tr>\n",
       "      <th>3</th>\n",
       "      <td>Katherin</td>\n",
       "      <td>32</td>\n",
       "      <td>False</td>\n",
       "      <td>UNALM</td>\n",
       "    </tr>\n",
       "  </tbody>\n",
       "</table>\n",
       "</div>"
      ],
      "text/plain": [
       "     alumno  edad  masculino universidad\n",
       "0   Ibrahim    30       True        PUCP\n",
       "1     Harol    26       True         UNI\n",
       "2    Oliver    28       True        PUCP\n",
       "3  Katherin    32      False       UNALM"
      ]
     },
     "execution_count": 124,
     "metadata": {},
     "output_type": "execute_result"
    }
   ],
   "source": [
    "data.head()"
   ]
  },
  {
   "cell_type": "code",
   "execution_count": 128,
   "metadata": {},
   "outputs": [],
   "source": [
    "data.drop(columns=\"edad\",#nombre de la columna\n",
    "         axis=1,#axis=1: sobre columna\n",
    "         inplace=True) #inplace: definir si se elimina de forma permanente o sólo para la consulta"
   ]
  },
  {
   "cell_type": "markdown",
   "metadata": {},
   "source": [
    "- axis=1: la operación se hace sobre columnas\n",
    "- axis=0: la operación se hace sobre filas"
   ]
  },
  {
   "cell_type": "code",
   "execution_count": 129,
   "metadata": {},
   "outputs": [
    {
     "data": {
      "text/html": [
       "<div>\n",
       "<style scoped>\n",
       "    .dataframe tbody tr th:only-of-type {\n",
       "        vertical-align: middle;\n",
       "    }\n",
       "\n",
       "    .dataframe tbody tr th {\n",
       "        vertical-align: top;\n",
       "    }\n",
       "\n",
       "    .dataframe thead th {\n",
       "        text-align: right;\n",
       "    }\n",
       "</style>\n",
       "<table border=\"1\" class=\"dataframe\">\n",
       "  <thead>\n",
       "    <tr style=\"text-align: right;\">\n",
       "      <th></th>\n",
       "      <th>alumno</th>\n",
       "      <th>masculino</th>\n",
       "      <th>universidad</th>\n",
       "    </tr>\n",
       "  </thead>\n",
       "  <tbody>\n",
       "    <tr>\n",
       "      <th>0</th>\n",
       "      <td>Ibrahim</td>\n",
       "      <td>True</td>\n",
       "      <td>PUCP</td>\n",
       "    </tr>\n",
       "    <tr>\n",
       "      <th>1</th>\n",
       "      <td>Harol</td>\n",
       "      <td>True</td>\n",
       "      <td>UNI</td>\n",
       "    </tr>\n",
       "    <tr>\n",
       "      <th>2</th>\n",
       "      <td>Oliver</td>\n",
       "      <td>True</td>\n",
       "      <td>PUCP</td>\n",
       "    </tr>\n",
       "    <tr>\n",
       "      <th>3</th>\n",
       "      <td>Katherin</td>\n",
       "      <td>False</td>\n",
       "      <td>UNALM</td>\n",
       "    </tr>\n",
       "  </tbody>\n",
       "</table>\n",
       "</div>"
      ],
      "text/plain": [
       "     alumno  masculino universidad\n",
       "0   Ibrahim       True        PUCP\n",
       "1     Harol       True         UNI\n",
       "2    Oliver       True        PUCP\n",
       "3  Katherin      False       UNALM"
      ]
     },
     "execution_count": 129,
     "metadata": {},
     "output_type": "execute_result"
    }
   ],
   "source": [
    "data"
   ]
  },
  {
   "cell_type": "code",
   "execution_count": 130,
   "metadata": {},
   "outputs": [],
   "source": [
    "data.drop(1,\n",
    "         axis=0,\n",
    "         inplace=True)"
   ]
  },
  {
   "cell_type": "code",
   "execution_count": 131,
   "metadata": {},
   "outputs": [
    {
     "data": {
      "text/html": [
       "<div>\n",
       "<style scoped>\n",
       "    .dataframe tbody tr th:only-of-type {\n",
       "        vertical-align: middle;\n",
       "    }\n",
       "\n",
       "    .dataframe tbody tr th {\n",
       "        vertical-align: top;\n",
       "    }\n",
       "\n",
       "    .dataframe thead th {\n",
       "        text-align: right;\n",
       "    }\n",
       "</style>\n",
       "<table border=\"1\" class=\"dataframe\">\n",
       "  <thead>\n",
       "    <tr style=\"text-align: right;\">\n",
       "      <th></th>\n",
       "      <th>alumno</th>\n",
       "      <th>masculino</th>\n",
       "      <th>universidad</th>\n",
       "    </tr>\n",
       "  </thead>\n",
       "  <tbody>\n",
       "    <tr>\n",
       "      <th>0</th>\n",
       "      <td>Ibrahim</td>\n",
       "      <td>True</td>\n",
       "      <td>PUCP</td>\n",
       "    </tr>\n",
       "    <tr>\n",
       "      <th>2</th>\n",
       "      <td>Oliver</td>\n",
       "      <td>True</td>\n",
       "      <td>PUCP</td>\n",
       "    </tr>\n",
       "    <tr>\n",
       "      <th>3</th>\n",
       "      <td>Katherin</td>\n",
       "      <td>False</td>\n",
       "      <td>UNALM</td>\n",
       "    </tr>\n",
       "  </tbody>\n",
       "</table>\n",
       "</div>"
      ],
      "text/plain": [
       "     alumno  masculino universidad\n",
       "0   Ibrahim       True        PUCP\n",
       "2    Oliver       True        PUCP\n",
       "3  Katherin      False       UNALM"
      ]
     },
     "execution_count": 131,
     "metadata": {},
     "output_type": "execute_result"
    }
   ],
   "source": [
    "data"
   ]
  },
  {
   "cell_type": "markdown",
   "metadata": {},
   "source": [
    "**reset_index()**"
   ]
  },
  {
   "cell_type": "code",
   "execution_count": 132,
   "metadata": {},
   "outputs": [
    {
     "data": {
      "text/html": [
       "<div>\n",
       "<style scoped>\n",
       "    .dataframe tbody tr th:only-of-type {\n",
       "        vertical-align: middle;\n",
       "    }\n",
       "\n",
       "    .dataframe tbody tr th {\n",
       "        vertical-align: top;\n",
       "    }\n",
       "\n",
       "    .dataframe thead th {\n",
       "        text-align: right;\n",
       "    }\n",
       "</style>\n",
       "<table border=\"1\" class=\"dataframe\">\n",
       "  <thead>\n",
       "    <tr style=\"text-align: right;\">\n",
       "      <th></th>\n",
       "      <th>alumno</th>\n",
       "      <th>masculino</th>\n",
       "      <th>universidad</th>\n",
       "    </tr>\n",
       "  </thead>\n",
       "  <tbody>\n",
       "    <tr>\n",
       "      <th>0</th>\n",
       "      <td>Ibrahim</td>\n",
       "      <td>True</td>\n",
       "      <td>PUCP</td>\n",
       "    </tr>\n",
       "    <tr>\n",
       "      <th>1</th>\n",
       "      <td>Oliver</td>\n",
       "      <td>True</td>\n",
       "      <td>PUCP</td>\n",
       "    </tr>\n",
       "    <tr>\n",
       "      <th>2</th>\n",
       "      <td>Katherin</td>\n",
       "      <td>False</td>\n",
       "      <td>UNALM</td>\n",
       "    </tr>\n",
       "  </tbody>\n",
       "</table>\n",
       "</div>"
      ],
      "text/plain": [
       "     alumno  masculino universidad\n",
       "0   Ibrahim       True        PUCP\n",
       "1    Oliver       True        PUCP\n",
       "2  Katherin      False       UNALM"
      ]
     },
     "execution_count": 132,
     "metadata": {},
     "output_type": "execute_result"
    }
   ],
   "source": [
    "data.reset_index(drop=True)"
   ]
  },
  {
   "cell_type": "code",
   "execution_count": 136,
   "metadata": {},
   "outputs": [
    {
     "data": {
      "text/html": [
       "<div>\n",
       "<style scoped>\n",
       "    .dataframe tbody tr th:only-of-type {\n",
       "        vertical-align: middle;\n",
       "    }\n",
       "\n",
       "    .dataframe tbody tr th {\n",
       "        vertical-align: top;\n",
       "    }\n",
       "\n",
       "    .dataframe thead th {\n",
       "        text-align: right;\n",
       "    }\n",
       "</style>\n",
       "<table border=\"1\" class=\"dataframe\">\n",
       "  <thead>\n",
       "    <tr style=\"text-align: right;\">\n",
       "      <th></th>\n",
       "      <th>alumno</th>\n",
       "      <th>edad</th>\n",
       "      <th>masculino</th>\n",
       "      <th>universidad</th>\n",
       "    </tr>\n",
       "  </thead>\n",
       "  <tbody>\n",
       "    <tr>\n",
       "      <th>0</th>\n",
       "      <td>Ibrahim</td>\n",
       "      <td>30</td>\n",
       "      <td>True</td>\n",
       "      <td>PUCP</td>\n",
       "    </tr>\n",
       "    <tr>\n",
       "      <th>1</th>\n",
       "      <td>Harol</td>\n",
       "      <td>24</td>\n",
       "      <td>True</td>\n",
       "      <td>UNI</td>\n",
       "    </tr>\n",
       "    <tr>\n",
       "      <th>2</th>\n",
       "      <td>Oliver</td>\n",
       "      <td>28</td>\n",
       "      <td>True</td>\n",
       "      <td>PUCP</td>\n",
       "    </tr>\n",
       "    <tr>\n",
       "      <th>3</th>\n",
       "      <td>Katherin</td>\n",
       "      <td>32</td>\n",
       "      <td>False</td>\n",
       "      <td>UNALM</td>\n",
       "    </tr>\n",
       "  </tbody>\n",
       "</table>\n",
       "</div>"
      ],
      "text/plain": [
       "     alumno  edad  masculino universidad\n",
       "0   Ibrahim    30       True        PUCP\n",
       "1     Harol    24       True         UNI\n",
       "2    Oliver    28       True        PUCP\n",
       "3  Katherin    32      False       UNALM"
      ]
     },
     "execution_count": 136,
     "metadata": {},
     "output_type": "execute_result"
    }
   ],
   "source": [
    "df_alumnos"
   ]
  },
  {
   "cell_type": "code",
   "execution_count": 139,
   "metadata": {},
   "outputs": [
    {
     "data": {
      "text/html": [
       "<div>\n",
       "<style scoped>\n",
       "    .dataframe tbody tr th:only-of-type {\n",
       "        vertical-align: middle;\n",
       "    }\n",
       "\n",
       "    .dataframe tbody tr th {\n",
       "        vertical-align: top;\n",
       "    }\n",
       "\n",
       "    .dataframe thead th {\n",
       "        text-align: right;\n",
       "    }\n",
       "</style>\n",
       "<table border=\"1\" class=\"dataframe\">\n",
       "  <thead>\n",
       "    <tr style=\"text-align: right;\">\n",
       "      <th></th>\n",
       "      <th>alumno</th>\n",
       "      <th>edad</th>\n",
       "      <th>masculino</th>\n",
       "      <th>universidad</th>\n",
       "    </tr>\n",
       "  </thead>\n",
       "  <tbody>\n",
       "    <tr>\n",
       "      <th>3</th>\n",
       "      <td>Katherin</td>\n",
       "      <td>32</td>\n",
       "      <td>False</td>\n",
       "      <td>UNALM</td>\n",
       "    </tr>\n",
       "  </tbody>\n",
       "</table>\n",
       "</div>"
      ],
      "text/plain": [
       "     alumno  edad  masculino universidad\n",
       "3  Katherin    32      False       UNALM"
      ]
     },
     "execution_count": 139,
     "metadata": {},
     "output_type": "execute_result"
    }
   ],
   "source": [
    "df_alumnos[(df_alumnos.universidad!=\"PUCP\")&(df_alumnos.edad>30)]"
   ]
  },
  {
   "cell_type": "code",
   "execution_count": 143,
   "metadata": {},
   "outputs": [
    {
     "data": {
      "text/plain": [
       "32"
      ]
     },
     "execution_count": 143,
     "metadata": {},
     "output_type": "execute_result"
    }
   ],
   "source": [
    "df_alumnos.edad.max()"
   ]
  },
  {
   "cell_type": "code",
   "execution_count": 144,
   "metadata": {},
   "outputs": [
    {
     "data": {
      "text/plain": [
       "28.5"
      ]
     },
     "execution_count": 144,
     "metadata": {},
     "output_type": "execute_result"
    }
   ],
   "source": [
    "df_alumnos.edad.mean()"
   ]
  },
  {
   "cell_type": "code",
   "execution_count": 145,
   "metadata": {},
   "outputs": [
    {
     "data": {
      "text/plain": [
       "24"
      ]
     },
     "execution_count": 145,
     "metadata": {},
     "output_type": "execute_result"
    }
   ],
   "source": [
    "df_alumnos.edad.min()"
   ]
  },
  {
   "cell_type": "markdown",
   "metadata": {},
   "source": [
    "**importación de ficheros y conexión a bases de datos**"
   ]
  },
  {
   "cell_type": "code",
   "execution_count": 147,
   "metadata": {},
   "outputs": [],
   "source": [
    "import json5\n",
    "import json\n",
    "import pandas as pd\n",
    "import pyreadstat\n",
    "import numpy as np\n",
    "import os"
   ]
  },
  {
   "cell_type": "code",
   "execution_count": null,
   "metadata": {},
   "outputs": [],
   "source": [
    "pip install pyreadstat"
   ]
  },
  {
   "cell_type": "code",
   "execution_count": 148,
   "metadata": {},
   "outputs": [],
   "source": [
    "import pyodbc\n",
    "import psycopg2\n",
    "import pandas.io.sql"
   ]
  },
  {
   "cell_type": "code",
   "execution_count": 150,
   "metadata": {},
   "outputs": [
    {
     "data": {
      "text/plain": [
       "'C:\\\\Users\\\\SOCIAL DATA'"
      ]
     },
     "execution_count": 150,
     "metadata": {},
     "output_type": "execute_result"
    }
   ],
   "source": [
    "import os\n",
    "os.getcwd()"
   ]
  },
  {
   "cell_type": "code",
   "execution_count": 153,
   "metadata": {},
   "outputs": [
    {
     "data": {
      "text/plain": [
       "[' Prueba MSV.ipynb',\n",
       " '.anaconda_backup',\n",
       " '.android',\n",
       " '.azure',\n",
       " '.azureml',\n",
       " '.bash_history',\n",
       " '.cache',\n",
       " '.conda',\n",
       " '.condarc',\n",
       " '.git',\n",
       " '.gitconfig',\n",
       " '.gitignore',\n",
       " '.ipynb_checkpoints',\n",
       " '.ipython',\n",
       " '.jupyter',\n",
       " '.keras',\n",
       " '.matplotlib',\n",
       " '.ms-ad',\n",
       " '.opera',\n",
       " '.pgAdmin4.1590372639.addr',\n",
       " '.pgAdmin4.1590372639.log',\n",
       " '.pgAdmin4.427924103.addr',\n",
       " '.pgAdmin4.427924103.log',\n",
       " '.pgAdmin4.startup.log',\n",
       " '.pylint.d',\n",
       " '.python_history',\n",
       " '.RapidMiner',\n",
       " '.Rhistory',\n",
       " '.spyder',\n",
       " '.spyder-py3',\n",
       " '.VirtualBox',\n",
       " '.vscode',\n",
       " '03 - Notebook 6.ipynb',\n",
       " '06 Introduccion a la extraccion de patrones.rar',\n",
       " '10. Desplegar_consumir_real_time_lab.ipynb',\n",
       " '10_Monitoreo_modelos',\n",
       " '24. Deriva de datos_lab.ipynb',\n",
       " '3D Objects',\n",
       " 'aaaa.ipynb',\n",
       " 'abc.ipynb',\n",
       " 'ACNUR_SESION_1.ipynb',\n",
       " 'ACNUR_SESION_2.ipynb',\n",
       " 'ACNUR_tema1.ipynb',\n",
       " 'ACNUR_tema2.ipynb',\n",
       " 'ACNUR_tema3.ipynb',\n",
       " 'ACNUR_tema4.ipynb',\n",
       " 'ACNUR_tema5.ipynb',\n",
       " 'ACNUR_tema6.ipynb',\n",
       " 'ACNUR_tema7.ipynb',\n",
       " 'ADE_grupo4.ipynb',\n",
       " 'Ajuste_hiperparametros_lab.ipynb',\n",
       " 'alum.ipynb',\n",
       " 'alum.py',\n",
       " 'analisis_exploratorio.R',\n",
       " 'análisis_de_imágenes_de_percepción_remota.ipynb',\n",
       " 'Análisis_geoestadístico_Detección_de_hot_spots.ipynb',\n",
       " 'Api twiter r.ipynb',\n",
       " 'app.py',\n",
       " 'AppData',\n",
       " 'Application Data',\n",
       " 'arbol.dot',\n",
       " 'arbol_bu.dot',\n",
       " 'arbol_de_decision_para_data_sobre_credito.RData',\n",
       " 'audio_only.m4a',\n",
       " 'AusentismoPres2011.sav',\n",
       " 'awsml_sdc',\n",
       " 'AzureML',\n",
       " 'azureml_experiment',\n",
       " 'Azure_Entrenar_registrar_modelos.ipynb',\n",
       " 'azure_sdc',\n",
       " 'azure_sdc (2).zip',\n",
       " 'azure_sdc.zip',\n",
       " 'bank-full.csv',\n",
       " 'bank.csv',\n",
       " 'bank_customer.xlsx',\n",
       " 'base.csv',\n",
       " 'Bienvenidos.ipynb',\n",
       " 'borrador 4.ipynb',\n",
       " 'borrador.ipynb',\n",
       " 'borrador1.ipynb',\n",
       " 'borrador10.ipynb',\n",
       " 'borrador2.ipynb',\n",
       " 'borrador3.ipynb',\n",
       " 'borrador4.ipynb',\n",
       " 'borrador5.ipynb',\n",
       " 'borrador7.ipynb',\n",
       " 'borrador8.ipynb',\n",
       " 'borrador9.ipynb',\n",
       " 'borrador_00.ipynb',\n",
       " 'borrador_14.ipynb',\n",
       " 'BORRADOR_15.ipynb',\n",
       " 'bupa_dtree.dot',\n",
       " 'Canalizacion(Pipeline)',\n",
       " 'Canalizacion(Pipeline).zip',\n",
       " 'Candidatos.xlsx',\n",
       " 'carga_bono_alimentario.ipynb',\n",
       " 'Caso 2 Práctico Clustering Python.ipynb',\n",
       " 'Caso Practico - Consumo de Oxigeno.ipynb',\n",
       " 'caso webinar.ipynb',\n",
       " 'CasoAzureML',\n",
       " 'CasoPractico.ipynb',\n",
       " 'CasoPractico_clase.ipynb',\n",
       " 'Caso_clúster.ipynb',\n",
       " 'CEE_Regresión.ipynb',\n",
       " 'ch03.ipynb',\n",
       " 'ch04.ipynb',\n",
       " 'ch06.ipynb',\n",
       " 'ch10.ipynb',\n",
       " 'chat.txt',\n",
       " 'Churn_dtree.dot',\n",
       " 'clase_1.ipynb',\n",
       " 'Clase_Azure SQL DB.ipynb',\n",
       " 'clase_extra.ipynb',\n",
       " 'Clase_ML_Automatizado.ipynb',\n",
       " 'clase_py_sab.ipynb',\n",
       " 'codigo_AWS_almacenamiento_bases_de_datos.ipynb',\n",
       " 'Comparativa General - Regression.pdf',\n",
       " 'config',\n",
       " 'config.json',\n",
       " 'Configuración local',\n",
       " 'Contacts',\n",
       " 'Cookies',\n",
       " 'corazonf.csv',\n",
       " 'Creative Cloud Files',\n",
       " 'Cross Selling-Copy1.ipynb',\n",
       " 'data_bonoalimentario',\n",
       " 'data_bonoalimentario.csv',\n",
       " 'data_buscalibre.csv',\n",
       " 'DATA_FUGA',\n",
       " 'DATA_FUGA.csv',\n",
       " 'data_sub3.csv',\n",
       " 'data_test.csv',\n",
       " 'data_train.csv',\n",
       " 'datos',\n",
       " 'Datos de programa',\n",
       " 'debug.log',\n",
       " 'decision_tree.ipynb',\n",
       " 'decision_tree_caso.ipynb',\n",
       " 'decision_tree_cod.ipynb',\n",
       " 'decision_tree_regression-Copy1.ipynb',\n",
       " 'democracias_latam.sav',\n",
       " 'Desktop',\n",
       " 'Desktop.rds',\n",
       " 'DesktopAM.csv',\n",
       " 'DesktopDF.csv',\n",
       " 'DesktopES.csv',\n",
       " 'DesktopMG.csv',\n",
       " 'DesktopMS.csv',\n",
       " 'DesktopPA.csv',\n",
       " 'DesktopPI.csv',\n",
       " 'DesktopRJ.csv',\n",
       " 'DesktopRR.csv',\n",
       " 'DesktopRS.csv',\n",
       " 'DesktopSP.csv',\n",
       " 'DesktopTO.csv',\n",
       " 'Desplegar_consumir_Modelos',\n",
       " 'Desplegar_consumir_Modelos.zip',\n",
       " 'despliegue_model',\n",
       " 'despliegue_model.zip',\n",
       " 'despliegue_py_2.ipynb',\n",
       " 'df_buscalibre.csv',\n",
       " 'diabetes_py.xlsx',\n",
       " 'Documents',\n",
       " 'Downloads',\n",
       " 'dtree_structure.png',\n",
       " 'D_tree.ipynb',\n",
       " 'edb_npgsql.exe',\n",
       " 'edb_pgjdbc.exe',\n",
       " 'edb_psqlodbc.exe',\n",
       " 'Entorno de red',\n",
       " 'EntrenamientoOptimoModelo',\n",
       " 'EntrenamientoOptimoModelo.zip',\n",
       " 'Entropy.py',\n",
       " 'Examen basico_Preguntas.ipynb',\n",
       " 'Examen basico_resuelto.ipynb',\n",
       " 'EXAMEN PYTHON BÁSICO(1).ipynb',\n",
       " 'EXAMEN PYTHON BÁSICO.ipynb',\n",
       " 'examen.ipynb',\n",
       " 'ExamenFinal.ipynb',\n",
       " 'ExamenPy_Avanzado_final_resolución.ipynb',\n",
       " 'Examen_basico_indicaciones.ipynb',\n",
       " 'Examen_basico_resolución_Básico.ipynb',\n",
       " 'Examen_basico_resuelto.ipynb',\n",
       " 'Examen_Python_Intermedio (1).ipynb',\n",
       " 'Experimentos',\n",
       " 'Exploration.ipynb',\n",
       " 'facebook.ipynb',\n",
       " 'Favorites',\n",
       " 'Feature_engineering',\n",
       " 'fishdata.csv',\n",
       " 'fluido.csv',\n",
       " 'Fundamentos_repaso.ipynb',\n",
       " 'GBM_model_python_1584112814633_456',\n",
       " 'GBM_model_python_1584247111240_144',\n",
       " 'GBM_model_python_1591403061563_664',\n",
       " 'GBM_model_python_1600536508628_462',\n",
       " 'GBM_model_python_1601758588674_562',\n",
       " 'geckodriver.log',\n",
       " 'h2o.jar',\n",
       " 'H2Omodel.ipynb',\n",
       " 'Impresoras',\n",
       " 'impureza_AD.ipynb',\n",
       " 'IntelGraphicsProfiles',\n",
       " 'Introducción a lenguajes de Programación para web scraping.ipynb',\n",
       " 'Introducción a los lenguajes de programación 2',\n",
       " 'Introducción a los lenguajes de programación para web scraping 2.ipynb',\n",
       " 'Intro_Web_Scraping.ipynb',\n",
       " 'iris_dtree.dot',\n",
       " 'laboratorio 8(2).ipynb',\n",
       " 'laboratorio 9_sdc.ipynb',\n",
       " 'Laboratorio_11.ipynb',\n",
       " 'Laboratorio_12.ipynb',\n",
       " 'Laboratorio_15.ipynb',\n",
       " 'Laboratorio_tw.ipynb',\n",
       " 'lectura.ipynb',\n",
       " 'lectura_clase.ipynb',\n",
       " 'lesson_10_1.ipynb',\n",
       " 'lesson_10_2.ipynb',\n",
       " 'lesson_10_3.ipynb',\n",
       " 'lesson_11_1.ipynb',\n",
       " 'lesson_11_2.ipynb',\n",
       " 'lesson_12_1.ipynb',\n",
       " 'lesson_12_2.ipynb',\n",
       " 'lesson_12_evaluación_final.ipynb',\n",
       " 'lesson_1_1.ipynb',\n",
       " 'lesson_1_2.ipynb',\n",
       " 'lesson_2_1.ipynb',\n",
       " 'lesson_2_3.ipynb',\n",
       " 'lesson_3_1.ipynb',\n",
       " 'lesson_3_2.ipynb',\n",
       " 'lesson_4.ipynb',\n",
       " 'lesson_5.ipynb',\n",
       " 'lesson_6_1.ipynb',\n",
       " 'lesson_6_2.ipynb',\n",
       " 'lesson_6_3.ipynb',\n",
       " 'lesson_7_1.ipynb',\n",
       " 'lesson_7_2.ipynb',\n",
       " 'lesson_7_3.ipynb',\n",
       " 'lesson_8.ipynb',\n",
       " 'lesson_9_1.ipynb',\n",
       " 'lesson_9_2.ipynb',\n",
       " 'lesson_9_borrador.ipynb',\n",
       " 'Library',\n",
       " 'libro_de_codigos.csv',\n",
       " 'Links',\n",
       " 'Local Settings',\n",
       " 'low_variance_features.ipynb',\n",
       " 'MarketingDirecto.csv',\n",
       " 'mark_procesado.csv',\n",
       " 'Master_Class_Python.ipynb',\n",
       " 'Master_Class_Python_01.ipynb',\n",
       " 'Master_Class_Python_02.ipynb',\n",
       " 'MC-Microsoft-Azure.ML-Rapids',\n",
       " 'MDLP.py',\n",
       " 'Menú Inicio',\n",
       " 'Microsoft',\n",
       " 'MicrosoftEdgeBackups',\n",
       " 'miktex-console.lock',\n",
       " 'Mis documentos',\n",
       " 'MLmodel_intro.ipynb',\n",
       " 'MLmodel_práctica.ipynb',\n",
       " 'MLmodel_teoría.ipynb',\n",
       " 'ML_automatizado_REST.ipynb',\n",
       " 'ML_automatizado_v2.ipynb',\n",
       " 'ML_automatizado_v3.ipynb',\n",
       " 'ml_azure',\n",
       " 'ML_Azure_webinar_2022',\n",
       " 'ML_Introducción.ipynb',\n",
       " 'ML_my_model.ipynb',\n",
       " 'mnist_scaled.npz',\n",
       " 'Modelamiento_de_datos.ipynb',\n",
       " 'modelo.ipynb',\n",
       " 'Modelo.joblib',\n",
       " 'modelo_ML_python.ipynb',\n",
       " 'model_evaluation_utils.py',\n",
       " 'movie_data.csv',\n",
       " 'Music',\n",
       " 'Máquina de Soporte Vectorial.ipynb',\n",
       " 'NACIONAL_HOGAR(v2).sav',\n",
       " 'Nacional_Hogar.ipynb',\n",
       " 'Nacional_Hogar_Ayacucho.ipynb',\n",
       " 'Nacional_Hogar_por_departamentos.ipynb',\n",
       " 'Naive+Bayes2.ipynb',\n",
       " 'nivel1_0.ipynb',\n",
       " 'nivel1_1-cp.ipynb',\n",
       " 'nivel1_1.ipynb',\n",
       " 'nivel1_10.ipynb',\n",
       " 'nivel1_10_2019.ipynb',\n",
       " 'nivel1_10_clase.ipynb',\n",
       " 'nivel1_10_clase_dom.ipynb',\n",
       " 'nivel1_10_clase_py.ipynb',\n",
       " 'nivel1_10_clase_sab.ipynb',\n",
       " 'nivel1_1_clase.ipynb',\n",
       " 'nivel1_1_clase_py.ipynb',\n",
       " 'nivel1_1_clase_sab.ipynb',\n",
       " 'nivel1_1_lab.ipynb',\n",
       " 'nivel1_2.ipynb',\n",
       " 'nivel1_2_clase.ipynb',\n",
       " 'nivel1_2_clase_py.ipynb',\n",
       " 'nivel1_2_clase_sab.ipynb',\n",
       " 'nivel1_2_lab.ipynb',\n",
       " 'nivel1_3.ipynb',\n",
       " 'nivel1_3_2.ipynb',\n",
       " 'nivel1_3_claase_sab.ipynb',\n",
       " 'nivel1_3_clase.ipynb',\n",
       " 'nivel1_3_clase_py.ipynb',\n",
       " 'nivel1_3_clase_sab_1er.ipynb',\n",
       " 'nivel1_3_ficheros.ipynb',\n",
       " 'nivel1_3_lab.ipynb',\n",
       " 'nivel1_4.ipynb',\n",
       " 'nivel1_4_1_clase.ipynb',\n",
       " 'nivel1_4_2.ipynb',\n",
       " 'nivel1_4_bonus_track_caso_bumeran.ipynb',\n",
       " 'nivel1_4_bonus_track_caso_buscalibre.ipynb',\n",
       " 'nivel1_4_bonus_track_caso_congreso.ipynb',\n",
       " 'nivel1_4_clase_sab_1er.ipynb',\n",
       " 'nivel1_4_lab.ipynb',\n",
       " 'nivel1_5.ipynb',\n",
       " 'nivel1_5_2.ipynb',\n",
       " 'nivel1_5_3_h2o.ipynb',\n",
       " 'nivel1_5_3_h2o_cp.ipynb',\n",
       " 'nivel1_5_clase.ipynb',\n",
       " 'nivel1_5_clase_py.ipynb',\n",
       " 'nivel1_5_clase_sab.ipynb',\n",
       " 'nivel1_5_clase_sab_1er.ipynb',\n",
       " 'nivel1_6.ipynb',\n",
       " 'nivel1_6_2019.ipynb',\n",
       " 'nivel1_6_clase.ipynb',\n",
       " 'nivel1_6_clase_py.ipynb',\n",
       " 'nivel1_6_clase_sab.ipynb',\n",
       " 'nivel1_6_clase_sab_1er.ipynb',\n",
       " 'nivel1_7.ipynb',\n",
       " 'nivel1_7_clase.ipynb',\n",
       " 'nivel1_7_clase_sab.ipynb',\n",
       " 'nivel1_7_clase_sab_1er.ipynb',\n",
       " 'nivel1_8.ipynb',\n",
       " 'nivel1_8_2019.ipynb',\n",
       " 'nivel1_8_clase.ipynb',\n",
       " 'nivel1_8_clase_py.ipynb',\n",
       " 'nivel1_8_clase_sab.ipynb',\n",
       " 'nivel1_8_clase_sab_1er.ipynb',\n",
       " 'nivel1_8_cp.ipynb',\n",
       " 'nivel1_9.ipynb',\n",
       " 'nivel1_9_clase.ipynb',\n",
       " 'nivel1_9_clase_py.ipynb',\n",
       " 'nivel1_9_clase_sab.ipynb',\n",
       " 'nivel1_9_clase_sab_1er.ipynb',\n",
       " 'nivel1_examen.ipynb',\n",
       " 'nivel2_1.ipynb',\n",
       " 'nivel2_1_clase.ipynb',\n",
       " 'nivel2_1_clase_py.ipynb',\n",
       " 'nivel2_1_clase_sab.ipynb',\n",
       " 'nivel2_1_clase_sab_1er.ipynb',\n",
       " 'nivel2_1_clase_sab_cluster.ipynb',\n",
       " 'nivel2_2_1.ipynb',\n",
       " 'nivel2_2_2.ipynb',\n",
       " 'nivel2_2_3.ipynb',\n",
       " 'nivel2_2_4.ipynb',\n",
       " 'nivel2_2_5.ipynb',\n",
       " 'nivel2_2_6.ipynb',\n",
       " 'nivel2_2_7.ipynb',\n",
       " 'nivel2_3.ipynb',\n",
       " 'nivel2_3_clase_sab.ipynb',\n",
       " 'nivel2_4_1.ipynb',\n",
       " 'nivel2_4_2.ipynb',\n",
       " 'nivel2_4_2_cp.ipynb',\n",
       " 'nivel2_4_3.ipynb',\n",
       " 'nivel2_4_4.ipynb',\n",
       " 'nivel2_4_clase.ipynb',\n",
       " 'nivel2_4_clase_dom.ipynb',\n",
       " 'nivel2_4_clase_py.ipynb',\n",
       " 'nivel2_5.ipynb',\n",
       " 'nivel2_5_1.ipynb',\n",
       " 'nivel2_5_2.ipynb',\n",
       " 'nivel2_6.ipynb',\n",
       " 'nivel2_6_1.ipynb',\n",
       " 'nivel2_6_2.ipynb',\n",
       " 'nivel2_6_3.ipynb',\n",
       " 'nivel2_6_clase_py.ipynb',\n",
       " 'nivel2_6_clase_py_dom.ipynb',\n",
       " 'nivel2_7_1.ipynb',\n",
       " 'nivel2_7_2.ipynb',\n",
       " 'nivel2_7_2_clase_py.ipynb',\n",
       " 'nivel2_7_3.ipynb',\n",
       " 'nivel2_7_clase.ipynb',\n",
       " 'nivel2_7_clase_sab_1er.ipynb',\n",
       " 'nivel2_7_clase_sab_2da.ipynb',\n",
       " 'nivel2_8.ipynb',\n",
       " 'nivel2_8_1.ipynb',\n",
       " 'nivel2_8_2.ipynb',\n",
       " 'nivel2_8_2_cp.ipynb',\n",
       " 'nivel2_9.ipynb',\n",
       " 'nivel2_9_1.ipynb',\n",
       " 'nivel2_9_2.ipynb',\n",
       " 'nivel2_cp.ipynb',\n",
       " 'nivel2_evaluación_regresion_Bike.ipynb',\n",
       " 'nivel2_examen.ipynb',\n",
       " 'nivel2_examen_resuelto.ipynb',\n",
       " 'nivel3_1.ipynb',\n",
       " 'nivel3_1_2.ipynb',\n",
       " 'nivel3_1_2_clase.ipynb',\n",
       " 'nivel3_1_2_clase_py.ipynb',\n",
       " 'nivel3_1_2_clase_sab.ipynb',\n",
       " 'nivel3_1_2_lab.ipynb',\n",
       " 'nivel3_1_3.ipynb',\n",
       " 'nivel3_2.ipynb',\n",
       " 'nivel3_2_0.ipynb',\n",
       " 'nivel3_2_0_cp.ipynb',\n",
       " 'nivel3_2_clase_py.ipynb',\n",
       " 'nivel3_4.ipynb',\n",
       " 'nivel3_4_1.ipynb',\n",
       " 'nivel3_4_2.ipynb',\n",
       " 'nivel3_4_clase.ipynb',\n",
       " 'nivel3_4_clase_py.ipynb',\n",
       " 'nivel3_4_clase_sab.ipynb',\n",
       " 'nivel3_5_1.ipynb',\n",
       " 'nivel3_5_1_2.ipynb',\n",
       " 'nivel3_5_2 (1).ipynb',\n",
       " 'nivel3_5_2.ipynb',\n",
       " 'nivel3_5_2_1.ipynb',\n",
       " 'nivel3_5_2_2.ipynb',\n",
       " 'nivel3_5_2_cp.ipynb',\n",
       " 'nivel3_5_clase.ipynb',\n",
       " 'nivel3_5_py_clase_sab.ipynb',\n",
       " 'nivel3_6.ipynb',\n",
       " 'nivel3_6_1_1.ipynb',\n",
       " 'nivel3_6_cp.ipynb',\n",
       " 'nivel3_7_1.ipynb',\n",
       " 'nivel3_7_2.ipynb',\n",
       " 'nivel3_evaluación.ipynb',\n",
       " 'nivel3_evaluación_py.ipynb',\n",
       " 'nivel_10_clase_sab_1er.ipynb',\n",
       " 'nivel_2_6_clase.ipynb',\n",
       " 'notebook_caso_exito_previa.ipynb',\n",
       " 'NTUSER.DAT',\n",
       " 'ntuser.dat.LOG1',\n",
       " 'ntuser.dat.LOG2',\n",
       " 'NTUSER.DAT{273e26ef-aa65-11ed-b0d9-d4d1f4ad8336}.TxR.0.regtrans-ms',\n",
       " 'NTUSER.DAT{273e26ef-aa65-11ed-b0d9-d4d1f4ad8336}.TxR.1.regtrans-ms',\n",
       " 'NTUSER.DAT{273e26ef-aa65-11ed-b0d9-d4d1f4ad8336}.TxR.2.regtrans-ms',\n",
       " 'NTUSER.DAT{273e26ef-aa65-11ed-b0d9-d4d1f4ad8336}.TxR.blf',\n",
       " 'NTUSER.DAT{273e26f0-aa65-11ed-b0d9-d4d1f4ad8336}.TM.blf',\n",
       " 'NTUSER.DAT{273e26f0-aa65-11ed-b0d9-d4d1f4ad8336}.TMContainer00000000000000000001.regtrans-ms',\n",
       " 'NTUSER.DAT{273e26f0-aa65-11ed-b0d9-d4d1f4ad8336}.TMContainer00000000000000000002.regtrans-ms',\n",
       " 'ntuser.ini',\n",
       " 'Nueva carpeta',\n",
       " 'OneDrive',\n",
       " 'Operaciones_básicas_de_SIG_(raster).ipynb',\n",
       " 'Operaciones_básicas_de_SIG_(vector).ipynb',\n",
       " 'op_1.png',\n",
       " 'op_2.png',\n",
       " 'op_3.png',\n",
       " 'op_4.png',\n",
       " 'op_5.png',\n",
       " 'op_6.png',\n",
       " 'op_7.png',\n",
       " 'op_8.png',\n",
       " 'Organización_objetos_espaciales_en_R.ipynb',\n",
       " 'Oxigeno_23-02-2021.csv',\n",
       " 'parkinsons_updrs.data',\n",
       " 'Parte2_P_ControlDeEjecucion.ipynb',\n",
       " 'Parte4_P_DataCleaning.ipynb',\n",
       " 'Parte5_P_RedesSociales.ipynb',\n",
       " 'Partidos.xlsx',\n",
       " 'PC.ipynb',\n",
       " 'PCA after clustering.csv',\n",
       " 'Pictures',\n",
       " 'pipeline-diagram.png',\n",
       " 'Plantillas',\n",
       " 'playback.m3u',\n",
       " 'players_20.csv',\n",
       " 'positivos_covid.csv',\n",
       " 'post.csv',\n",
       " 'Postman',\n",
       " 'practica_mercado_libre.ipynb',\n",
       " 'prediccion_ataques_cardiacos.ipynb',\n",
       " 'Predictive Analytics-Final.ipynb',\n",
       " 'Preparación_de_datos.ipynb',\n",
       " 'preprocesamiento_anemia.ipynb',\n",
       " 'preprocesamiento_aws.ipynb',\n",
       " 'Preprocesamiento_en_R.ipynb',\n",
       " 'procesamiento paralelo de datos en Python',\n",
       " 'Procfile',\n",
       " 'project_pucp.ipynb',\n",
       " 'proyecto_final_avance.ipynb',\n",
       " 'Prueba-sdc.ipynb',\n",
       " 'prueba.ipynb',\n",
       " 'Prueba_eliminar.ipynb',\n",
       " 'prueba_sdc.ipynb',\n",
       " 'Práctica selenium.ipynb',\n",
       " 'PS_20174392719_1491204439457_log.csv',\n",
       " 'Python Reglas de Asociacion.ipynb',\n",
       " 'PythonSDC',\n",
       " 'Python_ALACIP_1.ipynb',\n",
       " 'Python_ALACIP_2.ipynb',\n",
       " 'Python_ALACIP_3.ipynb',\n",
       " 'Python_ALACIP_4.ipynb',\n",
       " 'python_conexion_db.ipynb',\n",
       " 'python_conexion_db_edic4.ipynb',\n",
       " 'Python_examen_final_clase.ipynb',\n",
       " 'Python_for_Data_Science.ipynb',\n",
       " 'python_tema1.ipynb',\n",
       " 'python_tema2.ipynb',\n",
       " 'python_tema3.ipynb',\n",
       " 'python_tema4.ipynb',\n",
       " 'python_tema5.ipynb',\n",
       " 'python_tema6.ipynb',\n",
       " 'python_tema7.ipynb',\n",
       " 'py_01_30.ipynb',\n",
       " 'py_01_31.ipynb',\n",
       " 'py_01_35.ipynb',\n",
       " 'py_01_36.ipynb',\n",
       " 'py_01_36_clase.ipynb',\n",
       " 'py_01_37.ipynb',\n",
       " 'py_01_39.ipynb',\n",
       " 'py_02_30.ipynb',\n",
       " 'py_02_31.ipynb',\n",
       " 'PY_02_35.ipynb',\n",
       " 'py_02_36.ipynb',\n",
       " 'py_02_37.ipynb',\n",
       " 'py_03_30.ipynb',\n",
       " 'py_03_31_1.ipynb',\n",
       " 'py_03_31_2.ipynb',\n",
       " 'py_03_31_3.ipynb',\n",
       " 'PY_03_35.ipynb',\n",
       " 'py_03_36.ipynb',\n",
       " 'py_04_30.ipynb',\n",
       " 'py_04_31.ipynb',\n",
       " 'py_04_35.ipynb',\n",
       " 'py_04_36.ipynb',\n",
       " 'py_04_38.ipynb',\n",
       " 'py_05_31.ipynb',\n",
       " 'py_05_35.ipynb',\n",
       " 'py_05_36.ipynb',\n",
       " 'py_05_37.ipynb',\n",
       " 'py_05_38.ipynb',\n",
       " 'py_06_30.ipynb',\n",
       " 'py_06_31.ipynb',\n",
       " 'py_06_35.ipynb',\n",
       " 'py_06_36.ipynb',\n",
       " 'py_06_37.ipynb',\n",
       " 'py_06_38.ipynb',\n",
       " 'py_07_30.ipynb',\n",
       " 'py_07_31.ipynb',\n",
       " 'py_07_35.ipynb',\n",
       " 'py_07_36.ipynb',\n",
       " 'py_07_37.ipynb',\n",
       " 'py_07_37.pdf',\n",
       " 'py_07_37_lab.ipynb',\n",
       " 'py_07_38.ipynb',\n",
       " 'py_08_31.ipynb',\n",
       " 'py_08_36.ipynb',\n",
       " 'py_08_37_lab.ipynb',\n",
       " 'py_08_38.ipynb',\n",
       " 'py_09_30.ipynb',\n",
       " 'py_09_31.ipynb',\n",
       " 'py_09_35.ipynb',\n",
       " 'py_09_36.ipynb',\n",
       " 'py_09_38.ipynb',\n",
       " 'py_09_38_lab.ipynb',\n",
       " 'py_10_30.ipynb',\n",
       " 'py_10_31.ipynb',\n",
       " 'py_10_35.ipynb',\n",
       " 'py_10_36.ipynb',\n",
       " 'py_10_37.ipynb',\n",
       " 'py_10_38_lab.ipynb',\n",
       " 'py_11_30.ipynb',\n",
       " 'py_11_31.ipynb',\n",
       " 'py_11_35.ipynb',\n",
       " 'py_11_36 .ipynb',\n",
       " 'py_11_36_1.ipynb',\n",
       " 'py_11_36_2.ipynb',\n",
       " 'py_11_37.ipynb',\n",
       " 'py_11_38.ipynb',\n",
       " 'py_12_30.ipynb',\n",
       " 'py_12_31.ipynb',\n",
       " 'py_12_35.ipynb',\n",
       " 'py_12_35_parte2.ipynb',\n",
       " 'py_12_36.ipynb',\n",
       " 'py_12_38.ipynb',\n",
       " 'py_12_38_lab.ipynb',\n",
       " 'py_13_30.ipynb',\n",
       " 'py_13_31.ipynb',\n",
       " 'py_13_31_2.ipynb',\n",
       " 'py_13_34.ipynb',\n",
       " 'py_13_35.ipynb',\n",
       " 'py_13_36.ipynb',\n",
       " 'py_13_38.ipynb',\n",
       " 'py_14_30.ipynb',\n",
       " 'py_14_35.ipynb',\n",
       " 'py_14_35_2.ipynb',\n",
       " 'py_14_36.ipynb',\n",
       " 'py_14_36_2.ipynb',\n",
       " 'py_15_34.ipynb',\n",
       " 'py_15_35.ipynb',\n",
       " 'py_15_35_2.ipynb',\n",
       " 'py_16_30.ipynb',\n",
       " 'py_16_35.ipynb',\n",
       " 'py_16_36.ipynb',\n",
       " 'py_17_30.ipynb',\n",
       " 'py_17_34.ipynb',\n",
       " 'py_17_36.ipynb',\n",
       " 'py_18_30.ipynb',\n",
       " 'py_18_34.ipynb',\n",
       " 'py_18_34_2.ipynb',\n",
       " 'py_18_34_3.ipynb',\n",
       " 'py_18_36.ipynb',\n",
       " 'py_19_30.ipynb',\n",
       " 'py_19_34.ipynb',\n",
       " 'py_19_34_2.ipynb',\n",
       " 'py_19_34_3.ipynb',\n",
       " 'py_19_36.ipynb',\n",
       " 'py_19_36_2.ipynb',\n",
       " 'py_20_30.ipynb',\n",
       " 'py_21_30.ipynb',\n",
       " 'py_23_30.ipynb',\n",
       " 'py_9_37.ipynb',\n",
       " 'py_9_37_intro.ipynb',\n",
       " 'py_9_37_lab.ipynb',\n",
       " 'py_clase10_edic25.ipynb',\n",
       " 'py_clase11_edic25.ipynb',\n",
       " 'py_clase12_edic25.ipynb',\n",
       " 'py_clase13_edic25.ipynb',\n",
       " 'py_clase14_edic25.ipynb',\n",
       " 'py_clase1_edic25.ipynb',\n",
       " 'py_clase2_edic25.ipynb',\n",
       " 'py_clase3_edic25.ipynb',\n",
       " 'py_clase4_edic25.ipynb',\n",
       " 'py_clase5_edic25.ipynb',\n",
       " 'py_clase6_edic25.ipynb',\n",
       " 'py_clase7_edic25.ipynb',\n",
       " 'py_clase8_edic25.ipynb',\n",
       " 'py_clase9_edic25.ipynb',\n",
       " 'py_edi21_nivel3_clase2.ipynb',\n",
       " 'py_edi21_nivel3_clase3.ipynb',\n",
       " 'py_edi21_nivel3_clase4.ipynb',\n",
       " 'py_edi21_nivel3_clase5.ipynb',\n",
       " 'py_edic23_clase1.ipynb',\n",
       " 'py_edic23_clase10.ipynb',\n",
       " 'py_edic23_clase11.ipynb',\n",
       " 'py_edic23_clase12.ipynb',\n",
       " 'py_edic23_clase13_clase14.ipynb',\n",
       " 'py_edic23_clase15.ipynb',\n",
       " 'py_edic23_clase16.ipynb',\n",
       " 'py_edic23_clase2.ipynb',\n",
       " 'py_edic23_clase3.ipynb',\n",
       " 'py_edic23_clase4.ipynb',\n",
       " 'py_edic23_clase5.ipynb',\n",
       " 'py_edic23_clase6.ipynb',\n",
       " 'py_edic23_clase7.ipynb',\n",
       " 'py_edic23_clase8.ipynb',\n",
       " 'py_edic23_clase9.ipynb',\n",
       " 'py_edic24_clase1.ipynb',\n",
       " 'py_edic24_clase10.ipynb',\n",
       " 'py_edic24_clase11.ipynb',\n",
       " 'py_edic24_clase12.ipynb',\n",
       " 'py_edic24_clase13.ipynb',\n",
       " 'py_edic24_clase14.ipynb',\n",
       " 'py_edic24_clase15.ipynb',\n",
       " 'py_edic24_clase16_clase17.ipynb',\n",
       " 'py_edic24_clase17.ipynb',\n",
       " 'py_edic24_clase18.ipynb',\n",
       " 'py_edic24_clase19.ipynb',\n",
       " 'py_edic24_clase2.ipynb',\n",
       " 'py_edic24_clase20.ipynb',\n",
       " 'py_edic24_clase21.ipynb',\n",
       " 'py_edic24_clase22.ipynb',\n",
       " 'py_edic24_clase3.ipynb',\n",
       " 'py_edic24_clase4.ipynb',\n",
       " 'py_edic24_clase5.ipynb',\n",
       " 'py_edic24_clase6.ipynb',\n",
       " 'py_edic24_clase7.ipynb',\n",
       " 'py_edic24_clase8.ipynb',\n",
       " 'py_edic24_clase9.ipynb',\n",
       " 'py_edic24_exam.ipynb',\n",
       " 'py_pipelines.ipynb',\n",
       " 'py_tema1_modulo2_XVII.ipynb',\n",
       " 'py_tema4_modulo2_XVII.ipynb',\n",
       " 'py_tema6_modulo2_XVII.ipynb',\n",
       " 'py_tema6_XVII.ipynb',\n",
       " 'py_tema7_8_XVII.ipynb',\n",
       " 'py_tema_5_XVII.ipynb',\n",
       " 'Py_webinar_segmentación de datos con sk-learn.ipynb',\n",
       " 'Py_webinar_SklearnRandomForest.ipynb',\n",
       " 'random_forest.building_energy.default.py',\n",
       " 'random_forest.building_energy.default.reproducible.py',\n",
       " 'random_forest.building_energy.grid1.py',\n",
       " 'Random_Forest_R_práctica.ipynb',\n",
       " 'Random_Forest_R_teoría.ipynb',\n",
       " 'Reciente',\n",
       " 'reporte_profesor.xls',\n",
       " 'requirement.txt',\n",
       " 'requirements.txt',\n",
       " 'ResponsableML',\n",
       " 'RL1.ipynb',\n",
       " 'RL2.ipynb',\n",
       " 'RL3.ipynb',\n",
       " 'Rnivel1_0.ipynb',\n",
       " 'Rnivel1_1.ipynb',\n",
       " 'Rnivel1_10.ipynb',\n",
       " 'Rnivel1_2.ipynb',\n",
       " 'Rnivel1_3.ipynb',\n",
       " 'Rnivel1_4.ipynb',\n",
       " 'Rnivel1_5.ipynb',\n",
       " 'Rnivel1_6.ipynb',\n",
       " 'Rnivel1_7.ipynb',\n",
       " 'Rnivel1_8.ipynb',\n",
       " 'Rnivel1_9.ipynb',\n",
       " 'Rnivel2_1.ipynb',\n",
       " 'Rnivel2_3.ipynb',\n",
       " 'Rnivel2_4_1.ipynb',\n",
       " 'Rnivel2_4_2.ipynb',\n",
       " 'Rnivel2_5.ipynb',\n",
       " 'Rnivel2_6_1.ipynb',\n",
       " 'Rnivel2_6_2.ipynb',\n",
       " 'Rnivel2_7_1.ipynb',\n",
       " 'Rnivel2_7_2.ipynb',\n",
       " 'Rnivel2_7_2_copy.ipynb',\n",
       " 'Rnivel2_8.ipynb',\n",
       " 'Rnivel2_9.ipynb',\n",
       " 'Rnivel2_evaluación_classification_wine.ipynb',\n",
       " 'Rnivel3_1.ipynb',\n",
       " 'Rnivel3_1_2.ipynb',\n",
       " 'Rnivel3_2.ipynb',\n",
       " 'Rnivel3_3_1.ipynb',\n",
       " 'Rnivel3_3_2.ipynb',\n",
       " 'Rnivel3_4.ipynb',\n",
       " 'Rnivel3_5.ipynb',\n",
       " 'Rnivel3_5_2.ipynb',\n",
       " 'Rnivel3_6.ipynb',\n",
       " 'Rnivel3_7.ipynb',\n",
       " 'Rnivel3_8.ipynb',\n",
       " 'Rnivel3_evaluación.ipynb',\n",
       " 'Roaming',\n",
       " 'R_complement1.ipynb',\n",
       " 'R_complement3.ipynb',\n",
       " 'R_complement4.ipynb',\n",
       " 'R_complemet2.ipynb',\n",
       " 'R_component5.ipynb',\n",
       " 'R_for_Data_Science.ipynb',\n",
       " 'R_language_01_07_2021.ipynb',\n",
       " 'R_language_12_07_2021.ipynb',\n",
       " 'R_language_15_07_2021.ipynb',\n",
       " 'R_language_19_07_2021.ipynb',\n",
       " 'R_language_21_06_2021_1.ipynb',\n",
       " 'R_language_21_06_2021_2.ipynb',\n",
       " 'R_language_24_06_2021.ipynb',\n",
       " 'R_language_26_07_2021.ipynb',\n",
       " 'R_language_28_06_2021.ipynb',\n",
       " 'R_language_29_07_2021.ipynb',\n",
       " 'R_language_8_07_2021.ipynb',\n",
       " 'R_webinar_Machine_Learning_con_h2o.ipynb',\n",
       " 'R_webinas_MetricasClasificacion_R.ipynb',\n",
       " 'SageMakerAutopilotCandidateDefinitionNotebook(1).ipynb',\n",
       " 'SageMakerAutopilotCandidateDefinitionNotebook.ipynb',\n",
       " 'SageMakerAutopilotDataExplorationNotebook.ipynb',\n",
       " 'samuel.csv',\n",
       " 'Saved Games',\n",
       " 'scikit_learn_data',\n",
       " 'Searches',\n",
       " 'sel',\n",
       " 'selected_data_with_banks.csv',\n",
       " 'Semillero_01.ipynb',\n",
       " 'Semillero_02.ipynb',\n",
       " 'Semillero_03.ipynb',\n",
       " 'SendTo',\n",
       " 'server.py',\n",
       " 'server.pyc',\n",
       " 'server2.py',\n",
       " 'Sesion4. Clustering-checkpoint.ipynb',\n",
       " 'Sesion4. Clustering.ipynb',\n",
       " 'Source.gv',\n",
       " 'src',\n",
       " 'Sti_Trace.log',\n",
       " 'SVM.ipynb',\n",
       " 'T7 - 1 - Trees - Árboles de Decisión.ipynb',\n",
       " 'T7 - 2 - Trees - Árboles de Regresión.ipynb',\n",
       " 'TAF.ipynb',\n",
       " 'TAF_PUCP.ipynb',\n",
       " 'TAF_PUCP_Final.ipynb',\n",
       " 'taller_modelo_aplicación.ipynb',\n",
       " 'taller_modelo_presentación.ipynb',\n",
       " 'taller_modelo_teoría.ipynb',\n",
       " 'tema7.ipynb',\n",
       " 'test',\n",
       " 'Text Analysis.ipynb',\n",
       " 'Text Analysis2.ipynb',\n",
       " 'tmp_dataframe.csv',\n",
       " 'Trabajar con Data',\n",
       " 'Trabajar con procesos',\n",
       " 'trabajar_con_data',\n",
       " 'trabajo_aplicado.ipynb',\n",
       " 'train.csv',\n",
       " 'TRAIN_FUGA.csv',\n",
       " 'train_wids.csv',\n",
       " 'tree.dot',\n",
       " 'tree1.dot',\n",
       " 'tree_2.png',\n",
       " 'tree_example.ipynb',\n",
       " 'UCI_Credit_Card.csv',\n",
       " 'UCU_Importar_CSV.ipynb',\n",
       " 'Untitled Folder',\n",
       " 'Untitled Folder 1',\n",
       " 'Untitled.ipynb',\n",
       " 'Untitled1.ipynb',\n",
       " 'Untitled10.ipynb',\n",
       " 'Untitled100.ipynb',\n",
       " 'Untitled101.ipynb',\n",
       " 'Untitled102.ipynb',\n",
       " 'Untitled103.ipynb',\n",
       " 'Untitled104.ipynb',\n",
       " 'Untitled105.ipynb',\n",
       " 'Untitled106.ipynb',\n",
       " 'Untitled107.ipynb',\n",
       " 'Untitled108.ipynb',\n",
       " 'Untitled109.ipynb',\n",
       " 'Untitled11.ipynb',\n",
       " 'Untitled110.ipynb',\n",
       " 'Untitled111.ipynb',\n",
       " 'Untitled112.ipynb',\n",
       " 'Untitled113.ipynb',\n",
       " 'Untitled114.ipynb',\n",
       " 'Untitled115.ipynb',\n",
       " 'Untitled116.ipynb',\n",
       " 'Untitled117.ipynb',\n",
       " 'Untitled118.ipynb',\n",
       " 'Untitled119.ipynb',\n",
       " 'Untitled12.ipynb',\n",
       " 'Untitled120.ipynb',\n",
       " 'Untitled121.ipynb',\n",
       " 'Untitled122.ipynb',\n",
       " 'Untitled123.ipynb',\n",
       " 'Untitled124.ipynb',\n",
       " 'Untitled125.ipynb',\n",
       " 'Untitled126.ipynb',\n",
       " 'Untitled127.ipynb',\n",
       " 'Untitled128.ipynb',\n",
       " 'Untitled129.ipynb',\n",
       " 'Untitled13.ipynb',\n",
       " 'Untitled130.ipynb',\n",
       " 'Untitled131.ipynb',\n",
       " 'Untitled132.ipynb',\n",
       " 'Untitled133.ipynb',\n",
       " 'Untitled134.ipynb',\n",
       " 'Untitled135.ipynb',\n",
       " 'Untitled136.ipynb',\n",
       " 'Untitled137.ipynb',\n",
       " 'Untitled138.ipynb',\n",
       " 'Untitled139.ipynb',\n",
       " 'Untitled14.ipynb',\n",
       " 'Untitled140.ipynb',\n",
       " 'Untitled141.ipynb',\n",
       " 'Untitled142.ipynb',\n",
       " 'Untitled143.ipynb',\n",
       " 'Untitled144.ipynb',\n",
       " 'Untitled145.ipynb',\n",
       " 'Untitled146.ipynb',\n",
       " 'Untitled147.ipynb',\n",
       " 'Untitled15.ipynb',\n",
       " 'Untitled16.ipynb',\n",
       " 'Untitled17.ipynb',\n",
       " 'Untitled18.ipynb',\n",
       " 'Untitled19.ipynb',\n",
       " 'Untitled2.ipynb',\n",
       " 'Untitled20.ipynb',\n",
       " 'Untitled21.ipynb',\n",
       " 'Untitled22.ipynb',\n",
       " 'Untitled23.ipynb',\n",
       " 'Untitled24.ipynb',\n",
       " 'Untitled25.ipynb',\n",
       " 'Untitled26.ipynb',\n",
       " 'Untitled27.ipynb',\n",
       " 'Untitled28.ipynb',\n",
       " 'Untitled29.ipynb',\n",
       " 'Untitled3.ipynb',\n",
       " 'Untitled30.ipynb',\n",
       " 'Untitled31.ipynb',\n",
       " 'Untitled32.ipynb',\n",
       " 'Untitled33.ipynb',\n",
       " 'Untitled34.ipynb',\n",
       " 'Untitled35.ipynb',\n",
       " 'Untitled36.ipynb',\n",
       " 'Untitled37.ipynb',\n",
       " 'Untitled38.ipynb',\n",
       " 'Untitled39.ipynb',\n",
       " 'Untitled4.ipynb',\n",
       " 'Untitled40.ipynb',\n",
       " 'Untitled41.ipynb',\n",
       " 'Untitled42.ipynb',\n",
       " 'Untitled43.ipynb',\n",
       " 'Untitled44.ipynb',\n",
       " 'Untitled45.ipynb',\n",
       " 'Untitled46.ipynb',\n",
       " 'Untitled47.ipynb',\n",
       " 'Untitled48.ipynb',\n",
       " 'Untitled49.ipynb',\n",
       " 'Untitled5.ipynb',\n",
       " 'Untitled50.ipynb',\n",
       " 'Untitled51.ipynb',\n",
       " 'Untitled52.ipynb',\n",
       " 'Untitled53.ipynb',\n",
       " 'Untitled54.ipynb',\n",
       " 'Untitled55.ipynb',\n",
       " 'Untitled56.ipynb',\n",
       " 'Untitled57.ipynb',\n",
       " 'Untitled58.ipynb',\n",
       " 'Untitled59.ipynb',\n",
       " 'Untitled6.ipynb',\n",
       " 'Untitled60.ipynb',\n",
       " 'Untitled61.ipynb',\n",
       " 'Untitled62.ipynb',\n",
       " 'Untitled63.ipynb',\n",
       " 'Untitled64.ipynb',\n",
       " 'Untitled65.ipynb',\n",
       " 'Untitled66.ipynb',\n",
       " 'Untitled67.ipynb',\n",
       " 'Untitled68.ipynb',\n",
       " 'Untitled69.ipynb',\n",
       " 'Untitled7.ipynb',\n",
       " 'Untitled70.ipynb',\n",
       " 'Untitled71.ipynb',\n",
       " 'Untitled72.ipynb',\n",
       " 'Untitled73.ipynb',\n",
       " 'Untitled74.ipynb',\n",
       " 'Untitled75.ipynb',\n",
       " 'Untitled76.ipynb',\n",
       " 'Untitled77.ipynb',\n",
       " 'Untitled78.ipynb',\n",
       " 'Untitled79.ipynb',\n",
       " 'Untitled8.ipynb',\n",
       " 'Untitled80.ipynb',\n",
       " 'Untitled81.ipynb',\n",
       " 'Untitled82.ipynb',\n",
       " 'Untitled83.ipynb',\n",
       " 'Untitled84.ipynb',\n",
       " 'Untitled85.ipynb',\n",
       " 'Untitled86.ipynb',\n",
       " 'Untitled87.ipynb',\n",
       " 'Untitled88.ipynb',\n",
       " 'Untitled89.ipynb',\n",
       " 'Untitled9.ipynb',\n",
       " 'Untitled90.ipynb',\n",
       " 'Untitled91.ipynb',\n",
       " 'Untitled92.ipynb',\n",
       " 'Untitled93.ipynb',\n",
       " 'Untitled94.ipynb',\n",
       " 'Untitled95.ipynb',\n",
       " 'Untitled96.ipynb',\n",
       " 'Untitled97.ipynb',\n",
       " 'Untitled98.ipynb',\n",
       " 'Untitled99.ipynb',\n",
       " 'usuario.txt',\n",
       " 'Videos',\n",
       " 'VirtualBox VMs',\n",
       " 'WA_Fn-UseC_-Telco-Customer-Churn.csv',\n",
       " 'Web Scraping con Python.ipynb',\n",
       " 'Web Scraping con R (Caso Bumeran.com).ipynb',\n",
       " 'Web Scraping con R (Caso BuscaLibre.com).ipynb',\n",
       " 'Web Scraping con R (Caso Congreso de La República).ipynb',\n",
       " 'Web Scraping en Python (Caso Bumeran).ipynb',\n",
       " 'Web Scraping en Python (Caso Buscalibre).ipynb',\n",
       " 'Web Scraping en Python (Caso Congreso).ipynb',\n",
       " 'Web Scraping- Python - Caso ONPE (1).ipynb',\n",
       " 'Web Scraping- Python - Caso ONPE.ipynb',\n",
       " 'Webinar_cod.ipynb',\n",
       " 'Webinar_Opmizacion_Parametros_Python.ipynb',\n",
       " 'Webinar_Python_mi_primer_modelo',\n",
       " 'wines_types.csv',\n",
       " 'wordcloud_comentarios.png',\n",
       " 'ws_01_01_introducción_a_web_scraping.ipynb',\n",
       " 'ws_01_02_Seguridad en la Web.ipynb',\n",
       " 'ws_01_03_librerías_en_R.ipynb',\n",
       " 'ws_01_introducción_a_web_scraping.ipynb',\n",
       " 'ws_02_un_poco_de_HTML.ipynb',\n",
       " 'ws_03_librerías_en_R.ipynb',\n",
       " 'ws_04_librerías_en_Python.ipynb',\n",
       " 'ws_05_Selenium_tiempo_de_espera.ipynb',\n",
       " 'ws_5_caso ONPE(BUCLE).ipynb',\n",
       " 'ws_python_01_01_introducción_a_web_scraping.ipynb',\n",
       " 'ws_python_01_02_Seguridad en la Web.ipynb',\n",
       " 'ws_python_01_03_librerías_en_Python.ipynb',\n",
       " 'ws_python_02_un_poco_de_HTML.ipynb',\n",
       " 'ws_python_02_un_poco_de_HTML_caso.ipynb',\n",
       " 'ws_python_03_01_dowload_file.ipynb',\n",
       " 'ws_python_03_02_dowload_multiple_file.ipynb',\n",
       " 'ws_python_04_01_buscalibre_portada_py.ipynb',\n",
       " 'ws_python_04_02_buscalibre_paginas_py.ipynb',\n",
       " 'ws_python_05.ipynb',\n",
       " 'ws_python_06.ipynb',\n",
       " 'ws_python_examen_resuelto.ipynb',\n",
       " 'x.ipynb',\n",
       " 'zoom_0.mp4',\n",
       " '_netrc',\n",
       " '__pycache__',\n",
       " 'Árboles de Decisión.ipynb']"
      ]
     },
     "execution_count": 153,
     "metadata": {},
     "output_type": "execute_result"
    }
   ],
   "source": [
    "os.listdir(\"C:/Users/SOCIAL DATA\")"
   ]
  },
  {
   "cell_type": "code",
   "execution_count": 154,
   "metadata": {},
   "outputs": [],
   "source": [
    "os.chdir(\"D:/Python/1. Nivel I/3/datos\")"
   ]
  },
  {
   "cell_type": "code",
   "execution_count": 156,
   "metadata": {},
   "outputs": [
    {
     "data": {
      "text/plain": [
       "'D:\\\\Python\\\\1. Nivel I\\\\3\\\\datos'"
      ]
     },
     "execution_count": 156,
     "metadata": {},
     "output_type": "execute_result"
    }
   ],
   "source": [
    "os.getcwd()"
   ]
  },
  {
   "cell_type": "code",
   "execution_count": 155,
   "metadata": {},
   "outputs": [
    {
     "data": {
      "text/plain": [
       "['anes_timeseries_2012.dta',\n",
       " 'data_BL.csv',\n",
       " 'data_buscalibre',\n",
       " 'data_buscalibre.csv',\n",
       " 'df_concat.csv',\n",
       " 'distritos.sav',\n",
       " 'ElectricBus.xlsx',\n",
       " 'housing.data.txt',\n",
       " 'LL.csv',\n",
       " 'subvenciones.csv',\n",
       " 'subvenciones.json',\n",
       " 'subvenciones.ods',\n",
       " 'subvenciones.tsv',\n",
       " 'subvenciones.xls',\n",
       " 'subvenciones.xml',\n",
       " 'subvenciones_agrupadas.json',\n",
       " 'subvenciones_agrupadas_con_gasto.json',\n",
       " 'subvenciones_df.xls',\n",
       " 'subvenciones_esc.csv',\n",
       " 'subvenciones_lista_total.xml',\n",
       " 'subvenciones_totales.xls',\n",
       " 'tabla_senal.csv']"
      ]
     },
     "execution_count": 155,
     "metadata": {},
     "output_type": "execute_result"
    }
   ],
   "source": [
    "os.listdir(\"D:/Python/1. Nivel I/3/datos\")"
   ]
  },
  {
   "cell_type": "markdown",
   "metadata": {},
   "source": [
    "**Excel**"
   ]
  },
  {
   "cell_type": "code",
   "execution_count": 157,
   "metadata": {},
   "outputs": [],
   "source": [
    "df_excel = pd.read_excel(\"subvenciones.xls\",\n",
    "                        sheet_name=\"Hoja1\")"
   ]
  },
  {
   "cell_type": "code",
   "execution_count": 159,
   "metadata": {},
   "outputs": [
    {
     "data": {
      "text/html": [
       "<div>\n",
       "<style scoped>\n",
       "    .dataframe tbody tr th:only-of-type {\n",
       "        vertical-align: middle;\n",
       "    }\n",
       "\n",
       "    .dataframe tbody tr th {\n",
       "        vertical-align: top;\n",
       "    }\n",
       "\n",
       "    .dataframe thead th {\n",
       "        text-align: right;\n",
       "    }\n",
       "</style>\n",
       "<table border=\"1\" class=\"dataframe\">\n",
       "  <thead>\n",
       "    <tr style=\"text-align: right;\">\n",
       "      <th></th>\n",
       "      <th>Asociación</th>\n",
       "      <th>Actividad Subvencionada</th>\n",
       "      <th>Importe</th>\n",
       "    </tr>\n",
       "  </thead>\n",
       "  <tbody>\n",
       "    <tr>\n",
       "      <th>0</th>\n",
       "      <td>AMPA ANTONIO MACHADO</td>\n",
       "      <td>TALLER FIESTA DE CARNAVAL</td>\n",
       "      <td>94.56</td>\n",
       "    </tr>\n",
       "    <tr>\n",
       "      <th>1</th>\n",
       "      <td>AMPA ANTONIO MACHADO</td>\n",
       "      <td>TALLER DIA DEL PADRE</td>\n",
       "      <td>39.04</td>\n",
       "    </tr>\n",
       "    <tr>\n",
       "      <th>2</th>\n",
       "      <td>AMPA ANTONIO MACHADO</td>\n",
       "      <td>TALLER DIA DE LA MADRE</td>\n",
       "      <td>43.64</td>\n",
       "    </tr>\n",
       "    <tr>\n",
       "      <th>3</th>\n",
       "      <td>AMPA ANTONIO MACHADO</td>\n",
       "      <td>FIESTA FIN DE CURSO</td>\n",
       "      <td>921.00</td>\n",
       "    </tr>\n",
       "    <tr>\n",
       "      <th>4</th>\n",
       "      <td>AMPA ANTONIO MACHADO</td>\n",
       "      <td>CONCURSO LOGOTIPO AMPA</td>\n",
       "      <td>56.57</td>\n",
       "    </tr>\n",
       "    <tr>\n",
       "      <th>5</th>\n",
       "      <td>AMPA ANTONIO MACHADO</td>\n",
       "      <td>ASOCIACION FAPA ALCOBENDAS</td>\n",
       "      <td>80.00</td>\n",
       "    </tr>\n",
       "    <tr>\n",
       "      <th>6</th>\n",
       "      <td>AMPA ANTONIO MACHADO</td>\n",
       "      <td>ASOCIACION FAPA GINER DE LOS RIOS</td>\n",
       "      <td>86.79</td>\n",
       "    </tr>\n",
       "    <tr>\n",
       "      <th>7</th>\n",
       "      <td>AMPA ANTONIO MACHADO</td>\n",
       "      <td>FIESTA DE NAVIDAD</td>\n",
       "      <td>660.00</td>\n",
       "    </tr>\n",
       "    <tr>\n",
       "      <th>8</th>\n",
       "      <td>AMPA ANTONIO MACHADO</td>\n",
       "      <td>HALLOWEEN</td>\n",
       "      <td>168.39</td>\n",
       "    </tr>\n",
       "    <tr>\n",
       "      <th>9</th>\n",
       "      <td>AMPA ANTONIO MACHADO</td>\n",
       "      <td>SAN ISIDRO</td>\n",
       "      <td>195.00</td>\n",
       "    </tr>\n",
       "  </tbody>\n",
       "</table>\n",
       "</div>"
      ],
      "text/plain": [
       "             Asociación           Actividad Subvencionada   Importe\n",
       "0  AMPA ANTONIO MACHADO          TALLER FIESTA DE CARNAVAL    94.56\n",
       "1  AMPA ANTONIO MACHADO               TALLER DIA DEL PADRE    39.04\n",
       "2  AMPA ANTONIO MACHADO             TALLER DIA DE LA MADRE    43.64\n",
       "3  AMPA ANTONIO MACHADO                FIESTA FIN DE CURSO   921.00\n",
       "4  AMPA ANTONIO MACHADO             CONCURSO LOGOTIPO AMPA    56.57\n",
       "5  AMPA ANTONIO MACHADO         ASOCIACION FAPA ALCOBENDAS    80.00\n",
       "6  AMPA ANTONIO MACHADO  ASOCIACION FAPA GINER DE LOS RIOS    86.79\n",
       "7  AMPA ANTONIO MACHADO                  FIESTA DE NAVIDAD   660.00\n",
       "8  AMPA ANTONIO MACHADO                          HALLOWEEN   168.39\n",
       "9  AMPA ANTONIO MACHADO                         SAN ISIDRO   195.00"
      ]
     },
     "execution_count": 159,
     "metadata": {},
     "output_type": "execute_result"
    }
   ],
   "source": [
    "df_excel.head(n=10)"
   ]
  },
  {
   "cell_type": "code",
   "execution_count": 160,
   "metadata": {},
   "outputs": [
    {
     "data": {
      "text/html": [
       "<div>\n",
       "<style scoped>\n",
       "    .dataframe tbody tr th:only-of-type {\n",
       "        vertical-align: middle;\n",
       "    }\n",
       "\n",
       "    .dataframe tbody tr th {\n",
       "        vertical-align: top;\n",
       "    }\n",
       "\n",
       "    .dataframe thead th {\n",
       "        text-align: right;\n",
       "    }\n",
       "</style>\n",
       "<table border=\"1\" class=\"dataframe\">\n",
       "  <thead>\n",
       "    <tr style=\"text-align: right;\">\n",
       "      <th></th>\n",
       "      <th>Asociación</th>\n",
       "      <th>Actividad Subvencionada</th>\n",
       "      <th>Importe</th>\n",
       "    </tr>\n",
       "  </thead>\n",
       "  <tbody>\n",
       "    <tr>\n",
       "      <th>181</th>\n",
       "      <td>AMPA SAN ANTONIO</td>\n",
       "      <td>GRANJA ESCUELA</td>\n",
       "      <td>895.00</td>\n",
       "    </tr>\n",
       "    <tr>\n",
       "      <th>182</th>\n",
       "      <td>AMPA SAN ANTONIO</td>\n",
       "      <td>VISITA AL PARQUE DE AVENTURAS AMAZONIA</td>\n",
       "      <td>576.00</td>\n",
       "    </tr>\n",
       "    <tr>\n",
       "      <th>183</th>\n",
       "      <td>AMPA SAN ANTONIO</td>\n",
       "      <td>ASISTENCIA AL CIRCO MUNDIAL</td>\n",
       "      <td>630.83</td>\n",
       "    </tr>\n",
       "    <tr>\n",
       "      <th>184</th>\n",
       "      <td>AMPA PADRE  MANYANET</td>\n",
       "      <td>FERIA DE LA SEMANA CULTURAL</td>\n",
       "      <td>800.00</td>\n",
       "    </tr>\n",
       "    <tr>\n",
       "      <th>185</th>\n",
       "      <td>AMPA PADRE  MANYANET</td>\n",
       "      <td>BIBLIOTECA DE EDUCACION PRIMARIA DE LA APA</td>\n",
       "      <td>803.82</td>\n",
       "    </tr>\n",
       "    <tr>\n",
       "      <th>186</th>\n",
       "      <td>AMPA PADRE  MANYANET</td>\n",
       "      <td>FERIA DE ROBOTICA</td>\n",
       "      <td>720.00</td>\n",
       "    </tr>\n",
       "    <tr>\n",
       "      <th>187</th>\n",
       "      <td>AMPA PADRE  MANYANET</td>\n",
       "      <td>LUDOTECA FIESTA FIN DE CURSO</td>\n",
       "      <td>372.00</td>\n",
       "    </tr>\n",
       "    <tr>\n",
       "      <th>188</th>\n",
       "      <td>AMPA FAPA</td>\n",
       "      <td>JORNADA FAPA-APAS: ENCUENTROS DE PARTICIPACION</td>\n",
       "      <td>720.00</td>\n",
       "    </tr>\n",
       "    <tr>\n",
       "      <th>189</th>\n",
       "      <td>AMPA FAPA</td>\n",
       "      <td>25 ANIVERSARIO FAPA ALCOBENDAS</td>\n",
       "      <td>1515.00</td>\n",
       "    </tr>\n",
       "    <tr>\n",
       "      <th>190</th>\n",
       "      <td>AMPA FAPA</td>\n",
       "      <td>REVISTA DE LA FEDERACION \"LA ESCUELA EN ALCOBE...</td>\n",
       "      <td>963.43</td>\n",
       "    </tr>\n",
       "  </tbody>\n",
       "</table>\n",
       "</div>"
      ],
      "text/plain": [
       "               Asociación                           Actividad Subvencionada   \\\n",
       "181      AMPA SAN ANTONIO                                     GRANJA ESCUELA   \n",
       "182      AMPA SAN ANTONIO             VISITA AL PARQUE DE AVENTURAS AMAZONIA   \n",
       "183      AMPA SAN ANTONIO                        ASISTENCIA AL CIRCO MUNDIAL   \n",
       "184  AMPA PADRE  MANYANET                        FERIA DE LA SEMANA CULTURAL   \n",
       "185  AMPA PADRE  MANYANET         BIBLIOTECA DE EDUCACION PRIMARIA DE LA APA   \n",
       "186  AMPA PADRE  MANYANET                                  FERIA DE ROBOTICA   \n",
       "187  AMPA PADRE  MANYANET                       LUDOTECA FIESTA FIN DE CURSO   \n",
       "188             AMPA FAPA     JORNADA FAPA-APAS: ENCUENTROS DE PARTICIPACION   \n",
       "189             AMPA FAPA                     25 ANIVERSARIO FAPA ALCOBENDAS   \n",
       "190             AMPA FAPA  REVISTA DE LA FEDERACION \"LA ESCUELA EN ALCOBE...   \n",
       "\n",
       "     Importe  \n",
       "181   895.00  \n",
       "182   576.00  \n",
       "183   630.83  \n",
       "184   800.00  \n",
       "185   803.82  \n",
       "186   720.00  \n",
       "187   372.00  \n",
       "188   720.00  \n",
       "189  1515.00  \n",
       "190   963.43  "
      ]
     },
     "execution_count": 160,
     "metadata": {},
     "output_type": "execute_result"
    }
   ],
   "source": [
    "df_excel.tail(n=10)"
   ]
  },
  {
   "cell_type": "code",
   "execution_count": null,
   "metadata": {},
   "outputs": [],
   "source": []
  },
  {
   "cell_type": "code",
   "execution_count": null,
   "metadata": {},
   "outputs": [],
   "source": []
  },
  {
   "cell_type": "code",
   "execution_count": null,
   "metadata": {},
   "outputs": [],
   "source": []
  }
 ],
 "metadata": {
  "kernelspec": {
   "display_name": "Python 3",
   "language": "python",
   "name": "python3"
  },
  "language_info": {
   "codemirror_mode": {
    "name": "ipython",
    "version": 3
   },
   "file_extension": ".py",
   "mimetype": "text/x-python",
   "name": "python",
   "nbconvert_exporter": "python",
   "pygments_lexer": "ipython3",
   "version": "3.8.5"
  }
 },
 "nbformat": 4,
 "nbformat_minor": 4
}
