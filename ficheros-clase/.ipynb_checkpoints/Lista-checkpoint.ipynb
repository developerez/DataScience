{
 "cells": [
  {
   "cell_type": "code",
   "execution_count": null,
   "id": "77a35b2c-8fec-46fd-bfd9-54381a481386",
   "metadata": {},
   "outputs": [],
   "source": [
    "import pandas as pd\n",
    "import numpy as np"
   ]
  },
  {
   "cell_type": "code",
   "execution_count": null,
   "id": "7c6fd28b-b1d8-4416-abf9-476cacd0bb2d",
   "metadata": {},
   "outputs": [],
   "source": [
    "uber = pd.read_csv('uber-raw-data-apr14.csv',sep=\",\")"
   ]
  },
  {
   "cell_type": "code",
   "execution_count": 17,
   "id": "40b34072-a9de-452f-b517-4ed4f27513be",
   "metadata": {},
   "outputs": [
    {
     "name": "stdout",
     "output_type": "stream",
     "text": [
      "70\n"
     ]
    }
   ],
   "source": [
    "mi_lista = [10, 20, 30, 40]\n",
    "suma_lista = []\n",
    "for i in range(len(mi_lista)-1):\n",
    "    suma = mi_lista[i] + mi_lista[i+1]\n",
    "    suma_lista.append(suma)\n",
    "print(max(suma_lista))\n"
   ]
  },
  {
   "cell_type": "code",
   "execution_count": 15,
   "id": "3f32cfa0-44a3-4ab4-bdb1-383733257db7",
   "metadata": {},
   "outputs": [
    {
     "ename": "TypeError",
     "evalue": "'int' object is not subscriptable",
     "output_type": "error",
     "traceback": [
      "\u001b[1;31m---------------------------------------------------------------------------\u001b[0m",
      "\u001b[1;31mTypeError\u001b[0m                                 Traceback (most recent call last)",
      "Cell \u001b[1;32mIn[15], line 4\u001b[0m\n\u001b[0;32m      2\u001b[0m indice2 \u001b[38;5;241m=\u001b[39m \u001b[38;5;241m1\u001b[39m\n\u001b[0;32m      3\u001b[0m \u001b[38;5;28;01mfor\u001b[39;00m i \u001b[38;5;129;01min\u001b[39;00m lista:\n\u001b[1;32m----> 4\u001b[0m     \u001b[38;5;28mprint\u001b[39m(i \u001b[38;5;241m+\u001b[39m \u001b[43mi\u001b[49m\u001b[43m[\u001b[49m\u001b[38;5;241;43m1\u001b[39;49m\u001b[43m]\u001b[49m)\n",
      "\u001b[1;31mTypeError\u001b[0m: 'int' object is not subscriptable"
     ]
    }
   ],
   "source": [
    "indice1 = 0\n",
    "indice2 = 1\n",
    "for i in lista:\n",
    "    print(i + i[1])\n",
    "   \n",
    "\n",
    "    "
   ]
  },
  {
   "cell_type": "code",
   "execution_count": 6,
   "id": "5f1ef682-2e22-44d6-9c47-035cb731e95c",
   "metadata": {},
   "outputs": [
    {
     "data": {
      "text/plain": [
       "80"
      ]
     },
     "execution_count": 6,
     "metadata": {},
     "output_type": "execute_result"
    }
   ],
   "source": [
    "index("
   ]
  },
  {
   "cell_type": "code",
   "execution_count": 14,
   "id": "cddd3eb6-5122-40f2-a1ba-0a36b5d1b83a",
   "metadata": {},
   "outputs": [
    {
     "name": "stdout",
     "output_type": "stream",
     "text": [
      "0\n",
      "1\n",
      "2\n",
      "3\n"
     ]
    }
   ],
   "source": [
    "mi_lista = [\"a\", \"b\", \"c\", \"d\"]\n",
    "for indice, elemento in enumerate(mi_lista):\n",
    "    print(indice)\n"
   ]
  },
  {
   "cell_type": "code",
   "execution_count": null,
   "id": "eb2acd16-6d25-40c9-b771-daea915d53e0",
   "metadata": {},
   "outputs": [],
   "source": []
  }
 ],
 "metadata": {
  "kernelspec": {
   "display_name": "Python 3 (ipykernel)",
   "language": "python",
   "name": "python3"
  },
  "language_info": {
   "codemirror_mode": {
    "name": "ipython",
    "version": 3
   },
   "file_extension": ".py",
   "mimetype": "text/x-python",
   "name": "python",
   "nbconvert_exporter": "python",
   "pygments_lexer": "ipython3",
   "version": "3.10.9"
  }
 },
 "nbformat": 4,
 "nbformat_minor": 5
}
