{
 "cells": [
  {
   "cell_type": "markdown",
   "metadata": {},
   "source": [
    "**API Twitter**"
   ]
  },
  {
   "cell_type": "code",
   "execution_count": 16,
   "metadata": {},
   "outputs": [],
   "source": [
    "# recovering security info\n",
    "consumer_key = 'Z99qwxrBAc3WqNKZB27M5GI7X'\n",
    "consumer_secret = 'V8icVCyhO7E4gSukiXhnXQOAvk5RCW42Sl8z2qpz8GBCIkXOjL'\n",
    "access_token = '174323243-2r6dZuiDtklyAJ8LLM4V02RTjV4VvRzaYxUOzy7b'\n",
    "access_token_secret = 'hOdfqYSvTfeq7dU1Qx6AK2T9RLfhCNgqi433OCjjSUZzu'\n"
   ]
  },
  {
   "cell_type": "code",
   "execution_count": 17,
   "metadata": {},
   "outputs": [],
   "source": [
    "import tweepy\n",
    "from tweepy import OAuthHandler"
   ]
  },
  {
   "cell_type": "code",
   "execution_count": 18,
   "metadata": {},
   "outputs": [],
   "source": [
    "auth = OAuthHandler(consumer_key,consumer_secret)"
   ]
  },
  {
   "cell_type": "code",
   "execution_count": 19,
   "metadata": {},
   "outputs": [],
   "source": [
    "auth.set_access_token(access_token,access_token_secret)"
   ]
  },
  {
   "cell_type": "code",
   "execution_count": 20,
   "metadata": {},
   "outputs": [],
   "source": [
    "api = tweepy.API(auth,\n",
    "                parser=tweepy.parsers.JSONParser())"
   ]
  },
  {
   "cell_type": "code",
   "execution_count": 21,
   "metadata": {},
   "outputs": [
    {
     "ename": "Unauthorized",
     "evalue": "401 Unauthorized\n32 - Could not authenticate you.",
     "output_type": "error",
     "traceback": [
      "\u001b[1;31m---------------------------------------------------------------------------\u001b[0m",
      "\u001b[1;31mUnauthorized\u001b[0m                              Traceback (most recent call last)",
      "Cell \u001b[1;32mIn[21], line 1\u001b[0m\n\u001b[1;32m----> 1\u001b[0m tweets \u001b[38;5;241m=\u001b[39m \u001b[43mapi\u001b[49m\u001b[38;5;241;43m.\u001b[39;49m\u001b[43muser_timeline\u001b[49m\u001b[43m(\u001b[49m\u001b[43mscreen_name\u001b[49m\u001b[38;5;241;43m=\u001b[39;49m\u001b[38;5;124;43m\"\u001b[39;49m\u001b[38;5;124;43mwilliecolon\u001b[39;49m\u001b[38;5;124;43m\"\u001b[39;49m\u001b[43m,\u001b[49m\n\u001b[0;32m      2\u001b[0m \u001b[43m                          \u001b[49m\u001b[43mcount\u001b[49m\u001b[38;5;241;43m=\u001b[39;49m\u001b[38;5;241;43m100\u001b[39;49m\u001b[43m,\u001b[49m\n\u001b[0;32m      3\u001b[0m \u001b[43m                          \u001b[49m\u001b[43minclude_rts\u001b[49m\u001b[38;5;241;43m=\u001b[39;49m\u001b[38;5;28;43;01mTrue\u001b[39;49;00m\u001b[43m)\u001b[49m\n",
      "File \u001b[1;32m~\\AppData\\Roaming\\Python\\Python310\\site-packages\\tweepy\\api.py:33\u001b[0m, in \u001b[0;36mpagination.<locals>.decorator.<locals>.wrapper\u001b[1;34m(*args, **kwargs)\u001b[0m\n\u001b[0;32m     31\u001b[0m \u001b[38;5;129m@functools\u001b[39m\u001b[38;5;241m.\u001b[39mwraps(method)\n\u001b[0;32m     32\u001b[0m \u001b[38;5;28;01mdef\u001b[39;00m \u001b[38;5;21mwrapper\u001b[39m(\u001b[38;5;241m*\u001b[39margs, \u001b[38;5;241m*\u001b[39m\u001b[38;5;241m*\u001b[39mkwargs):\n\u001b[1;32m---> 33\u001b[0m     \u001b[38;5;28;01mreturn\u001b[39;00m method(\u001b[38;5;241m*\u001b[39margs, \u001b[38;5;241m*\u001b[39m\u001b[38;5;241m*\u001b[39mkwargs)\n",
      "File \u001b[1;32m~\\AppData\\Roaming\\Python\\Python310\\site-packages\\tweepy\\api.py:46\u001b[0m, in \u001b[0;36mpayload.<locals>.decorator.<locals>.wrapper\u001b[1;34m(*args, **kwargs)\u001b[0m\n\u001b[0;32m     44\u001b[0m kwargs[\u001b[38;5;124m'\u001b[39m\u001b[38;5;124mpayload_list\u001b[39m\u001b[38;5;124m'\u001b[39m] \u001b[38;5;241m=\u001b[39m payload_list\n\u001b[0;32m     45\u001b[0m kwargs[\u001b[38;5;124m'\u001b[39m\u001b[38;5;124mpayload_type\u001b[39m\u001b[38;5;124m'\u001b[39m] \u001b[38;5;241m=\u001b[39m payload_type\n\u001b[1;32m---> 46\u001b[0m \u001b[38;5;28;01mreturn\u001b[39;00m method(\u001b[38;5;241m*\u001b[39margs, \u001b[38;5;241m*\u001b[39m\u001b[38;5;241m*\u001b[39mkwargs)\n",
      "File \u001b[1;32m~\\AppData\\Roaming\\Python\\Python310\\site-packages\\tweepy\\api.py:577\u001b[0m, in \u001b[0;36mAPI.user_timeline\u001b[1;34m(self, **kwargs)\u001b[0m\n\u001b[0;32m    536\u001b[0m \u001b[38;5;129m@pagination\u001b[39m(mode\u001b[38;5;241m=\u001b[39m\u001b[38;5;124m'\u001b[39m\u001b[38;5;124mid\u001b[39m\u001b[38;5;124m'\u001b[39m)\n\u001b[0;32m    537\u001b[0m \u001b[38;5;129m@payload\u001b[39m(\u001b[38;5;124m'\u001b[39m\u001b[38;5;124mstatus\u001b[39m\u001b[38;5;124m'\u001b[39m, \u001b[38;5;28mlist\u001b[39m\u001b[38;5;241m=\u001b[39m\u001b[38;5;28;01mTrue\u001b[39;00m)\n\u001b[0;32m    538\u001b[0m \u001b[38;5;28;01mdef\u001b[39;00m \u001b[38;5;21muser_timeline\u001b[39m(\u001b[38;5;28mself\u001b[39m, \u001b[38;5;241m*\u001b[39m\u001b[38;5;241m*\u001b[39mkwargs):\n\u001b[0;32m    539\u001b[0m     \u001b[38;5;124;03m\"\"\"user_timeline(*, user_id, screen_name, since_id, count, max_id, \\\u001b[39;00m\n\u001b[0;32m    540\u001b[0m \u001b[38;5;124;03m                     trim_user, exclude_replies, include_rts)\u001b[39;00m\n\u001b[0;32m    541\u001b[0m \n\u001b[1;32m   (...)\u001b[0m\n\u001b[0;32m    575\u001b[0m \u001b[38;5;124;03m    https://developer.twitter.com/en/docs/twitter-api/v1/tweets/timelines/api-reference/get-statuses-user_timeline\u001b[39;00m\n\u001b[0;32m    576\u001b[0m \u001b[38;5;124;03m    \"\"\"\u001b[39;00m\n\u001b[1;32m--> 577\u001b[0m     \u001b[38;5;28;01mreturn\u001b[39;00m \u001b[38;5;28mself\u001b[39m\u001b[38;5;241m.\u001b[39mrequest(\n\u001b[0;32m    578\u001b[0m         \u001b[38;5;124m'\u001b[39m\u001b[38;5;124mGET\u001b[39m\u001b[38;5;124m'\u001b[39m, \u001b[38;5;124m'\u001b[39m\u001b[38;5;124mstatuses/user_timeline\u001b[39m\u001b[38;5;124m'\u001b[39m, endpoint_parameters\u001b[38;5;241m=\u001b[39m(\n\u001b[0;32m    579\u001b[0m             \u001b[38;5;124m'\u001b[39m\u001b[38;5;124muser_id\u001b[39m\u001b[38;5;124m'\u001b[39m, \u001b[38;5;124m'\u001b[39m\u001b[38;5;124mscreen_name\u001b[39m\u001b[38;5;124m'\u001b[39m, \u001b[38;5;124m'\u001b[39m\u001b[38;5;124msince_id\u001b[39m\u001b[38;5;124m'\u001b[39m, \u001b[38;5;124m'\u001b[39m\u001b[38;5;124mcount\u001b[39m\u001b[38;5;124m'\u001b[39m, \u001b[38;5;124m'\u001b[39m\u001b[38;5;124mmax_id\u001b[39m\u001b[38;5;124m'\u001b[39m,\n\u001b[0;32m    580\u001b[0m             \u001b[38;5;124m'\u001b[39m\u001b[38;5;124mtrim_user\u001b[39m\u001b[38;5;124m'\u001b[39m, \u001b[38;5;124m'\u001b[39m\u001b[38;5;124mexclude_replies\u001b[39m\u001b[38;5;124m'\u001b[39m, \u001b[38;5;124m'\u001b[39m\u001b[38;5;124minclude_rts\u001b[39m\u001b[38;5;124m'\u001b[39m\n\u001b[0;32m    581\u001b[0m         ), \u001b[38;5;241m*\u001b[39m\u001b[38;5;241m*\u001b[39mkwargs\n\u001b[0;32m    582\u001b[0m     )\n",
      "File \u001b[1;32m~\\AppData\\Roaming\\Python\\Python310\\site-packages\\tweepy\\api.py:263\u001b[0m, in \u001b[0;36mAPI.request\u001b[1;34m(self, method, endpoint, endpoint_parameters, params, headers, json_payload, parser, payload_list, payload_type, post_data, files, require_auth, return_cursors, upload_api, use_cache, **kwargs)\u001b[0m\n\u001b[0;32m    261\u001b[0m     \u001b[38;5;28;01mraise\u001b[39;00m BadRequest(resp)\n\u001b[0;32m    262\u001b[0m \u001b[38;5;28;01mif\u001b[39;00m resp\u001b[38;5;241m.\u001b[39mstatus_code \u001b[38;5;241m==\u001b[39m \u001b[38;5;241m401\u001b[39m:\n\u001b[1;32m--> 263\u001b[0m     \u001b[38;5;28;01mraise\u001b[39;00m Unauthorized(resp)\n\u001b[0;32m    264\u001b[0m \u001b[38;5;28;01mif\u001b[39;00m resp\u001b[38;5;241m.\u001b[39mstatus_code \u001b[38;5;241m==\u001b[39m \u001b[38;5;241m403\u001b[39m:\n\u001b[0;32m    265\u001b[0m     \u001b[38;5;28;01mraise\u001b[39;00m Forbidden(resp)\n",
      "\u001b[1;31mUnauthorized\u001b[0m: 401 Unauthorized\n32 - Could not authenticate you."
     ]
    }
   ],
   "source": [
    "tweets = api.user_timeline(screen_name=\"williecolon\",\n",
    "                          count=100,\n",
    "                          include_rts=True)"
   ]
  },
  {
   "cell_type": "code",
   "execution_count": 19,
   "metadata": {},
   "outputs": [
    {
     "data": {
      "text/plain": [
       "list"
      ]
     },
     "execution_count": 19,
     "metadata": {},
     "output_type": "execute_result"
    }
   ],
   "source": [
    "type(tweets)"
   ]
  },
  {
   "cell_type": "code",
   "execution_count": 20,
   "metadata": {},
   "outputs": [
    {
     "data": {
      "text/plain": [
       "dict"
      ]
     },
     "execution_count": 20,
     "metadata": {},
     "output_type": "execute_result"
    }
   ],
   "source": [
    "type(tweets[0])"
   ]
  },
  {
   "cell_type": "code",
   "execution_count": 23,
   "metadata": {},
   "outputs": [
    {
     "data": {
      "text/plain": [
       "{'created_at': 'Sun Mar 26 13:52:06 +0000 2023',\n",
       " 'id': 1639988602032603136,\n",
       " 'id_str': '1639988602032603136',\n",
       " 'text': 'Condenan adolescente a cadena perpetua https://t.co/DQXiJczPbF',\n",
       " 'truncated': False,\n",
       " 'entities': {'hashtags': [],\n",
       "  'symbols': [],\n",
       "  'user_mentions': [],\n",
       "  'urls': [],\n",
       "  'media': [{'id': 1639988597976711168,\n",
       "    'id_str': '1639988597976711168',\n",
       "    'indices': [39, 62],\n",
       "    'media_url': 'http://pbs.twimg.com/media/FsJo8NoXwAA7dL2.jpg',\n",
       "    'media_url_https': 'https://pbs.twimg.com/media/FsJo8NoXwAA7dL2.jpg',\n",
       "    'url': 'https://t.co/DQXiJczPbF',\n",
       "    'display_url': 'pic.twitter.com/DQXiJczPbF',\n",
       "    'expanded_url': 'https://twitter.com/williecolon/status/1639988602032603136/photo/1',\n",
       "    'type': 'photo',\n",
       "    'sizes': {'thumb': {'w': 150, 'h': 150, 'resize': 'crop'},\n",
       "     'medium': {'w': 1050, 'h': 1200, 'resize': 'fit'},\n",
       "     'large': {'w': 1284, 'h': 1467, 'resize': 'fit'},\n",
       "     'small': {'w': 595, 'h': 680, 'resize': 'fit'}}}]},\n",
       " 'extended_entities': {'media': [{'id': 1639988597976711168,\n",
       "    'id_str': '1639988597976711168',\n",
       "    'indices': [39, 62],\n",
       "    'media_url': 'http://pbs.twimg.com/media/FsJo8NoXwAA7dL2.jpg',\n",
       "    'media_url_https': 'https://pbs.twimg.com/media/FsJo8NoXwAA7dL2.jpg',\n",
       "    'url': 'https://t.co/DQXiJczPbF',\n",
       "    'display_url': 'pic.twitter.com/DQXiJczPbF',\n",
       "    'expanded_url': 'https://twitter.com/williecolon/status/1639988602032603136/photo/1',\n",
       "    'type': 'photo',\n",
       "    'sizes': {'thumb': {'w': 150, 'h': 150, 'resize': 'crop'},\n",
       "     'medium': {'w': 1050, 'h': 1200, 'resize': 'fit'},\n",
       "     'large': {'w': 1284, 'h': 1467, 'resize': 'fit'},\n",
       "     'small': {'w': 595, 'h': 680, 'resize': 'fit'}}}]},\n",
       " 'source': '<a href=\"http://twitter.com/download/iphone\" rel=\"nofollow\">Twitter for iPhone</a>',\n",
       " 'in_reply_to_status_id': None,\n",
       " 'in_reply_to_status_id_str': None,\n",
       " 'in_reply_to_user_id': None,\n",
       " 'in_reply_to_user_id_str': None,\n",
       " 'in_reply_to_screen_name': None,\n",
       " 'user': {'id': 46919513,\n",
       "  'id_str': '46919513',\n",
       "  'name': 'Willie Colón',\n",
       "  'screen_name': 'williecolon',\n",
       "  'location': 'Bronx, NY',\n",
       "  'description': 'FB: @thewilliecolon @williecolononline. IG &  Parler: @realwilliecolon MeWe: @realwilliecolon Anti-Marxist Anti-Communist Anti-Woke',\n",
       "  'url': None,\n",
       "  'entities': {'description': {'urls': []}},\n",
       "  'protected': False,\n",
       "  'followers_count': 2004043,\n",
       "  'friends_count': 10129,\n",
       "  'listed_count': 4197,\n",
       "  'created_at': 'Sat Jun 13 16:54:17 +0000 2009',\n",
       "  'favourites_count': 60024,\n",
       "  'utc_offset': None,\n",
       "  'time_zone': None,\n",
       "  'geo_enabled': False,\n",
       "  'verified': True,\n",
       "  'statuses_count': 74849,\n",
       "  'lang': None,\n",
       "  'contributors_enabled': False,\n",
       "  'is_translator': False,\n",
       "  'is_translation_enabled': False,\n",
       "  'profile_background_color': '100700',\n",
       "  'profile_background_image_url': 'http://abs.twimg.com/images/themes/theme1/bg.png',\n",
       "  'profile_background_image_url_https': 'https://abs.twimg.com/images/themes/theme1/bg.png',\n",
       "  'profile_background_tile': False,\n",
       "  'profile_image_url': 'http://pbs.twimg.com/profile_images/1496692150301569036/2JkjQTWt_normal.jpg',\n",
       "  'profile_image_url_https': 'https://pbs.twimg.com/profile_images/1496692150301569036/2JkjQTWt_normal.jpg',\n",
       "  'profile_banner_url': 'https://pbs.twimg.com/profile_banners/46919513/1674082684',\n",
       "  'profile_link_color': 'DEA913',\n",
       "  'profile_sidebar_border_color': '000000',\n",
       "  'profile_sidebar_fill_color': 'F9C926',\n",
       "  'profile_text_color': '5A694C',\n",
       "  'profile_use_background_image': True,\n",
       "  'has_extended_profile': True,\n",
       "  'default_profile': False,\n",
       "  'default_profile_image': False,\n",
       "  'following': False,\n",
       "  'follow_request_sent': False,\n",
       "  'notifications': False,\n",
       "  'translator_type': 'regular',\n",
       "  'withheld_in_countries': []},\n",
       " 'geo': None,\n",
       " 'coordinates': None,\n",
       " 'place': None,\n",
       " 'contributors': None,\n",
       " 'is_quote_status': False,\n",
       " 'retweet_count': 11,\n",
       " 'favorite_count': 59,\n",
       " 'favorited': False,\n",
       " 'retweeted': False,\n",
       " 'possibly_sensitive': False,\n",
       " 'lang': 'es'}"
      ]
     },
     "execution_count": 23,
     "metadata": {},
     "output_type": "execute_result"
    }
   ],
   "source": [
    "tweets[0]"
   ]
  },
  {
   "cell_type": "code",
   "execution_count": 22,
   "metadata": {},
   "outputs": [
    {
     "data": {
      "text/plain": [
       "dict_keys(['created_at', 'id', 'id_str', 'text', 'truncated', 'entities', 'extended_entities', 'source', 'in_reply_to_status_id', 'in_reply_to_status_id_str', 'in_reply_to_user_id', 'in_reply_to_user_id_str', 'in_reply_to_screen_name', 'user', 'geo', 'coordinates', 'place', 'contributors', 'is_quote_status', 'retweet_count', 'favorite_count', 'favorited', 'retweeted', 'possibly_sensitive', 'lang'])"
      ]
     },
     "execution_count": 22,
     "metadata": {},
     "output_type": "execute_result"
    }
   ],
   "source": [
    "tweets[0].keys()"
   ]
  },
  {
   "cell_type": "code",
   "execution_count": null,
   "metadata": {},
   "outputs": [],
   "source": [
    "#created_at: fecha de creación\n",
    "#text: texto del tweet\n",
    "#retweet_count: número de veces compartido\n",
    "#favorite_count: número de me gusta"
   ]
  },
  {
   "cell_type": "code",
   "execution_count": 25,
   "metadata": {},
   "outputs": [],
   "source": [
    "import pandas as pd"
   ]
  },
  {
   "cell_type": "code",
   "execution_count": 26,
   "metadata": {},
   "outputs": [],
   "source": [
    "data_tweets=pd.DataFrame({\"created_at\":[t[\"created_at\"] for t in tweets],\n",
    "\"text\":[t[\"text\"] for t in tweets],\n",
    "\"retweet_count\":[t[\"retweet_count\"] for t in tweets],\n",
    "\"favorite_count\":[t[\"favorite_count\"] for t in tweets]})"
   ]
  },
  {
   "cell_type": "code",
   "execution_count": 27,
   "metadata": {},
   "outputs": [
    {
     "data": {
      "text/html": [
       "<div>\n",
       "<style scoped>\n",
       "    .dataframe tbody tr th:only-of-type {\n",
       "        vertical-align: middle;\n",
       "    }\n",
       "\n",
       "    .dataframe tbody tr th {\n",
       "        vertical-align: top;\n",
       "    }\n",
       "\n",
       "    .dataframe thead th {\n",
       "        text-align: right;\n",
       "    }\n",
       "</style>\n",
       "<table border=\"1\" class=\"dataframe\">\n",
       "  <thead>\n",
       "    <tr style=\"text-align: right;\">\n",
       "      <th></th>\n",
       "      <th>created_at</th>\n",
       "      <th>text</th>\n",
       "      <th>retweet_count</th>\n",
       "      <th>favorite_count</th>\n",
       "    </tr>\n",
       "  </thead>\n",
       "  <tbody>\n",
       "    <tr>\n",
       "      <th>0</th>\n",
       "      <td>Sun Mar 26 13:52:06 +0000 2023</td>\n",
       "      <td>Condenan adolescente a cadena perpetua https:/...</td>\n",
       "      <td>11</td>\n",
       "      <td>59</td>\n",
       "    </tr>\n",
       "    <tr>\n",
       "      <th>1</th>\n",
       "      <td>Sun Mar 26 03:51:50 +0000 2023</td>\n",
       "      <td>@Arekuxis @EstadistasC do a search on the Wash...</td>\n",
       "      <td>0</td>\n",
       "      <td>0</td>\n",
       "    </tr>\n",
       "    <tr>\n",
       "      <th>2</th>\n",
       "      <td>Sat Mar 25 20:53:50 +0000 2023</td>\n",
       "      <td>ATENCIÓN \\nLa Iglesia Católica informa que a p...</td>\n",
       "      <td>364</td>\n",
       "      <td>1881</td>\n",
       "    </tr>\n",
       "    <tr>\n",
       "      <th>3</th>\n",
       "      <td>Sat Mar 25 20:08:27 +0000 2023</td>\n",
       "      <td>@FoxNews She can always go back to Nicaragua</td>\n",
       "      <td>6</td>\n",
       "      <td>56</td>\n",
       "    </tr>\n",
       "    <tr>\n",
       "      <th>4</th>\n",
       "      <td>Sat Mar 25 18:20:07 +0000 2023</td>\n",
       "      <td>RT @LcdoCorona: Hay q romper con la propaganda...</td>\n",
       "      <td>72</td>\n",
       "      <td>0</td>\n",
       "    </tr>\n",
       "  </tbody>\n",
       "</table>\n",
       "</div>"
      ],
      "text/plain": [
       "                       created_at  \\\n",
       "0  Sun Mar 26 13:52:06 +0000 2023   \n",
       "1  Sun Mar 26 03:51:50 +0000 2023   \n",
       "2  Sat Mar 25 20:53:50 +0000 2023   \n",
       "3  Sat Mar 25 20:08:27 +0000 2023   \n",
       "4  Sat Mar 25 18:20:07 +0000 2023   \n",
       "\n",
       "                                                text  retweet_count  \\\n",
       "0  Condenan adolescente a cadena perpetua https:/...             11   \n",
       "1  @Arekuxis @EstadistasC do a search on the Wash...              0   \n",
       "2  ATENCIÓN \\nLa Iglesia Católica informa que a p...            364   \n",
       "3       @FoxNews She can always go back to Nicaragua              6   \n",
       "4  RT @LcdoCorona: Hay q romper con la propaganda...             72   \n",
       "\n",
       "   favorite_count  \n",
       "0              59  \n",
       "1               0  \n",
       "2            1881  \n",
       "3              56  \n",
       "4               0  "
      ]
     },
     "execution_count": 27,
     "metadata": {},
     "output_type": "execute_result"
    }
   ],
   "source": [
    "data_tweets.head()"
   ]
  },
  {
   "cell_type": "code",
   "execution_count": 28,
   "metadata": {},
   "outputs": [
    {
     "name": "stdout",
     "output_type": "stream",
     "text": [
      "<class 'pandas.core.frame.DataFrame'>\n",
      "RangeIndex: 100 entries, 0 to 99\n",
      "Data columns (total 4 columns):\n",
      " #   Column          Non-Null Count  Dtype \n",
      "---  ------          --------------  ----- \n",
      " 0   created_at      100 non-null    object\n",
      " 1   text            100 non-null    object\n",
      " 2   retweet_count   100 non-null    int64 \n",
      " 3   favorite_count  100 non-null    int64 \n",
      "dtypes: int64(2), object(2)\n",
      "memory usage: 3.2+ KB\n"
     ]
    }
   ],
   "source": [
    "data_tweets.info()"
   ]
  },
  {
   "cell_type": "markdown",
   "metadata": {},
   "source": [
    "**API Facebook**"
   ]
  },
  {
   "cell_type": "code",
   "execution_count": null,
   "metadata": {},
   "outputs": [],
   "source": [
    "!pip install facebook-sdk"
   ]
  },
  {
   "cell_type": "code",
   "execution_count": 29,
   "metadata": {},
   "outputs": [],
   "source": [
    "import facebook\n",
    "import pandas as pd"
   ]
  },
  {
   "cell_type": "code",
   "execution_count": null,
   "metadata": {},
   "outputs": [],
   "source": [
    "token_face=\"\""
   ]
  },
  {
   "cell_type": "code",
   "execution_count": null,
   "metadata": {},
   "outputs": [],
   "source": [
    "token_dec = token_face\n",
    "version_api = '2.9' \n",
    "page_id = '522721131191656'\n",
    "page_name = 'SDC Learning'\n",
    "graph=facebook.GraphAPI(access_token=token_dec, \n",
    "                        version=version_api)\n",
    "\n",
    "posts = graph.get_connections(page_id,\n",
    "                             \"posts\")"
   ]
  },
  {
   "cell_type": "code",
   "execution_count": null,
   "metadata": {},
   "outputs": [],
   "source": [
    "posts = posts[\"data\"]\n",
    "post_df=pd.DataFrame(posts,\n",
    "                    columns=[\"mensaje\",\"creacion\",\"ID\"])"
   ]
  },
  {
   "cell_type": "code",
   "execution_count": null,
   "metadata": {},
   "outputs": [],
   "source": []
  },
  {
   "cell_type": "markdown",
   "metadata": {},
   "source": [
    "**Entendimiento de datos**"
   ]
  },
  {
   "cell_type": "markdown",
   "metadata": {},
   "source": [
    "- tipo de dato\n",
    "- problema en el dato"
   ]
  },
  {
   "cell_type": "code",
   "execution_count": 30,
   "metadata": {},
   "outputs": [],
   "source": [
    "import pandas as pd\n",
    "mark=pd.read_csv(\"D:/Python/1. Nivel I/5/datos/MarketingDirecto.csv\",sep=\",\")"
   ]
  },
  {
   "cell_type": "code",
   "execution_count": 31,
   "metadata": {},
   "outputs": [
    {
     "data": {
      "text/html": [
       "<div>\n",
       "<style scoped>\n",
       "    .dataframe tbody tr th:only-of-type {\n",
       "        vertical-align: middle;\n",
       "    }\n",
       "\n",
       "    .dataframe tbody tr th {\n",
       "        vertical-align: top;\n",
       "    }\n",
       "\n",
       "    .dataframe thead th {\n",
       "        text-align: right;\n",
       "    }\n",
       "</style>\n",
       "<table border=\"1\" class=\"dataframe\">\n",
       "  <thead>\n",
       "    <tr style=\"text-align: right;\">\n",
       "      <th></th>\n",
       "      <th>Edad</th>\n",
       "      <th>Genero</th>\n",
       "      <th>Vivienda</th>\n",
       "      <th>Ecivil</th>\n",
       "      <th>Ubicacion</th>\n",
       "      <th>Salario</th>\n",
       "      <th>Hijos</th>\n",
       "      <th>Historial</th>\n",
       "      <th>Catalogos</th>\n",
       "      <th>Monto</th>\n",
       "    </tr>\n",
       "  </thead>\n",
       "  <tbody>\n",
       "    <tr>\n",
       "      <th>0</th>\n",
       "      <td>Adulta</td>\n",
       "      <td>Femenino</td>\n",
       "      <td>Propia</td>\n",
       "      <td>Soltero</td>\n",
       "      <td>Lejos</td>\n",
       "      <td>47500</td>\n",
       "      <td>0</td>\n",
       "      <td>Alto</td>\n",
       "      <td>6</td>\n",
       "      <td>755</td>\n",
       "    </tr>\n",
       "    <tr>\n",
       "      <th>1</th>\n",
       "      <td>Media</td>\n",
       "      <td>Masculino</td>\n",
       "      <td>Alquilada</td>\n",
       "      <td>Soltero</td>\n",
       "      <td>Cerca</td>\n",
       "      <td>63600</td>\n",
       "      <td>0</td>\n",
       "      <td>Alto</td>\n",
       "      <td>6</td>\n",
       "      <td>1318</td>\n",
       "    </tr>\n",
       "    <tr>\n",
       "      <th>2</th>\n",
       "      <td>Joven</td>\n",
       "      <td>Femenino</td>\n",
       "      <td>Alquilada</td>\n",
       "      <td>Soltero</td>\n",
       "      <td>Cerca</td>\n",
       "      <td>13500</td>\n",
       "      <td>0</td>\n",
       "      <td>Bajo</td>\n",
       "      <td>18</td>\n",
       "      <td>296</td>\n",
       "    </tr>\n",
       "    <tr>\n",
       "      <th>3</th>\n",
       "      <td>Media</td>\n",
       "      <td>Masculino</td>\n",
       "      <td>Propia</td>\n",
       "      <td>Casado</td>\n",
       "      <td>Cerca</td>\n",
       "      <td>85600</td>\n",
       "      <td>1</td>\n",
       "      <td>Alto</td>\n",
       "      <td>18</td>\n",
       "      <td>2436</td>\n",
       "    </tr>\n",
       "    <tr>\n",
       "      <th>4</th>\n",
       "      <td>Media</td>\n",
       "      <td>Femenino</td>\n",
       "      <td>Propia</td>\n",
       "      <td>Soltero</td>\n",
       "      <td>Cerca</td>\n",
       "      <td>68400</td>\n",
       "      <td>0</td>\n",
       "      <td>Alto</td>\n",
       "      <td>12</td>\n",
       "      <td>1304</td>\n",
       "    </tr>\n",
       "  </tbody>\n",
       "</table>\n",
       "</div>"
      ],
      "text/plain": [
       "     Edad     Genero   Vivienda   Ecivil Ubicacion  Salario  Hijos Historial  \\\n",
       "0  Adulta   Femenino     Propia  Soltero     Lejos    47500      0      Alto   \n",
       "1   Media  Masculino  Alquilada  Soltero     Cerca    63600      0      Alto   \n",
       "2   Joven   Femenino  Alquilada  Soltero     Cerca    13500      0      Bajo   \n",
       "3   Media  Masculino     Propia   Casado     Cerca    85600      1      Alto   \n",
       "4   Media   Femenino     Propia  Soltero     Cerca    68400      0      Alto   \n",
       "\n",
       "   Catalogos  Monto  \n",
       "0          6    755  \n",
       "1          6   1318  \n",
       "2         18    296  \n",
       "3         18   2436  \n",
       "4         12   1304  "
      ]
     },
     "execution_count": 31,
     "metadata": {},
     "output_type": "execute_result"
    }
   ],
   "source": [
    "mark.head()"
   ]
  },
  {
   "cell_type": "markdown",
   "metadata": {},
   "source": [
    "**Codificación**"
   ]
  },
  {
   "cell_type": "code",
   "execution_count": 33,
   "metadata": {},
   "outputs": [],
   "source": [
    "from collections import defaultdict #crea por defecto diccionario\n",
    "from sklearn.preprocessing import LabelEncoder #codificación \n",
    "import numpy as np"
   ]
  },
  {
   "cell_type": "code",
   "execution_count": 34,
   "metadata": {},
   "outputs": [],
   "source": [
    "d= defaultdict(LabelEncoder)"
   ]
  },
  {
   "cell_type": "code",
   "execution_count": 38,
   "metadata": {},
   "outputs": [
    {
     "name": "stdout",
     "output_type": "stream",
     "text": [
      "<class 'pandas.core.frame.DataFrame'>\n",
      "RangeIndex: 1000 entries, 0 to 999\n",
      "Data columns (total 10 columns):\n",
      " #   Column     Non-Null Count  Dtype \n",
      "---  ------     --------------  ----- \n",
      " 0   Edad       1000 non-null   object\n",
      " 1   Genero     1000 non-null   object\n",
      " 2   Vivienda   1000 non-null   object\n",
      " 3   Ecivil     1000 non-null   object\n",
      " 4   Ubicacion  1000 non-null   object\n",
      " 5   Salario    1000 non-null   int64 \n",
      " 6   Hijos      1000 non-null   int64 \n",
      " 7   Historial  697 non-null    object\n",
      " 8   Catalogos  1000 non-null   int64 \n",
      " 9   Monto      1000 non-null   int64 \n",
      "dtypes: int64(4), object(6)\n",
      "memory usage: 78.2+ KB\n"
     ]
    }
   ],
   "source": [
    "mark.info()"
   ]
  },
  {
   "cell_type": "code",
   "execution_count": 43,
   "metadata": {},
   "outputs": [],
   "source": [
    "objeto_list=list(mark.columns.to_series().groupby(mark.dtypes).groups[np.dtype(\"object\")])"
   ]
  },
  {
   "cell_type": "code",
   "execution_count": 45,
   "metadata": {},
   "outputs": [
    {
     "name": "stdout",
     "output_type": "stream",
     "text": [
      "['Edad', 'Genero', 'Vivienda', 'Ecivil', 'Ubicacion', 'Historial']\n"
     ]
    }
   ],
   "source": [
    "print(objeto_list) #estas son las variables que voy a codificar"
   ]
  },
  {
   "cell_type": "markdown",
   "metadata": {},
   "source": [
    "**Codificación de mark**"
   ]
  },
  {
   "cell_type": "code",
   "execution_count": 50,
   "metadata": {},
   "outputs": [],
   "source": [
    "mark_v2 = mark.apply(lambda x:d[x.name].fit_transform(x) if x.name in objeto_list else x)"
   ]
  },
  {
   "cell_type": "code",
   "execution_count": 56,
   "metadata": {},
   "outputs": [
    {
     "data": {
      "text/html": [
       "<div>\n",
       "<style scoped>\n",
       "    .dataframe tbody tr th:only-of-type {\n",
       "        vertical-align: middle;\n",
       "    }\n",
       "\n",
       "    .dataframe tbody tr th {\n",
       "        vertical-align: top;\n",
       "    }\n",
       "\n",
       "    .dataframe thead th {\n",
       "        text-align: right;\n",
       "    }\n",
       "</style>\n",
       "<table border=\"1\" class=\"dataframe\">\n",
       "  <thead>\n",
       "    <tr style=\"text-align: right;\">\n",
       "      <th></th>\n",
       "      <th>Edad</th>\n",
       "      <th>Genero</th>\n",
       "      <th>Vivienda</th>\n",
       "      <th>Ecivil</th>\n",
       "      <th>Ubicacion</th>\n",
       "      <th>Salario</th>\n",
       "      <th>Hijos</th>\n",
       "      <th>Historial</th>\n",
       "      <th>Catalogos</th>\n",
       "      <th>Monto</th>\n",
       "    </tr>\n",
       "  </thead>\n",
       "  <tbody>\n",
       "    <tr>\n",
       "      <th>0</th>\n",
       "      <td>0</td>\n",
       "      <td>0</td>\n",
       "      <td>1</td>\n",
       "      <td>1</td>\n",
       "      <td>1</td>\n",
       "      <td>47500</td>\n",
       "      <td>0</td>\n",
       "      <td>0</td>\n",
       "      <td>6</td>\n",
       "      <td>755</td>\n",
       "    </tr>\n",
       "    <tr>\n",
       "      <th>1</th>\n",
       "      <td>2</td>\n",
       "      <td>1</td>\n",
       "      <td>0</td>\n",
       "      <td>1</td>\n",
       "      <td>0</td>\n",
       "      <td>63600</td>\n",
       "      <td>0</td>\n",
       "      <td>0</td>\n",
       "      <td>6</td>\n",
       "      <td>1318</td>\n",
       "    </tr>\n",
       "    <tr>\n",
       "      <th>2</th>\n",
       "      <td>1</td>\n",
       "      <td>0</td>\n",
       "      <td>0</td>\n",
       "      <td>1</td>\n",
       "      <td>0</td>\n",
       "      <td>13500</td>\n",
       "      <td>0</td>\n",
       "      <td>1</td>\n",
       "      <td>18</td>\n",
       "      <td>296</td>\n",
       "    </tr>\n",
       "  </tbody>\n",
       "</table>\n",
       "</div>"
      ],
      "text/plain": [
       "   Edad  Genero  Vivienda  Ecivil  Ubicacion  Salario  Hijos  Historial  \\\n",
       "0     0       0         1       1          1    47500      0          0   \n",
       "1     2       1         0       1          0    63600      0          0   \n",
       "2     1       0         0       1          0    13500      0          1   \n",
       "\n",
       "   Catalogos  Monto  \n",
       "0          6    755  \n",
       "1          6   1318  \n",
       "2         18    296  "
      ]
     },
     "execution_count": 56,
     "metadata": {},
     "output_type": "execute_result"
    }
   ],
   "source": [
    "mark_v2.head(n=3)"
   ]
  },
  {
   "cell_type": "code",
   "execution_count": null,
   "metadata": {},
   "outputs": [],
   "source": [
    "#femenino = 0\n",
    "#masculino = 1"
   ]
  },
  {
   "cell_type": "code",
   "execution_count": null,
   "metadata": {},
   "outputs": [],
   "source": [
    "##################################################################################"
   ]
  },
  {
   "cell_type": "code",
   "execution_count": 52,
   "metadata": {},
   "outputs": [],
   "source": [
    "fit = mark.apply(lambda x:d[x.name].fit(x) if x.name in objeto_list else x)"
   ]
  },
  {
   "cell_type": "code",
   "execution_count": 53,
   "metadata": {},
   "outputs": [],
   "source": [
    "mark_transform = mark.apply(lambda x:d[x.name].transform(x) if x.name in objeto_list else x)"
   ]
  },
  {
   "cell_type": "code",
   "execution_count": 55,
   "metadata": {},
   "outputs": [
    {
     "data": {
      "text/html": [
       "<div>\n",
       "<style scoped>\n",
       "    .dataframe tbody tr th:only-of-type {\n",
       "        vertical-align: middle;\n",
       "    }\n",
       "\n",
       "    .dataframe tbody tr th {\n",
       "        vertical-align: top;\n",
       "    }\n",
       "\n",
       "    .dataframe thead th {\n",
       "        text-align: right;\n",
       "    }\n",
       "</style>\n",
       "<table border=\"1\" class=\"dataframe\">\n",
       "  <thead>\n",
       "    <tr style=\"text-align: right;\">\n",
       "      <th></th>\n",
       "      <th>Edad</th>\n",
       "      <th>Genero</th>\n",
       "      <th>Vivienda</th>\n",
       "      <th>Ecivil</th>\n",
       "      <th>Ubicacion</th>\n",
       "      <th>Salario</th>\n",
       "      <th>Hijos</th>\n",
       "      <th>Historial</th>\n",
       "      <th>Catalogos</th>\n",
       "      <th>Monto</th>\n",
       "    </tr>\n",
       "  </thead>\n",
       "  <tbody>\n",
       "    <tr>\n",
       "      <th>0</th>\n",
       "      <td>0</td>\n",
       "      <td>0</td>\n",
       "      <td>1</td>\n",
       "      <td>1</td>\n",
       "      <td>1</td>\n",
       "      <td>47500</td>\n",
       "      <td>0</td>\n",
       "      <td>0</td>\n",
       "      <td>6</td>\n",
       "      <td>755</td>\n",
       "    </tr>\n",
       "    <tr>\n",
       "      <th>1</th>\n",
       "      <td>2</td>\n",
       "      <td>1</td>\n",
       "      <td>0</td>\n",
       "      <td>1</td>\n",
       "      <td>0</td>\n",
       "      <td>63600</td>\n",
       "      <td>0</td>\n",
       "      <td>0</td>\n",
       "      <td>6</td>\n",
       "      <td>1318</td>\n",
       "    </tr>\n",
       "    <tr>\n",
       "      <th>2</th>\n",
       "      <td>1</td>\n",
       "      <td>0</td>\n",
       "      <td>0</td>\n",
       "      <td>1</td>\n",
       "      <td>0</td>\n",
       "      <td>13500</td>\n",
       "      <td>0</td>\n",
       "      <td>1</td>\n",
       "      <td>18</td>\n",
       "      <td>296</td>\n",
       "    </tr>\n",
       "  </tbody>\n",
       "</table>\n",
       "</div>"
      ],
      "text/plain": [
       "   Edad  Genero  Vivienda  Ecivil  Ubicacion  Salario  Hijos  Historial  \\\n",
       "0     0       0         1       1          1    47500      0          0   \n",
       "1     2       1         0       1          0    63600      0          0   \n",
       "2     1       0         0       1          0    13500      0          1   \n",
       "\n",
       "   Catalogos  Monto  \n",
       "0          6    755  \n",
       "1          6   1318  \n",
       "2         18    296  "
      ]
     },
     "execution_count": 55,
     "metadata": {},
     "output_type": "execute_result"
    }
   ],
   "source": [
    "mark_transform.head(n=3)"
   ]
  },
  {
   "cell_type": "code",
   "execution_count": null,
   "metadata": {},
   "outputs": [],
   "source": [
    "#femenino = 0\n",
    "#masculino = 1"
   ]
  },
  {
   "cell_type": "markdown",
   "metadata": {},
   "source": [
    "- fit(): aprendizaje\n",
    "- fit_transform(): aprendizaje + transformación\n",
    "- transform(): transformación"
   ]
  },
  {
   "cell_type": "code",
   "execution_count": 60,
   "metadata": {},
   "outputs": [],
   "source": [
    "edad = list(d[\"Edad\"].classes_)"
   ]
  },
  {
   "cell_type": "code",
   "execution_count": 58,
   "metadata": {},
   "outputs": [
    {
     "data": {
      "text/plain": [
       "array(['Adulta', 'Joven', 'Media'], dtype=object)"
      ]
     },
     "execution_count": 58,
     "metadata": {},
     "output_type": "execute_result"
    }
   ],
   "source": [
    "d[\"Edad\"].classes_"
   ]
  },
  {
   "cell_type": "code",
   "execution_count": 61,
   "metadata": {},
   "outputs": [],
   "source": [
    "codigo=d[\"Edad\"].transform(d[\"Edad\"].classes_)"
   ]
  },
  {
   "cell_type": "code",
   "execution_count": null,
   "metadata": {},
   "outputs": [],
   "source": [
    "########################################################\n",
    "#Diccionario de la variable edad"
   ]
  },
  {
   "cell_type": "code",
   "execution_count": 63,
   "metadata": {},
   "outputs": [
    {
     "data": {
      "text/html": [
       "<div>\n",
       "<style scoped>\n",
       "    .dataframe tbody tr th:only-of-type {\n",
       "        vertical-align: middle;\n",
       "    }\n",
       "\n",
       "    .dataframe tbody tr th {\n",
       "        vertical-align: top;\n",
       "    }\n",
       "\n",
       "    .dataframe thead th {\n",
       "        text-align: right;\n",
       "    }\n",
       "</style>\n",
       "<table border=\"1\" class=\"dataframe\">\n",
       "  <thead>\n",
       "    <tr style=\"text-align: right;\">\n",
       "      <th></th>\n",
       "      <th>Edad</th>\n",
       "      <th>Código</th>\n",
       "    </tr>\n",
       "  </thead>\n",
       "  <tbody>\n",
       "    <tr>\n",
       "      <th>0</th>\n",
       "      <td>Adulta</td>\n",
       "      <td>0</td>\n",
       "    </tr>\n",
       "    <tr>\n",
       "      <th>1</th>\n",
       "      <td>Joven</td>\n",
       "      <td>1</td>\n",
       "    </tr>\n",
       "    <tr>\n",
       "      <th>2</th>\n",
       "      <td>Media</td>\n",
       "      <td>2</td>\n",
       "    </tr>\n",
       "  </tbody>\n",
       "</table>\n",
       "</div>"
      ],
      "text/plain": [
       "     Edad  Código\n",
       "0  Adulta       0\n",
       "1   Joven       1\n",
       "2   Media       2"
      ]
     },
     "execution_count": 63,
     "metadata": {},
     "output_type": "execute_result"
    }
   ],
   "source": [
    "pd.DataFrame({\"Edad\":edad,\"Código\":codigo})"
   ]
  },
  {
   "cell_type": "markdown",
   "metadata": {},
   "source": [
    "**Particionamiento de los datos**"
   ]
  },
  {
   "cell_type": "markdown",
   "metadata": {},
   "source": [
    "- train: datos que son proporcionados para que algoritmo (modeloe ML) desarrolle un proceso de aprendizaje\n",
    "- test: evaluar su proceso de aprendizaje"
   ]
  },
  {
   "cell_type": "code",
   "execution_count": 65,
   "metadata": {},
   "outputs": [
    {
     "data": {
      "text/html": [
       "<div>\n",
       "<style scoped>\n",
       "    .dataframe tbody tr th:only-of-type {\n",
       "        vertical-align: middle;\n",
       "    }\n",
       "\n",
       "    .dataframe tbody tr th {\n",
       "        vertical-align: top;\n",
       "    }\n",
       "\n",
       "    .dataframe thead th {\n",
       "        text-align: right;\n",
       "    }\n",
       "</style>\n",
       "<table border=\"1\" class=\"dataframe\">\n",
       "  <thead>\n",
       "    <tr style=\"text-align: right;\">\n",
       "      <th></th>\n",
       "      <th>Edad</th>\n",
       "      <th>Genero</th>\n",
       "      <th>Vivienda</th>\n",
       "      <th>Ecivil</th>\n",
       "      <th>Ubicacion</th>\n",
       "      <th>Salario</th>\n",
       "      <th>Hijos</th>\n",
       "      <th>Historial</th>\n",
       "      <th>Catalogos</th>\n",
       "      <th>Monto</th>\n",
       "    </tr>\n",
       "  </thead>\n",
       "  <tbody>\n",
       "    <tr>\n",
       "      <th>0</th>\n",
       "      <td>0</td>\n",
       "      <td>0</td>\n",
       "      <td>1</td>\n",
       "      <td>1</td>\n",
       "      <td>1</td>\n",
       "      <td>47500</td>\n",
       "      <td>0</td>\n",
       "      <td>0</td>\n",
       "      <td>6</td>\n",
       "      <td>755</td>\n",
       "    </tr>\n",
       "    <tr>\n",
       "      <th>1</th>\n",
       "      <td>2</td>\n",
       "      <td>1</td>\n",
       "      <td>0</td>\n",
       "      <td>1</td>\n",
       "      <td>0</td>\n",
       "      <td>63600</td>\n",
       "      <td>0</td>\n",
       "      <td>0</td>\n",
       "      <td>6</td>\n",
       "      <td>1318</td>\n",
       "    </tr>\n",
       "    <tr>\n",
       "      <th>2</th>\n",
       "      <td>1</td>\n",
       "      <td>0</td>\n",
       "      <td>0</td>\n",
       "      <td>1</td>\n",
       "      <td>0</td>\n",
       "      <td>13500</td>\n",
       "      <td>0</td>\n",
       "      <td>1</td>\n",
       "      <td>18</td>\n",
       "      <td>296</td>\n",
       "    </tr>\n",
       "  </tbody>\n",
       "</table>\n",
       "</div>"
      ],
      "text/plain": [
       "   Edad  Genero  Vivienda  Ecivil  Ubicacion  Salario  Hijos  Historial  \\\n",
       "0     0       0         1       1          1    47500      0          0   \n",
       "1     2       1         0       1          0    63600      0          0   \n",
       "2     1       0         0       1          0    13500      0          1   \n",
       "\n",
       "   Catalogos  Monto  \n",
       "0          6    755  \n",
       "1          6   1318  \n",
       "2         18    296  "
      ]
     },
     "execution_count": 65,
     "metadata": {},
     "output_type": "execute_result"
    }
   ],
   "source": [
    "mark_v2.head(n=3)"
   ]
  },
  {
   "cell_type": "code",
   "execution_count": 64,
   "metadata": {},
   "outputs": [],
   "source": [
    "from sklearn.model_selection import train_test_split"
   ]
  },
  {
   "cell_type": "code",
   "execution_count": 66,
   "metadata": {},
   "outputs": [],
   "source": [
    "x = mark_v2.iloc[:,0:9].values\n",
    "y = mark_v2.iloc[:,9].values"
   ]
  },
  {
   "cell_type": "code",
   "execution_count": 67,
   "metadata": {},
   "outputs": [],
   "source": [
    "x_train, x_test, y_train, y_test = train_test_split(x,\n",
    "                                                    y,\n",
    "                                                    test_size=0.3,\n",
    "                                                    random_state=0)#semilla"
   ]
  },
  {
   "cell_type": "markdown",
   "metadata": {},
   "source": [
    "**Nota**: 10% al 30% de los datos se suelen utilizar para testear el modelo"
   ]
  },
  {
   "cell_type": "markdown",
   "metadata": {},
   "source": [
    "**Imputación**"
   ]
  },
  {
   "cell_type": "code",
   "execution_count": 68,
   "metadata": {},
   "outputs": [],
   "source": [
    "import pandas as pd"
   ]
  },
  {
   "cell_type": "code",
   "execution_count": 69,
   "metadata": {},
   "outputs": [],
   "source": [
    "mark = pd.read_csv(\"D:/Python/1. Nivel I/6/datos/MarketingDirecto_2.csv\",\n",
    "                  sep=\";\")"
   ]
  },
  {
   "cell_type": "code",
   "execution_count": 72,
   "metadata": {},
   "outputs": [
    {
     "data": {
      "text/html": [
       "<div>\n",
       "<style scoped>\n",
       "    .dataframe tbody tr th:only-of-type {\n",
       "        vertical-align: middle;\n",
       "    }\n",
       "\n",
       "    .dataframe tbody tr th {\n",
       "        vertical-align: top;\n",
       "    }\n",
       "\n",
       "    .dataframe thead th {\n",
       "        text-align: right;\n",
       "    }\n",
       "</style>\n",
       "<table border=\"1\" class=\"dataframe\">\n",
       "  <thead>\n",
       "    <tr style=\"text-align: right;\">\n",
       "      <th></th>\n",
       "      <th>Edad</th>\n",
       "      <th>Genero</th>\n",
       "      <th>Vivienda</th>\n",
       "      <th>Ecivil</th>\n",
       "      <th>Ubicacion</th>\n",
       "      <th>Salario</th>\n",
       "      <th>Hijos</th>\n",
       "      <th>Historial</th>\n",
       "      <th>Catalogos</th>\n",
       "      <th>Monto</th>\n",
       "    </tr>\n",
       "  </thead>\n",
       "  <tbody>\n",
       "    <tr>\n",
       "      <th>0</th>\n",
       "      <td>Adulta</td>\n",
       "      <td>Femenino</td>\n",
       "      <td>Propia</td>\n",
       "      <td>Soltero</td>\n",
       "      <td>Lejos</td>\n",
       "      <td>47500</td>\n",
       "      <td>0</td>\n",
       "      <td>Alto</td>\n",
       "      <td>6</td>\n",
       "      <td>755.0</td>\n",
       "    </tr>\n",
       "    <tr>\n",
       "      <th>1</th>\n",
       "      <td>Media</td>\n",
       "      <td>Masculino</td>\n",
       "      <td>Alquilada</td>\n",
       "      <td>Soltero</td>\n",
       "      <td>Cerca</td>\n",
       "      <td>63600</td>\n",
       "      <td>0</td>\n",
       "      <td>Alto</td>\n",
       "      <td>6</td>\n",
       "      <td>1318.0</td>\n",
       "    </tr>\n",
       "    <tr>\n",
       "      <th>2</th>\n",
       "      <td>Joven</td>\n",
       "      <td>Femenino</td>\n",
       "      <td>Alquilada</td>\n",
       "      <td>Soltero</td>\n",
       "      <td>Cerca</td>\n",
       "      <td>13500</td>\n",
       "      <td>0</td>\n",
       "      <td>Bajo</td>\n",
       "      <td>18</td>\n",
       "      <td>296.0</td>\n",
       "    </tr>\n",
       "    <tr>\n",
       "      <th>3</th>\n",
       "      <td>Media</td>\n",
       "      <td>Masculino</td>\n",
       "      <td>Propia</td>\n",
       "      <td>Casado</td>\n",
       "      <td>Cerca</td>\n",
       "      <td>85600</td>\n",
       "      <td>1</td>\n",
       "      <td>Alto</td>\n",
       "      <td>18</td>\n",
       "      <td>2436.0</td>\n",
       "    </tr>\n",
       "    <tr>\n",
       "      <th>4</th>\n",
       "      <td>Media</td>\n",
       "      <td>Femenino</td>\n",
       "      <td>Propia</td>\n",
       "      <td>Soltero</td>\n",
       "      <td>Cerca</td>\n",
       "      <td>68400</td>\n",
       "      <td>0</td>\n",
       "      <td>Alto</td>\n",
       "      <td>12</td>\n",
       "      <td>NaN</td>\n",
       "    </tr>\n",
       "  </tbody>\n",
       "</table>\n",
       "</div>"
      ],
      "text/plain": [
       "     Edad     Genero   Vivienda   Ecivil Ubicacion  Salario  Hijos Historial  \\\n",
       "0  Adulta   Femenino     Propia  Soltero     Lejos    47500      0      Alto   \n",
       "1   Media  Masculino  Alquilada  Soltero     Cerca    63600      0      Alto   \n",
       "2   Joven   Femenino  Alquilada  Soltero     Cerca    13500      0      Bajo   \n",
       "3   Media  Masculino     Propia   Casado     Cerca    85600      1      Alto   \n",
       "4   Media   Femenino     Propia  Soltero     Cerca    68400      0      Alto   \n",
       "\n",
       "   Catalogos   Monto  \n",
       "0          6   755.0  \n",
       "1          6  1318.0  \n",
       "2         18   296.0  \n",
       "3         18  2436.0  \n",
       "4         12     NaN  "
      ]
     },
     "execution_count": 72,
     "metadata": {},
     "output_type": "execute_result"
    }
   ],
   "source": [
    "mark.head(n=5)"
   ]
  },
  {
   "cell_type": "code",
   "execution_count": 77,
   "metadata": {},
   "outputs": [
    {
     "data": {
      "text/plain": [
       "Edad         0.0\n",
       "Genero       0.0\n",
       "Vivienda     0.0\n",
       "Ecivil       0.0\n",
       "Ubicacion    0.0\n",
       "dtype: float64"
      ]
     },
     "execution_count": 77,
     "metadata": {},
     "output_type": "execute_result"
    }
   ],
   "source": [
    "mark.iloc[0:100,0:5].isnull().sum()/len(mark)*100"
   ]
  },
  {
   "cell_type": "markdown",
   "metadata": {},
   "source": [
    "**Nivel de perdida de información**"
   ]
  },
  {
   "cell_type": "markdown",
   "metadata": {},
   "source": [
    "- 0.1% a 1% valores faltantes: perdida es trivial (insignificante).\n",
    "- 1% a 5% valores faltantes: requieren de una técnica para recuperar información (media, moda, mediana, vecinos más cercanos).\n",
    "- 5% a 30% valores faltantes: requieren de modelos más sofisticados (modelos de ML) para recuperar la información."
   ]
  },
  {
   "cell_type": "code",
   "execution_count": null,
   "metadata": {},
   "outputs": [],
   "source": []
  },
  {
   "cell_type": "code",
   "execution_count": null,
   "metadata": {},
   "outputs": [],
   "source": []
  }
 ],
 "metadata": {
  "kernelspec": {
   "display_name": "Python 3 (ipykernel)",
   "language": "python",
   "name": "python3"
  },
  "language_info": {
   "codemirror_mode": {
    "name": "ipython",
    "version": 3
   },
   "file_extension": ".py",
   "mimetype": "text/x-python",
   "name": "python",
   "nbconvert_exporter": "python",
   "pygments_lexer": "ipython3",
   "version": "3.10.9"
  }
 },
 "nbformat": 4,
 "nbformat_minor": 4
}
