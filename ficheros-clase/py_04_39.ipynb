{
 "cells": [
  {
   "cell_type": "markdown",
   "metadata": {},
   "source": [
    "**API Twitter**"
   ]
  },
  {
   "cell_type": "code",
   "execution_count": 52,
   "metadata": {},
   "outputs": [],
   "source": [
    "# recovering security info\n",
    "consumer_key = 'diJhtpiDzWw8wysPgrP6TJRvZ'\n",
    "consumer_secret = 'RzmkvR0gbweGATiLn70PaCUzjXLw9tUzDAvsaLWofkE0qfPZtW'\n",
    "access_token = '174323243-2r6dZuiDtklyAJ8LLM4V02RTjV4VvRzaYxUOzy7b'\n",
    "access_token_secret = 'hOdfqYSvTfeq7dU1Qx6AK2T9RLfhCNgqi433OCjjSUZzu'"
   ]
  },
  {
   "cell_type": "code",
   "execution_count": 53,
   "metadata": {},
   "outputs": [],
   "source": [
    "import tweepy\n",
    "from tweepy import OAuthHandler"
   ]
  },
  {
   "cell_type": "code",
   "execution_count": 54,
   "metadata": {},
   "outputs": [],
   "source": [
    "auth = OAuthHandler(consumer_key,consumer_secret)"
   ]
  },
  {
   "cell_type": "code",
   "execution_count": 55,
   "metadata": {},
   "outputs": [],
   "source": [
    "auth.set_access_token(access_token,access_token_secret)"
   ]
  },
  {
   "cell_type": "code",
   "execution_count": 56,
   "metadata": {},
   "outputs": [],
   "source": [
    "api = tweepy.API(auth,\n",
    "                parser=tweepy.parsers.JSONParser())"
   ]
  },
  {
   "cell_type": "code",
   "execution_count": 57,
   "metadata": {},
   "outputs": [],
   "source": [
    "tweets = api.user_timeline(screen_name=\"williecolon\",\n",
    "                          count=100,\n",
    "                          include_rts=True)"
   ]
  },
  {
   "cell_type": "code",
   "execution_count": 58,
   "metadata": {},
   "outputs": [
    {
     "data": {
      "text/plain": [
       "list"
      ]
     },
     "execution_count": 58,
     "metadata": {},
     "output_type": "execute_result"
    }
   ],
   "source": [
    "type(tweets)"
   ]
  },
  {
   "cell_type": "code",
   "execution_count": 59,
   "metadata": {},
   "outputs": [
    {
     "data": {
      "text/plain": [
       "dict"
      ]
     },
     "execution_count": 59,
     "metadata": {},
     "output_type": "execute_result"
    }
   ],
   "source": [
    "type(tweets[0])"
   ]
  },
  {
   "cell_type": "code",
   "execution_count": 60,
   "metadata": {},
   "outputs": [
    {
     "data": {
      "text/plain": [
       "{'created_at': 'Sat Apr 29 20:59:08 +0000 2023',\n",
       " 'id': 1652417254242373633,\n",
       " 'id_str': '1652417254242373633',\n",
       " 'text': '@GBayter @amilcarboscan SUERTE',\n",
       " 'truncated': False,\n",
       " 'entities': {'hashtags': [],\n",
       "  'symbols': [],\n",
       "  'user_mentions': [{'screen_name': 'GBayter',\n",
       "    'name': 'Old Man',\n",
       "    'id': 1488790699793428484,\n",
       "    'id_str': '1488790699793428484',\n",
       "    'indices': [0, 8]},\n",
       "   {'screen_name': 'amilcarboscan',\n",
       "    'name': 'Amilcar Boscan',\n",
       "    'id': 78681277,\n",
       "    'id_str': '78681277',\n",
       "    'indices': [9, 23]}],\n",
       "  'urls': []},\n",
       " 'source': '<a href=\"http://twitter.com/download/iphone\" rel=\"nofollow\">Twitter for iPhone</a>',\n",
       " 'in_reply_to_status_id': 1652044498845704194,\n",
       " 'in_reply_to_status_id_str': '1652044498845704194',\n",
       " 'in_reply_to_user_id': 1488790699793428484,\n",
       " 'in_reply_to_user_id_str': '1488790699793428484',\n",
       " 'in_reply_to_screen_name': 'GBayter',\n",
       " 'user': {'id': 46919513,\n",
       "  'id_str': '46919513',\n",
       "  'name': 'Willie Colón',\n",
       "  'screen_name': 'williecolon',\n",
       "  'location': 'Bronx, NY',\n",
       "  'description': 'FB: @thewilliecolon @williecolononline. IG &  Parler: @realwilliecolon MeWe: @realwilliecolon Anti-Marxist Anti-Communist Anti-Woke',\n",
       "  'url': None,\n",
       "  'entities': {'description': {'urls': []}},\n",
       "  'protected': False,\n",
       "  'followers_count': 2002560,\n",
       "  'friends_count': 10104,\n",
       "  'listed_count': 4190,\n",
       "  'created_at': 'Sat Jun 13 16:54:17 +0000 2009',\n",
       "  'favourites_count': 64924,\n",
       "  'utc_offset': None,\n",
       "  'time_zone': None,\n",
       "  'geo_enabled': False,\n",
       "  'verified': False,\n",
       "  'statuses_count': 75184,\n",
       "  'lang': None,\n",
       "  'contributors_enabled': False,\n",
       "  'is_translator': False,\n",
       "  'is_translation_enabled': False,\n",
       "  'profile_background_color': '100700',\n",
       "  'profile_background_image_url': 'http://abs.twimg.com/images/themes/theme1/bg.png',\n",
       "  'profile_background_image_url_https': 'https://abs.twimg.com/images/themes/theme1/bg.png',\n",
       "  'profile_background_tile': False,\n",
       "  'profile_image_url': 'http://pbs.twimg.com/profile_images/1496692150301569036/2JkjQTWt_normal.jpg',\n",
       "  'profile_image_url_https': 'https://pbs.twimg.com/profile_images/1496692150301569036/2JkjQTWt_normal.jpg',\n",
       "  'profile_banner_url': 'https://pbs.twimg.com/profile_banners/46919513/1674082684',\n",
       "  'profile_link_color': 'DEA913',\n",
       "  'profile_sidebar_border_color': '000000',\n",
       "  'profile_sidebar_fill_color': 'F9C926',\n",
       "  'profile_text_color': '5A694C',\n",
       "  'profile_use_background_image': True,\n",
       "  'has_extended_profile': True,\n",
       "  'default_profile': False,\n",
       "  'default_profile_image': False,\n",
       "  'following': False,\n",
       "  'follow_request_sent': False,\n",
       "  'notifications': False,\n",
       "  'translator_type': 'regular',\n",
       "  'withheld_in_countries': []},\n",
       " 'geo': None,\n",
       " 'coordinates': None,\n",
       " 'place': None,\n",
       " 'contributors': None,\n",
       " 'is_quote_status': False,\n",
       " 'retweet_count': 0,\n",
       " 'favorite_count': 0,\n",
       " 'favorited': False,\n",
       " 'retweeted': False,\n",
       " 'lang': 'es'}"
      ]
     },
     "execution_count": 60,
     "metadata": {},
     "output_type": "execute_result"
    }
   ],
   "source": [
    "tweets[0]"
   ]
  },
  {
   "cell_type": "code",
   "execution_count": 61,
   "metadata": {},
   "outputs": [
    {
     "data": {
      "text/plain": [
       "dict_keys(['created_at', 'id', 'id_str', 'text', 'truncated', 'entities', 'source', 'in_reply_to_status_id', 'in_reply_to_status_id_str', 'in_reply_to_user_id', 'in_reply_to_user_id_str', 'in_reply_to_screen_name', 'user', 'geo', 'coordinates', 'place', 'contributors', 'is_quote_status', 'retweet_count', 'favorite_count', 'favorited', 'retweeted', 'lang'])"
      ]
     },
     "execution_count": 61,
     "metadata": {},
     "output_type": "execute_result"
    }
   ],
   "source": [
    "tweets[0].keys()"
   ]
  },
  {
   "cell_type": "code",
   "execution_count": 62,
   "metadata": {},
   "outputs": [],
   "source": [
    "#created_at: fecha de creación\n",
    "#text: texto del tweet\n",
    "#retweet_count: número de veces compartido\n",
    "#favorite_count: número de me gusta"
   ]
  },
  {
   "cell_type": "code",
   "execution_count": 63,
   "metadata": {},
   "outputs": [],
   "source": [
    "import pandas as pd"
   ]
  },
  {
   "cell_type": "code",
   "execution_count": 64,
   "metadata": {},
   "outputs": [],
   "source": [
    "data_tweets=pd.DataFrame({\"created_at\":[t[\"created_at\"] for t in tweets],\n",
    "\"text\":[t[\"text\"] for t in tweets],\n",
    "\"retweet_count\":[t[\"retweet_count\"] for t in tweets],\n",
    "\"favorite_count\":[t[\"favorite_count\"] for t in tweets]})"
   ]
  },
  {
   "cell_type": "code",
   "execution_count": 65,
   "metadata": {},
   "outputs": [
    {
     "data": {
      "text/html": [
       "<div>\n",
       "<style scoped>\n",
       "    .dataframe tbody tr th:only-of-type {\n",
       "        vertical-align: middle;\n",
       "    }\n",
       "\n",
       "    .dataframe tbody tr th {\n",
       "        vertical-align: top;\n",
       "    }\n",
       "\n",
       "    .dataframe thead th {\n",
       "        text-align: right;\n",
       "    }\n",
       "</style>\n",
       "<table border=\"1\" class=\"dataframe\">\n",
       "  <thead>\n",
       "    <tr style=\"text-align: right;\">\n",
       "      <th></th>\n",
       "      <th>created_at</th>\n",
       "      <th>text</th>\n",
       "      <th>retweet_count</th>\n",
       "      <th>favorite_count</th>\n",
       "    </tr>\n",
       "  </thead>\n",
       "  <tbody>\n",
       "    <tr>\n",
       "      <th>0</th>\n",
       "      <td>Sat Apr 29 20:59:08 +0000 2023</td>\n",
       "      <td>@GBayter @amilcarboscan SUERTE</td>\n",
       "      <td>0</td>\n",
       "      <td>0</td>\n",
       "    </tr>\n",
       "    <tr>\n",
       "      <th>1</th>\n",
       "      <td>Sat Apr 29 20:50:06 +0000 2023</td>\n",
       "      <td>RT @OliLondonTV: Wonder what is making them so...</td>\n",
       "      <td>145</td>\n",
       "      <td>0</td>\n",
       "    </tr>\n",
       "    <tr>\n",
       "      <th>2</th>\n",
       "      <td>Sat Apr 29 20:49:18 +0000 2023</td>\n",
       "      <td>RT @OliLondonTV: Would you want this man to re...</td>\n",
       "      <td>826</td>\n",
       "      <td>0</td>\n",
       "    </tr>\n",
       "    <tr>\n",
       "      <th>3</th>\n",
       "      <td>Sat Apr 29 16:48:36 +0000 2023</td>\n",
       "      <td>RT @OliLondonTV: There is bad parenting and th...</td>\n",
       "      <td>147</td>\n",
       "      <td>0</td>\n",
       "    </tr>\n",
       "    <tr>\n",
       "      <th>4</th>\n",
       "      <td>Sat Apr 29 16:47:26 +0000 2023</td>\n",
       "      <td>RT @OliLondonTV: When they tell you Drag Shows...</td>\n",
       "      <td>336</td>\n",
       "      <td>0</td>\n",
       "    </tr>\n",
       "  </tbody>\n",
       "</table>\n",
       "</div>"
      ],
      "text/plain": [
       "                       created_at  \\\n",
       "0  Sat Apr 29 20:59:08 +0000 2023   \n",
       "1  Sat Apr 29 20:50:06 +0000 2023   \n",
       "2  Sat Apr 29 20:49:18 +0000 2023   \n",
       "3  Sat Apr 29 16:48:36 +0000 2023   \n",
       "4  Sat Apr 29 16:47:26 +0000 2023   \n",
       "\n",
       "                                                text  retweet_count  \\\n",
       "0                     @GBayter @amilcarboscan SUERTE              0   \n",
       "1  RT @OliLondonTV: Wonder what is making them so...            145   \n",
       "2  RT @OliLondonTV: Would you want this man to re...            826   \n",
       "3  RT @OliLondonTV: There is bad parenting and th...            147   \n",
       "4  RT @OliLondonTV: When they tell you Drag Shows...            336   \n",
       "\n",
       "   favorite_count  \n",
       "0               0  \n",
       "1               0  \n",
       "2               0  \n",
       "3               0  \n",
       "4               0  "
      ]
     },
     "execution_count": 65,
     "metadata": {},
     "output_type": "execute_result"
    }
   ],
   "source": [
    "data_tweets.head()"
   ]
  },
  {
   "cell_type": "code",
   "execution_count": 66,
   "metadata": {},
   "outputs": [
    {
     "name": "stdout",
     "output_type": "stream",
     "text": [
      "<class 'pandas.core.frame.DataFrame'>\n",
      "RangeIndex: 99 entries, 0 to 98\n",
      "Data columns (total 4 columns):\n",
      " #   Column          Non-Null Count  Dtype \n",
      "---  ------          --------------  ----- \n",
      " 0   created_at      99 non-null     object\n",
      " 1   text            99 non-null     object\n",
      " 2   retweet_count   99 non-null     int64 \n",
      " 3   favorite_count  99 non-null     int64 \n",
      "dtypes: int64(2), object(2)\n",
      "memory usage: 3.2+ KB\n"
     ]
    }
   ],
   "source": [
    "data_tweets.info()"
   ]
  },
  {
   "cell_type": "markdown",
   "metadata": {},
   "source": [
    "**API Facebook**"
   ]
  },
  {
   "cell_type": "code",
   "execution_count": 67,
   "metadata": {},
   "outputs": [
    {
     "name": "stdout",
     "output_type": "stream",
     "text": [
      "Requirement already satisfied: facebook-sdk in c:\\users\\olive\\appdata\\roaming\\python\\python310\\site-packages (3.1.0)\n",
      "Requirement already satisfied: requests in c:\\users\\olive\\appdata\\roaming\\python\\python310\\site-packages (from facebook-sdk) (2.28.2)\n",
      "Requirement already satisfied: charset-normalizer<4,>=2 in c:\\users\\olive\\appdata\\roaming\\python\\python310\\site-packages (from requests->facebook-sdk) (3.1.0)\n",
      "Requirement already satisfied: idna<4,>=2.5 in c:\\users\\olive\\appdata\\roaming\\python\\python310\\site-packages (from requests->facebook-sdk) (3.4)\n",
      "Requirement already satisfied: urllib3<1.27,>=1.21.1 in c:\\users\\olive\\appdata\\roaming\\python\\python310\\site-packages (from requests->facebook-sdk) (1.26.15)\n",
      "Requirement already satisfied: certifi>=2017.4.17 in c:\\users\\olive\\appdata\\roaming\\python\\python310\\site-packages (from requests->facebook-sdk) (2022.12.7)\n"
     ]
    },
    {
     "name": "stderr",
     "output_type": "stream",
     "text": [
      "\n",
      "[notice] A new release of pip is available: 23.1 -> 23.1.2\n",
      "[notice] To update, run: python.exe -m pip install --upgrade pip\n"
     ]
    }
   ],
   "source": [
    "!pip install facebook-sdk"
   ]
  },
  {
   "cell_type": "code",
   "execution_count": 68,
   "metadata": {},
   "outputs": [],
   "source": [
    "import facebook\n",
    "import pandas as pd"
   ]
  },
  {
   "cell_type": "code",
   "execution_count": 69,
   "metadata": {},
   "outputs": [],
   "source": [
    "token_face=\"\""
   ]
  },
  {
   "cell_type": "code",
   "execution_count": 70,
   "metadata": {},
   "outputs": [
    {
     "ename": "GraphAPIError",
     "evalue": "(#200) Provide valid app ID",
     "output_type": "error",
     "traceback": [
      "\u001b[1;31m---------------------------------------------------------------------------\u001b[0m",
      "\u001b[1;31mGraphAPIError\u001b[0m                             Traceback (most recent call last)",
      "Cell \u001b[1;32mIn[70], line 8\u001b[0m\n\u001b[0;32m      4\u001b[0m page_name \u001b[38;5;241m=\u001b[39m \u001b[38;5;124m'\u001b[39m\u001b[38;5;124mSDC Learning\u001b[39m\u001b[38;5;124m'\u001b[39m\n\u001b[0;32m      5\u001b[0m graph\u001b[38;5;241m=\u001b[39mfacebook\u001b[38;5;241m.\u001b[39mGraphAPI(access_token\u001b[38;5;241m=\u001b[39mtoken_dec, \n\u001b[0;32m      6\u001b[0m                         version\u001b[38;5;241m=\u001b[39mversion_api)\n\u001b[1;32m----> 8\u001b[0m posts \u001b[38;5;241m=\u001b[39m \u001b[43mgraph\u001b[49m\u001b[38;5;241;43m.\u001b[39;49m\u001b[43mget_connections\u001b[49m\u001b[43m(\u001b[49m\u001b[43mpage_id\u001b[49m\u001b[43m,\u001b[49m\n\u001b[0;32m      9\u001b[0m \u001b[43m                             \u001b[49m\u001b[38;5;124;43m\"\u001b[39;49m\u001b[38;5;124;43mposts\u001b[39;49m\u001b[38;5;124;43m\"\u001b[39;49m\u001b[43m)\u001b[49m\n",
      "File \u001b[1;32m~\\AppData\\Roaming\\Python\\Python310\\site-packages\\facebook\\__init__.py:149\u001b[0m, in \u001b[0;36mGraphAPI.get_connections\u001b[1;34m(self, id, connection_name, **args)\u001b[0m\n\u001b[0;32m    147\u001b[0m \u001b[38;5;28;01mdef\u001b[39;00m \u001b[38;5;21mget_connections\u001b[39m(\u001b[38;5;28mself\u001b[39m, \u001b[38;5;28mid\u001b[39m, connection_name, \u001b[38;5;241m*\u001b[39m\u001b[38;5;241m*\u001b[39margs):\n\u001b[0;32m    148\u001b[0m     \u001b[38;5;124;03m\"\"\"Fetches the connections for given object.\"\"\"\u001b[39;00m\n\u001b[1;32m--> 149\u001b[0m     \u001b[38;5;28;01mreturn\u001b[39;00m \u001b[38;5;28;43mself\u001b[39;49m\u001b[38;5;241;43m.\u001b[39;49m\u001b[43mrequest\u001b[49m\u001b[43m(\u001b[49m\n\u001b[0;32m    150\u001b[0m \u001b[43m        \u001b[49m\u001b[38;5;124;43m\"\u001b[39;49m\u001b[38;5;132;43;01m{0}\u001b[39;49;00m\u001b[38;5;124;43m/\u001b[39;49m\u001b[38;5;132;43;01m{1}\u001b[39;49;00m\u001b[38;5;124;43m/\u001b[39;49m\u001b[38;5;132;43;01m{2}\u001b[39;49;00m\u001b[38;5;124;43m\"\u001b[39;49m\u001b[38;5;241;43m.\u001b[39;49m\u001b[43mformat\u001b[49m\u001b[43m(\u001b[49m\u001b[38;5;28;43mself\u001b[39;49m\u001b[38;5;241;43m.\u001b[39;49m\u001b[43mversion\u001b[49m\u001b[43m,\u001b[49m\u001b[43m \u001b[49m\u001b[38;5;28;43mid\u001b[39;49m\u001b[43m,\u001b[49m\u001b[43m \u001b[49m\u001b[43mconnection_name\u001b[49m\u001b[43m)\u001b[49m\u001b[43m,\u001b[49m\u001b[43m \u001b[49m\u001b[43margs\u001b[49m\n\u001b[0;32m    151\u001b[0m \u001b[43m    \u001b[49m\u001b[43m)\u001b[49m\n",
      "File \u001b[1;32m~\\AppData\\Roaming\\Python\\Python310\\site-packages\\facebook\\__init__.py:313\u001b[0m, in \u001b[0;36mGraphAPI.request\u001b[1;34m(self, path, args, post_args, files, method)\u001b[0m\n\u001b[0;32m    310\u001b[0m     \u001b[38;5;28;01mraise\u001b[39;00m GraphAPIError(\u001b[38;5;124m\"\u001b[39m\u001b[38;5;124mMaintype was not text, image, or querystring\u001b[39m\u001b[38;5;124m\"\u001b[39m)\n\u001b[0;32m    312\u001b[0m \u001b[38;5;28;01mif\u001b[39;00m result \u001b[38;5;129;01mand\u001b[39;00m \u001b[38;5;28misinstance\u001b[39m(result, \u001b[38;5;28mdict\u001b[39m) \u001b[38;5;129;01mand\u001b[39;00m result\u001b[38;5;241m.\u001b[39mget(\u001b[38;5;124m\"\u001b[39m\u001b[38;5;124merror\u001b[39m\u001b[38;5;124m\"\u001b[39m):\n\u001b[1;32m--> 313\u001b[0m     \u001b[38;5;28;01mraise\u001b[39;00m GraphAPIError(result)\n\u001b[0;32m    314\u001b[0m \u001b[38;5;28;01mreturn\u001b[39;00m result\n",
      "\u001b[1;31mGraphAPIError\u001b[0m: (#200) Provide valid app ID"
     ]
    }
   ],
   "source": [
    "token_dec = token_face\n",
    "version_api = '2.9' \n",
    "page_id = '522721131191656'\n",
    "page_name = 'SDC Learning'\n",
    "graph=facebook.GraphAPI(access_token=token_dec, \n",
    "                        version=version_api)\n",
    "\n",
    "posts = graph.get_connections(page_id,\n",
    "                             \"posts\")"
   ]
  },
  {
   "cell_type": "code",
   "execution_count": null,
   "metadata": {},
   "outputs": [],
   "source": [
    "posts = posts[\"data\"]\n",
    "post_df=pd.DataFrame(posts,\n",
    "                    columns=[\"mensaje\",\"creacion\",\"ID\"])"
   ]
  },
  {
   "cell_type": "code",
   "execution_count": null,
   "metadata": {},
   "outputs": [],
   "source": []
  },
  {
   "cell_type": "markdown",
   "metadata": {},
   "source": [
    "**Entendimiento de datos**"
   ]
  },
  {
   "cell_type": "markdown",
   "metadata": {},
   "source": [
    "- tipo de dato\n",
    "- problema en el dato"
   ]
  },
  {
   "cell_type": "code",
   "execution_count": 2,
   "metadata": {},
   "outputs": [],
   "source": [
    "import pandas as pd\n",
    "mark=pd.read_csv(r'C:\\Users\\olive\\Documents\\DataScience\\ficheros-clase\\MarketingDirecto.csv',sep=\";\")"
   ]
  },
  {
   "cell_type": "code",
   "execution_count": 3,
   "metadata": {},
   "outputs": [
    {
     "data": {
      "text/html": [
       "<div>\n",
       "<style scoped>\n",
       "    .dataframe tbody tr th:only-of-type {\n",
       "        vertical-align: middle;\n",
       "    }\n",
       "\n",
       "    .dataframe tbody tr th {\n",
       "        vertical-align: top;\n",
       "    }\n",
       "\n",
       "    .dataframe thead th {\n",
       "        text-align: right;\n",
       "    }\n",
       "</style>\n",
       "<table border=\"1\" class=\"dataframe\">\n",
       "  <thead>\n",
       "    <tr style=\"text-align: right;\">\n",
       "      <th></th>\n",
       "      <th>Edad,Genero,Vivienda,Ecivil,Ubicacion,Salario,Hijos,Historial,Catalogos,Monto</th>\n",
       "    </tr>\n",
       "  </thead>\n",
       "  <tbody>\n",
       "    <tr>\n",
       "      <th>0</th>\n",
       "      <td>Adulta,Femenino,Propia,Soltero,Lejos,47500,0,A...</td>\n",
       "    </tr>\n",
       "    <tr>\n",
       "      <th>1</th>\n",
       "      <td>Media,Masculino,Alquilada,Soltero,Cerca,63600,...</td>\n",
       "    </tr>\n",
       "    <tr>\n",
       "      <th>2</th>\n",
       "      <td>Joven,Femenino,Alquilada,Soltero,Cerca,13500,0...</td>\n",
       "    </tr>\n",
       "    <tr>\n",
       "      <th>3</th>\n",
       "      <td>Media,Masculino,Propia,Casado,Cerca,85600,1,Al...</td>\n",
       "    </tr>\n",
       "    <tr>\n",
       "      <th>4</th>\n",
       "      <td>Media,Femenino,Propia,Soltero,Cerca,68400,0,Al...</td>\n",
       "    </tr>\n",
       "  </tbody>\n",
       "</table>\n",
       "</div>"
      ],
      "text/plain": [
       "  Edad,Genero,Vivienda,Ecivil,Ubicacion,Salario,Hijos,Historial,Catalogos,Monto\n",
       "0  Adulta,Femenino,Propia,Soltero,Lejos,47500,0,A...                           \n",
       "1  Media,Masculino,Alquilada,Soltero,Cerca,63600,...                           \n",
       "2  Joven,Femenino,Alquilada,Soltero,Cerca,13500,0...                           \n",
       "3  Media,Masculino,Propia,Casado,Cerca,85600,1,Al...                           \n",
       "4  Media,Femenino,Propia,Soltero,Cerca,68400,0,Al...                           "
      ]
     },
     "execution_count": 3,
     "metadata": {},
     "output_type": "execute_result"
    }
   ],
   "source": [
    "mark.head()"
   ]
  },
  {
   "cell_type": "markdown",
   "metadata": {},
   "source": [
    "**Codificación**"
   ]
  },
  {
   "cell_type": "code",
   "execution_count": 4,
   "metadata": {},
   "outputs": [],
   "source": [
    "from collections import defaultdict #crea por defecto diccionario\n",
    "from sklearn.preprocessing import LabelEncoder #codificación \n",
    "import numpy as np"
   ]
  },
  {
   "cell_type": "code",
   "execution_count": 5,
   "metadata": {},
   "outputs": [],
   "source": [
    "d= defaultdict(LabelEncoder)"
   ]
  },
  {
   "cell_type": "code",
   "execution_count": 6,
   "metadata": {},
   "outputs": [
    {
     "name": "stdout",
     "output_type": "stream",
     "text": [
      "<class 'pandas.core.frame.DataFrame'>\n",
      "RangeIndex: 1000 entries, 0 to 999\n",
      "Data columns (total 1 columns):\n",
      " #   Column                                                                         Non-Null Count  Dtype \n",
      "---  ------                                                                         --------------  ----- \n",
      " 0   Edad,Genero,Vivienda,Ecivil,Ubicacion,Salario,Hijos,Historial,Catalogos,Monto  1000 non-null   object\n",
      "dtypes: object(1)\n",
      "memory usage: 7.9+ KB\n"
     ]
    }
   ],
   "source": [
    "mark.info()"
   ]
  },
  {
   "cell_type": "code",
   "execution_count": 101,
   "metadata": {},
   "outputs": [],
   "source": [
    "objeto_list=list(mark.columns.to_series().groupby(mark.dtypes).groups[np.dtype(\"object\")])"
   ]
  },
  {
   "cell_type": "code",
   "execution_count": 102,
   "metadata": {},
   "outputs": [
    {
     "name": "stdout",
     "output_type": "stream",
     "text": [
      "['Edad', 'Genero', 'Vivienda', 'Ecivil', 'Ubicacion', 'Historial']\n"
     ]
    }
   ],
   "source": [
    "print(objeto_list) #estas son las variables que voy a codificar"
   ]
  },
  {
   "cell_type": "markdown",
   "metadata": {},
   "source": [
    "**Codificación de mark**"
   ]
  },
  {
   "cell_type": "code",
   "execution_count": 103,
   "metadata": {},
   "outputs": [],
   "source": [
    "mark_v2 = mark.apply(lambda x:d[x.name].fit_transform(x) if x.name in objeto_list else x)"
   ]
  },
  {
   "cell_type": "code",
   "execution_count": 104,
   "metadata": {},
   "outputs": [
    {
     "data": {
      "text/html": [
       "<div>\n",
       "<style scoped>\n",
       "    .dataframe tbody tr th:only-of-type {\n",
       "        vertical-align: middle;\n",
       "    }\n",
       "\n",
       "    .dataframe tbody tr th {\n",
       "        vertical-align: top;\n",
       "    }\n",
       "\n",
       "    .dataframe thead th {\n",
       "        text-align: right;\n",
       "    }\n",
       "</style>\n",
       "<table border=\"1\" class=\"dataframe\">\n",
       "  <thead>\n",
       "    <tr style=\"text-align: right;\">\n",
       "      <th></th>\n",
       "      <th>Edad</th>\n",
       "      <th>Genero</th>\n",
       "      <th>Vivienda</th>\n",
       "      <th>Ecivil</th>\n",
       "      <th>Ubicacion</th>\n",
       "      <th>Salario</th>\n",
       "      <th>Hijos</th>\n",
       "      <th>Historial</th>\n",
       "      <th>Catalogos</th>\n",
       "      <th>Monto</th>\n",
       "    </tr>\n",
       "  </thead>\n",
       "  <tbody>\n",
       "    <tr>\n",
       "      <th>0</th>\n",
       "      <td>0</td>\n",
       "      <td>0</td>\n",
       "      <td>1</td>\n",
       "      <td>1</td>\n",
       "      <td>1</td>\n",
       "      <td>47500</td>\n",
       "      <td>0</td>\n",
       "      <td>0</td>\n",
       "      <td>6</td>\n",
       "      <td>755.0</td>\n",
       "    </tr>\n",
       "    <tr>\n",
       "      <th>1</th>\n",
       "      <td>2</td>\n",
       "      <td>1</td>\n",
       "      <td>0</td>\n",
       "      <td>1</td>\n",
       "      <td>0</td>\n",
       "      <td>63600</td>\n",
       "      <td>0</td>\n",
       "      <td>0</td>\n",
       "      <td>6</td>\n",
       "      <td>1318.0</td>\n",
       "    </tr>\n",
       "    <tr>\n",
       "      <th>2</th>\n",
       "      <td>1</td>\n",
       "      <td>0</td>\n",
       "      <td>0</td>\n",
       "      <td>1</td>\n",
       "      <td>0</td>\n",
       "      <td>13500</td>\n",
       "      <td>0</td>\n",
       "      <td>1</td>\n",
       "      <td>18</td>\n",
       "      <td>296.0</td>\n",
       "    </tr>\n",
       "  </tbody>\n",
       "</table>\n",
       "</div>"
      ],
      "text/plain": [
       "   Edad  Genero  Vivienda  Ecivil  Ubicacion  Salario  Hijos  Historial  \\\n",
       "0     0       0         1       1          1    47500      0          0   \n",
       "1     2       1         0       1          0    63600      0          0   \n",
       "2     1       0         0       1          0    13500      0          1   \n",
       "\n",
       "   Catalogos   Monto  \n",
       "0          6   755.0  \n",
       "1          6  1318.0  \n",
       "2         18   296.0  "
      ]
     },
     "execution_count": 104,
     "metadata": {},
     "output_type": "execute_result"
    }
   ],
   "source": [
    "mark_v2.head(n=3)"
   ]
  },
  {
   "cell_type": "code",
   "execution_count": 105,
   "metadata": {},
   "outputs": [],
   "source": [
    "#femenino = 0\n",
    "#masculino = 1"
   ]
  },
  {
   "cell_type": "code",
   "execution_count": 106,
   "metadata": {},
   "outputs": [],
   "source": [
    "##################################################################################"
   ]
  },
  {
   "cell_type": "code",
   "execution_count": 107,
   "metadata": {},
   "outputs": [],
   "source": [
    "# Solo entrena al modelo pero no lo codifica\n",
    "fit = mark.apply(lambda x:d[x.name].fit(x) if x.name in objeto_list else x)"
   ]
  },
  {
   "cell_type": "code",
   "execution_count": 108,
   "metadata": {},
   "outputs": [],
   "source": [
    "#Codifica luego de ser entrenado\n",
    "mark_transform = mark.apply(lambda x:d[x.name].transform(x) if x.name in objeto_list else x)"
   ]
  },
  {
   "cell_type": "code",
   "execution_count": 109,
   "metadata": {},
   "outputs": [
    {
     "data": {
      "text/html": [
       "<div>\n",
       "<style scoped>\n",
       "    .dataframe tbody tr th:only-of-type {\n",
       "        vertical-align: middle;\n",
       "    }\n",
       "\n",
       "    .dataframe tbody tr th {\n",
       "        vertical-align: top;\n",
       "    }\n",
       "\n",
       "    .dataframe thead th {\n",
       "        text-align: right;\n",
       "    }\n",
       "</style>\n",
       "<table border=\"1\" class=\"dataframe\">\n",
       "  <thead>\n",
       "    <tr style=\"text-align: right;\">\n",
       "      <th></th>\n",
       "      <th>Edad</th>\n",
       "      <th>Genero</th>\n",
       "      <th>Vivienda</th>\n",
       "      <th>Ecivil</th>\n",
       "      <th>Ubicacion</th>\n",
       "      <th>Salario</th>\n",
       "      <th>Hijos</th>\n",
       "      <th>Historial</th>\n",
       "      <th>Catalogos</th>\n",
       "      <th>Monto</th>\n",
       "    </tr>\n",
       "  </thead>\n",
       "  <tbody>\n",
       "    <tr>\n",
       "      <th>0</th>\n",
       "      <td>0</td>\n",
       "      <td>0</td>\n",
       "      <td>1</td>\n",
       "      <td>1</td>\n",
       "      <td>1</td>\n",
       "      <td>47500</td>\n",
       "      <td>0</td>\n",
       "      <td>0</td>\n",
       "      <td>6</td>\n",
       "      <td>755.0</td>\n",
       "    </tr>\n",
       "    <tr>\n",
       "      <th>1</th>\n",
       "      <td>2</td>\n",
       "      <td>1</td>\n",
       "      <td>0</td>\n",
       "      <td>1</td>\n",
       "      <td>0</td>\n",
       "      <td>63600</td>\n",
       "      <td>0</td>\n",
       "      <td>0</td>\n",
       "      <td>6</td>\n",
       "      <td>1318.0</td>\n",
       "    </tr>\n",
       "    <tr>\n",
       "      <th>2</th>\n",
       "      <td>1</td>\n",
       "      <td>0</td>\n",
       "      <td>0</td>\n",
       "      <td>1</td>\n",
       "      <td>0</td>\n",
       "      <td>13500</td>\n",
       "      <td>0</td>\n",
       "      <td>1</td>\n",
       "      <td>18</td>\n",
       "      <td>296.0</td>\n",
       "    </tr>\n",
       "  </tbody>\n",
       "</table>\n",
       "</div>"
      ],
      "text/plain": [
       "   Edad  Genero  Vivienda  Ecivil  Ubicacion  Salario  Hijos  Historial  \\\n",
       "0     0       0         1       1          1    47500      0          0   \n",
       "1     2       1         0       1          0    63600      0          0   \n",
       "2     1       0         0       1          0    13500      0          1   \n",
       "\n",
       "   Catalogos   Monto  \n",
       "0          6   755.0  \n",
       "1          6  1318.0  \n",
       "2         18   296.0  "
      ]
     },
     "execution_count": 109,
     "metadata": {},
     "output_type": "execute_result"
    }
   ],
   "source": [
    "mark_transform.head(n=3)"
   ]
  },
  {
   "cell_type": "code",
   "execution_count": 110,
   "metadata": {},
   "outputs": [],
   "source": [
    "#femenino = 0\n",
    "#masculino = 1"
   ]
  },
  {
   "cell_type": "markdown",
   "metadata": {},
   "source": [
    "- fit(): aprendizaje\n",
    "- fit_transform(): aprendizaje + transformación\n",
    "- transform(): transformación"
   ]
  },
  {
   "cell_type": "code",
   "execution_count": 111,
   "metadata": {},
   "outputs": [],
   "source": [
    "edad = list(d[\"Edad\"].classes_)"
   ]
  },
  {
   "cell_type": "code",
   "execution_count": 112,
   "metadata": {},
   "outputs": [
    {
     "data": {
      "text/plain": [
       "array(['Adulta', 'Joven', 'Media'], dtype=object)"
      ]
     },
     "execution_count": 112,
     "metadata": {},
     "output_type": "execute_result"
    }
   ],
   "source": [
    "d[\"Edad\"].classes_"
   ]
  },
  {
   "cell_type": "code",
   "execution_count": 113,
   "metadata": {},
   "outputs": [],
   "source": [
    "codigo=d[\"Edad\"].transform(d[\"Edad\"].classes_)"
   ]
  },
  {
   "cell_type": "code",
   "execution_count": 114,
   "metadata": {},
   "outputs": [],
   "source": [
    "########################################################\n",
    "#Diccionario de la variable edad"
   ]
  },
  {
   "cell_type": "code",
   "execution_count": 115,
   "metadata": {},
   "outputs": [
    {
     "data": {
      "text/html": [
       "<div>\n",
       "<style scoped>\n",
       "    .dataframe tbody tr th:only-of-type {\n",
       "        vertical-align: middle;\n",
       "    }\n",
       "\n",
       "    .dataframe tbody tr th {\n",
       "        vertical-align: top;\n",
       "    }\n",
       "\n",
       "    .dataframe thead th {\n",
       "        text-align: right;\n",
       "    }\n",
       "</style>\n",
       "<table border=\"1\" class=\"dataframe\">\n",
       "  <thead>\n",
       "    <tr style=\"text-align: right;\">\n",
       "      <th></th>\n",
       "      <th>Edad</th>\n",
       "      <th>Código</th>\n",
       "    </tr>\n",
       "  </thead>\n",
       "  <tbody>\n",
       "    <tr>\n",
       "      <th>0</th>\n",
       "      <td>Adulta</td>\n",
       "      <td>0</td>\n",
       "    </tr>\n",
       "    <tr>\n",
       "      <th>1</th>\n",
       "      <td>Joven</td>\n",
       "      <td>1</td>\n",
       "    </tr>\n",
       "    <tr>\n",
       "      <th>2</th>\n",
       "      <td>Media</td>\n",
       "      <td>2</td>\n",
       "    </tr>\n",
       "  </tbody>\n",
       "</table>\n",
       "</div>"
      ],
      "text/plain": [
       "     Edad  Código\n",
       "0  Adulta       0\n",
       "1   Joven       1\n",
       "2   Media       2"
      ]
     },
     "execution_count": 115,
     "metadata": {},
     "output_type": "execute_result"
    }
   ],
   "source": [
    "pd.DataFrame({\"Edad\":edad,\"Código\":codigo})"
   ]
  },
  {
   "cell_type": "markdown",
   "metadata": {},
   "source": [
    "**Particionamiento de los datos**"
   ]
  },
  {
   "cell_type": "markdown",
   "metadata": {},
   "source": [
    "- train: datos que son proporcionados para que algoritmo (modeloe ML) desarrolle un proceso de aprendizaje\n",
    "- test: evaluar su proceso de aprendizaje"
   ]
  },
  {
   "cell_type": "code",
   "execution_count": 126,
   "metadata": {},
   "outputs": [
    {
     "data": {
      "text/html": [
       "<div>\n",
       "<style scoped>\n",
       "    .dataframe tbody tr th:only-of-type {\n",
       "        vertical-align: middle;\n",
       "    }\n",
       "\n",
       "    .dataframe tbody tr th {\n",
       "        vertical-align: top;\n",
       "    }\n",
       "\n",
       "    .dataframe thead th {\n",
       "        text-align: right;\n",
       "    }\n",
       "</style>\n",
       "<table border=\"1\" class=\"dataframe\">\n",
       "  <thead>\n",
       "    <tr style=\"text-align: right;\">\n",
       "      <th></th>\n",
       "      <th>Edad</th>\n",
       "      <th>Genero</th>\n",
       "      <th>Vivienda</th>\n",
       "      <th>Ecivil</th>\n",
       "      <th>Ubicacion</th>\n",
       "      <th>Salario</th>\n",
       "      <th>Hijos</th>\n",
       "      <th>Historial</th>\n",
       "      <th>Catalogos</th>\n",
       "      <th>Monto</th>\n",
       "    </tr>\n",
       "  </thead>\n",
       "  <tbody>\n",
       "    <tr>\n",
       "      <th>0</th>\n",
       "      <td>0</td>\n",
       "      <td>0</td>\n",
       "      <td>1</td>\n",
       "      <td>1</td>\n",
       "      <td>1</td>\n",
       "      <td>47500</td>\n",
       "      <td>0</td>\n",
       "      <td>0</td>\n",
       "      <td>6</td>\n",
       "      <td>755.0</td>\n",
       "    </tr>\n",
       "    <tr>\n",
       "      <th>1</th>\n",
       "      <td>2</td>\n",
       "      <td>1</td>\n",
       "      <td>0</td>\n",
       "      <td>1</td>\n",
       "      <td>0</td>\n",
       "      <td>63600</td>\n",
       "      <td>0</td>\n",
       "      <td>0</td>\n",
       "      <td>6</td>\n",
       "      <td>1318.0</td>\n",
       "    </tr>\n",
       "    <tr>\n",
       "      <th>2</th>\n",
       "      <td>1</td>\n",
       "      <td>0</td>\n",
       "      <td>0</td>\n",
       "      <td>1</td>\n",
       "      <td>0</td>\n",
       "      <td>13500</td>\n",
       "      <td>0</td>\n",
       "      <td>1</td>\n",
       "      <td>18</td>\n",
       "      <td>296.0</td>\n",
       "    </tr>\n",
       "    <tr>\n",
       "      <th>3</th>\n",
       "      <td>2</td>\n",
       "      <td>1</td>\n",
       "      <td>1</td>\n",
       "      <td>0</td>\n",
       "      <td>0</td>\n",
       "      <td>85600</td>\n",
       "      <td>1</td>\n",
       "      <td>0</td>\n",
       "      <td>18</td>\n",
       "      <td>2436.0</td>\n",
       "    </tr>\n",
       "    <tr>\n",
       "      <th>4</th>\n",
       "      <td>2</td>\n",
       "      <td>0</td>\n",
       "      <td>1</td>\n",
       "      <td>1</td>\n",
       "      <td>0</td>\n",
       "      <td>68400</td>\n",
       "      <td>0</td>\n",
       "      <td>0</td>\n",
       "      <td>12</td>\n",
       "      <td>NaN</td>\n",
       "    </tr>\n",
       "    <tr>\n",
       "      <th>5</th>\n",
       "      <td>1</td>\n",
       "      <td>1</td>\n",
       "      <td>1</td>\n",
       "      <td>0</td>\n",
       "      <td>0</td>\n",
       "      <td>30400</td>\n",
       "      <td>0</td>\n",
       "      <td>1</td>\n",
       "      <td>6</td>\n",
       "      <td>495.0</td>\n",
       "    </tr>\n",
       "    <tr>\n",
       "      <th>6</th>\n",
       "      <td>2</td>\n",
       "      <td>0</td>\n",
       "      <td>0</td>\n",
       "      <td>1</td>\n",
       "      <td>0</td>\n",
       "      <td>48100</td>\n",
       "      <td>0</td>\n",
       "      <td>2</td>\n",
       "      <td>12</td>\n",
       "      <td>782.0</td>\n",
       "    </tr>\n",
       "    <tr>\n",
       "      <th>7</th>\n",
       "      <td>2</td>\n",
       "      <td>1</td>\n",
       "      <td>1</td>\n",
       "      <td>1</td>\n",
       "      <td>0</td>\n",
       "      <td>68400</td>\n",
       "      <td>0</td>\n",
       "      <td>0</td>\n",
       "      <td>18</td>\n",
       "      <td>1155.0</td>\n",
       "    </tr>\n",
       "    <tr>\n",
       "      <th>8</th>\n",
       "      <td>2</td>\n",
       "      <td>0</td>\n",
       "      <td>1</td>\n",
       "      <td>0</td>\n",
       "      <td>0</td>\n",
       "      <td>51900</td>\n",
       "      <td>3</td>\n",
       "      <td>1</td>\n",
       "      <td>6</td>\n",
       "      <td>158.0</td>\n",
       "    </tr>\n",
       "    <tr>\n",
       "      <th>9</th>\n",
       "      <td>0</td>\n",
       "      <td>1</td>\n",
       "      <td>1</td>\n",
       "      <td>0</td>\n",
       "      <td>1</td>\n",
       "      <td>80700</td>\n",
       "      <td>0</td>\n",
       "      <td>3</td>\n",
       "      <td>18</td>\n",
       "      <td>3034.0</td>\n",
       "    </tr>\n",
       "  </tbody>\n",
       "</table>\n",
       "</div>"
      ],
      "text/plain": [
       "   Edad  Genero  Vivienda  Ecivil  Ubicacion  Salario  Hijos  Historial  \\\n",
       "0     0       0         1       1          1    47500      0          0   \n",
       "1     2       1         0       1          0    63600      0          0   \n",
       "2     1       0         0       1          0    13500      0          1   \n",
       "3     2       1         1       0          0    85600      1          0   \n",
       "4     2       0         1       1          0    68400      0          0   \n",
       "5     1       1         1       0          0    30400      0          1   \n",
       "6     2       0         0       1          0    48100      0          2   \n",
       "7     2       1         1       1          0    68400      0          0   \n",
       "8     2       0         1       0          0    51900      3          1   \n",
       "9     0       1         1       0          1    80700      0          3   \n",
       "\n",
       "   Catalogos   Monto  \n",
       "0          6   755.0  \n",
       "1          6  1318.0  \n",
       "2         18   296.0  \n",
       "3         18  2436.0  \n",
       "4         12     NaN  \n",
       "5          6   495.0  \n",
       "6         12   782.0  \n",
       "7         18  1155.0  \n",
       "8          6   158.0  \n",
       "9         18  3034.0  "
      ]
     },
     "execution_count": 126,
     "metadata": {},
     "output_type": "execute_result"
    }
   ],
   "source": [
    "mark_v2.head(n=10)"
   ]
  },
  {
   "cell_type": "code",
   "execution_count": 64,
   "metadata": {},
   "outputs": [],
   "source": [
    "from sklearn.model_selection import train_test_split"
   ]
  },
  {
   "cell_type": "code",
   "execution_count": 122,
   "metadata": {},
   "outputs": [
    {
     "data": {
      "text/plain": [
       "array([ 755., 1318.,  296., 2436.,   nan,  495.,  782., 1155.,  158.,\n",
       "       3034.,  927., 2065.,  704., 2136., 5564.,   nan, 3010., 1956.,\n",
       "        542.,  410.,  194.,  827., 2328.,  808.,  521.,  655.,  707.,\n",
       "       2075.,  769.,  774.,  573., 2082., 2446., 2636., 2226.,  183.,\n",
       "       1595.,  584.,  982.,  576.,  410., 3082., 2437., 3655.,  844.,\n",
       "       2510.,  983., 1215., 2000., 2574., 1116., 3604., 3360.,  530.,\n",
       "        906., 2764., 1263., 1084., 1051.,  614.,  704.,  449.,  136.,\n",
       "        468.,  565., 1310., 2595.,  358., 1424., 4182.,  468., 2924.,\n",
       "        964.,  615.,   38., 1006.,  307., 1648.,  220.,  280., 1647.,\n",
       "        704.,  920.,  258., 1821., 1587.,  528.,  867.,  643.,  107.,\n",
       "       1513., 4558.,  741.,  805.,  470.,  278., 1093.,  470., 1856.,\n",
       "       1688.,  708., 1753., 3044.,  855.,  550., 2265., 2452., 1184.,\n",
       "       2150., 1575., 1822., 1153., 1877.,  450.,  873.,  209., 1472.,\n",
       "       1702., 1857.,  451.,  344., 1492., 2098., 3505.,  127.,  436.,\n",
       "       2524.,  189.,  607.,  202., 1554.,  633.,   nan, 3079., 2038.,\n",
       "       1203.,  326.,   nan, 3688.,  332.,  143., 3104.,   nan,  123.,\n",
       "        879.,  498., 3596., 2925.,   nan,  312., 1297.,  218., 4279.,\n",
       "       1642.,  581.,  223.,  474., 1790.,  143., 3237., 2316.,  458.,\n",
       "        646., 1217.,  238., 1293., 2749., 2408., 2624., 4894.,  621.,\n",
       "        701.,  780., 1365., 2693., 1582.,  724.,  830., 1594., 1826.,\n",
       "        473., 1161.,  703., 1892.,  489., 1813., 1457.,  292.,  613.,\n",
       "       2681.,  437.,  708., 1093.,  213.,  202., 1298., 3273., 1790.,\n",
       "        247.,  183., 3491., 1985., 1721., 2104.,  252.,  202.,  962.,\n",
       "        459.,  848.,  161., 1857., 1699.,  308.,  500., 1162., 2551.,\n",
       "       5830.,  381.,  856., 1720.,  759., 3305., 1257., 1583., 1102.,\n",
       "        186.,  229., 2599.,  774.,  638.,  378., 1552.,  979., 2479.,\n",
       "        450., 2763., 1560., 1037.,  690.,  770.,  643., 1512., 1485.,\n",
       "        570., 1165., 1926., 2243.,  342., 1654.,  363.,  222.,  677.,\n",
       "        482.,  385., 1443., 1789.,  991.,  536., 2183.,  494.,  503.,\n",
       "         87.,  917., 1976.,  316., 1634., 2035., 3293.,  143.,  635.,\n",
       "        979., 1838.,  264.,  719., 1308., 3378.,  400.,  847.,  357.,\n",
       "       1276., 2492., 1512.,  870.,  938., 1584., 1148., 2840.,  827.,\n",
       "        428.,  183.,  818.,  731., 2163., 1081., 1085., 1212., 1422.,\n",
       "       2238., 1615.,  713.,  607.,  735.,  139., 1357.,  858.,  408.,\n",
       "       1553., 2070.,  922., 2502.,  426., 2321.,  862., 2555., 1186.,\n",
       "       2842.,  886., 1420.,  821.,  242.,  472., 1231.,  881.,  435.,\n",
       "        108.,  576., 1314.,  296.,  584., 1156., 2464.,  915., 2091.,\n",
       "       1690., 1274., 1012.,  950.,  333.,  679.,  607., 3398.,  859.,\n",
       "       2444., 1078., 2537.,  616.,  508.,  297., 1583.,   79.,  657.,\n",
       "       2149., 3632., 2230.,  448.,  301., 1968.,  490., 3063.,  193.,\n",
       "        544., 2666., 1846., 1255., 1081.,  199., 3916.,  357.,  983.,\n",
       "       1194., 2224.,   90.,  587., 1088.,  617., 1227.,  662.,  622.,\n",
       "       1477.,  236., 1830., 1583.,  610.,  193., 1052.,  307., 3671.,\n",
       "       2206.,  748., 1481., 1607.,  632.,  303.,  264., 1575.,  881.,\n",
       "       1439.,  452.,   93.,  292., 1426.,  330., 3120., 5151., 3941.,\n",
       "       2141.,  106.,  530.,  500., 2837., 1246.,  798., 1544., 2644.,\n",
       "        192.,  865., 1159., 1480., 1426., 3048.,  276., 1910.,  157.,\n",
       "        236.,  576.,  794., 1474.,  250.,  788., 1694., 1985., 1252.,\n",
       "        827.,  314.,  880.,  466.,  210.,  902., 1274., 1631., 1220.,\n",
       "        801., 1090., 1699.,  273.,  523., 1437., 1888.,  476., 2632.,\n",
       "        326.,  446., 1071., 1699.,  966.,  567., 1658.,  173., 3344.,\n",
       "       1029.,  345.,  712., 1841.,  409., 2710.,  592., 2101., 1473.,\n",
       "        715., 2233.,  921.,  216., 1781.,  418.,  268., 1252.,  140.,\n",
       "        992., 1388.,  233., 2304., 2177., 1127.,  721.,  438.,  393.,\n",
       "       1666., 2448., 2563., 1763.,  184.,  166., 1014., 1140., 1021.,\n",
       "       1431., 5878.,  321., 1974., 1640., 1175.,  364.,  417., 1060.,\n",
       "       2176.,  200.,  513.,  857.,  224.,  371.,  687.,  809., 2090.,\n",
       "       1479.,  534., 1172.,  968.,  753.,  242.,  515., 2119.,  491.,\n",
       "        286., 3069.,  281., 1608.,  736.,  170.,  245., 3052., 1786.,\n",
       "         47., 1645.,  274., 1001., 1944., 2585.,  260., 1414.,  341.,\n",
       "        268., 1237.,  589.,  368.,  940.,  232.,  678.,  324.,  147.,\n",
       "        694.,  526.,  586.,  491., 1436., 1280., 2107.,  860., 1624.,\n",
       "        230.,  164.,  157.,   62.,  223.,  438., 2705.,  371.,  201.,\n",
       "       1213.,  586., 2693., 1404., 2784.,  275.,  794.,  964., 1598.,\n",
       "       2838.,  619.,  392., 1850., 1506., 3126., 1325., 1541., 2491.,\n",
       "       1177., 1487.,  322.,  647., 1322., 1534.,  583., 1705.,  191.,\n",
       "        239.,  568.,  571.,  919., 1398., 1025.,  909.,  209.,  245.,\n",
       "       2362., 3380.,  424., 1272., 1909.,  340., 1355.,  472.,  303.,\n",
       "       1079.,  981.,  160.,  613.,  662.,  177.,  785.,  349.,  213.,\n",
       "       1578.,  258.,  192.,  289., 1821.,  905.,  188., 1405., 2381.,\n",
       "        184., 1364.,  414.,  387.,  504.,  574.,  984., 5209.,  422.,\n",
       "       1594., 1087.,  163.,  427.,  624.,  788.,  414., 3001.,  863.,\n",
       "       1517.,  836., 1152., 1408., 1082., 1162.,  358.,  304.,  360.,\n",
       "       1162.,  348.,  206.,  114.,  932.,  446., 2466.,  576.,  428.,\n",
       "       2247.,  716., 1017.,  613.,  580.,  841.,  737., 1162.,  895.,\n",
       "        205., 2340.,  630.,  407., 2122.,  227., 1149.,  669., 2935.,\n",
       "       1444., 1384., 1557.,  802., 1611., 2047., 1175., 1011., 1062.,\n",
       "        271., 2690.,  918., 2438., 1307., 1185.,  180., 1198., 1001.,\n",
       "       1355.,  989., 1803., 2840., 1909.,  247.,  814.,  216.,  365.,\n",
       "        163.,  933.,  654.,  153., 1668., 1009., 1659., 1905.,  521.,\n",
       "        826., 2610., 1194., 1181.,  362.,  768.,  381., 1811., 1218.,\n",
       "       1413., 1748.,  639., 1582.,  376., 1757.,  105., 2631.,  486.,\n",
       "        412.,  716.,  653.,  224.,  705., 4984.,  197., 2450., 2561.,\n",
       "        563.,  546., 3384.,  416.,  685., 1931.,  573., 1553.,  362.,\n",
       "        907.,  445., 1342.,  457., 1598., 1861., 4109., 3278.,  421.,\n",
       "        275., 1475., 1779., 1634., 1500., 1348.,  962.,  328.,  747.,\n",
       "       1713., 1006., 2523., 2458.,  742., 1639.,  843.,  886., 2746.,\n",
       "        550., 2098.,  954., 1041.,  535., 1369., 2545.,  329., 1351.,\n",
       "        582.,  578.,  195.,  777.,   nan,   nan,   nan, 3168.,  699.,\n",
       "       2034., 1457.,   nan,   nan, 2844.,  225.,  210.,   43.,  243.,\n",
       "       1120.,  975., 2904.,  927., 3167.,  241.,   65.,  858., 2191.,\n",
       "       1946., 2581.,  172.,  824.,  556.,  167., 2104., 1332.,   nan,\n",
       "         nan, 3442., 1893.,  690.,  486., 2290.,  934.,  517., 2216.,\n",
       "       1521., 1523., 1364.,  952.,  871.,  295.,  642.,  317., 1078.,\n",
       "        961., 1241., 1999.,  571.,  329., 1984., 1061., 1955.,  580.,\n",
       "        883., 1195., 2318.,  640., 2644., 1320.,  502., 2419.,  661.,\n",
       "       2723., 1588.,  581., 1432.,  929.,  212., 2546., 1344.,  947.,\n",
       "       2145.,  757.,  451., 2975.,  406.,  158.,  534.,  401., 1753.,\n",
       "        659.,  726., 1166., 1197.,  411., 2258., 1913.,  893.,  421.,\n",
       "       1138., 1804., 1418., 1104., 2796., 1403., 3230., 1352., 2004.,\n",
       "        403., 3995.,  390.,  770.,  963.,  833.,  869.,  926., 3780.,\n",
       "       1023.,  791., 1473., 1597., 1150.,  304., 1693.,  269., 1430.,\n",
       "       2729., 1760., 1271.,  356., 1024.,  524., 1211.,  636.,  645.,\n",
       "        472., 1512., 1634.,  182., 1042., 1714.,  966.,  829.,  680.,\n",
       "        636.,  182., 1773., 2902.,  348.,  548., 2034., 2296.,  395.,\n",
       "        850.,  512., 1622.,  865.,  673.,  422.,  529., 1932., 1853.,\n",
       "       1224.,  666., 1685., 1476.,  319.,  232., 1543.,  506.,  172.,\n",
       "       1001.,  606.,  591., 1389., 2177., 2279., 2702.,  510., 1047.,\n",
       "        538., 1546.,  754., 1504., 1849., 3072., 1046., 1800.,  700.,\n",
       "        514.,  320., 1692., 2057., 2299., 1507., 6217.,  405., 3785.,\n",
       "       3537.,  540.,  941., 5503.,  273.,  384., 1073., 1417.,  671.,\n",
       "        973.])"
      ]
     },
     "execution_count": 122,
     "metadata": {},
     "output_type": "execute_result"
    }
   ],
   "source": [
    "x = mark_v2.iloc[:,0:9].values\n",
    "y = mark_v2.iloc[:,9].values\n",
    "y"
   ]
  },
  {
   "cell_type": "code",
   "execution_count": 127,
   "metadata": {},
   "outputs": [
    {
     "data": {
      "text/plain": [
       "0       755.0\n",
       "1      1318.0\n",
       "2       296.0\n",
       "3      2436.0\n",
       "4         NaN\n",
       "        ...  \n",
       "995     384.0\n",
       "996    1073.0\n",
       "997    1417.0\n",
       "998     671.0\n",
       "999     973.0\n",
       "Name: Monto, Length: 1000, dtype: float64"
      ]
     },
     "execution_count": 127,
     "metadata": {},
     "output_type": "execute_result"
    }
   ],
   "source": [
    "#mark_v2.iloc[:,0:9]\n",
    "mark_v2.iloc[:,9]"
   ]
  },
  {
   "cell_type": "code",
   "execution_count": 67,
   "metadata": {},
   "outputs": [],
   "source": [
    "x_train, x_test, y_train, y_test = train_test_split(x,\n",
    "                                                    y,\n",
    "                                                    test_size=0.3,\n",
    "                                                    random_state=0)#semilla"
   ]
  },
  {
   "cell_type": "markdown",
   "metadata": {},
   "source": [
    "**Nota**: 10% al 30% de los datos se suelen utilizar para testear el modelo"
   ]
  },
  {
   "cell_type": "markdown",
   "metadata": {},
   "source": [
    "**Imputación**"
   ]
  },
  {
   "cell_type": "code",
   "execution_count": 88,
   "metadata": {},
   "outputs": [],
   "source": [
    "import pandas as pd"
   ]
  },
  {
   "cell_type": "code",
   "execution_count": 91,
   "metadata": {},
   "outputs": [],
   "source": [
    "mark = pd.read_csv(r'C:\\Users\\olive\\DataScience\\MarketingDirecto_2.csv',\n",
    "                  sep=\";\")"
   ]
  },
  {
   "cell_type": "code",
   "execution_count": 95,
   "metadata": {},
   "outputs": [
    {
     "data": {
      "text/plain": [
       "(1000, 10)"
      ]
     },
     "execution_count": 95,
     "metadata": {},
     "output_type": "execute_result"
    }
   ],
   "source": [
    "mark.shape"
   ]
  },
  {
   "cell_type": "code",
   "execution_count": 77,
   "metadata": {},
   "outputs": [
    {
     "data": {
      "text/plain": [
       "Edad         0.0\n",
       "Genero       0.0\n",
       "Vivienda     0.0\n",
       "Ecivil       0.0\n",
       "Ubicacion    0.0\n",
       "dtype: float64"
      ]
     },
     "execution_count": 77,
     "metadata": {},
     "output_type": "execute_result"
    }
   ],
   "source": [
    "mark.iloc[0:100,0:5].isnull().sum()/len(mark)*100"
   ]
  },
  {
   "cell_type": "markdown",
   "metadata": {},
   "source": [
    "**Nivel de perdida de información**"
   ]
  },
  {
   "cell_type": "markdown",
   "metadata": {},
   "source": [
    "- 0.1% a 1% valores faltantes: perdida es trivial (insignificante).\n",
    "- 1% a 5% valores faltantes: requieren de una técnica para recuperar información (media, moda, mediana, vecinos más cercanos).\n",
    "- 5% a 30% valores faltantes: requieren de modelos más sofisticados (modelos de ML) para recuperar la información."
   ]
  },
  {
   "cell_type": "code",
   "execution_count": null,
   "metadata": {},
   "outputs": [],
   "source": []
  },
  {
   "cell_type": "code",
   "execution_count": null,
   "metadata": {},
   "outputs": [],
   "source": []
  }
 ],
 "metadata": {
  "kernelspec": {
   "display_name": "Python 3 (ipykernel)",
   "language": "python",
   "name": "python3"
  },
  "language_info": {
   "codemirror_mode": {
    "name": "ipython",
    "version": 3
   },
   "file_extension": ".py",
   "mimetype": "text/x-python",
   "name": "python",
   "nbconvert_exporter": "python",
   "pygments_lexer": "ipython3",
   "version": "3.10.9"
  }
 },
 "nbformat": 4,
 "nbformat_minor": 4
}
