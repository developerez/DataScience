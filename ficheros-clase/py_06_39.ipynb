{
 "cells": [
  {
   "cell_type": "markdown",
   "metadata": {},
   "source": [
    "**Discretización**"
   ]
  },
  {
   "cell_type": "markdown",
   "metadata": {},
   "source": [
    "- Morosidad : moroso y no moroso (ML)\n",
    "- fraude: fraude y no fraude (ML)\n",
    "- células cancerígenas : presencia o no (deep learning) - redes neuronales convolucionales"
   ]
  },
  {
   "cell_type": "markdown",
   "metadata": {},
   "source": [
    "**Naive bayes**: basado en la **probabilidad condicional**"
   ]
  },
  {
   "cell_type": "code",
   "execution_count": null,
   "metadata": {},
   "outputs": [],
   "source": [
    "x         y                  y_estimado\n",
    "25        1 (reclama)            0\n",
    "35        0                      0\n",
    "41        0                      0\n",
    "28        1 (reclama)            0\n",
    "29        1 (reclama)            0\n",
    ".\n",
    ".\n",
    ".\n",
    "10k casos"
   ]
  },
  {
   "cell_type": "code",
   "execution_count": null,
   "metadata": {},
   "outputs": [],
   "source": [
    "Pr(x=¿?|y=1) = ¿?\n",
    "Pr(x=25|y=1) = 0.02\n",
    "Pr(x=26|y=1) = 0.03\n",
    "Pr(x=27|y=1) = 0.01\n",
    "Pr(x=28|y=1) = 0.04"
   ]
  },
  {
   "cell_type": "markdown",
   "metadata": {},
   "source": [
    "**¿Cómo soluciono?**\n",
    "- discretización"
   ]
  },
  {
   "cell_type": "code",
   "execution_count": null,
   "metadata": {},
   "outputs": [],
   "source": [
    "1= 20 -30\n",
    "2= 31 -45\n",
    "3= +45"
   ]
  },
  {
   "cell_type": "code",
   "execution_count": null,
   "metadata": {},
   "outputs": [],
   "source": [
    "Pr(x=1|y=1) = 0.5\n",
    "Pr(x=2|y=1) = 0.3\n",
    "Pr(x=3|y=1) = 0.2"
   ]
  },
  {
   "cell_type": "markdown",
   "metadata": {},
   "source": [
    "**árboles de decisión**"
   ]
  },
  {
   "cell_type": "markdown",
   "metadata": {},
   "source": [
    "**impureza** error del árbol (entropia y gini)"
   ]
  },
  {
   "cell_type": "markdown",
   "metadata": {},
   "source": [
    "- discretización por entropia."
   ]
  },
  {
   "cell_type": "markdown",
   "metadata": {},
   "source": [
    "técnicas de discretización:"
   ]
  },
  {
   "cell_type": "markdown",
   "metadata": {},
   "source": [
    "1. discretización por intervalos de igual amplitud\n",
    "2. discretización por intervalos de igual frecuencia (cuantil)\n",
    "3. discretización por k-means\n",
    "4. discretización por entropía"
   ]
  },
  {
   "cell_type": "markdown",
   "metadata": {},
   "source": [
    "**discretización por intervalos de igual amplitud**"
   ]
  },
  {
   "cell_type": "code",
   "execution_count": 2,
   "metadata": {},
   "outputs": [],
   "source": [
    "from sklearn.preprocessing import KBinsDiscretizer\n",
    "import math as m\n",
    "import pandas as pd\n",
    "import numpy as np"
   ]
  },
  {
   "cell_type": "code",
   "execution_count": 3,
   "metadata": {},
   "outputs": [],
   "source": [
    "data = pd.read_csv(\"D:/Python/1. Nivel I/7/datos/data.csv\")"
   ]
  },
  {
   "cell_type": "code",
   "execution_count": 4,
   "metadata": {},
   "outputs": [
    {
     "data": {
      "text/html": [
       "<div>\n",
       "<style scoped>\n",
       "    .dataframe tbody tr th:only-of-type {\n",
       "        vertical-align: middle;\n",
       "    }\n",
       "\n",
       "    .dataframe tbody tr th {\n",
       "        vertical-align: top;\n",
       "    }\n",
       "\n",
       "    .dataframe thead th {\n",
       "        text-align: right;\n",
       "    }\n",
       "</style>\n",
       "<table border=\"1\" class=\"dataframe\">\n",
       "  <thead>\n",
       "    <tr style=\"text-align: right;\">\n",
       "      <th></th>\n",
       "      <th>Unnamed: 0</th>\n",
       "      <th>rsrp</th>\n",
       "      <th>redireccion</th>\n",
       "      <th>cqi</th>\n",
       "      <th>incidentes</th>\n",
       "    </tr>\n",
       "  </thead>\n",
       "  <tbody>\n",
       "    <tr>\n",
       "      <th>0</th>\n",
       "      <td>0</td>\n",
       "      <td>-116.5000</td>\n",
       "      <td>90890.42778</td>\n",
       "      <td>8.138370</td>\n",
       "      <td>0</td>\n",
       "    </tr>\n",
       "    <tr>\n",
       "      <th>1</th>\n",
       "      <td>1</td>\n",
       "      <td>-115.1875</td>\n",
       "      <td>91193.46144</td>\n",
       "      <td>9.140266</td>\n",
       "      <td>0</td>\n",
       "    </tr>\n",
       "    <tr>\n",
       "      <th>2</th>\n",
       "      <td>2</td>\n",
       "      <td>-119.1250</td>\n",
       "      <td>91877.50918</td>\n",
       "      <td>7.808917</td>\n",
       "      <td>0</td>\n",
       "    </tr>\n",
       "    <tr>\n",
       "      <th>3</th>\n",
       "      <td>3</td>\n",
       "      <td>-111.8125</td>\n",
       "      <td>92049.63360</td>\n",
       "      <td>8.878271</td>\n",
       "      <td>0</td>\n",
       "    </tr>\n",
       "    <tr>\n",
       "      <th>4</th>\n",
       "      <td>4</td>\n",
       "      <td>-115.1875</td>\n",
       "      <td>92275.58028</td>\n",
       "      <td>9.051622</td>\n",
       "      <td>0</td>\n",
       "    </tr>\n",
       "  </tbody>\n",
       "</table>\n",
       "</div>"
      ],
      "text/plain": [
       "   Unnamed: 0      rsrp  redireccion       cqi  incidentes\n",
       "0           0 -116.5000  90890.42778  8.138370           0\n",
       "1           1 -115.1875  91193.46144  9.140266           0\n",
       "2           2 -119.1250  91877.50918  7.808917           0\n",
       "3           3 -111.8125  92049.63360  8.878271           0\n",
       "4           4 -115.1875  92275.58028  9.051622           0"
      ]
     },
     "execution_count": 4,
     "metadata": {},
     "output_type": "execute_result"
    }
   ],
   "source": [
    "data.head()"
   ]
  },
  {
   "cell_type": "code",
   "execution_count": 5,
   "metadata": {},
   "outputs": [],
   "source": [
    "data.drop(columns=\"Unnamed: 0\",axis=1, inplace=True)"
   ]
  },
  {
   "cell_type": "code",
   "execution_count": 6,
   "metadata": {},
   "outputs": [
    {
     "data": {
      "text/html": [
       "<div>\n",
       "<style scoped>\n",
       "    .dataframe tbody tr th:only-of-type {\n",
       "        vertical-align: middle;\n",
       "    }\n",
       "\n",
       "    .dataframe tbody tr th {\n",
       "        vertical-align: top;\n",
       "    }\n",
       "\n",
       "    .dataframe thead th {\n",
       "        text-align: right;\n",
       "    }\n",
       "</style>\n",
       "<table border=\"1\" class=\"dataframe\">\n",
       "  <thead>\n",
       "    <tr style=\"text-align: right;\">\n",
       "      <th></th>\n",
       "      <th>rsrp</th>\n",
       "      <th>redireccion</th>\n",
       "      <th>cqi</th>\n",
       "      <th>incidentes</th>\n",
       "    </tr>\n",
       "  </thead>\n",
       "  <tbody>\n",
       "    <tr>\n",
       "      <th>0</th>\n",
       "      <td>-116.5000</td>\n",
       "      <td>90890.42778</td>\n",
       "      <td>8.138370</td>\n",
       "      <td>0</td>\n",
       "    </tr>\n",
       "    <tr>\n",
       "      <th>1</th>\n",
       "      <td>-115.1875</td>\n",
       "      <td>91193.46144</td>\n",
       "      <td>9.140266</td>\n",
       "      <td>0</td>\n",
       "    </tr>\n",
       "    <tr>\n",
       "      <th>2</th>\n",
       "      <td>-119.1250</td>\n",
       "      <td>91877.50918</td>\n",
       "      <td>7.808917</td>\n",
       "      <td>0</td>\n",
       "    </tr>\n",
       "    <tr>\n",
       "      <th>3</th>\n",
       "      <td>-111.8125</td>\n",
       "      <td>92049.63360</td>\n",
       "      <td>8.878271</td>\n",
       "      <td>0</td>\n",
       "    </tr>\n",
       "    <tr>\n",
       "      <th>4</th>\n",
       "      <td>-115.1875</td>\n",
       "      <td>92275.58028</td>\n",
       "      <td>9.051622</td>\n",
       "      <td>0</td>\n",
       "    </tr>\n",
       "  </tbody>\n",
       "</table>\n",
       "</div>"
      ],
      "text/plain": [
       "       rsrp  redireccion       cqi  incidentes\n",
       "0 -116.5000  90890.42778  8.138370           0\n",
       "1 -115.1875  91193.46144  9.140266           0\n",
       "2 -119.1250  91877.50918  7.808917           0\n",
       "3 -111.8125  92049.63360  8.878271           0\n",
       "4 -115.1875  92275.58028  9.051622           0"
      ]
     },
     "execution_count": 6,
     "metadata": {},
     "output_type": "execute_result"
    }
   ],
   "source": [
    "data.head()"
   ]
  },
  {
   "cell_type": "code",
   "execution_count": 7,
   "metadata": {},
   "outputs": [
    {
     "data": {
      "text/plain": [
       "4.0703296661377"
      ]
     },
     "execution_count": 7,
     "metadata": {},
     "output_type": "execute_result"
    }
   ],
   "source": [
    "data[\"cqi\"].min()"
   ]
  },
  {
   "cell_type": "code",
   "execution_count": 8,
   "metadata": {},
   "outputs": [
    {
     "data": {
      "text/plain": [
       "11.62320369482"
      ]
     },
     "execution_count": 8,
     "metadata": {},
     "output_type": "execute_result"
    }
   ],
   "source": [
    "data[\"cqi\"].max()"
   ]
  },
  {
   "cell_type": "code",
   "execution_count": 9,
   "metadata": {},
   "outputs": [
    {
     "name": "stdout",
     "output_type": "stream",
     "text": [
      "7.552874028682301\n"
     ]
    }
   ],
   "source": [
    "rango = data[\"cqi\"].max()-data[\"cqi\"].min(); print(rango)"
   ]
  },
  {
   "cell_type": "markdown",
   "metadata": {},
   "source": [
    "**Cómo determino el número de categorías?**"
   ]
  },
  {
   "cell_type": "code",
   "execution_count": 14,
   "metadata": {},
   "outputs": [
    {
     "name": "stdout",
     "output_type": "stream",
     "text": [
      "12.0\n"
     ]
    }
   ],
   "source": [
    "sturges = round(1+m.log2(len(data)),0); print(sturges)"
   ]
  },
  {
   "cell_type": "code",
   "execution_count": 15,
   "metadata": {},
   "outputs": [
    {
     "data": {
      "text/plain": [
       "0.6294061690568584"
      ]
     },
     "execution_count": 15,
     "metadata": {},
     "output_type": "execute_result"
    }
   ],
   "source": [
    "rango/sturges"
   ]
  },
  {
   "cell_type": "code",
   "execution_count": 17,
   "metadata": {},
   "outputs": [
    {
     "data": {
      "text/plain": [
       "5.328812338113718"
      ]
     },
     "execution_count": 17,
     "metadata": {},
     "output_type": "execute_result"
    }
   ],
   "source": [
    "((rango/sturges)*2)+4.07"
   ]
  },
  {
   "cell_type": "code",
   "execution_count": null,
   "metadata": {},
   "outputs": [],
   "source": [
    "1 = 4.07 - 4.6994\n",
    "2 = 4.6995 - 5.3288\n",
    ".\n",
    ".\n",
    ".\n",
    ".\n",
    "12 =         - 11.6232"
   ]
  },
  {
   "cell_type": "markdown",
   "metadata": {},
   "source": [
    "**Nota**:este proceso de discretización estás afectado por la presencia de valores atípicos. No es recomendable aplicarlo cuando ustedes noten la presencia de valores atípicos."
   ]
  },
  {
   "cell_type": "code",
   "execution_count": 19,
   "metadata": {},
   "outputs": [],
   "source": [
    "amplitud = KBinsDiscretizer(n_bins=12, #número de categorías de la variable\n",
    "                           encode=\"ordinal\", # son de naturaleza ordinal\n",
    "                           strategy=\"uniform\") #uniform = discretizión por intervalos de igual amplitud"
   ]
  },
  {
   "cell_type": "code",
   "execution_count": 20,
   "metadata": {},
   "outputs": [],
   "source": [
    "data[\"cqi_disc_amplitud\"]=amplitud.fit_transform(data[[\"cqi\"]])"
   ]
  },
  {
   "cell_type": "code",
   "execution_count": 22,
   "metadata": {},
   "outputs": [
    {
     "data": {
      "text/html": [
       "<div>\n",
       "<style scoped>\n",
       "    .dataframe tbody tr th:only-of-type {\n",
       "        vertical-align: middle;\n",
       "    }\n",
       "\n",
       "    .dataframe tbody tr th {\n",
       "        vertical-align: top;\n",
       "    }\n",
       "\n",
       "    .dataframe thead th {\n",
       "        text-align: right;\n",
       "    }\n",
       "</style>\n",
       "<table border=\"1\" class=\"dataframe\">\n",
       "  <thead>\n",
       "    <tr style=\"text-align: right;\">\n",
       "      <th></th>\n",
       "      <th>rsrp</th>\n",
       "      <th>redireccion</th>\n",
       "      <th>cqi</th>\n",
       "      <th>incidentes</th>\n",
       "      <th>cqi_disc_amplitud</th>\n",
       "    </tr>\n",
       "  </thead>\n",
       "  <tbody>\n",
       "    <tr>\n",
       "      <th>0</th>\n",
       "      <td>-116.5000</td>\n",
       "      <td>90890.42778</td>\n",
       "      <td>8.138370</td>\n",
       "      <td>0</td>\n",
       "      <td>6.0</td>\n",
       "    </tr>\n",
       "    <tr>\n",
       "      <th>1</th>\n",
       "      <td>-115.1875</td>\n",
       "      <td>91193.46144</td>\n",
       "      <td>9.140266</td>\n",
       "      <td>0</td>\n",
       "      <td>8.0</td>\n",
       "    </tr>\n",
       "    <tr>\n",
       "      <th>2</th>\n",
       "      <td>-119.1250</td>\n",
       "      <td>91877.50918</td>\n",
       "      <td>7.808917</td>\n",
       "      <td>0</td>\n",
       "      <td>5.0</td>\n",
       "    </tr>\n",
       "    <tr>\n",
       "      <th>3</th>\n",
       "      <td>-111.8125</td>\n",
       "      <td>92049.63360</td>\n",
       "      <td>8.878271</td>\n",
       "      <td>0</td>\n",
       "      <td>7.0</td>\n",
       "    </tr>\n",
       "    <tr>\n",
       "      <th>4</th>\n",
       "      <td>-115.1875</td>\n",
       "      <td>92275.58028</td>\n",
       "      <td>9.051622</td>\n",
       "      <td>0</td>\n",
       "      <td>7.0</td>\n",
       "    </tr>\n",
       "  </tbody>\n",
       "</table>\n",
       "</div>"
      ],
      "text/plain": [
       "       rsrp  redireccion       cqi  incidentes  cqi_disc_amplitud\n",
       "0 -116.5000  90890.42778  8.138370           0                6.0\n",
       "1 -115.1875  91193.46144  9.140266           0                8.0\n",
       "2 -119.1250  91877.50918  7.808917           0                5.0\n",
       "3 -111.8125  92049.63360  8.878271           0                7.0\n",
       "4 -115.1875  92275.58028  9.051622           0                7.0"
      ]
     },
     "execution_count": 22,
     "metadata": {},
     "output_type": "execute_result"
    }
   ],
   "source": [
    "data.head()"
   ]
  },
  {
   "cell_type": "markdown",
   "metadata": {},
   "source": [
    "**discretización por intervalosd e igual frecuencia o discretización cuantil**"
   ]
  },
  {
   "cell_type": "code",
   "execution_count": 23,
   "metadata": {},
   "outputs": [],
   "source": [
    "datan = [4,3,2,6,8,2,5,6]"
   ]
  },
  {
   "cell_type": "markdown",
   "metadata": {},
   "source": [
    "**Paso 1**: ordenar de forma ascendente los valores de la variable"
   ]
  },
  {
   "cell_type": "code",
   "execution_count": 24,
   "metadata": {},
   "outputs": [],
   "source": [
    "datan = [2,2,3,4,5,6,6,8]"
   ]
  },
  {
   "cell_type": "markdown",
   "metadata": {},
   "source": [
    "**Paso 2** cuartilas [0.25,0.50, 0.75, 1]"
   ]
  },
  {
   "cell_type": "code",
   "execution_count": null,
   "metadata": {},
   "outputs": [],
   "source": [
    "categoría 1 = [2,2]\n",
    "categoría 2 = [3,4]\n",
    "categoría 3 = [5,6,6]\n",
    "categoría 4 = [8]"
   ]
  },
  {
   "cell_type": "code",
   "execution_count": 25,
   "metadata": {},
   "outputs": [],
   "source": [
    "cuartil = KBinsDiscretizer(n_bins=4, #número de categorías de la variable\n",
    "                           encode=\"ordinal\", # son de naturaleza ordinal\n",
    "                           strategy=\"quantile\") "
   ]
  },
  {
   "cell_type": "code",
   "execution_count": 26,
   "metadata": {},
   "outputs": [],
   "source": [
    "data[\"cqi_cuartil\"]=cuartil.fit_transform(data[[\"cqi\"]])"
   ]
  },
  {
   "cell_type": "code",
   "execution_count": 27,
   "metadata": {},
   "outputs": [
    {
     "data": {
      "text/html": [
       "<div>\n",
       "<style scoped>\n",
       "    .dataframe tbody tr th:only-of-type {\n",
       "        vertical-align: middle;\n",
       "    }\n",
       "\n",
       "    .dataframe tbody tr th {\n",
       "        vertical-align: top;\n",
       "    }\n",
       "\n",
       "    .dataframe thead th {\n",
       "        text-align: right;\n",
       "    }\n",
       "</style>\n",
       "<table border=\"1\" class=\"dataframe\">\n",
       "  <thead>\n",
       "    <tr style=\"text-align: right;\">\n",
       "      <th></th>\n",
       "      <th>rsrp</th>\n",
       "      <th>redireccion</th>\n",
       "      <th>cqi</th>\n",
       "      <th>incidentes</th>\n",
       "      <th>cqi_disc_amplitud</th>\n",
       "      <th>cqi_cuartil</th>\n",
       "    </tr>\n",
       "  </thead>\n",
       "  <tbody>\n",
       "    <tr>\n",
       "      <th>0</th>\n",
       "      <td>-116.5000</td>\n",
       "      <td>90890.42778</td>\n",
       "      <td>8.138370</td>\n",
       "      <td>0</td>\n",
       "      <td>6.0</td>\n",
       "      <td>1.0</td>\n",
       "    </tr>\n",
       "    <tr>\n",
       "      <th>1</th>\n",
       "      <td>-115.1875</td>\n",
       "      <td>91193.46144</td>\n",
       "      <td>9.140266</td>\n",
       "      <td>0</td>\n",
       "      <td>8.0</td>\n",
       "      <td>2.0</td>\n",
       "    </tr>\n",
       "    <tr>\n",
       "      <th>2</th>\n",
       "      <td>-119.1250</td>\n",
       "      <td>91877.50918</td>\n",
       "      <td>7.808917</td>\n",
       "      <td>0</td>\n",
       "      <td>5.0</td>\n",
       "      <td>0.0</td>\n",
       "    </tr>\n",
       "    <tr>\n",
       "      <th>3</th>\n",
       "      <td>-111.8125</td>\n",
       "      <td>92049.63360</td>\n",
       "      <td>8.878271</td>\n",
       "      <td>0</td>\n",
       "      <td>7.0</td>\n",
       "      <td>2.0</td>\n",
       "    </tr>\n",
       "    <tr>\n",
       "      <th>4</th>\n",
       "      <td>-115.1875</td>\n",
       "      <td>92275.58028</td>\n",
       "      <td>9.051622</td>\n",
       "      <td>0</td>\n",
       "      <td>7.0</td>\n",
       "      <td>2.0</td>\n",
       "    </tr>\n",
       "  </tbody>\n",
       "</table>\n",
       "</div>"
      ],
      "text/plain": [
       "       rsrp  redireccion       cqi  incidentes  cqi_disc_amplitud  cqi_cuartil\n",
       "0 -116.5000  90890.42778  8.138370           0                6.0          1.0\n",
       "1 -115.1875  91193.46144  9.140266           0                8.0          2.0\n",
       "2 -119.1250  91877.50918  7.808917           0                5.0          0.0\n",
       "3 -111.8125  92049.63360  8.878271           0                7.0          2.0\n",
       "4 -115.1875  92275.58028  9.051622           0                7.0          2.0"
      ]
     },
     "execution_count": 27,
     "metadata": {},
     "output_type": "execute_result"
    }
   ],
   "source": [
    "data.head()"
   ]
  },
  {
   "cell_type": "markdown",
   "metadata": {},
   "source": [
    "**Discretización por KMeans**"
   ]
  },
  {
   "cell_type": "markdown",
   "metadata": {},
   "source": [
    "<center><img src=\"https://miro.medium.com/max/963/1*Qu9vtRFFrQ1_4jj4Nu__BQ.jpeg\" width=\"700\"></center>"
   ]
  },
  {
   "cell_type": "code",
   "execution_count": 28,
   "metadata": {},
   "outputs": [],
   "source": [
    "datos = [23,25,22,29,36,41,38,18]"
   ]
  },
  {
   "cell_type": "code",
   "execution_count": 29,
   "metadata": {},
   "outputs": [],
   "source": [
    "c1 = 26\n",
    "c2 = 32"
   ]
  },
  {
   "cell_type": "code",
   "execution_count": 30,
   "metadata": {},
   "outputs": [],
   "source": [
    "data_cl = [1,1,1,2,2,2,2,1]"
   ]
  },
  {
   "cell_type": "code",
   "execution_count": 36,
   "metadata": {},
   "outputs": [],
   "source": [
    "c1 = 22\n",
    "c2 = 36"
   ]
  },
  {
   "cell_type": "code",
   "execution_count": 31,
   "metadata": {},
   "outputs": [],
   "source": [
    "data_cl = [1,1,1,1,2,2,2,1] #hasta que se dejen de reasignar las observaciones a otros clústers"
   ]
  },
  {
   "cell_type": "code",
   "execution_count": 34,
   "metadata": {},
   "outputs": [],
   "source": [
    "c1 = 23.4\n",
    "c2 = 38.3"
   ]
  },
  {
   "cell_type": "code",
   "execution_count": 35,
   "metadata": {},
   "outputs": [],
   "source": [
    "data_cl = [1,1,1,1,2,2,2,1] #hasta que se dejen de reasignar las observaciones a otros clústers"
   ]
  },
  {
   "cell_type": "code",
   "execution_count": 37,
   "metadata": {},
   "outputs": [],
   "source": [
    "df = pd.DataFrame(datos, columns=[\"edad\"])"
   ]
  },
  {
   "cell_type": "code",
   "execution_count": 38,
   "metadata": {},
   "outputs": [
    {
     "data": {
      "text/html": [
       "<div>\n",
       "<style scoped>\n",
       "    .dataframe tbody tr th:only-of-type {\n",
       "        vertical-align: middle;\n",
       "    }\n",
       "\n",
       "    .dataframe tbody tr th {\n",
       "        vertical-align: top;\n",
       "    }\n",
       "\n",
       "    .dataframe thead th {\n",
       "        text-align: right;\n",
       "    }\n",
       "</style>\n",
       "<table border=\"1\" class=\"dataframe\">\n",
       "  <thead>\n",
       "    <tr style=\"text-align: right;\">\n",
       "      <th></th>\n",
       "      <th>edad</th>\n",
       "    </tr>\n",
       "  </thead>\n",
       "  <tbody>\n",
       "    <tr>\n",
       "      <th>0</th>\n",
       "      <td>23</td>\n",
       "    </tr>\n",
       "    <tr>\n",
       "      <th>1</th>\n",
       "      <td>25</td>\n",
       "    </tr>\n",
       "    <tr>\n",
       "      <th>2</th>\n",
       "      <td>22</td>\n",
       "    </tr>\n",
       "    <tr>\n",
       "      <th>3</th>\n",
       "      <td>29</td>\n",
       "    </tr>\n",
       "    <tr>\n",
       "      <th>4</th>\n",
       "      <td>36</td>\n",
       "    </tr>\n",
       "    <tr>\n",
       "      <th>5</th>\n",
       "      <td>41</td>\n",
       "    </tr>\n",
       "    <tr>\n",
       "      <th>6</th>\n",
       "      <td>38</td>\n",
       "    </tr>\n",
       "    <tr>\n",
       "      <th>7</th>\n",
       "      <td>18</td>\n",
       "    </tr>\n",
       "  </tbody>\n",
       "</table>\n",
       "</div>"
      ],
      "text/plain": [
       "   edad\n",
       "0    23\n",
       "1    25\n",
       "2    22\n",
       "3    29\n",
       "4    36\n",
       "5    41\n",
       "6    38\n",
       "7    18"
      ]
     },
     "execution_count": 38,
     "metadata": {},
     "output_type": "execute_result"
    }
   ],
   "source": [
    "df"
   ]
  },
  {
   "cell_type": "code",
   "execution_count": 41,
   "metadata": {},
   "outputs": [],
   "source": [
    "kmeans = KBinsDiscretizer(n_bins=2,\n",
    "                           encode=\"ordinal\",\n",
    "                           strategy=\"kmeans\")"
   ]
  },
  {
   "cell_type": "code",
   "execution_count": 42,
   "metadata": {},
   "outputs": [],
   "source": [
    "df[\"edad_kmeans\"]=kmeans.fit_transform(df[[\"edad\"]])+1"
   ]
  },
  {
   "cell_type": "code",
   "execution_count": 43,
   "metadata": {},
   "outputs": [
    {
     "data": {
      "text/html": [
       "<div>\n",
       "<style scoped>\n",
       "    .dataframe tbody tr th:only-of-type {\n",
       "        vertical-align: middle;\n",
       "    }\n",
       "\n",
       "    .dataframe tbody tr th {\n",
       "        vertical-align: top;\n",
       "    }\n",
       "\n",
       "    .dataframe thead th {\n",
       "        text-align: right;\n",
       "    }\n",
       "</style>\n",
       "<table border=\"1\" class=\"dataframe\">\n",
       "  <thead>\n",
       "    <tr style=\"text-align: right;\">\n",
       "      <th></th>\n",
       "      <th>edad</th>\n",
       "      <th>edad_kmeans</th>\n",
       "    </tr>\n",
       "  </thead>\n",
       "  <tbody>\n",
       "    <tr>\n",
       "      <th>0</th>\n",
       "      <td>23</td>\n",
       "      <td>1.0</td>\n",
       "    </tr>\n",
       "    <tr>\n",
       "      <th>1</th>\n",
       "      <td>25</td>\n",
       "      <td>1.0</td>\n",
       "    </tr>\n",
       "    <tr>\n",
       "      <th>2</th>\n",
       "      <td>22</td>\n",
       "      <td>1.0</td>\n",
       "    </tr>\n",
       "    <tr>\n",
       "      <th>3</th>\n",
       "      <td>29</td>\n",
       "      <td>1.0</td>\n",
       "    </tr>\n",
       "    <tr>\n",
       "      <th>4</th>\n",
       "      <td>36</td>\n",
       "      <td>2.0</td>\n",
       "    </tr>\n",
       "    <tr>\n",
       "      <th>5</th>\n",
       "      <td>41</td>\n",
       "      <td>2.0</td>\n",
       "    </tr>\n",
       "    <tr>\n",
       "      <th>6</th>\n",
       "      <td>38</td>\n",
       "      <td>2.0</td>\n",
       "    </tr>\n",
       "    <tr>\n",
       "      <th>7</th>\n",
       "      <td>18</td>\n",
       "      <td>1.0</td>\n",
       "    </tr>\n",
       "  </tbody>\n",
       "</table>\n",
       "</div>"
      ],
      "text/plain": [
       "   edad  edad_kmeans\n",
       "0    23          1.0\n",
       "1    25          1.0\n",
       "2    22          1.0\n",
       "3    29          1.0\n",
       "4    36          2.0\n",
       "5    41          2.0\n",
       "6    38          2.0\n",
       "7    18          1.0"
      ]
     },
     "execution_count": 43,
     "metadata": {},
     "output_type": "execute_result"
    }
   ],
   "source": [
    "df"
   ]
  },
  {
   "cell_type": "code",
   "execution_count": null,
   "metadata": {},
   "outputs": [],
   "source": [
    "data_cl = [1,1,1,1,2,2,2,1]"
   ]
  },
  {
   "cell_type": "code",
   "execution_count": 45,
   "metadata": {},
   "outputs": [],
   "source": [
    "kmeans = KBinsDiscretizer(n_bins=2,\n",
    "                           encode=\"ordinal\",\n",
    "                           strategy=\"kmeans\")"
   ]
  },
  {
   "cell_type": "code",
   "execution_count": 49,
   "metadata": {},
   "outputs": [],
   "source": [
    "data[\"cqi_kmeans\"]=kmeans.fit_transform(data[[\"cqi\"]])+1"
   ]
  },
  {
   "cell_type": "code",
   "execution_count": 50,
   "metadata": {},
   "outputs": [
    {
     "data": {
      "text/html": [
       "<div>\n",
       "<style scoped>\n",
       "    .dataframe tbody tr th:only-of-type {\n",
       "        vertical-align: middle;\n",
       "    }\n",
       "\n",
       "    .dataframe tbody tr th {\n",
       "        vertical-align: top;\n",
       "    }\n",
       "\n",
       "    .dataframe thead th {\n",
       "        text-align: right;\n",
       "    }\n",
       "</style>\n",
       "<table border=\"1\" class=\"dataframe\">\n",
       "  <thead>\n",
       "    <tr style=\"text-align: right;\">\n",
       "      <th></th>\n",
       "      <th>rsrp</th>\n",
       "      <th>redireccion</th>\n",
       "      <th>cqi</th>\n",
       "      <th>incidentes</th>\n",
       "      <th>cqi_disc_amplitud</th>\n",
       "      <th>cqi_cuartil</th>\n",
       "      <th>cqi_kmeans</th>\n",
       "    </tr>\n",
       "  </thead>\n",
       "  <tbody>\n",
       "    <tr>\n",
       "      <th>0</th>\n",
       "      <td>-116.5000</td>\n",
       "      <td>90890.42778</td>\n",
       "      <td>8.138370</td>\n",
       "      <td>0</td>\n",
       "      <td>6.0</td>\n",
       "      <td>1.0</td>\n",
       "      <td>1.0</td>\n",
       "    </tr>\n",
       "    <tr>\n",
       "      <th>1</th>\n",
       "      <td>-115.1875</td>\n",
       "      <td>91193.46144</td>\n",
       "      <td>9.140266</td>\n",
       "      <td>0</td>\n",
       "      <td>8.0</td>\n",
       "      <td>2.0</td>\n",
       "      <td>2.0</td>\n",
       "    </tr>\n",
       "    <tr>\n",
       "      <th>2</th>\n",
       "      <td>-119.1250</td>\n",
       "      <td>91877.50918</td>\n",
       "      <td>7.808917</td>\n",
       "      <td>0</td>\n",
       "      <td>5.0</td>\n",
       "      <td>0.0</td>\n",
       "      <td>1.0</td>\n",
       "    </tr>\n",
       "    <tr>\n",
       "      <th>3</th>\n",
       "      <td>-111.8125</td>\n",
       "      <td>92049.63360</td>\n",
       "      <td>8.878271</td>\n",
       "      <td>0</td>\n",
       "      <td>7.0</td>\n",
       "      <td>2.0</td>\n",
       "      <td>2.0</td>\n",
       "    </tr>\n",
       "    <tr>\n",
       "      <th>4</th>\n",
       "      <td>-115.1875</td>\n",
       "      <td>92275.58028</td>\n",
       "      <td>9.051622</td>\n",
       "      <td>0</td>\n",
       "      <td>7.0</td>\n",
       "      <td>2.0</td>\n",
       "      <td>2.0</td>\n",
       "    </tr>\n",
       "  </tbody>\n",
       "</table>\n",
       "</div>"
      ],
      "text/plain": [
       "       rsrp  redireccion       cqi  incidentes  cqi_disc_amplitud  \\\n",
       "0 -116.5000  90890.42778  8.138370           0                6.0   \n",
       "1 -115.1875  91193.46144  9.140266           0                8.0   \n",
       "2 -119.1250  91877.50918  7.808917           0                5.0   \n",
       "3 -111.8125  92049.63360  8.878271           0                7.0   \n",
       "4 -115.1875  92275.58028  9.051622           0                7.0   \n",
       "\n",
       "   cqi_cuartil  cqi_kmeans  \n",
       "0          1.0         1.0  \n",
       "1          2.0         2.0  \n",
       "2          0.0         1.0  \n",
       "3          2.0         2.0  \n",
       "4          2.0         2.0  "
      ]
     },
     "execution_count": 50,
     "metadata": {},
     "output_type": "execute_result"
    }
   ],
   "source": [
    "data.head()"
   ]
  },
  {
   "cell_type": "code",
   "execution_count": null,
   "metadata": {},
   "outputs": [],
   "source": [
    "#############################################################################"
   ]
  },
  {
   "cell_type": "markdown",
   "metadata": {},
   "source": [
    "**Ingeniero de datos**"
   ]
  },
  {
   "cell_type": "markdown",
   "metadata": {},
   "source": [
    "**Canalización de preprocesamiento** (Pipeline)\n",
    "\n",
    "- Conocer las técnicas de ingeniería de características y prepocesamiento de datos."
   ]
  },
  {
   "cell_type": "markdown",
   "metadata": {},
   "source": [
    "**Científico de datos**"
   ]
  },
  {
   "cell_type": "markdown",
   "metadata": {},
   "source": [
    "**Canalización de modelamiento** (Pipeline)\n",
    "\n",
    "- Conocer los modelos de aprendizaje (algoritmo, evaluación , optimización de hiperparámetros, interpretabilidad)"
   ]
  },
  {
   "cell_type": "code",
   "execution_count": null,
   "metadata": {},
   "outputs": [],
   "source": [
    "#############################################################################"
   ]
  },
  {
   "cell_type": "markdown",
   "metadata": {},
   "source": [
    "**Discretización por entropia o discretización basada en árboles**"
   ]
  },
  {
   "cell_type": "markdown",
   "metadata": {},
   "source": [
    "- basada en un modelo de aprendizaje: árboles de decisión\n",
    "- la discretización de la variable x se realizará en función a la variable y (target)"
   ]
  },
  {
   "cell_type": "code",
   "execution_count": null,
   "metadata": {},
   "outputs": [],
   "source": [
    "x         y                  \n",
    "25        1 (reclama)            \n",
    "35        0                     \n",
    "41        0                     \n",
    "28        1 (reclama)            \n",
    "29        1 (reclama)           \n",
    ".\n",
    ".\n",
    ".\n",
    "10k casos"
   ]
  },
  {
   "cell_type": "code",
   "execution_count": 51,
   "metadata": {},
   "outputs": [],
   "source": [
    "r= 4000\n",
    "nr= 6000\n",
    "t=10000"
   ]
  },
  {
   "cell_type": "code",
   "execution_count": 55,
   "metadata": {},
   "outputs": [
    {
     "name": "stdout",
     "output_type": "stream",
     "text": [
      "0.6730116670092565\n"
     ]
    }
   ],
   "source": [
    "impureza_ini = abs(((r/t)*m.log(r/t))+((nr/t)*m.log(nr/t))); print(impureza_ini)"
   ]
  },
  {
   "cell_type": "markdown",
   "metadata": {},
   "source": [
    "**Se va a discretizar la variable x utilizando diferentes puntos de corte (puntos de discretización) y ganará el que reduzca la impureza del árbol**"
   ]
  },
  {
   "cell_type": "markdown",
   "metadata": {},
   "source": [
    "- La impureza inicial del árbol es 0.673 y la impureza final usando el punto de corte \"30 años\" es 0.672\n",
    "- La impureza inicial del árbol es 0.673 y la impureza final usando el punto de corte \"38 años\" es 0.35\n",
    "- La impureza inicial del árbol es 0.673 y la impureza final usando el punto de corte \"40 años\" es 0.27"
   ]
  },
  {
   "cell_type": "markdown",
   "metadata": {},
   "source": [
    "**Seleccionamos el punto de corte de discretización** que reduce la impureza inicial de forma más significativa"
   ]
  },
  {
   "cell_type": "code",
   "execution_count": 56,
   "metadata": {},
   "outputs": [
    {
     "data": {
      "text/plain": [
       "'C:\\\\Users\\\\SOCIAL DATA'"
      ]
     },
     "execution_count": 56,
     "metadata": {},
     "output_type": "execute_result"
    }
   ],
   "source": [
    "import os\n",
    "os.getcwd()"
   ]
  },
  {
   "cell_type": "code",
   "execution_count": 57,
   "metadata": {},
   "outputs": [],
   "source": [
    "from MDLP import MDLP_Discretizer"
   ]
  },
  {
   "cell_type": "code",
   "execution_count": 58,
   "metadata": {},
   "outputs": [
    {
     "data": {
      "text/html": [
       "<div>\n",
       "<style scoped>\n",
       "    .dataframe tbody tr th:only-of-type {\n",
       "        vertical-align: middle;\n",
       "    }\n",
       "\n",
       "    .dataframe tbody tr th {\n",
       "        vertical-align: top;\n",
       "    }\n",
       "\n",
       "    .dataframe thead th {\n",
       "        text-align: right;\n",
       "    }\n",
       "</style>\n",
       "<table border=\"1\" class=\"dataframe\">\n",
       "  <thead>\n",
       "    <tr style=\"text-align: right;\">\n",
       "      <th></th>\n",
       "      <th>rsrp</th>\n",
       "      <th>redireccion</th>\n",
       "      <th>cqi</th>\n",
       "      <th>incidentes</th>\n",
       "      <th>cqi_disc_amplitud</th>\n",
       "      <th>cqi_cuartil</th>\n",
       "      <th>cqi_kmeans</th>\n",
       "    </tr>\n",
       "  </thead>\n",
       "  <tbody>\n",
       "    <tr>\n",
       "      <th>0</th>\n",
       "      <td>-116.5000</td>\n",
       "      <td>90890.42778</td>\n",
       "      <td>8.138370</td>\n",
       "      <td>0</td>\n",
       "      <td>6.0</td>\n",
       "      <td>1.0</td>\n",
       "      <td>1.0</td>\n",
       "    </tr>\n",
       "    <tr>\n",
       "      <th>1</th>\n",
       "      <td>-115.1875</td>\n",
       "      <td>91193.46144</td>\n",
       "      <td>9.140266</td>\n",
       "      <td>0</td>\n",
       "      <td>8.0</td>\n",
       "      <td>2.0</td>\n",
       "      <td>2.0</td>\n",
       "    </tr>\n",
       "    <tr>\n",
       "      <th>2</th>\n",
       "      <td>-119.1250</td>\n",
       "      <td>91877.50918</td>\n",
       "      <td>7.808917</td>\n",
       "      <td>0</td>\n",
       "      <td>5.0</td>\n",
       "      <td>0.0</td>\n",
       "      <td>1.0</td>\n",
       "    </tr>\n",
       "    <tr>\n",
       "      <th>3</th>\n",
       "      <td>-111.8125</td>\n",
       "      <td>92049.63360</td>\n",
       "      <td>8.878271</td>\n",
       "      <td>0</td>\n",
       "      <td>7.0</td>\n",
       "      <td>2.0</td>\n",
       "      <td>2.0</td>\n",
       "    </tr>\n",
       "    <tr>\n",
       "      <th>4</th>\n",
       "      <td>-115.1875</td>\n",
       "      <td>92275.58028</td>\n",
       "      <td>9.051622</td>\n",
       "      <td>0</td>\n",
       "      <td>7.0</td>\n",
       "      <td>2.0</td>\n",
       "      <td>2.0</td>\n",
       "    </tr>\n",
       "  </tbody>\n",
       "</table>\n",
       "</div>"
      ],
      "text/plain": [
       "       rsrp  redireccion       cqi  incidentes  cqi_disc_amplitud  \\\n",
       "0 -116.5000  90890.42778  8.138370           0                6.0   \n",
       "1 -115.1875  91193.46144  9.140266           0                8.0   \n",
       "2 -119.1250  91877.50918  7.808917           0                5.0   \n",
       "3 -111.8125  92049.63360  8.878271           0                7.0   \n",
       "4 -115.1875  92275.58028  9.051622           0                7.0   \n",
       "\n",
       "   cqi_cuartil  cqi_kmeans  \n",
       "0          1.0         1.0  \n",
       "1          2.0         2.0  \n",
       "2          0.0         1.0  \n",
       "3          2.0         2.0  \n",
       "4          2.0         2.0  "
      ]
     },
     "execution_count": 58,
     "metadata": {},
     "output_type": "execute_result"
    }
   ],
   "source": [
    "data.head()"
   ]
  },
  {
   "cell_type": "code",
   "execution_count": 59,
   "metadata": {},
   "outputs": [],
   "source": [
    "x=data.iloc[:,0:3].values"
   ]
  },
  {
   "cell_type": "code",
   "execution_count": 60,
   "metadata": {},
   "outputs": [],
   "source": [
    "y=data.iloc[:,3].values"
   ]
  },
  {
   "cell_type": "code",
   "execution_count": 61,
   "metadata": {},
   "outputs": [],
   "source": [
    "ba=[2]#posicion de la columna a discretizar"
   ]
  },
  {
   "cell_type": "code",
   "execution_count": 62,
   "metadata": {},
   "outputs": [],
   "source": [
    "n_predictores = np.array(ba)"
   ]
  },
  {
   "cell_type": "code",
   "execution_count": 63,
   "metadata": {},
   "outputs": [
    {
     "data": {
      "text/plain": [
       "array([2])"
      ]
     },
     "execution_count": 63,
     "metadata": {},
     "output_type": "execute_result"
    }
   ],
   "source": [
    "n_predictores"
   ]
  },
  {
   "cell_type": "code",
   "execution_count": 64,
   "metadata": {},
   "outputs": [],
   "source": [
    "discretizer = MDLP_Discretizer(features=n_predictores)"
   ]
  },
  {
   "cell_type": "code",
   "execution_count": 65,
   "metadata": {},
   "outputs": [
    {
     "data": {
      "text/plain": [
       "<MDLP.MDLP_Discretizer at 0x25fd63b9760>"
      ]
     },
     "execution_count": 65,
     "metadata": {},
     "output_type": "execute_result"
    }
   ],
   "source": [
    "discretizer.fit(x,y)"
   ]
  },
  {
   "cell_type": "code",
   "execution_count": 69,
   "metadata": {},
   "outputs": [],
   "source": [
    "data[\"cqi_entropia\"]=discretizer.transform(x)[:,2]+1"
   ]
  },
  {
   "cell_type": "code",
   "execution_count": 70,
   "metadata": {},
   "outputs": [
    {
     "data": {
      "text/html": [
       "<div>\n",
       "<style scoped>\n",
       "    .dataframe tbody tr th:only-of-type {\n",
       "        vertical-align: middle;\n",
       "    }\n",
       "\n",
       "    .dataframe tbody tr th {\n",
       "        vertical-align: top;\n",
       "    }\n",
       "\n",
       "    .dataframe thead th {\n",
       "        text-align: right;\n",
       "    }\n",
       "</style>\n",
       "<table border=\"1\" class=\"dataframe\">\n",
       "  <thead>\n",
       "    <tr style=\"text-align: right;\">\n",
       "      <th></th>\n",
       "      <th>rsrp</th>\n",
       "      <th>redireccion</th>\n",
       "      <th>cqi</th>\n",
       "      <th>incidentes</th>\n",
       "      <th>cqi_disc_amplitud</th>\n",
       "      <th>cqi_cuartil</th>\n",
       "      <th>cqi_kmeans</th>\n",
       "      <th>cqi_entropia</th>\n",
       "    </tr>\n",
       "  </thead>\n",
       "  <tbody>\n",
       "    <tr>\n",
       "      <th>0</th>\n",
       "      <td>-116.5000</td>\n",
       "      <td>90890.42778</td>\n",
       "      <td>8.138370</td>\n",
       "      <td>0</td>\n",
       "      <td>6.0</td>\n",
       "      <td>1.0</td>\n",
       "      <td>1.0</td>\n",
       "      <td>1.0</td>\n",
       "    </tr>\n",
       "    <tr>\n",
       "      <th>1</th>\n",
       "      <td>-115.1875</td>\n",
       "      <td>91193.46144</td>\n",
       "      <td>9.140266</td>\n",
       "      <td>0</td>\n",
       "      <td>8.0</td>\n",
       "      <td>2.0</td>\n",
       "      <td>2.0</td>\n",
       "      <td>2.0</td>\n",
       "    </tr>\n",
       "    <tr>\n",
       "      <th>2</th>\n",
       "      <td>-119.1250</td>\n",
       "      <td>91877.50918</td>\n",
       "      <td>7.808917</td>\n",
       "      <td>0</td>\n",
       "      <td>5.0</td>\n",
       "      <td>0.0</td>\n",
       "      <td>1.0</td>\n",
       "      <td>1.0</td>\n",
       "    </tr>\n",
       "    <tr>\n",
       "      <th>3</th>\n",
       "      <td>-111.8125</td>\n",
       "      <td>92049.63360</td>\n",
       "      <td>8.878271</td>\n",
       "      <td>0</td>\n",
       "      <td>7.0</td>\n",
       "      <td>2.0</td>\n",
       "      <td>2.0</td>\n",
       "      <td>2.0</td>\n",
       "    </tr>\n",
       "    <tr>\n",
       "      <th>4</th>\n",
       "      <td>-115.1875</td>\n",
       "      <td>92275.58028</td>\n",
       "      <td>9.051622</td>\n",
       "      <td>0</td>\n",
       "      <td>7.0</td>\n",
       "      <td>2.0</td>\n",
       "      <td>2.0</td>\n",
       "      <td>2.0</td>\n",
       "    </tr>\n",
       "  </tbody>\n",
       "</table>\n",
       "</div>"
      ],
      "text/plain": [
       "       rsrp  redireccion       cqi  incidentes  cqi_disc_amplitud  \\\n",
       "0 -116.5000  90890.42778  8.138370           0                6.0   \n",
       "1 -115.1875  91193.46144  9.140266           0                8.0   \n",
       "2 -119.1250  91877.50918  7.808917           0                5.0   \n",
       "3 -111.8125  92049.63360  8.878271           0                7.0   \n",
       "4 -115.1875  92275.58028  9.051622           0                7.0   \n",
       "\n",
       "   cqi_cuartil  cqi_kmeans  cqi_entropia  \n",
       "0          1.0         1.0           1.0  \n",
       "1          2.0         2.0           2.0  \n",
       "2          0.0         1.0           1.0  \n",
       "3          2.0         2.0           2.0  \n",
       "4          2.0         2.0           2.0  "
      ]
     },
     "execution_count": 70,
     "metadata": {},
     "output_type": "execute_result"
    }
   ],
   "source": [
    "data.head()"
   ]
  },
  {
   "cell_type": "code",
   "execution_count": null,
   "metadata": {},
   "outputs": [],
   "source": [
    "#################################################################################"
   ]
  },
  {
   "cell_type": "markdown",
   "metadata": {},
   "source": [
    "**Escalimiento de variables**"
   ]
  },
  {
   "cell_type": "markdown",
   "metadata": {},
   "source": [
    "- algoritmos o modelos de agrupamiento de observaciones como K-means & AGNES (clúster jerárquico aglomerativo)\n",
    "- técnicas de reducción de dimensionalidad: PCA & FA."
   ]
  },
  {
   "cell_type": "markdown",
   "metadata": {},
   "source": [
    "Imputo (valores faltantes) - Escalo (escala de medida) - Reducces (multicolinealidad de datos) "
   ]
  },
  {
   "cell_type": "markdown",
   "metadata": {},
   "source": [
    "**dos técnicas**"
   ]
  },
  {
   "cell_type": "markdown",
   "metadata": {},
   "source": [
    "**Normalización**"
   ]
  },
  {
   "cell_type": "code",
   "execution_count": 71,
   "metadata": {},
   "outputs": [],
   "source": [
    "edad = [23,25,27,39,25,30,28,32]"
   ]
  },
  {
   "cell_type": "code",
   "execution_count": 72,
   "metadata": {},
   "outputs": [],
   "source": [
    "mini=23\n",
    "maxi=39"
   ]
  },
  {
   "cell_type": "code",
   "execution_count": 76,
   "metadata": {},
   "outputs": [
    {
     "data": {
      "text/plain": [
       "1.0"
      ]
     },
     "execution_count": 76,
     "metadata": {},
     "output_type": "execute_result"
    }
   ],
   "source": [
    "(39-mini)/(maxi-mini)"
   ]
  },
  {
   "cell_type": "markdown",
   "metadata": {},
   "source": [
    "**Nota**: transforma el espacio original de comportamiento de los datos"
   ]
  },
  {
   "cell_type": "markdown",
   "metadata": {},
   "source": [
    "**Estandarización**"
   ]
  },
  {
   "cell_type": "code",
   "execution_count": 83,
   "metadata": {},
   "outputs": [],
   "source": [
    "import statistics\n",
    "st_dev=statistics.stdev(edad)"
   ]
  },
  {
   "cell_type": "code",
   "execution_count": 84,
   "metadata": {},
   "outputs": [],
   "source": [
    "st_mean=statistics.mean(edad)"
   ]
  },
  {
   "cell_type": "code",
   "execution_count": 87,
   "metadata": {},
   "outputs": [
    {
     "data": {
      "text/plain": [
       "-0.31879821581291556"
      ]
     },
     "execution_count": 87,
     "metadata": {},
     "output_type": "execute_result"
    }
   ],
   "source": [
    "(27-st_mean)/st_dev"
   ]
  },
  {
   "cell_type": "markdown",
   "metadata": {},
   "source": [
    "**Nota**: sin afectar el comportamiento (transformar) original de la variable"
   ]
  },
  {
   "cell_type": "code",
   "execution_count": 113,
   "metadata": {},
   "outputs": [],
   "source": [
    "import pandas as pd\n",
    "from sklearn.model_selection import train_test_split"
   ]
  },
  {
   "cell_type": "code",
   "execution_count": 114,
   "metadata": {},
   "outputs": [],
   "source": [
    "df = pd.read_csv(\"D:/Python/1. Nivel I/9/datos/data_credit.csv\",\n",
    "                sep=\",\",\n",
    "                encoding=\"ISO-8859-1\")"
   ]
  },
  {
   "cell_type": "code",
   "execution_count": 115,
   "metadata": {},
   "outputs": [
    {
     "data": {
      "text/html": [
       "<div>\n",
       "<style scoped>\n",
       "    .dataframe tbody tr th:only-of-type {\n",
       "        vertical-align: middle;\n",
       "    }\n",
       "\n",
       "    .dataframe tbody tr th {\n",
       "        vertical-align: top;\n",
       "    }\n",
       "\n",
       "    .dataframe thead th {\n",
       "        text-align: right;\n",
       "    }\n",
       "</style>\n",
       "<table border=\"1\" class=\"dataframe\">\n",
       "  <thead>\n",
       "    <tr style=\"text-align: right;\">\n",
       "      <th></th>\n",
       "      <th>duration</th>\n",
       "      <th>chist</th>\n",
       "      <th>reason</th>\n",
       "      <th>camt</th>\n",
       "      <th>telephne</th>\n",
       "      <th>lenemp</th>\n",
       "      <th>instrate</th>\n",
       "      <th>perstat</th>\n",
       "      <th>residlen</th>\n",
       "      <th>prpownr</th>\n",
       "      <th>age</th>\n",
       "      <th>housng</th>\n",
       "      <th>numcred</th>\n",
       "      <th>emptype</th>\n",
       "      <th>numliab</th>\n",
       "      <th>customer</th>\n",
       "    </tr>\n",
       "  </thead>\n",
       "  <tbody>\n",
       "    <tr>\n",
       "      <th>0</th>\n",
       "      <td>6.0</td>\n",
       "      <td>5.0</td>\n",
       "      <td>4.0</td>\n",
       "      <td>1169.0</td>\n",
       "      <td>0.0</td>\n",
       "      <td>4.0</td>\n",
       "      <td>4.0</td>\n",
       "      <td>3.0</td>\n",
       "      <td>4.0</td>\n",
       "      <td>1.0</td>\n",
       "      <td>67.0</td>\n",
       "      <td>2.0</td>\n",
       "      <td>2.0</td>\n",
       "      <td>3.0</td>\n",
       "      <td>1.0</td>\n",
       "      <td>1.0</td>\n",
       "    </tr>\n",
       "    <tr>\n",
       "      <th>1</th>\n",
       "      <td>48.0</td>\n",
       "      <td>3.0</td>\n",
       "      <td>4.0</td>\n",
       "      <td>5951.0</td>\n",
       "      <td>1.0</td>\n",
       "      <td>2.0</td>\n",
       "      <td>2.0</td>\n",
       "      <td>2.0</td>\n",
       "      <td>2.0</td>\n",
       "      <td>1.0</td>\n",
       "      <td>22.0</td>\n",
       "      <td>2.0</td>\n",
       "      <td>1.0</td>\n",
       "      <td>3.0</td>\n",
       "      <td>1.0</td>\n",
       "      <td>2.0</td>\n",
       "    </tr>\n",
       "    <tr>\n",
       "      <th>2</th>\n",
       "      <td>12.0</td>\n",
       "      <td>5.0</td>\n",
       "      <td>7.0</td>\n",
       "      <td>2096.0</td>\n",
       "      <td>1.0</td>\n",
       "      <td>3.0</td>\n",
       "      <td>2.0</td>\n",
       "      <td>3.0</td>\n",
       "      <td>3.0</td>\n",
       "      <td>1.0</td>\n",
       "      <td>49.0</td>\n",
       "      <td>2.0</td>\n",
       "      <td>1.0</td>\n",
       "      <td>2.0</td>\n",
       "      <td>2.0</td>\n",
       "      <td>1.0</td>\n",
       "    </tr>\n",
       "    <tr>\n",
       "      <th>3</th>\n",
       "      <td>42.0</td>\n",
       "      <td>3.0</td>\n",
       "      <td>3.0</td>\n",
       "      <td>7882.0</td>\n",
       "      <td>1.0</td>\n",
       "      <td>3.0</td>\n",
       "      <td>2.0</td>\n",
       "      <td>3.0</td>\n",
       "      <td>4.0</td>\n",
       "      <td>2.0</td>\n",
       "      <td>45.0</td>\n",
       "      <td>3.0</td>\n",
       "      <td>1.0</td>\n",
       "      <td>3.0</td>\n",
       "      <td>2.0</td>\n",
       "      <td>1.0</td>\n",
       "    </tr>\n",
       "    <tr>\n",
       "      <th>4</th>\n",
       "      <td>24.0</td>\n",
       "      <td>4.0</td>\n",
       "      <td>1.0</td>\n",
       "      <td>4870.0</td>\n",
       "      <td>1.0</td>\n",
       "      <td>2.0</td>\n",
       "      <td>3.0</td>\n",
       "      <td>3.0</td>\n",
       "      <td>4.0</td>\n",
       "      <td>4.0</td>\n",
       "      <td>53.0</td>\n",
       "      <td>3.0</td>\n",
       "      <td>2.0</td>\n",
       "      <td>3.0</td>\n",
       "      <td>2.0</td>\n",
       "      <td>2.0</td>\n",
       "    </tr>\n",
       "  </tbody>\n",
       "</table>\n",
       "</div>"
      ],
      "text/plain": [
       "   duration  chist  reason    camt  telephne  lenemp  instrate  perstat  \\\n",
       "0       6.0    5.0     4.0  1169.0       0.0     4.0       4.0      3.0   \n",
       "1      48.0    3.0     4.0  5951.0       1.0     2.0       2.0      2.0   \n",
       "2      12.0    5.0     7.0  2096.0       1.0     3.0       2.0      3.0   \n",
       "3      42.0    3.0     3.0  7882.0       1.0     3.0       2.0      3.0   \n",
       "4      24.0    4.0     1.0  4870.0       1.0     2.0       3.0      3.0   \n",
       "\n",
       "   residlen  prpownr   age  housng  numcred  emptype  numliab  customer  \n",
       "0       4.0      1.0  67.0     2.0      2.0      3.0      1.0       1.0  \n",
       "1       2.0      1.0  22.0     2.0      1.0      3.0      1.0       2.0  \n",
       "2       3.0      1.0  49.0     2.0      1.0      2.0      2.0       1.0  \n",
       "3       4.0      2.0  45.0     3.0      1.0      3.0      2.0       1.0  \n",
       "4       4.0      4.0  53.0     3.0      2.0      3.0      2.0       2.0  "
      ]
     },
     "execution_count": 115,
     "metadata": {},
     "output_type": "execute_result"
    }
   ],
   "source": [
    "df.head()"
   ]
  },
  {
   "cell_type": "code",
   "execution_count": 116,
   "metadata": {},
   "outputs": [
    {
     "data": {
      "text/html": [
       "<div>\n",
       "<style scoped>\n",
       "    .dataframe tbody tr th:only-of-type {\n",
       "        vertical-align: middle;\n",
       "    }\n",
       "\n",
       "    .dataframe tbody tr th {\n",
       "        vertical-align: top;\n",
       "    }\n",
       "\n",
       "    .dataframe thead th {\n",
       "        text-align: right;\n",
       "    }\n",
       "</style>\n",
       "<table border=\"1\" class=\"dataframe\">\n",
       "  <thead>\n",
       "    <tr style=\"text-align: right;\">\n",
       "      <th></th>\n",
       "      <th>duration</th>\n",
       "      <th>chist</th>\n",
       "      <th>reason</th>\n",
       "      <th>camt</th>\n",
       "      <th>telephne</th>\n",
       "      <th>lenemp</th>\n",
       "      <th>instrate</th>\n",
       "      <th>perstat</th>\n",
       "      <th>residlen</th>\n",
       "      <th>prpownr</th>\n",
       "      <th>age</th>\n",
       "      <th>housng</th>\n",
       "      <th>numcred</th>\n",
       "      <th>emptype</th>\n",
       "      <th>numliab</th>\n",
       "      <th>customer</th>\n",
       "    </tr>\n",
       "  </thead>\n",
       "  <tbody>\n",
       "    <tr>\n",
       "      <th>995</th>\n",
       "      <td>12.0</td>\n",
       "      <td>3.0</td>\n",
       "      <td>3.0</td>\n",
       "      <td>1736.0</td>\n",
       "      <td>1.0</td>\n",
       "      <td>3.0</td>\n",
       "      <td>3.0</td>\n",
       "      <td>2.0</td>\n",
       "      <td>4.0</td>\n",
       "      <td>1.0</td>\n",
       "      <td>31.0</td>\n",
       "      <td>2.0</td>\n",
       "      <td>1.0</td>\n",
       "      <td>2.0</td>\n",
       "      <td>1.0</td>\n",
       "      <td>1.0</td>\n",
       "    </tr>\n",
       "    <tr>\n",
       "      <th>996</th>\n",
       "      <td>30.0</td>\n",
       "      <td>3.0</td>\n",
       "      <td>2.0</td>\n",
       "      <td>3857.0</td>\n",
       "      <td>0.0</td>\n",
       "      <td>2.0</td>\n",
       "      <td>4.0</td>\n",
       "      <td>1.0</td>\n",
       "      <td>4.0</td>\n",
       "      <td>2.0</td>\n",
       "      <td>40.0</td>\n",
       "      <td>2.0</td>\n",
       "      <td>1.0</td>\n",
       "      <td>4.0</td>\n",
       "      <td>1.0</td>\n",
       "      <td>1.0</td>\n",
       "    </tr>\n",
       "    <tr>\n",
       "      <th>997</th>\n",
       "      <td>12.0</td>\n",
       "      <td>3.0</td>\n",
       "      <td>4.0</td>\n",
       "      <td>804.0</td>\n",
       "      <td>1.0</td>\n",
       "      <td>4.0</td>\n",
       "      <td>4.0</td>\n",
       "      <td>3.0</td>\n",
       "      <td>4.0</td>\n",
       "      <td>3.0</td>\n",
       "      <td>38.0</td>\n",
       "      <td>2.0</td>\n",
       "      <td>1.0</td>\n",
       "      <td>3.0</td>\n",
       "      <td>1.0</td>\n",
       "      <td>1.0</td>\n",
       "    </tr>\n",
       "    <tr>\n",
       "      <th>998</th>\n",
       "      <td>45.0</td>\n",
       "      <td>3.0</td>\n",
       "      <td>4.0</td>\n",
       "      <td>1845.0</td>\n",
       "      <td>0.0</td>\n",
       "      <td>2.0</td>\n",
       "      <td>4.0</td>\n",
       "      <td>3.0</td>\n",
       "      <td>4.0</td>\n",
       "      <td>4.0</td>\n",
       "      <td>23.0</td>\n",
       "      <td>3.0</td>\n",
       "      <td>1.0</td>\n",
       "      <td>3.0</td>\n",
       "      <td>1.0</td>\n",
       "      <td>2.0</td>\n",
       "    </tr>\n",
       "    <tr>\n",
       "      <th>999</th>\n",
       "      <td>45.0</td>\n",
       "      <td>5.0</td>\n",
       "      <td>2.0</td>\n",
       "      <td>4576.0</td>\n",
       "      <td>1.0</td>\n",
       "      <td>5.0</td>\n",
       "      <td>3.0</td>\n",
       "      <td>3.0</td>\n",
       "      <td>4.0</td>\n",
       "      <td>3.0</td>\n",
       "      <td>27.0</td>\n",
       "      <td>2.0</td>\n",
       "      <td>1.0</td>\n",
       "      <td>3.0</td>\n",
       "      <td>1.0</td>\n",
       "      <td>1.0</td>\n",
       "    </tr>\n",
       "  </tbody>\n",
       "</table>\n",
       "</div>"
      ],
      "text/plain": [
       "     duration  chist  reason    camt  telephne  lenemp  instrate  perstat  \\\n",
       "995      12.0    3.0     3.0  1736.0       1.0     3.0       3.0      2.0   \n",
       "996      30.0    3.0     2.0  3857.0       0.0     2.0       4.0      1.0   \n",
       "997      12.0    3.0     4.0   804.0       1.0     4.0       4.0      3.0   \n",
       "998      45.0    3.0     4.0  1845.0       0.0     2.0       4.0      3.0   \n",
       "999      45.0    5.0     2.0  4576.0       1.0     5.0       3.0      3.0   \n",
       "\n",
       "     residlen  prpownr   age  housng  numcred  emptype  numliab  customer  \n",
       "995       4.0      1.0  31.0     2.0      1.0      2.0      1.0       1.0  \n",
       "996       4.0      2.0  40.0     2.0      1.0      4.0      1.0       1.0  \n",
       "997       4.0      3.0  38.0     2.0      1.0      3.0      1.0       1.0  \n",
       "998       4.0      4.0  23.0     3.0      1.0      3.0      1.0       2.0  \n",
       "999       4.0      3.0  27.0     2.0      1.0      3.0      1.0       1.0  "
      ]
     },
     "execution_count": 116,
     "metadata": {},
     "output_type": "execute_result"
    }
   ],
   "source": [
    "df.tail()"
   ]
  },
  {
   "cell_type": "code",
   "execution_count": 92,
   "metadata": {},
   "outputs": [],
   "source": [
    "df = df[[\"duration\",\"camt\",\"age\",\"customer\"]]"
   ]
  },
  {
   "cell_type": "code",
   "execution_count": 94,
   "metadata": {},
   "outputs": [
    {
     "data": {
      "text/html": [
       "<div>\n",
       "<style scoped>\n",
       "    .dataframe tbody tr th:only-of-type {\n",
       "        vertical-align: middle;\n",
       "    }\n",
       "\n",
       "    .dataframe tbody tr th {\n",
       "        vertical-align: top;\n",
       "    }\n",
       "\n",
       "    .dataframe thead th {\n",
       "        text-align: right;\n",
       "    }\n",
       "</style>\n",
       "<table border=\"1\" class=\"dataframe\">\n",
       "  <thead>\n",
       "    <tr style=\"text-align: right;\">\n",
       "      <th></th>\n",
       "      <th>duration</th>\n",
       "      <th>camt</th>\n",
       "      <th>age</th>\n",
       "      <th>customer</th>\n",
       "    </tr>\n",
       "  </thead>\n",
       "  <tbody>\n",
       "    <tr>\n",
       "      <th>0</th>\n",
       "      <td>6.0</td>\n",
       "      <td>1169.0</td>\n",
       "      <td>67.0</td>\n",
       "      <td>1.0</td>\n",
       "    </tr>\n",
       "    <tr>\n",
       "      <th>1</th>\n",
       "      <td>48.0</td>\n",
       "      <td>5951.0</td>\n",
       "      <td>22.0</td>\n",
       "      <td>2.0</td>\n",
       "    </tr>\n",
       "    <tr>\n",
       "      <th>2</th>\n",
       "      <td>12.0</td>\n",
       "      <td>2096.0</td>\n",
       "      <td>49.0</td>\n",
       "      <td>1.0</td>\n",
       "    </tr>\n",
       "    <tr>\n",
       "      <th>3</th>\n",
       "      <td>42.0</td>\n",
       "      <td>7882.0</td>\n",
       "      <td>45.0</td>\n",
       "      <td>1.0</td>\n",
       "    </tr>\n",
       "    <tr>\n",
       "      <th>4</th>\n",
       "      <td>24.0</td>\n",
       "      <td>4870.0</td>\n",
       "      <td>53.0</td>\n",
       "      <td>2.0</td>\n",
       "    </tr>\n",
       "  </tbody>\n",
       "</table>\n",
       "</div>"
      ],
      "text/plain": [
       "   duration    camt   age  customer\n",
       "0       6.0  1169.0  67.0       1.0\n",
       "1      48.0  5951.0  22.0       2.0\n",
       "2      12.0  2096.0  49.0       1.0\n",
       "3      42.0  7882.0  45.0       1.0\n",
       "4      24.0  4870.0  53.0       2.0"
      ]
     },
     "execution_count": 94,
     "metadata": {},
     "output_type": "execute_result"
    }
   ],
   "source": [
    "df.head()"
   ]
  },
  {
   "cell_type": "code",
   "execution_count": 96,
   "metadata": {},
   "outputs": [],
   "source": [
    "x=df.iloc[:,0:3].values\n",
    "y=df.iloc[:,3].values"
   ]
  },
  {
   "cell_type": "code",
   "execution_count": 97,
   "metadata": {},
   "outputs": [],
   "source": [
    "x_train, x_test, y_train, y_test= train_test_split(x,\n",
    "                                                  y,\n",
    "                                                  test_size=0.3,\n",
    "                                                  random_state=2023)"
   ]
  },
  {
   "cell_type": "code",
   "execution_count": 98,
   "metadata": {},
   "outputs": [],
   "source": [
    "from sklearn.preprocessing import MinMaxScaler"
   ]
  },
  {
   "cell_type": "code",
   "execution_count": 99,
   "metadata": {},
   "outputs": [],
   "source": [
    "minmax=MinMaxScaler()"
   ]
  },
  {
   "cell_type": "code",
   "execution_count": 100,
   "metadata": {},
   "outputs": [],
   "source": [
    "x_train_norm= minmax.fit_transform(x_train)"
   ]
  },
  {
   "cell_type": "code",
   "execution_count": 101,
   "metadata": {},
   "outputs": [
    {
     "data": {
      "text/plain": [
       "array([[0.02941176, 0.02321998, 0.63636364],\n",
       "       [0.11764706, 0.04033234, 0.        ],\n",
       "       [0.11764706, 0.10360955, 0.6       ],\n",
       "       ...,\n",
       "       [0.29411765, 0.25129306, 0.21818182],\n",
       "       [0.20588235, 0.18498955, 0.32727273],\n",
       "       [0.29411765, 0.06734896, 0.25454545]])"
      ]
     },
     "execution_count": 101,
     "metadata": {},
     "output_type": "execute_result"
    }
   ],
   "source": [
    "x_train_norm"
   ]
  },
  {
   "cell_type": "code",
   "execution_count": 102,
   "metadata": {},
   "outputs": [],
   "source": [
    "x_test_norm=minmax.transform(x_test)"
   ]
  },
  {
   "cell_type": "code",
   "execution_count": 103,
   "metadata": {},
   "outputs": [
    {
     "data": {
      "text/plain": [
       "array([[0.29411765, 0.05496864, 0.16363636],\n",
       "       [0.11764706, 0.18377902, 0.18181818],\n",
       "       [0.02941176, 0.01089468, 0.07272727],\n",
       "       [0.51470588, 0.12759987, 0.09090909],\n",
       "       [0.29411765, 0.12176736, 0.14545455],\n",
       "       [0.16176471, 0.13634863, 0.29090909],\n",
       "       [0.11764706, 0.10030813, 0.16363636],\n",
       "       [0.64705882, 0.58935842, 0.14545455],\n",
       "       [0.29411765, 0.06707384, 0.4       ],\n",
       "       [0.35294118, 0.13717398, 0.18181818],\n",
       "       [0.47058824, 0.39517993, 0.63636364],\n",
       "       [0.11764706, 0.03499505, 0.03636364],\n",
       "       [0.29411765, 0.21563772, 0.16363636],\n",
       "       [0.38235294, 0.15225047, 0.50909091],\n",
       "       [0.29411765, 0.12286783, 0.05454545],\n",
       "       [0.38235294, 0.15081985, 0.10909091],\n",
       "       [0.38235294, 0.22003962, 0.16363636],\n",
       "       [0.29411765, 0.07202597, 0.56363636],\n",
       "       [0.20588235, 0.3995268 , 0.58181818],\n",
       "       [0.29411765, 0.14636294, 0.27272727],\n",
       "       [0.29411765, 0.07444701, 0.65454545],\n",
       "       [0.33823529, 0.46016287, 0.14545455],\n",
       "       [0.25      , 0.1509299 , 0.16363636],\n",
       "       [0.47058824, 0.18542973, 0.32727273],\n",
       "       [0.16176471, 0.09106416, 0.38181818],\n",
       "       [0.38235294, 0.09183449, 0.2       ],\n",
       "       [0.29411765, 0.18548476, 0.21818182],\n",
       "       [0.47058824, 0.18405414, 0.16363636],\n",
       "       [0.16176471, 0.07081545, 0.56363636],\n",
       "       [0.82352941, 0.39385936, 0.09090909],\n",
       "       [0.11764706, 0.1281501 , 0.25454545],\n",
       "       [0.60294118, 0.24738638, 0.10909091],\n",
       "       [0.11764706, 0.41900517, 0.61818182],\n",
       "       [0.02941176, 0.00649279, 0.34545455],\n",
       "       [0.20588235, 0.30901288, 0.2       ],\n",
       "       [0.11764706, 0.04330362, 0.36363636],\n",
       "       [0.11764706, 0.05760977, 0.07272727],\n",
       "       [0.29411765, 0.05221745, 0.74545455],\n",
       "       [0.02941176, 0.01474634, 0.18181818],\n",
       "       [0.55882353, 0.17299439, 0.83636364],\n",
       "       [0.20588235, 0.132552  , 0.16363636],\n",
       "       [0.11764706, 0.1695279 , 0.41818182],\n",
       "       [0.29411765, 0.20479806, 0.10909091],\n",
       "       [0.38235294, 0.11461428, 0.2       ],\n",
       "       [0.07352941, 0.05711456, 0.52727273],\n",
       "       [0.29411765, 0.13365247, 0.18181818],\n",
       "       [0.16176471, 0.13101133, 0.10909091],\n",
       "       [0.29411765, 0.15010454, 0.23636364],\n",
       "       [0.08823529, 0.02624629, 0.49090909],\n",
       "       [0.29411765, 0.15109497, 0.01818182],\n",
       "       [0.07352941, 0.07147573, 0.29090909],\n",
       "       [0.02941176, 0.08924838, 0.30909091],\n",
       "       [0.29411765, 0.17948718, 0.34545455],\n",
       "       [0.20588235, 0.11769561, 0.14545455],\n",
       "       [0.64705882, 0.54869594, 0.32727273],\n",
       "       [0.11764706, 0.18526466, 0.16363636],\n",
       "       [0.29411765, 0.19406845, 0.56363636],\n",
       "       [0.16176471, 0.06718389, 0.29090909],\n",
       "       [0.20588235, 0.08979861, 0.10909091],\n",
       "       [0.20588235, 0.01006933, 0.05454545],\n",
       "       [0.29411765, 0.4620887 , 0.14545455],\n",
       "       [0.16176471, 0.36315616, 0.27272727],\n",
       "       [0.11764706, 0.07246616, 0.05454545],\n",
       "       [0.29411765, 0.41619897, 0.34545455],\n",
       "       [0.11764706, 0.08176516, 0.21818182],\n",
       "       [0.20588235, 0.03389457, 0.10909091],\n",
       "       [0.11764706, 0.12804006, 0.41818182],\n",
       "       [0.47058824, 0.18075272, 0.32727273],\n",
       "       [0.29411765, 0.11692528, 0.45454545],\n",
       "       [0.07352941, 0.14025531, 0.30909091],\n",
       "       [0.16176471, 0.10845163, 0.01818182],\n",
       "       [0.20588235, 0.15758776, 0.12727273],\n",
       "       [0.11764706, 0.02701662, 0.05454545],\n",
       "       [0.29411765, 0.15709255, 0.10909091],\n",
       "       [0.47058824, 0.59007373, 0.12727273],\n",
       "       [0.11764706, 0.09265984, 0.12727273],\n",
       "       [0.29411765, 0.14427204, 0.30909091],\n",
       "       [0.20588235, 0.04820073, 0.03636364],\n",
       "       [0.08823529, 0.10355453, 0.14545455],\n",
       "       [0.29411765, 0.03736107, 0.21818182],\n",
       "       [0.38235294, 0.23550127, 0.12727273],\n",
       "       [0.08823529, 0.10008804, 0.12727273],\n",
       "       [0.64705882, 0.41339276, 0.41818182],\n",
       "       [0.11764706, 0.10300429, 0.36363636],\n",
       "       [0.47058824, 0.33311324, 0.30909091],\n",
       "       [0.64705882, 0.53427974, 0.12727273],\n",
       "       [0.64705882, 0.65582701, 0.30909091],\n",
       "       [0.64705882, 0.22328601, 0.09090909],\n",
       "       [0.38235294, 0.27423792, 0.16363636],\n",
       "       [0.29411765, 0.36959393, 0.30909091],\n",
       "       [0.16176471, 0.1825685 , 0.63636364],\n",
       "       [0.23529412, 0.17800154, 0.45454545],\n",
       "       [0.08823529, 0.02921756, 0.8       ],\n",
       "       [0.11764706, 0.02388027, 0.38181818],\n",
       "       [0.20588235, 0.22724772, 0.29090909],\n",
       "       [0.29411765, 0.1990756 , 0.4       ],\n",
       "       [0.07352941, 0.10366458, 0.52727273],\n",
       "       [0.11764706, 0.01975349, 0.12727273],\n",
       "       [0.16176471, 0.05821503, 0.34545455],\n",
       "       [0.11764706, 0.05353802, 0.49090909],\n",
       "       [0.29411765, 0.07411687, 0.63636364],\n",
       "       [0.11764706, 0.06839441, 0.27272727],\n",
       "       [0.47058824, 0.23236492, 0.21818182],\n",
       "       [0.16176471, 0.24061847, 0.38181818],\n",
       "       [0.11764706, 0.03857159, 0.14545455],\n",
       "       [0.16176471, 0.08407615, 0.12727273],\n",
       "       [0.29411765, 0.25420931, 0.61818182],\n",
       "       [0.05882353, 0.03615054, 0.12727273],\n",
       "       [0.20588235, 0.1055904 , 0.16363636],\n",
       "       [0.64705882, 0.35385716, 0.34545455],\n",
       "       [0.20588235, 0.16303511, 0.10909091],\n",
       "       [0.20588235, 0.32761087, 0.45454545],\n",
       "       [0.11764706, 0.00742819, 0.70909091],\n",
       "       [0.        , 0.06844943, 0.18181818],\n",
       "       [0.55882353, 0.2044129 , 0.27272727],\n",
       "       [0.47058824, 0.24408496, 0.23636364],\n",
       "       [0.29411765, 0.12947067, 0.16363636],\n",
       "       [0.16176471, 0.13965005, 0.09090909],\n",
       "       [0.29411765, 0.19296798, 0.78181818],\n",
       "       [0.16176471, 0.06943986, 0.76363636],\n",
       "       [0.20588235, 0.3306922 , 0.16363636],\n",
       "       [0.25      , 0.07439199, 0.2       ],\n",
       "       [0.20588235, 0.11852096, 0.12727273],\n",
       "       [0.47058824, 0.36854848, 0.29090909],\n",
       "       [0.47058824, 0.13321228, 0.56363636],\n",
       "       [0.20588235, 0.17453505, 0.50909091],\n",
       "       [0.11764706, 0.05546385, 0.05454545],\n",
       "       [0.02941176, 0.08341587, 0.03636364],\n",
       "       [0.47058824, 0.5286123 , 0.21818182],\n",
       "       [0.02941176, 0.01870804, 0.12727273],\n",
       "       [0.25      , 0.07378673, 0.27272727],\n",
       "       [0.02941176, 0.06184659, 1.01818182],\n",
       "       [0.11764706, 0.18031253, 0.47272727],\n",
       "       [0.11764706, 0.05948058, 0.05454545],\n",
       "       [0.51470588, 0.45878728, 0.47272727],\n",
       "       [0.20588235, 0.19423352, 0.29090909],\n",
       "       [0.82352941, 0.84752944, 0.03636364],\n",
       "       [0.29411765, 0.17029823, 0.36363636],\n",
       "       [0.11764706, 0.07065038, 0.07272727],\n",
       "       [0.64705882, 0.24969737, 0.12727273],\n",
       "       [0.11764706, 0.07180588, 0.65454545],\n",
       "       [0.64705882, 0.20518323, 0.4       ],\n",
       "       [0.38235294, 0.19847034, 0.38181818],\n",
       "       [0.20588235, 0.19808518, 0.14545455],\n",
       "       [0.29411765, 0.18526466, 0.01818182],\n",
       "       [0.16176471, 0.18190822, 0.18181818],\n",
       "       [0.11764706, 0.14746341, 0.14545455],\n",
       "       [0.29411765, 0.09216463, 0.12727273],\n",
       "       [0.47058824, 0.11290855, 0.21818182],\n",
       "       [0.52941176, 0.316276  , 0.14545455],\n",
       "       [0.02941176, 0.01287554, 0.16363636],\n",
       "       [0.29411765, 0.18168813, 0.14545455],\n",
       "       [0.29411765, 0.30224497, 0.09090909],\n",
       "       [0.11764706, 0.04996148, 0.12727273],\n",
       "       [0.47058824, 0.09370529, 0.76363636],\n",
       "       [0.47058824, 0.51260042, 0.21818182],\n",
       "       [0.20588235, 0.21475735, 0.41818182],\n",
       "       [0.47058824, 0.11797073, 0.10909091],\n",
       "       [0.25      , 0.20501816, 0.29090909],\n",
       "       [0.35294118, 0.4167492 , 0.38181818],\n",
       "       [0.02941176, 0.00616265, 0.6       ],\n",
       "       [0.07352941, 0.16204468, 0.25454545],\n",
       "       [0.29411765, 0.33360845, 0.4       ],\n",
       "       [0.64705882, 0.18482447, 0.14545455],\n",
       "       [0.55882353, 0.38098382, 0.2       ],\n",
       "       [0.29411765, 0.08215032, 0.52727273],\n",
       "       [0.11764706, 0.05727963, 0.29090909],\n",
       "       [0.29411765, 0.36271597, 0.49090909],\n",
       "       [0.29411765, 0.17816661, 0.07272727],\n",
       "       [0.47058824, 0.66793221, 0.32727273],\n",
       "       [0.47058824, 0.11543964, 0.49090909],\n",
       "       [0.11764706, 0.18240343, 0.32727273],\n",
       "       [0.07352941, 0.06129636, 0.72727273],\n",
       "       [0.47058824, 0.56272697, 0.41818182],\n",
       "       [0.02941176, 0.00979421, 0.54545455],\n",
       "       [0.64705882, 0.35809398, 0.21818182],\n",
       "       [0.38235294, 0.32667547, 0.09090909],\n",
       "       [0.64705882, 0.2823264 , 0.38181818],\n",
       "       [0.16176471, 0.06250688, 0.38181818],\n",
       "       [0.11764706, 0.11450424, 0.54545455],\n",
       "       [0.02941176, 0.08215032, 0.27272727],\n",
       "       [0.11764706, 0.11164301, 0.32727273],\n",
       "       [0.42647059, 0.22180037, 0.07272727],\n",
       "       [0.29411765, 0.20864972, 0.43636364],\n",
       "       [0.11764706, 0.10988225, 0.30909091],\n",
       "       [0.13235294, 0.06377242, 0.81818182],\n",
       "       [0.33823529, 0.23528117, 0.23636364],\n",
       "       [0.29411765, 0.06201167, 0.50909091],\n",
       "       [0.20588235, 0.7002311 , 0.34545455],\n",
       "       [0.64705882, 0.45322989, 0.09090909],\n",
       "       [0.07352941, 0.13772422, 0.29090909],\n",
       "       [0.11764706, 0.03994718, 0.29090909],\n",
       "       [0.11764706, 0.03009794, 0.25454545],\n",
       "       [0.11764706, 0.09783207, 0.2       ],\n",
       "       [0.42647059, 0.13832948, 0.12727273],\n",
       "       [0.47058824, 0.17013316, 0.58181818],\n",
       "       [0.20588235, 0.16474084, 0.25454545],\n",
       "       [0.20588235, 0.05320788, 0.50909091],\n",
       "       [0.20588235, 0.10938704, 0.10909091],\n",
       "       [0.47058824, 0.43375151, 0.2       ],\n",
       "       [0.11764706, 0.39738087, 0.09090909],\n",
       "       [0.29411765, 0.14713327, 0.8       ],\n",
       "       [0.20588235, 0.08638715, 0.2       ],\n",
       "       [0.07352941, 0.04974139, 0.32727273],\n",
       "       [0.64705882, 0.19775503, 0.27272727],\n",
       "       [0.11764706, 0.05227248, 0.07272727],\n",
       "       [0.20588235, 0.45234951, 0.07272727],\n",
       "       [0.20588235, 0.09298999, 0.30909091],\n",
       "       [0.11764706, 0.06289204, 0.50909091],\n",
       "       [0.08823529, 0.05705954, 0.47272727],\n",
       "       [0.25      , 0.16644657, 0.30909091],\n",
       "       [0.25      , 0.12248267, 0.49090909],\n",
       "       [0.11764706, 0.07741829, 0.14545455],\n",
       "       [0.16176471, 0.05617916, 0.36363636],\n",
       "       [0.07352941, 0.0781336 , 0.05454545],\n",
       "       [0.29411765, 0.23885771, 0.63636364],\n",
       "       [0.20588235, 0.05474854, 0.25454545],\n",
       "       [0.20588235, 0.13915484, 0.03636364],\n",
       "       [0.64705882, 0.65775283, 0.52727273],\n",
       "       [0.02941176, 0.01006933, 0.09090909],\n",
       "       [0.16176471, 0.20408276, 0.18181818],\n",
       "       [0.32352941, 0.42456256, 0.2       ],\n",
       "       [0.25      , 0.11571476, 0.50909091],\n",
       "       [0.82352941, 0.3944096 , 0.14545455],\n",
       "       [0.20588235, 0.17932211, 0.10909091],\n",
       "       [0.02941176, 0.03752614, 0.09090909],\n",
       "       [0.29411765, 0.09298999, 0.74545455],\n",
       "       [0.29411765, 0.05546385, 0.69090909],\n",
       "       [0.20588235, 0.16176956, 0.09090909],\n",
       "       [0.11764706, 0.12809508, 0.65454545],\n",
       "       [0.08823529, 0.14295147, 0.23636364],\n",
       "       [0.38235294, 0.39809618, 0.61818182],\n",
       "       [0.29411765, 0.03659073, 0.18181818],\n",
       "       [0.20588235, 0.08968857, 0.23636364],\n",
       "       [0.02941176, 0.06228678, 0.16363636],\n",
       "       [0.29411765, 0.33856058, 0.25454545],\n",
       "       [0.16176471, 0.06509299, 0.10909091],\n",
       "       [0.33823529, 0.12765489, 0.03636364],\n",
       "       [0.29411765, 0.05639925, 0.30909091],\n",
       "       [0.07352941, 0.06531308, 0.18181818],\n",
       "       [0.02941176, 0.10223396, 0.18181818],\n",
       "       [0.11764706, 0.05942555, 0.12727273],\n",
       "       [0.29411765, 0.06195664, 0.16363636],\n",
       "       [0.29411765, 0.04258831, 0.52727273],\n",
       "       [0.11764706, 0.02800704, 0.12727273],\n",
       "       [0.07352941, 0.04886101, 0.10909091],\n",
       "       [0.02941176, 0.0225597 , 0.07272727],\n",
       "       [0.        , 0.07120062, 0.41818182],\n",
       "       [0.11764706, 0.04632992, 0.54545455],\n",
       "       [0.47058824, 0.30769231, 0.29090909],\n",
       "       [0.29411765, 0.3502256 , 1.01818182],\n",
       "       [0.07352941, 0.18306372, 0.12727273],\n",
       "       [0.29411765, 0.0655882 , 0.07272727],\n",
       "       [0.11764706, 0.18284362, 0.07272727],\n",
       "       [0.11764706, 0.09601629, 0.14545455],\n",
       "       [0.29411765, 0.1160449 , 0.25454545],\n",
       "       [0.29411765, 0.13392759, 0.29090909],\n",
       "       [0.20588235, 0.16391548, 0.34545455],\n",
       "       [0.04411765, 0.0327941 , 0.30909091],\n",
       "       [0.11764706, 0.15555189, 0.6       ],\n",
       "       [0.16176471, 0.24248927, 0.2       ],\n",
       "       [0.        , 0.06894465, 0.41818182],\n",
       "       [0.55882353, 0.25013756, 0.67272727],\n",
       "       [0.11764706, 0.09640145, 0.2       ],\n",
       "       [0.11764706, 0.07021019, 0.85454545],\n",
       "       [0.02941176, 0.00968416, 0.36363636],\n",
       "       [0.20588235, 0.27797953, 0.30909091],\n",
       "       [0.02941176, 0.06030593, 0.41818182],\n",
       "       [0.23529412, 0.10795642, 0.36363636],\n",
       "       [0.20588235, 0.0439639 , 0.03636364],\n",
       "       [0.47058824, 0.4311654 , 0.41818182],\n",
       "       [0.64705882, 0.32871135, 0.56363636],\n",
       "       [0.20588235, 0.07329152, 0.49090909],\n",
       "       [0.07352941, 0.05425333, 0.07272727],\n",
       "       [0.11764706, 0.02333003, 0.01818182],\n",
       "       [0.11764706, 0.04803566, 0.18181818],\n",
       "       [0.47058824, 0.28177616, 0.16363636],\n",
       "       [0.08823529, 0.06036096, 0.14545455],\n",
       "       [0.29411765, 0.2125564 , 0.16363636],\n",
       "       [0.11764706, 0.07730824, 0.8       ],\n",
       "       [0.47058824, 0.08633212, 0.32727273],\n",
       "       [0.29411765, 0.09750193, 0.32727273],\n",
       "       [0.29411765, 0.09436558, 0.41818182],\n",
       "       [0.20588235, 0.09909761, 0.25454545],\n",
       "       [0.20588235, 0.02751183, 0.14545455],\n",
       "       [0.20588235, 0.35825905, 0.89090909],\n",
       "       [0.38235294, 0.10454495, 0.09090909],\n",
       "       [0.16176471, 0.13409266, 0.12727273],\n",
       "       [0.11764706, 0.05579399, 0.69090909],\n",
       "       [0.11764706, 0.05051172, 0.14545455],\n",
       "       [0.47058824, 0.58462639, 0.47272727],\n",
       "       [0.11764706, 0.17877187, 0.18181818],\n",
       "       [0.64705882, 0.20254209, 0.49090909],\n",
       "       [0.25      , 0.07274128, 0.30909091],\n",
       "       [0.29411765, 0.13810939, 0.30909091],\n",
       "       [0.11764706, 0.32733575, 0.16363636],\n",
       "       [0.02941176, 0.78711346, 0.07272727],\n",
       "       [0.11764706, 0.158138  , 0.54545455],\n",
       "       [0.20588235, 0.04280841, 0.30909091],\n",
       "       [0.29411765, 0.34824475, 0.18181818]])"
      ]
     },
     "execution_count": 103,
     "metadata": {},
     "output_type": "execute_result"
    }
   ],
   "source": [
    "x_test_norm"
   ]
  },
  {
   "cell_type": "code",
   "execution_count": 104,
   "metadata": {},
   "outputs": [],
   "source": [
    "from sklearn.preprocessing import StandardScaler"
   ]
  },
  {
   "cell_type": "code",
   "execution_count": 105,
   "metadata": {},
   "outputs": [],
   "source": [
    "std=StandardScaler()"
   ]
  },
  {
   "cell_type": "code",
   "execution_count": 106,
   "metadata": {},
   "outputs": [],
   "source": [
    "x_train_std = std.fit_transform(x_train)"
   ]
  },
  {
   "cell_type": "code",
   "execution_count": 107,
   "metadata": {},
   "outputs": [
    {
     "data": {
      "text/plain": [
       "array([[-1.21234165, -0.88830937,  1.61422557],\n",
       "       [-0.71865977, -0.77970153, -1.45965337],\n",
       "       [-0.71865977, -0.37809697,  1.43857535],\n",
       "       ...,\n",
       "       [ 0.268704  ,  0.55921314, -0.40575202],\n",
       "       [-0.22497789,  0.13840141,  0.12119866],\n",
       "       [ 0.268704  , -0.60823384, -0.2301018 ]])"
      ]
     },
     "execution_count": 107,
     "metadata": {},
     "output_type": "execute_result"
    }
   ],
   "source": [
    "x_train_std"
   ]
  },
  {
   "cell_type": "code",
   "execution_count": 108,
   "metadata": {},
   "outputs": [],
   "source": [
    "x_test_std=std.transform(x_test)"
   ]
  },
  {
   "cell_type": "code",
   "execution_count": 109,
   "metadata": {},
   "outputs": [
    {
     "data": {
      "text/plain": [
       "array([[ 2.68703996e-01, -6.86808649e-01, -6.69227360e-01],\n",
       "       [-7.18659769e-01,  1.30718542e-01, -5.81402247e-01],\n",
       "       [-1.21234165e+00, -9.66534953e-01, -1.10835292e+00],\n",
       "       [ 1.50290870e+00, -2.25836461e-01, -1.02052781e+00],\n",
       "       [ 2.68703996e-01, -2.62853925e-01, -7.57052472e-01],\n",
       "       [-4.71818828e-01, -1.70310266e-01, -5.44515699e-02],\n",
       "       [-7.18659769e-01, -3.99050253e-01, -6.69227360e-01],\n",
       "       [ 2.24343153e+00,  2.70482914e+00, -7.57052472e-01],\n",
       "       [ 2.68703996e-01, -6.09979951e-01,  4.72499107e-01],\n",
       "       [ 5.97825251e-01, -1.65071945e-01, -5.81402247e-01],\n",
       "       [ 1.25606776e+00,  1.47242699e+00,  1.61422557e+00],\n",
       "       [-7.18659769e-01, -8.13576000e-01, -1.28400315e+00],\n",
       "       [ 2.68703996e-01,  3.32917706e-01, -6.69227360e-01],\n",
       "       [ 7.62385878e-01, -6.93852942e-02,  9.99449784e-01],\n",
       "       [ 2.68703996e-01, -2.55869497e-01, -1.19617804e+00],\n",
       "       [ 7.62385878e-01, -7.84650494e-02, -9.32702698e-01],\n",
       "       [ 7.62385878e-01,  3.60855414e-01, -6.69227360e-01],\n",
       "       [ 2.68703996e-01, -5.78550029e-01,  1.26292512e+00],\n",
       "       [-2.24977886e-01,  1.50001547e+00,  1.35075023e+00],\n",
       "       [ 2.68703996e-01, -1.06751979e-01, -1.42276683e-01],\n",
       "       [ 2.68703996e-01, -5.63184289e-01,  1.70205069e+00],\n",
       "       [ 5.15544937e-01,  1.88485740e+00, -7.57052472e-01],\n",
       "       [ 2.18630548e-02, -7.77666067e-02, -6.69227360e-01],\n",
       "       [ 1.25606776e+00,  1.41195182e-01,  1.21198656e-01],\n",
       "       [-4.71818828e-01, -4.57719440e-01,  3.84673994e-01],\n",
       "       [ 7.62385878e-01, -4.52830341e-01, -4.93577134e-01],\n",
       "       [ 2.68703996e-01,  1.41544404e-01, -4.05752021e-01],\n",
       "       [ 1.25606776e+00,  1.32464649e-01, -6.69227360e-01],\n",
       "       [-4.71818828e-01, -5.86232899e-01,  1.26292512e+00],\n",
       "       [ 3.23079529e+00,  1.46404567e+00, -1.02052781e+00],\n",
       "       [-7.18659769e-01, -2.22344247e-01, -2.30101796e-01],\n",
       "       [ 1.99659058e+00,  5.34418427e-01, -9.32702698e-01],\n",
       "       [-7.18659769e-01,  1.62363983e+00,  1.52640046e+00],\n",
       "       [-1.21234165e+00, -9.94472662e-01,  2.09023768e-01],\n",
       "       [-2.24977886e-01,  9.25546344e-01, -4.93577134e-01],\n",
       "       [-7.18659769e-01, -7.60843576e-01,  2.96848881e-01],\n",
       "       [-7.18659769e-01, -6.70046024e-01, -1.10835292e+00],\n",
       "       [ 2.68703996e-01, -7.04269716e-01,  2.14117625e+00],\n",
       "       [-1.21234165e+00, -9.42089459e-01, -5.81402247e-01],\n",
       "       [ 1.74974964e+00,  6.22711564e-02,  2.58030181e+00],\n",
       "       [-2.24977886e-01, -1.94406539e-01, -6.69227360e-01],\n",
       "       [-7.18659769e-01,  4.02702110e-02,  5.60324220e-01],\n",
       "       [ 2.68703996e-01,  2.64121099e-01, -9.32702698e-01],\n",
       "       [ 7.62385878e-01, -3.08252701e-01, -4.93577134e-01],\n",
       "       [-9.65500710e-01, -6.73189016e-01,  1.08727490e+00],\n",
       "       [ 2.68703996e-01, -1.87422112e-01, -5.81402247e-01],\n",
       "       [-4.71818828e-01, -2.04184737e-01, -9.32702698e-01],\n",
       "       [ 2.68703996e-01, -8.30049270e-02, -3.17926908e-01],\n",
       "       [-8.83220396e-01, -8.69102196e-01,  9.11624671e-01],\n",
       "       [ 2.68703996e-01, -7.67189427e-02, -1.37182826e+00],\n",
       "       [-9.65500710e-01, -5.82042242e-01, -5.44515699e-02],\n",
       "       [-1.21234165e+00, -4.69243745e-01,  3.33735429e-02],\n",
       "       [ 2.68703996e-01,  1.03479276e-01,  2.09023768e-01],\n",
       "       [-2.24977886e-01, -2.88696305e-01, -7.57052472e-01],\n",
       "       [ 2.24343153e+00,  2.44675456e+00,  1.21198656e-01],\n",
       "       [-7.18659769e-01,  1.40147518e-01, -6.69227360e-01],\n",
       "       [ 2.68703996e-01,  1.96022935e-01,  1.26292512e+00],\n",
       "       [-4.71818828e-01, -6.09281508e-01, -5.44515699e-02],\n",
       "       [-2.24977886e-01, -4.65751531e-01, -9.32702698e-01],\n",
       "       [-2.24977886e-01, -9.71773274e-01, -1.19617804e+00],\n",
       "       [ 2.68703996e-01,  1.89708015e+00, -7.57052472e-01],\n",
       "       [-4.71818828e-01,  1.26918016e+00, -1.42276683e-01],\n",
       "       [-7.18659769e-01, -5.75756258e-01, -1.19617804e+00],\n",
       "       [ 2.68703996e-01,  1.60582954e+00,  2.09023768e-01],\n",
       "       [-7.18659769e-01, -5.16737849e-01, -4.05752021e-01],\n",
       "       [-2.24977886e-01, -8.20560427e-01, -9.32702698e-01],\n",
       "       [-7.18659769e-01, -2.23042690e-01,  5.60324220e-01],\n",
       "       [ 1.25606776e+00,  1.11511367e-01,  1.21198656e-01],\n",
       "       [ 2.68703996e-01, -2.93585404e-01,  7.35974445e-01],\n",
       "       [-9.65500710e-01, -1.45515549e-01,  3.33735429e-02],\n",
       "       [-4.71818828e-01, -3.47365492e-01, -1.37182826e+00],\n",
       "       [-2.24977886e-01, -3.55108229e-02, -8.44877585e-01],\n",
       "       [-7.18659769e-01, -8.64213097e-01, -1.19617804e+00],\n",
       "       [ 2.68703996e-01, -3.86538150e-02, -9.32702698e-01],\n",
       "       [ 1.25606776e+00,  2.70936902e+00, -8.44877585e-01],\n",
       "       [-7.18659769e-01, -4.47592021e-01, -8.44877585e-01],\n",
       "       [ 2.68703996e-01, -1.20022391e-01,  3.33735429e-02],\n",
       "       [-2.24977886e-01, -7.29762875e-01, -1.28400315e+00],\n",
       "       [-8.83220396e-01, -3.78446193e-01, -7.57052472e-01],\n",
       "       [ 2.68703996e-01, -7.98559482e-01, -4.05752021e-01],\n",
       "       [ 7.62385878e-01,  4.58986615e-01, -8.44877585e-01],\n",
       "       [-8.83220396e-01, -4.00447138e-01, -8.44877585e-01],\n",
       "       [ 2.24343153e+00,  1.58801925e+00,  5.60324220e-01],\n",
       "       [-7.18659769e-01, -3.81938406e-01,  2.96848881e-01],\n",
       "       [ 1.25606776e+00,  1.07850530e+00,  3.33735429e-02],\n",
       "       [ 2.24343153e+00,  2.35525857e+00, -8.44877585e-01],\n",
       "       [ 2.24343153e+00,  3.12668854e+00,  3.33735429e-02],\n",
       "       [ 2.24343153e+00,  3.81459474e-01, -1.02052781e+00],\n",
       "       [ 7.62385878e-01,  7.04838448e-01, -6.69227360e-01],\n",
       "       [ 2.68703996e-01,  1.31003906e+00,  3.33735429e-02],\n",
       "       [-4.71818828e-01,  1.23035672e-01,  1.61422557e+00],\n",
       "       [-6.04172589e-02,  9.40502996e-02,  7.35974445e-01],\n",
       "       [-8.83220396e-01, -8.50244242e-01,  2.40465159e+00],\n",
       "       [-7.18659769e-01, -8.84118714e-01,  3.84673994e-01],\n",
       "       [-2.24977886e-01,  4.06603412e-01, -5.44515699e-02],\n",
       "       [ 2.68703996e-01,  2.27802078e-01,  4.72499107e-01],\n",
       "       [-9.65500710e-01, -3.77747750e-01,  1.08727490e+00],\n",
       "       [-7.18659769e-01, -9.10310315e-01, -8.44877585e-01],\n",
       "       [-4.71818828e-01, -6.66204589e-01,  2.09023768e-01],\n",
       "       [-7.18659769e-01, -6.95888404e-01,  9.11624671e-01],\n",
       "       [ 2.68703996e-01, -5.65279617e-01,  1.61422557e+00],\n",
       "       [-7.18659769e-01, -6.01598638e-01, -1.42276683e-01],\n",
       "       [ 1.25606776e+00,  4.39080998e-01, -4.05752021e-01],\n",
       "       [-4.71818828e-01,  4.91464201e-01,  3.84673994e-01],\n",
       "       [-7.18659769e-01, -7.90876612e-01, -7.57052472e-01],\n",
       "       [-4.71818828e-01, -5.02070552e-01, -8.44877585e-01],\n",
       "       [ 2.68703996e-01,  5.77721875e-01,  1.52640046e+00],\n",
       "       [-1.04778102e+00, -8.06242352e-01, -8.44877585e-01],\n",
       "       [-2.24977886e-01, -3.65525003e-01, -6.69227360e-01],\n",
       "       [ 2.24343153e+00,  1.21016175e+00,  2.09023768e-01],\n",
       "       [-2.24977886e-01, -9.37908780e-04, -9.32702698e-01],\n",
       "       [-2.24977886e-01,  1.04358316e+00,  7.35974445e-01],\n",
       "       [-7.18659769e-01, -9.88535899e-01,  1.96552602e+00],\n",
       "       [-1.37690228e+00, -6.01249417e-01, -5.81402247e-01],\n",
       "       [ 1.74974964e+00,  2.61676550e-01, -1.42276683e-01],\n",
       "       [ 1.25606776e+00,  5.13465146e-01, -3.17926908e-01],\n",
       "       [ 2.68703996e-01, -2.13962935e-01, -6.69227360e-01],\n",
       "       [-4.71818828e-01, -1.49356984e-01, -1.02052781e+00],\n",
       "       [ 2.68703996e-01,  1.89038508e-01,  2.31682648e+00],\n",
       "       [-4.71818828e-01, -5.94963432e-01,  2.22900136e+00],\n",
       "       [-2.24977886e-01,  1.06313956e+00, -6.69227360e-01],\n",
       "       [ 2.18630548e-02, -5.63533511e-01, -4.93577134e-01],\n",
       "       [-2.24977886e-01, -2.83457984e-01, -8.44877585e-01],\n",
       "       [ 1.25606776e+00,  1.30340385e+00, -5.44515699e-02],\n",
       "       [ 1.25606776e+00, -1.90215883e-01,  1.26292512e+00],\n",
       "       [-2.24977886e-01,  7.20493543e-02,  9.99449784e-01],\n",
       "       [-7.18659769e-01, -6.83665656e-01, -1.19617804e+00],\n",
       "       [-1.21234165e+00, -5.06261208e-01, -1.28400315e+00],\n",
       "       [ 1.25606776e+00,  2.31928877e+00, -4.05752021e-01],\n",
       "       [-1.21234165e+00, -9.16945521e-01, -8.44877585e-01],\n",
       "       [ 2.18630548e-02, -5.67374945e-01, -1.42276683e-01],\n",
       "       [-1.21234165e+00, -6.43155979e-01,  3.45855294e+00],\n",
       "       [-7.18659769e-01,  1.08717596e-01,  8.23799558e-01],\n",
       "       [-7.18659769e-01, -6.58172498e-01, -1.19617804e+00],\n",
       "       [ 1.50290870e+00,  1.87612687e+00,  8.23799558e-01],\n",
       "       [-2.24977886e-01,  1.97070599e-01, -5.44515699e-02],\n",
       "       [ 3.23079529e+00,  4.34337574e+00, -1.28400315e+00],\n",
       "       [ 2.68703996e-01,  4.51593100e-02,  2.96848881e-01],\n",
       "       [-7.18659769e-01, -5.87280563e-01, -1.10835292e+00],\n",
       "       [ 2.24343153e+00,  5.49085724e-01, -8.44877585e-01],\n",
       "       [-7.18659769e-01, -5.79946914e-01,  1.70205069e+00],\n",
       "       [ 2.24343153e+00,  2.66565649e-01,  4.72499107e-01],\n",
       "       [ 7.62385878e-01,  2.23960643e-01,  3.84673994e-01],\n",
       "       [-2.24977886e-01,  2.21516094e-01, -7.57052472e-01],\n",
       "       [ 2.68703996e-01,  1.40147518e-01, -1.37182826e+00],\n",
       "       [-4.71818828e-01,  1.18845016e-01, -5.81402247e-01],\n",
       "       [-7.18659769e-01, -9.97675521e-02, -7.57052472e-01],\n",
       "       [ 2.68703996e-01, -4.50735013e-01, -8.44877585e-01],\n",
       "       [ 1.25606776e+00, -3.19078563e-01, -4.05752021e-01],\n",
       "       [ 1.58518902e+00,  9.71643563e-01, -7.57052472e-01],\n",
       "       [-1.21234165e+00, -9.53962985e-01, -6.69227360e-01],\n",
       "       [ 2.68703996e-01,  1.17448130e-01, -7.57052472e-01],\n",
       "       [ 2.68703996e-01,  8.82592118e-01, -1.02052781e+00],\n",
       "       [-7.18659769e-01, -7.18587792e-01, -8.44877585e-01],\n",
       "       [ 1.25606776e+00, -4.40956815e-01,  2.22900136e+00],\n",
       "       [ 1.25606776e+00,  2.21766536e+00, -4.05752021e-01],\n",
       "       [-2.24977886e-01,  3.27330164e-01,  5.60324220e-01],\n",
       "       [ 1.25606776e+00, -2.86950198e-01, -9.32702698e-01],\n",
       "       [ 2.18630548e-02,  2.65517985e-01, -5.44515699e-02],\n",
       "       [ 5.97825251e-01,  1.60932176e+00,  3.84673994e-01],\n",
       "       [-1.21234165e+00, -9.96567990e-01,  1.43857535e+00],\n",
       "       [-9.65500710e-01, -7.22389316e-03, -2.30101796e-01],\n",
       "       [ 2.68703996e-01,  1.08164829e+00,  4.72499107e-01],\n",
       "       [ 2.24343153e+00,  1.37353748e-01, -7.57052472e-01],\n",
       "       [ 1.74974964e+00,  1.38232788e+00, -4.93577134e-01],\n",
       "       [ 2.68703996e-01, -5.14293300e-01,  1.08727490e+00],\n",
       "       [-7.18659769e-01, -6.72141352e-01, -5.44515699e-02],\n",
       "       [ 2.68703996e-01,  1.26638639e+00,  9.11624671e-01],\n",
       "       [ 2.68703996e-01,  9.50979637e-02, -1.10835292e+00],\n",
       "       [ 1.25606776e+00,  3.20351724e+00,  1.21198656e-01],\n",
       "       [ 1.25606776e+00, -3.03014380e-01,  9.11624671e-01],\n",
       "       [-7.18659769e-01,  1.21988008e-01,  1.21198656e-01],\n",
       "       [-9.65500710e-01, -6.46648193e-01,  2.05335114e+00],\n",
       "       [ 1.25606776e+00,  2.53580601e+00,  5.60324220e-01],\n",
       "       [-1.21234165e+00, -9.73519381e-01,  1.17510001e+00],\n",
       "       [ 2.24343153e+00,  1.23705179e+00, -4.05752021e-01],\n",
       "       [ 7.62385878e-01,  1.03764640e+00, -1.02052781e+00],\n",
       "       [ 2.24343153e+00,  7.56173987e-01,  3.84673994e-01],\n",
       "       [-4.71818828e-01, -6.38965323e-01,  3.84673994e-01],\n",
       "       [-7.18659769e-01, -3.08951143e-01,  1.17510001e+00],\n",
       "       [-1.21234165e+00, -5.14293300e-01, -1.42276683e-01],\n",
       "       [-7.18659769e-01, -3.27110654e-01,  1.21198656e-01],\n",
       "       [ 1.00922682e+00,  3.72030498e-01, -1.10835292e+00],\n",
       "       [ 2.68703996e-01,  2.88566594e-01,  6.48149332e-01],\n",
       "       [-7.18659769e-01, -3.38285737e-01,  3.33735429e-02],\n",
       "       [-6.36379455e-01, -6.30933232e-01,  2.49247670e+00],\n",
       "       [ 5.15544937e-01,  4.57589729e-01, -3.17926908e-01],\n",
       "       [ 2.68703996e-01, -6.42108315e-01,  9.99449784e-01],\n",
       "       [-2.24977886e-01,  3.40851017e+00,  2.09023768e-01],\n",
       "       [ 2.24343153e+00,  1.84085551e+00, -1.02052781e+00],\n",
       "       [-9.65500710e-01, -1.61579732e-01, -5.44515699e-02],\n",
       "       [-7.18659769e-01, -7.82146078e-01, -5.44515699e-02],\n",
       "       [-7.18659769e-01, -8.44656701e-01, -2.30101796e-01],\n",
       "       [-7.18659769e-01, -4.14765214e-01, -4.93577134e-01],\n",
       "       [ 1.00922682e+00, -1.57738297e-01, -8.44877585e-01],\n",
       "       [ 1.25606776e+00,  4.41116459e-02,  1.35075023e+00],\n",
       "       [-2.24977886e-01,  9.88795320e-03, -2.30101796e-01],\n",
       "       [-2.24977886e-01, -6.97983732e-01,  9.99449784e-01],\n",
       "       [-2.24977886e-01, -3.41428729e-01, -9.32702698e-01],\n",
       "       [ 1.25606776e+00,  1.71723115e+00, -4.93577134e-01],\n",
       "       [-7.18659769e-01,  1.48639584e+00, -1.02052781e+00],\n",
       "       [ 2.68703996e-01, -1.01862880e-01,  2.40465159e+00],\n",
       "       [-2.24977886e-01, -4.87403255e-01, -4.93577134e-01],\n",
       "       [-9.65500710e-01, -7.19984677e-01,  1.21198656e-01],\n",
       "       [ 2.24343153e+00,  2.19420766e-01, -1.42276683e-01],\n",
       "       [-7.18659769e-01, -7.03920495e-01, -1.10835292e+00],\n",
       "       [-2.24977886e-01,  1.83526797e+00, -1.10835292e+00],\n",
       "       [-2.24977886e-01, -4.45496693e-01,  3.33735429e-02],\n",
       "       [-7.18659769e-01, -6.36520774e-01,  9.99449784e-01],\n",
       "       [-8.83220396e-01, -6.73538237e-01,  8.23799558e-01],\n",
       "       [ 2.18630548e-02,  2.07138152e-02,  3.33735429e-02],\n",
       "       [ 2.18630548e-02, -2.58314047e-01,  9.11624671e-01],\n",
       "       [-7.18659769e-01, -5.44326336e-01, -7.57052472e-01],\n",
       "       [-4.71818828e-01, -6.79125779e-01,  2.96848881e-01],\n",
       "       [-9.65500710e-01, -5.39786458e-01, -1.19617804e+00],\n",
       "       [ 2.68703996e-01,  4.80289117e-01,  1.61422557e+00],\n",
       "       [-2.24977886e-01, -6.88205534e-01, -2.30101796e-01],\n",
       "       [-2.24977886e-01, -1.52499977e-01, -1.28400315e+00],\n",
       "       [ 2.24343153e+00,  3.13891129e+00,  1.08727490e+00],\n",
       "       [-1.21234165e+00, -9.71773274e-01, -1.02052781e+00],\n",
       "       [-4.71818828e-01,  2.59581222e-01, -5.81402247e-01],\n",
       "       [ 4.33264623e-01,  1.65891119e+00, -4.93577134e-01],\n",
       "       [ 2.18630548e-02, -3.01268273e-01,  9.99449784e-01],\n",
       "       [ 3.23079529e+00,  1.46753789e+00, -7.57052472e-01],\n",
       "       [-2.24977886e-01,  1.02431612e-01, -9.32702698e-01],\n",
       "       [-1.21234165e+00, -7.97511818e-01, -1.02052781e+00],\n",
       "       [ 2.68703996e-01, -4.45496693e-01,  2.14117625e+00],\n",
       "       [ 2.68703996e-01, -6.83665656e-01,  1.87770091e+00],\n",
       "       [-2.24977886e-01, -8.96999993e-03, -1.02052781e+00],\n",
       "       [-7.18659769e-01, -2.22693469e-01,  1.70205069e+00],\n",
       "       [-8.83220396e-01, -1.28403703e-01, -3.17926908e-01],\n",
       "       [ 7.62385878e-01,  1.49093572e+00,  1.52640046e+00],\n",
       "       [ 2.68703996e-01, -8.03448581e-01, -5.81402247e-01],\n",
       "       [-2.24977886e-01, -4.66449974e-01, -3.17926908e-01],\n",
       "       [-1.21234165e+00, -6.40362209e-01, -6.69227360e-01],\n",
       "       [ 2.68703996e-01,  1.11307821e+00, -2.30101796e-01],\n",
       "       [-4.71818828e-01, -6.22551919e-01, -9.32702698e-01],\n",
       "       [ 5.15544937e-01, -2.25487240e-01, -1.28400315e+00],\n",
       "       [ 2.68703996e-01, -6.77728893e-01,  3.33735429e-02],\n",
       "       [-9.65500710e-01, -6.21155034e-01, -5.81402247e-01],\n",
       "       [-1.21234165e+00, -3.86827505e-01, -5.81402247e-01],\n",
       "       [-7.18659769e-01, -6.58521719e-01, -8.44877585e-01],\n",
       "       [ 2.68703996e-01, -6.42457537e-01, -6.69227360e-01],\n",
       "       [ 2.68703996e-01, -7.65383453e-01,  1.08727490e+00],\n",
       "       [-7.18659769e-01, -8.57927112e-01, -8.44877585e-01],\n",
       "       [-9.65500710e-01, -7.25572219e-01, -9.32702698e-01],\n",
       "       [-1.21234165e+00, -8.92500026e-01, -1.10835292e+00],\n",
       "       [-1.37690228e+00, -5.83788349e-01,  5.60324220e-01],\n",
       "       [-7.18659769e-01, -7.41636401e-01,  1.17510001e+00],\n",
       "       [ 1.25606776e+00,  9.17165032e-01, -5.44515699e-02],\n",
       "       [ 2.68703996e-01,  1.18711314e+00,  3.45855294e+00],\n",
       "       [-9.65500710e-01,  1.26178664e-01, -8.44877585e-01],\n",
       "       [ 2.68703996e-01, -6.19408927e-01, -1.10835292e+00],\n",
       "       [-7.18659769e-01,  1.24781779e-01, -1.10835292e+00],\n",
       "       [-7.18659769e-01, -4.26289518e-01, -7.57052472e-01],\n",
       "       [ 2.68703996e-01, -2.99172945e-01, -2.30101796e-01],\n",
       "       [ 2.68703996e-01, -1.85676005e-01, -5.44515699e-02],\n",
       "       [-2.24977886e-01,  4.64963289e-03,  2.09023768e-01],\n",
       "       [-1.13006134e+00, -8.27544854e-01,  3.33735429e-02],\n",
       "       [-7.18659769e-01, -4.84320130e-02,  1.43857535e+00],\n",
       "       [-4.71818828e-01,  5.03337727e-01, -4.93577134e-01],\n",
       "       [-1.37690228e+00, -5.98106425e-01,  5.60324220e-01],\n",
       "       [ 1.74974964e+00,  5.51879495e-01,  1.78987580e+00],\n",
       "       [-7.18659769e-01, -4.23844969e-01, -4.93577134e-01],\n",
       "       [-7.18659769e-01, -5.90074334e-01,  2.66812693e+00],\n",
       "       [-1.21234165e+00, -9.74217823e-01,  2.96848881e-01],\n",
       "       [-2.24977886e-01,  7.28585500e-01,  3.33735429e-02],\n",
       "       [-1.21234165e+00, -6.52934177e-01,  5.60324220e-01],\n",
       "       [-6.04172589e-02, -3.50508484e-01,  2.96848881e-01],\n",
       "       [-2.24977886e-01, -7.56652920e-01, -1.28400315e+00],\n",
       "       [ 1.25606776e+00,  1.70081775e+00,  5.60324220e-01],\n",
       "       [ 2.24343153e+00,  1.05056759e+00,  1.26292512e+00],\n",
       "       [-2.24977886e-01, -5.70517938e-01,  9.11624671e-01],\n",
       "       [-9.65500710e-01, -6.91348526e-01, -1.10835292e+00],\n",
       "       [-7.18659769e-01, -8.87610927e-01, -1.37182826e+00],\n",
       "       [-7.18659769e-01, -7.30810539e-01, -5.81402247e-01],\n",
       "       [ 1.25606776e+00,  7.52681774e-01, -6.69227360e-01],\n",
       "       [-8.83220396e-01, -6.52584956e-01, -7.57052472e-01],\n",
       "       [ 2.68703996e-01,  3.13361310e-01, -6.69227360e-01],\n",
       "       [-7.18659769e-01, -5.45024779e-01,  2.40465159e+00],\n",
       "       [ 1.25606776e+00, -4.87752477e-01,  1.21198656e-01],\n",
       "       [ 2.68703996e-01, -4.16860542e-01,  1.21198656e-01],\n",
       "       [ 2.68703996e-01, -4.36766159e-01,  5.60324220e-01],\n",
       "       [-2.24977886e-01, -4.06733122e-01, -2.30101796e-01],\n",
       "       [-2.24977886e-01, -8.61070104e-01, -7.57052472e-01],\n",
       "       [-2.24977886e-01,  1.23809946e+00,  2.84377715e+00],\n",
       "       [ 7.62385878e-01, -3.72160208e-01, -1.02052781e+00],\n",
       "       [-4.71818828e-01, -1.84628341e-01, -8.44877585e-01],\n",
       "       [-7.18659769e-01, -6.81570328e-01,  1.87770091e+00],\n",
       "       [-7.18659769e-01, -7.15095578e-01, -7.57052472e-01],\n",
       "       [ 1.25606776e+00,  2.67479611e+00,  8.23799558e-01],\n",
       "       [-7.18659769e-01,  9.89393986e-02, -5.81402247e-01],\n",
       "       [ 2.24343153e+00,  2.49803024e-01,  9.11624671e-01],\n",
       "       [ 2.18630548e-02, -5.74010151e-01,  3.33735429e-02],\n",
       "       [ 2.68703996e-01, -1.59135182e-01,  3.33735429e-02],\n",
       "       [-7.18659769e-01,  1.04183706e+00, -6.69227360e-01],\n",
       "       [-1.21234165e+00,  3.95993069e+00, -1.10835292e+00],\n",
       "       [-7.18659769e-01, -3.20186093e-02,  1.17510001e+00],\n",
       "       [-2.24977886e-01, -7.63986568e-01,  3.33735429e-02],\n",
       "       [ 2.68703996e-01,  1.17454117e+00, -5.81402247e-01]])"
      ]
     },
     "execution_count": 109,
     "metadata": {},
     "output_type": "execute_result"
    }
   ],
   "source": [
    "x_test_std"
   ]
  },
  {
   "cell_type": "code",
   "execution_count": 110,
   "metadata": {},
   "outputs": [],
   "source": [
    "df_corr = pd.DataFrame(x_train,\n",
    "                      columns=df.columns.tolist()[0:3])"
   ]
  },
  {
   "cell_type": "code",
   "execution_count": 112,
   "metadata": {},
   "outputs": [
    {
     "data": {
      "text/html": [
       "<div>\n",
       "<style scoped>\n",
       "    .dataframe tbody tr th:only-of-type {\n",
       "        vertical-align: middle;\n",
       "    }\n",
       "\n",
       "    .dataframe tbody tr th {\n",
       "        vertical-align: top;\n",
       "    }\n",
       "\n",
       "    .dataframe thead th {\n",
       "        text-align: right;\n",
       "    }\n",
       "</style>\n",
       "<table border=\"1\" class=\"dataframe\">\n",
       "  <thead>\n",
       "    <tr style=\"text-align: right;\">\n",
       "      <th></th>\n",
       "      <th>duration</th>\n",
       "      <th>camt</th>\n",
       "      <th>age</th>\n",
       "    </tr>\n",
       "  </thead>\n",
       "  <tbody>\n",
       "    <tr>\n",
       "      <th>duration</th>\n",
       "      <td>1.000000</td>\n",
       "      <td>0.639104</td>\n",
       "      <td>-0.052212</td>\n",
       "    </tr>\n",
       "    <tr>\n",
       "      <th>camt</th>\n",
       "      <td>0.639104</td>\n",
       "      <td>1.000000</td>\n",
       "      <td>0.051650</td>\n",
       "    </tr>\n",
       "    <tr>\n",
       "      <th>age</th>\n",
       "      <td>-0.052212</td>\n",
       "      <td>0.051650</td>\n",
       "      <td>1.000000</td>\n",
       "    </tr>\n",
       "  </tbody>\n",
       "</table>\n",
       "</div>"
      ],
      "text/plain": [
       "          duration      camt       age\n",
       "duration  1.000000  0.639104 -0.052212\n",
       "camt      0.639104  1.000000  0.051650\n",
       "age      -0.052212  0.051650  1.000000"
      ]
     },
     "execution_count": 112,
     "metadata": {},
     "output_type": "execute_result"
    }
   ],
   "source": [
    "df_corr.corr(method=\"pearson\")"
   ]
  },
  {
   "cell_type": "code",
   "execution_count": null,
   "metadata": {},
   "outputs": [],
   "source": []
  },
  {
   "cell_type": "code",
   "execution_count": null,
   "metadata": {},
   "outputs": [],
   "source": []
  },
  {
   "cell_type": "code",
   "execution_count": null,
   "metadata": {},
   "outputs": [],
   "source": []
  }
 ],
 "metadata": {
  "kernelspec": {
   "display_name": "Python 3 (ipykernel)",
   "language": "python",
   "name": "python3"
  },
  "language_info": {
   "codemirror_mode": {
    "name": "ipython",
    "version": 3
   },
   "file_extension": ".py",
   "mimetype": "text/x-python",
   "name": "python",
   "nbconvert_exporter": "python",
   "pygments_lexer": "ipython3",
   "version": "3.10.9"
  }
 },
 "nbformat": 4,
 "nbformat_minor": 4
}
