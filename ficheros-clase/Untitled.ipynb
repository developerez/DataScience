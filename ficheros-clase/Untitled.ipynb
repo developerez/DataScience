{
 "cells": [
  {
   "cell_type": "code",
   "execution_count": 1,
   "id": "af98d588",
   "metadata": {},
   "outputs": [],
   "source": [
    "import json5\n",
    "import json\n",
    "import pandas as pd\n",
    "import pyreadstat\n",
    "import numpy as np\n",
    "import os"
   ]
  },
  {
   "cell_type": "code",
   "execution_count": 2,
   "id": "8fb2f535",
   "metadata": {},
   "outputs": [
    {
     "name": "stdout",
     "output_type": "stream",
     "text": [
      "Requirement already satisfied: pyreadstat in c:\\users\\olive\\anaconda3\\lib\\site-packages (1.2.1)\n",
      "Requirement already satisfied: pandas>=1.2.0 in c:\\users\\olive\\anaconda3\\lib\\site-packages (from pyreadstat) (1.4.4)\n",
      "Requirement already satisfied: pytz>=2020.1 in c:\\users\\olive\\anaconda3\\lib\\site-packages (from pandas>=1.2.0->pyreadstat) (2022.1)\n",
      "Requirement already satisfied: python-dateutil>=2.8.1 in c:\\users\\olive\\anaconda3\\lib\\site-packages (from pandas>=1.2.0->pyreadstat) (2.8.2)\n",
      "Requirement already satisfied: numpy>=1.18.5 in c:\\users\\olive\\anaconda3\\lib\\site-packages (from pandas>=1.2.0->pyreadstat) (1.21.5)\n",
      "Requirement already satisfied: six>=1.5 in c:\\users\\olive\\anaconda3\\lib\\site-packages (from python-dateutil>=2.8.1->pandas>=1.2.0->pyreadstat) (1.16.0)\n",
      "Note: you may need to restart the kernel to use updated packages.\n"
     ]
    }
   ],
   "source": [
    "pip install pyreadstat"
   ]
  },
  {
   "cell_type": "code",
   "execution_count": 3,
   "id": "87bbffcc",
   "metadata": {},
   "outputs": [
    {
     "name": "stdout",
     "output_type": "stream",
     "text": [
      "Requirement already satisfied: pyodbc in c:\\users\\olive\\anaconda3\\lib\\site-packages (4.0.35)\n",
      "Note: you may need to restart the kernel to use updated packages.\n"
     ]
    }
   ],
   "source": [
    "pip install pyodbc"
   ]
  },
  {
   "cell_type": "code",
   "execution_count": 4,
   "id": "2c4b0d3b",
   "metadata": {},
   "outputs": [],
   "source": [
    "import os"
   ]
  },
  {
   "cell_type": "code",
   "execution_count": 5,
   "id": "1dc294aa",
   "metadata": {},
   "outputs": [
    {
     "data": {
      "text/plain": [
       "'C:\\\\Users\\\\olive\\\\Ciencia de datos'"
      ]
     },
     "execution_count": 5,
     "metadata": {},
     "output_type": "execute_result"
    }
   ],
   "source": [
    "os.getcwd()"
   ]
  },
  {
   "cell_type": "code",
   "execution_count": 15,
   "id": "3cf506f0",
   "metadata": {},
   "outputs": [],
   "source": [
    "os.chdir(\"C:\\\\Users\\\\olive\\\\Ciencia de datos\")"
   ]
  },
  {
   "cell_type": "code",
   "execution_count": 32,
   "id": "5a766f42",
   "metadata": {},
   "outputs": [
    {
     "data": {
      "text/plain": [
       "['.ipynb_checkpoints',\n",
       " 'anes_timeseries_2012.dta',\n",
       " 'Clase-01.ipynb',\n",
       " 'data_clase_1_3',\n",
       " 'data_clase_1_3.rar',\n",
       " 'distritos.sav',\n",
       " 'ElectricBus.xlsx',\n",
       " 'housing.data.txt',\n",
       " 'LL.csv',\n",
       " 'nivel1_1.ipynb',\n",
       " 'subvenciones.csv',\n",
       " 'subvenciones.json',\n",
       " 'subvenciones.ods',\n",
       " 'subvenciones.tsv',\n",
       " 'subvenciones.xls',\n",
       " 'subvenciones.xml',\n",
       " 'subvenciones_agrupadas.json',\n",
       " 'subvenciones_agrupadas_con_gasto.json',\n",
       " 'subvenciones_df.xls',\n",
       " 'subvenciones_esc.csv',\n",
       " 'subvenciones_lista_total.xml',\n",
       " 'subvenciones_totales.xls',\n",
       " 'Untitled.ipynb']"
      ]
     },
     "execution_count": 32,
     "metadata": {},
     "output_type": "execute_result"
    }
   ],
   "source": [
    "os.listdir(\"C:\\\\Users\\\\olive\\\\Ciencia de datos\")"
   ]
  },
  {
   "cell_type": "markdown",
   "id": "983c5b2c",
   "metadata": {},
   "source": [
    "##  Cargando Archivos Json"
   ]
  },
  {
   "cell_type": "markdown",
   "id": "4c477c80",
   "metadata": {},
   "source": [
    "### import json"
   ]
  },
  {
   "cell_type": "code",
   "execution_count": 25,
   "id": "9b563c32",
   "metadata": {},
   "outputs": [],
   "source": [
    "with open(\"subvenciones.json\", encoding = \"utf-8\") as fichero:\n",
    "    df_json =json.load(fichero)"
   ]
  },
  {
   "cell_type": "code",
   "execution_count": 26,
   "id": "fb0109ea",
   "metadata": {},
   "outputs": [],
   "source": [
    "import pandas as pd"
   ]
  },
  {
   "cell_type": "code",
   "execution_count": 27,
   "id": "b9353734",
   "metadata": {},
   "outputs": [],
   "source": [
    "df_json_data = pd.DataFrame(df_json)"
   ]
  },
  {
   "cell_type": "code",
   "execution_count": 28,
   "id": "94613b26",
   "metadata": {},
   "outputs": [
    {
     "data": {
      "text/plain": [
       "<bound method NDFrame.head of                Asociación                            Actividad Subvencionada  \\\n",
       "0    AMPA ANTONIO MACHADO                          TALLER FIESTA DE CARNAVAL   \n",
       "1    AMPA ANTONIO MACHADO                               TALLER DIA DEL PADRE   \n",
       "2    AMPA ANTONIO MACHADO                             TALLER DIA DE LA MADRE   \n",
       "3    AMPA ANTONIO MACHADO                                FIESTA FIN DE CURSO   \n",
       "4    AMPA ANTONIO MACHADO                             CONCURSO LOGOTIPO AMPA   \n",
       "..                    ...                                                ...   \n",
       "186  AMPA PADRE  MANYANET                                  FERIA DE ROBOTICA   \n",
       "187  AMPA PADRE  MANYANET                       LUDOTECA FIESTA FIN DE CURSO   \n",
       "188             AMPA FAPA     JORNADA FAPA-APAS: ENCUENTROS DE PARTICIPACION   \n",
       "189             AMPA FAPA                     25 ANIVERSARIO FAPA ALCOBENDAS   \n",
       "190             AMPA FAPA  REVISTA DE LA FEDERACION LA ESCUELA EN ALCOBENDAS   \n",
       "\n",
       "    Importe en euros  \n",
       "0              94.56  \n",
       "1             39.04   \n",
       "2             43.64   \n",
       "3            921.00   \n",
       "4             56.57   \n",
       "..               ...  \n",
       "186          720.00   \n",
       "187          372.00   \n",
       "188          720.00   \n",
       "189        1.515.00   \n",
       "190          963.43   \n",
       "\n",
       "[191 rows x 3 columns]>"
      ]
     },
     "execution_count": 28,
     "metadata": {},
     "output_type": "execute_result"
    }
   ],
   "source": [
    "df_json_data.head"
   ]
  },
  {
   "cell_type": "markdown",
   "id": "8f16a80b",
   "metadata": {},
   "source": [
    "# Archivos SPSS\n",
    "### Cargar archivos SPSS"
   ]
  },
  {
   "cell_type": "code",
   "execution_count": 30,
   "id": "57964451",
   "metadata": {},
   "outputs": [],
   "source": [
    "read_spss = pd.read_spss(\"distritos.sav\")"
   ]
  },
  {
   "cell_type": "code",
   "execution_count": 31,
   "id": "2f72e2f4",
   "metadata": {},
   "outputs": [
    {
     "data": {
      "text/html": [
       "<div>\n",
       "<style scoped>\n",
       "    .dataframe tbody tr th:only-of-type {\n",
       "        vertical-align: middle;\n",
       "    }\n",
       "\n",
       "    .dataframe tbody tr th {\n",
       "        vertical-align: top;\n",
       "    }\n",
       "\n",
       "    .dataframe thead th {\n",
       "        text-align: right;\n",
       "    }\n",
       "</style>\n",
       "<table border=\"1\" class=\"dataframe\">\n",
       "  <thead>\n",
       "    <tr style=\"text-align: right;\">\n",
       "      <th></th>\n",
       "      <th>distrito</th>\n",
       "      <th>ocu_vivi</th>\n",
       "      <th>pobpjov</th>\n",
       "      <th>sinelect</th>\n",
       "      <th>sinagua</th>\n",
       "      <th>pea1619</th>\n",
       "      <th>pocprin</th>\n",
       "      <th>peam15</th>\n",
       "    </tr>\n",
       "  </thead>\n",
       "  <tbody>\n",
       "    <tr>\n",
       "      <th>0</th>\n",
       "      <td>Ate</td>\n",
       "      <td>1.15</td>\n",
       "      <td>5.3</td>\n",
       "      <td>27.60</td>\n",
       "      <td>51.10</td>\n",
       "      <td>3.9</td>\n",
       "      <td>1.1</td>\n",
       "      <td>63.48</td>\n",
       "    </tr>\n",
       "    <tr>\n",
       "      <th>1</th>\n",
       "      <td>Barranco</td>\n",
       "      <td>1.09</td>\n",
       "      <td>4.5</td>\n",
       "      <td>1.59</td>\n",
       "      <td>8.32</td>\n",
       "      <td>0.8</td>\n",
       "      <td>3.9</td>\n",
       "      <td>33.48</td>\n",
       "    </tr>\n",
       "    <tr>\n",
       "      <th>2</th>\n",
       "      <td>Breña</td>\n",
       "      <td>1.08</td>\n",
       "      <td>4.4</td>\n",
       "      <td>2.20</td>\n",
       "      <td>23.15</td>\n",
       "      <td>0.9</td>\n",
       "      <td>4.0</td>\n",
       "      <td>37.89</td>\n",
       "    </tr>\n",
       "    <tr>\n",
       "      <th>3</th>\n",
       "      <td>Carabayllo</td>\n",
       "      <td>1.10</td>\n",
       "      <td>5.1</td>\n",
       "      <td>30.13</td>\n",
       "      <td>38.09</td>\n",
       "      <td>4.5</td>\n",
       "      <td>12.6</td>\n",
       "      <td>63.65</td>\n",
       "    </tr>\n",
       "    <tr>\n",
       "      <th>4</th>\n",
       "      <td>Comas</td>\n",
       "      <td>1.20</td>\n",
       "      <td>5.9</td>\n",
       "      <td>10.92</td>\n",
       "      <td>24.27</td>\n",
       "      <td>3.8</td>\n",
       "      <td>9.4</td>\n",
       "      <td>60.37</td>\n",
       "    </tr>\n",
       "  </tbody>\n",
       "</table>\n",
       "</div>"
      ],
      "text/plain": [
       "     distrito  ocu_vivi  pobpjov  sinelect  sinagua  pea1619  pocprin  peam15\n",
       "0         Ate      1.15      5.3     27.60    51.10      3.9      1.1   63.48\n",
       "1    Barranco      1.09      4.5      1.59     8.32      0.8      3.9   33.48\n",
       "2       Breña      1.08      4.4      2.20    23.15      0.9      4.0   37.89\n",
       "3  Carabayllo      1.10      5.1     30.13    38.09      4.5     12.6   63.65\n",
       "4       Comas      1.20      5.9     10.92    24.27      3.8      9.4   60.37"
      ]
     },
     "execution_count": 31,
     "metadata": {},
     "output_type": "execute_result"
    }
   ],
   "source": [
    "read_spss.head()"
   ]
  },
  {
   "cell_type": "markdown",
   "id": "22f6d359",
   "metadata": {},
   "source": [
    "# Archivos STATA\n",
    "### Cargar archivos STATA"
   ]
  },
  {
   "cell_type": "code",
   "execution_count": 35,
   "id": "31589200",
   "metadata": {},
   "outputs": [
    {
     "data": {
      "text/html": [
       "<div>\n",
       "<style scoped>\n",
       "    .dataframe tbody tr th:only-of-type {\n",
       "        vertical-align: middle;\n",
       "    }\n",
       "\n",
       "    .dataframe tbody tr th {\n",
       "        vertical-align: top;\n",
       "    }\n",
       "\n",
       "    .dataframe thead th {\n",
       "        text-align: right;\n",
       "    }\n",
       "</style>\n",
       "<table border=\"1\" class=\"dataframe\">\n",
       "  <thead>\n",
       "    <tr style=\"text-align: right;\">\n",
       "      <th></th>\n",
       "      <th>version</th>\n",
       "      <th>caseid</th>\n",
       "      <th>weight_ftf</th>\n",
       "      <th>weight_web</th>\n",
       "      <th>weight_full</th>\n",
       "      <th>psu_full</th>\n",
       "      <th>psu_ftf</th>\n",
       "      <th>strata_full</th>\n",
       "      <th>strata_ftf</th>\n",
       "      <th>ftf_oversample</th>\n",
       "      <th>...</th>\n",
       "      <th>randordq_casitherm_illegal</th>\n",
       "      <th>randordq_casitherm_white</th>\n",
       "      <th>randordq_stereogroups</th>\n",
       "      <th>randordq_discrim_black</th>\n",
       "      <th>randordq_discrim_hisp</th>\n",
       "      <th>randordq_discrim_white</th>\n",
       "      <th>randordq_discrim_gay</th>\n",
       "      <th>randordq_discrim_women</th>\n",
       "      <th>randordq_stereorelig</th>\n",
       "      <th>invited_inetrecontact2013</th>\n",
       "    </tr>\n",
       "  </thead>\n",
       "  <tbody>\n",
       "    <tr>\n",
       "      <th>0</th>\n",
       "      <td>ANES2012TimeSeries_version20150528</td>\n",
       "      <td>1.0</td>\n",
       "      <td>0.3802</td>\n",
       "      <td>0.0</td>\n",
       "      <td>0.3802</td>\n",
       "      <td>1.0</td>\n",
       "      <td>1.0</td>\n",
       "      <td>6.0</td>\n",
       "      <td>6.0</td>\n",
       "      <td>0. No oversample</td>\n",
       "      <td>...</td>\n",
       "      <td>-6. Not asked, unit nonresponse (no post-elect...</td>\n",
       "      <td>-6. Not asked, unit nonresponse (no post-elect...</td>\n",
       "      <td>-6. Not asked, unit nonresponse (no post-elect...</td>\n",
       "      <td>-6. Not asked, unit nonresponse (no post-elect...</td>\n",
       "      <td>-6. Not asked, unit nonresponse (no post-elect...</td>\n",
       "      <td>-6. Not asked, unit nonresponse (no post-elect...</td>\n",
       "      <td>-6. Not asked, unit nonresponse (no post-elect...</td>\n",
       "      <td>-6. Not asked, unit nonresponse (no post-elect...</td>\n",
       "      <td>-1. Inap, FTF (face-to-face) interview</td>\n",
       "      <td>-1. Inap, FTF</td>\n",
       "    </tr>\n",
       "    <tr>\n",
       "      <th>1</th>\n",
       "      <td>ANES2012TimeSeries_version20150528</td>\n",
       "      <td>2.0</td>\n",
       "      <td>0.5470</td>\n",
       "      <td>0.0</td>\n",
       "      <td>0.5470</td>\n",
       "      <td>1.0</td>\n",
       "      <td>1.0</td>\n",
       "      <td>6.0</td>\n",
       "      <td>6.0</td>\n",
       "      <td>0. No oversample</td>\n",
       "      <td>...</td>\n",
       "      <td>5. 5th CASI/Web group thermometer</td>\n",
       "      <td>3. 3rd CASI/Web group thermometer</td>\n",
       "      <td>231. Order: 2 (Hispanics), 3 (Asians), 1 (Blacks)</td>\n",
       "      <td>3. 3rd discrimination group</td>\n",
       "      <td>1. 1st discrimination group</td>\n",
       "      <td>5. 5th discrimination group</td>\n",
       "      <td>2. 2nd discrimination group</td>\n",
       "      <td>4. 4th discrimination group</td>\n",
       "      <td>-1. Inap, FTF (face-to-face) interview</td>\n",
       "      <td>-1. Inap, FTF</td>\n",
       "    </tr>\n",
       "    <tr>\n",
       "      <th>2</th>\n",
       "      <td>ANES2012TimeSeries_version20150528</td>\n",
       "      <td>3.0</td>\n",
       "      <td>0.4975</td>\n",
       "      <td>0.0</td>\n",
       "      <td>0.4975</td>\n",
       "      <td>1.0</td>\n",
       "      <td>1.0</td>\n",
       "      <td>6.0</td>\n",
       "      <td>6.0</td>\n",
       "      <td>0. No oversample</td>\n",
       "      <td>...</td>\n",
       "      <td>5. 5th CASI/Web group thermometer</td>\n",
       "      <td>4. 4th CASI/Web group thermometer</td>\n",
       "      <td>132. Order: 1 (Blacks), 3 (Asians), 2 (Hispanics)</td>\n",
       "      <td>-2. Missing</td>\n",
       "      <td>-2. Missing</td>\n",
       "      <td>-2. Missing</td>\n",
       "      <td>-2. Missing</td>\n",
       "      <td>-2. Missing</td>\n",
       "      <td>-1. Inap, FTF (face-to-face) interview</td>\n",
       "      <td>-1. Inap, FTF</td>\n",
       "    </tr>\n",
       "    <tr>\n",
       "      <th>3</th>\n",
       "      <td>ANES2012TimeSeries_version20150528</td>\n",
       "      <td>4.0</td>\n",
       "      <td>0.2549</td>\n",
       "      <td>0.0</td>\n",
       "      <td>0.2549</td>\n",
       "      <td>1.0</td>\n",
       "      <td>1.0</td>\n",
       "      <td>6.0</td>\n",
       "      <td>6.0</td>\n",
       "      <td>0. No oversample</td>\n",
       "      <td>...</td>\n",
       "      <td>5. 5th CASI/Web group thermometer</td>\n",
       "      <td>3. 3rd CASI/Web group thermometer</td>\n",
       "      <td>213. Order: 2 (Hispanics), 1 (Blacks), 3 (Asians)</td>\n",
       "      <td>3. 3rd discrimination group</td>\n",
       "      <td>2. 2nd discrimination group</td>\n",
       "      <td>5. 5th discrimination group</td>\n",
       "      <td>1. 1st discrimination group</td>\n",
       "      <td>4. 4th discrimination group</td>\n",
       "      <td>-1. Inap, FTF (face-to-face) interview</td>\n",
       "      <td>-1. Inap, FTF</td>\n",
       "    </tr>\n",
       "    <tr>\n",
       "      <th>4</th>\n",
       "      <td>ANES2012TimeSeries_version20150528</td>\n",
       "      <td>5.0</td>\n",
       "      <td>0.6028</td>\n",
       "      <td>0.0</td>\n",
       "      <td>0.6028</td>\n",
       "      <td>1.0</td>\n",
       "      <td>1.0</td>\n",
       "      <td>6.0</td>\n",
       "      <td>6.0</td>\n",
       "      <td>0. No oversample</td>\n",
       "      <td>...</td>\n",
       "      <td>5. 5th CASI/Web group thermometer</td>\n",
       "      <td>1. 1st CASI/Web group thermometer</td>\n",
       "      <td>312. Order: 3 (Asians), 1 (Blacks), 2 (Hispanics)</td>\n",
       "      <td>-2. Missing</td>\n",
       "      <td>-2. Missing</td>\n",
       "      <td>-2. Missing</td>\n",
       "      <td>-2. Missing</td>\n",
       "      <td>-2. Missing</td>\n",
       "      <td>-1. Inap, FTF (face-to-face) interview</td>\n",
       "      <td>-1. Inap, FTF</td>\n",
       "    </tr>\n",
       "  </tbody>\n",
       "</table>\n",
       "<p>5 rows × 2241 columns</p>\n",
       "</div>"
      ],
      "text/plain": [
       "                              version  caseid  weight_ftf  weight_web  \\\n",
       "0  ANES2012TimeSeries_version20150528     1.0      0.3802         0.0   \n",
       "1  ANES2012TimeSeries_version20150528     2.0      0.5470         0.0   \n",
       "2  ANES2012TimeSeries_version20150528     3.0      0.4975         0.0   \n",
       "3  ANES2012TimeSeries_version20150528     4.0      0.2549         0.0   \n",
       "4  ANES2012TimeSeries_version20150528     5.0      0.6028         0.0   \n",
       "\n",
       "   weight_full  psu_full  psu_ftf  strata_full  strata_ftf    ftf_oversample  \\\n",
       "0       0.3802       1.0      1.0          6.0         6.0  0. No oversample   \n",
       "1       0.5470       1.0      1.0          6.0         6.0  0. No oversample   \n",
       "2       0.4975       1.0      1.0          6.0         6.0  0. No oversample   \n",
       "3       0.2549       1.0      1.0          6.0         6.0  0. No oversample   \n",
       "4       0.6028       1.0      1.0          6.0         6.0  0. No oversample   \n",
       "\n",
       "   ...                         randordq_casitherm_illegal  \\\n",
       "0  ...  -6. Not asked, unit nonresponse (no post-elect...   \n",
       "1  ...                  5. 5th CASI/Web group thermometer   \n",
       "2  ...                  5. 5th CASI/Web group thermometer   \n",
       "3  ...                  5. 5th CASI/Web group thermometer   \n",
       "4  ...                  5. 5th CASI/Web group thermometer   \n",
       "\n",
       "                            randordq_casitherm_white  \\\n",
       "0  -6. Not asked, unit nonresponse (no post-elect...   \n",
       "1                  3. 3rd CASI/Web group thermometer   \n",
       "2                  4. 4th CASI/Web group thermometer   \n",
       "3                  3. 3rd CASI/Web group thermometer   \n",
       "4                  1. 1st CASI/Web group thermometer   \n",
       "\n",
       "                               randordq_stereogroups  \\\n",
       "0  -6. Not asked, unit nonresponse (no post-elect...   \n",
       "1  231. Order: 2 (Hispanics), 3 (Asians), 1 (Blacks)   \n",
       "2  132. Order: 1 (Blacks), 3 (Asians), 2 (Hispanics)   \n",
       "3  213. Order: 2 (Hispanics), 1 (Blacks), 3 (Asians)   \n",
       "4  312. Order: 3 (Asians), 1 (Blacks), 2 (Hispanics)   \n",
       "\n",
       "                              randordq_discrim_black  \\\n",
       "0  -6. Not asked, unit nonresponse (no post-elect...   \n",
       "1                        3. 3rd discrimination group   \n",
       "2                                        -2. Missing   \n",
       "3                        3. 3rd discrimination group   \n",
       "4                                        -2. Missing   \n",
       "\n",
       "                               randordq_discrim_hisp  \\\n",
       "0  -6. Not asked, unit nonresponse (no post-elect...   \n",
       "1                        1. 1st discrimination group   \n",
       "2                                        -2. Missing   \n",
       "3                        2. 2nd discrimination group   \n",
       "4                                        -2. Missing   \n",
       "\n",
       "                              randordq_discrim_white  \\\n",
       "0  -6. Not asked, unit nonresponse (no post-elect...   \n",
       "1                        5. 5th discrimination group   \n",
       "2                                        -2. Missing   \n",
       "3                        5. 5th discrimination group   \n",
       "4                                        -2. Missing   \n",
       "\n",
       "                                randordq_discrim_gay  \\\n",
       "0  -6. Not asked, unit nonresponse (no post-elect...   \n",
       "1                        2. 2nd discrimination group   \n",
       "2                                        -2. Missing   \n",
       "3                        1. 1st discrimination group   \n",
       "4                                        -2. Missing   \n",
       "\n",
       "                              randordq_discrim_women  \\\n",
       "0  -6. Not asked, unit nonresponse (no post-elect...   \n",
       "1                        4. 4th discrimination group   \n",
       "2                                        -2. Missing   \n",
       "3                        4. 4th discrimination group   \n",
       "4                                        -2. Missing   \n",
       "\n",
       "                     randordq_stereorelig invited_inetrecontact2013  \n",
       "0  -1. Inap, FTF (face-to-face) interview             -1. Inap, FTF  \n",
       "1  -1. Inap, FTF (face-to-face) interview             -1. Inap, FTF  \n",
       "2  -1. Inap, FTF (face-to-face) interview             -1. Inap, FTF  \n",
       "3  -1. Inap, FTF (face-to-face) interview             -1. Inap, FTF  \n",
       "4  -1. Inap, FTF (face-to-face) interview             -1. Inap, FTF  \n",
       "\n",
       "[5 rows x 2241 columns]"
      ]
     },
     "execution_count": 35,
     "metadata": {},
     "output_type": "execute_result"
    }
   ],
   "source": [
    "df_stata = pd.read_stata(\"anes_timeseries_2012.dta\")\n",
    "df_stata.head()"
   ]
  },
  {
   "cell_type": "markdown",
   "id": "ef299c6a",
   "metadata": {},
   "source": [
    "# Archivos CSV\n",
    "### Cargar archivos CSV"
   ]
  },
  {
   "cell_type": "code",
   "execution_count": 41,
   "id": "c2ac2540",
   "metadata": {},
   "outputs": [
    {
     "data": {
      "text/html": [
       "<div>\n",
       "<style scoped>\n",
       "    .dataframe tbody tr th:only-of-type {\n",
       "        vertical-align: middle;\n",
       "    }\n",
       "\n",
       "    .dataframe tbody tr th {\n",
       "        vertical-align: top;\n",
       "    }\n",
       "\n",
       "    .dataframe thead th {\n",
       "        text-align: right;\n",
       "    }\n",
       "</style>\n",
       "<table border=\"1\" class=\"dataframe\">\n",
       "  <thead>\n",
       "    <tr style=\"text-align: right;\">\n",
       "      <th></th>\n",
       "      <th>Asociación</th>\n",
       "      <th>Actividad Subvencionada</th>\n",
       "      <th>Importe</th>\n",
       "      <th>Justificación requerida</th>\n",
       "      <th>Justificación recibida</th>\n",
       "    </tr>\n",
       "  </thead>\n",
       "  <tbody>\n",
       "    <tr>\n",
       "      <th>0</th>\n",
       "      <td>AMPA ANTONIO MACHADO</td>\n",
       "      <td>TALLER FIESTA DE CARNAVAL</td>\n",
       "      <td>94.56</td>\n",
       "      <td>No</td>\n",
       "      <td>No</td>\n",
       "    </tr>\n",
       "    <tr>\n",
       "      <th>1</th>\n",
       "      <td>AMPA ANTONIO MACHADO</td>\n",
       "      <td>TALLER DIA DEL PADRE</td>\n",
       "      <td>39.04</td>\n",
       "      <td>No</td>\n",
       "      <td>No</td>\n",
       "    </tr>\n",
       "    <tr>\n",
       "      <th>2</th>\n",
       "      <td>AMPA ANTONIO MACHADO</td>\n",
       "      <td>TALLER DIA DE LA MADRE</td>\n",
       "      <td>43.64</td>\n",
       "      <td>No</td>\n",
       "      <td>No</td>\n",
       "    </tr>\n",
       "    <tr>\n",
       "      <th>3</th>\n",
       "      <td>AMPA ANTONIO MACHADO</td>\n",
       "      <td>FIESTA FIN DE CURSO</td>\n",
       "      <td>921.00</td>\n",
       "      <td>Sí</td>\n",
       "      <td>No</td>\n",
       "    </tr>\n",
       "    <tr>\n",
       "      <th>4</th>\n",
       "      <td>AMPA ANTONIO MACHADO</td>\n",
       "      <td>CONCURSO LOGOTIPO AMPA</td>\n",
       "      <td>56.57</td>\n",
       "      <td>No</td>\n",
       "      <td>No</td>\n",
       "    </tr>\n",
       "  </tbody>\n",
       "</table>\n",
       "</div>"
      ],
      "text/plain": [
       "             Asociación   Actividad Subvencionada   Importe  \\\n",
       "0  AMPA ANTONIO MACHADO  TALLER FIESTA DE CARNAVAL    94.56   \n",
       "1  AMPA ANTONIO MACHADO       TALLER DIA DEL PADRE    39.04   \n",
       "2  AMPA ANTONIO MACHADO     TALLER DIA DE LA MADRE    43.64   \n",
       "3  AMPA ANTONIO MACHADO        FIESTA FIN DE CURSO   921.00   \n",
       "4  AMPA ANTONIO MACHADO     CONCURSO LOGOTIPO AMPA    56.57   \n",
       "\n",
       "  Justificación requerida Justificación recibida  \n",
       "0                      No                     No  \n",
       "1                      No                     No  \n",
       "2                      No                     No  \n",
       "3                      Sí                     No  \n",
       "4                      No                     No  "
      ]
     },
     "execution_count": 41,
     "metadata": {},
     "output_type": "execute_result"
    }
   ],
   "source": [
    "df_csv = pd.read_csv (\"subvenciones_esc.csv\", encoding = \"latin1\")\n",
    "df_csv.head()"
   ]
  },
  {
   "cell_type": "code",
   "execution_count": 66,
   "id": "9e1c3529",
   "metadata": {},
   "outputs": [
    {
     "name": "stdout",
     "output_type": "stream",
     "text": [
      "Collecting psycopg2Note: you may need to restart the kernel to use updated packages.\n",
      "\n",
      "  Downloading psycopg2-2.9.5-cp39-cp39-win_amd64.whl (1.2 MB)\n",
      "     ---------------------------------------- 1.2/1.2 MB 6.2 MB/s eta 0:00:00\n",
      "Installing collected packages: psycopg2\n",
      "Successfully installed psycopg2-2.9.5\n"
     ]
    }
   ],
   "source": [
    "pip install psycopg2"
   ]
  },
  {
   "cell_type": "markdown",
   "id": "3af17535",
   "metadata": {},
   "source": [
    "# Conexión a bases de datos\n",
    "### Crear una cadena de conexión"
   ]
  },
  {
   "cell_type": "code",
   "execution_count": 67,
   "id": "7c208bcf",
   "metadata": {},
   "outputs": [],
   "source": [
    "import pyodbc as pydbc ##SQL Server\n",
    "import psycopg2\n",
    "import pandas as pd"
   ]
  },
  {
   "cell_type": "code",
   "execution_count": 68,
   "id": "6b1ed275",
   "metadata": {},
   "outputs": [
    {
     "name": "stdout",
     "output_type": "stream",
     "text": [
      "Conexion exitosa\n"
     ]
    }
   ],
   "source": [
    "servidor = \"69.164.192.245\"\n",
    "database = 'alumno'\n",
    "usuario = 'sdc_read'\n",
    "password = '#sDc_Read#21'\n",
    "\n",
    "try:\n",
    "    conexion = pydbc.connect('DRIVER={SQL Server};SERVER=' +\n",
    "                               servidor+';DATABASE='+database+';UID='+usuario+';PWD=' + password)\n",
    "   \n",
    "\n",
    "    print(\"Conexion exitosa\")\n",
    "except Exception as e:\n",
    "    # Atrapar error\n",
    "    print(\"Ocurrió un error al conectar a SQL Server: \", e)"
   ]
  },
  {
   "cell_type": "markdown",
   "id": "38f9dd2f",
   "metadata": {},
   "source": [
    "## Paso 2: Realizar la consulta SQL  a la Base de Datos"
   ]
  },
  {
   "cell_type": "code",
   "execution_count": 69,
   "id": "e6cd743e",
   "metadata": {},
   "outputs": [
    {
     "name": "stderr",
     "output_type": "stream",
     "text": [
      "C:\\Users\\olive\\anaconda3\\lib\\site-packages\\pandas\\io\\sql.py:762: UserWarning: pandas only support SQLAlchemy connectable(engine/connection) ordatabase string URI or sqlite3 DBAPI2 connectionother DBAPI2 objects are not tested, please consider using SQLAlchemy\n",
      "  warnings.warn(\n"
     ]
    },
    {
     "data": {
      "text/html": [
       "<div>\n",
       "<style scoped>\n",
       "    .dataframe tbody tr th:only-of-type {\n",
       "        vertical-align: middle;\n",
       "    }\n",
       "\n",
       "    .dataframe tbody tr th {\n",
       "        vertical-align: top;\n",
       "    }\n",
       "\n",
       "    .dataframe thead th {\n",
       "        text-align: right;\n",
       "    }\n",
       "</style>\n",
       "<table border=\"1\" class=\"dataframe\">\n",
       "  <thead>\n",
       "    <tr style=\"text-align: right;\">\n",
       "      <th></th>\n",
       "      <th>idCliente</th>\n",
       "      <th>NombreCompañia</th>\n",
       "      <th>NombreContacto</th>\n",
       "      <th>CargoContacto</th>\n",
       "      <th>Direccion</th>\n",
       "      <th>Ciudad</th>\n",
       "      <th>Region</th>\n",
       "      <th>CodPostal</th>\n",
       "      <th>Pais</th>\n",
       "      <th>Telefono</th>\n",
       "      <th>Fax</th>\n",
       "    </tr>\n",
       "  </thead>\n",
       "  <tbody>\n",
       "    <tr>\n",
       "      <th>0</th>\n",
       "      <td>ALFKI</td>\n",
       "      <td>Alfreds Futterkiste</td>\n",
       "      <td>Maria Anders</td>\n",
       "      <td>Representante de ventas</td>\n",
       "      <td>Obere Str. 57</td>\n",
       "      <td>Berlín</td>\n",
       "      <td>None</td>\n",
       "      <td>12209</td>\n",
       "      <td>Alemania</td>\n",
       "      <td>030-0074321</td>\n",
       "      <td>030-0076545</td>\n",
       "    </tr>\n",
       "    <tr>\n",
       "      <th>1</th>\n",
       "      <td>ANATR</td>\n",
       "      <td>Ana Trujillo Emparedados y helados</td>\n",
       "      <td>Ana Trujillo</td>\n",
       "      <td>Propietario</td>\n",
       "      <td>Avda. de la Constitución 2222</td>\n",
       "      <td>México D.F.</td>\n",
       "      <td>None</td>\n",
       "      <td>05021</td>\n",
       "      <td>México</td>\n",
       "      <td>(5) 555-4729</td>\n",
       "      <td>(5) 555-3745</td>\n",
       "    </tr>\n",
       "    <tr>\n",
       "      <th>2</th>\n",
       "      <td>ANTON</td>\n",
       "      <td>Antonio Moreno Taquería</td>\n",
       "      <td>Antonio Moreno</td>\n",
       "      <td>Propietario</td>\n",
       "      <td>Mataderos  2312</td>\n",
       "      <td>México D.F.</td>\n",
       "      <td>None</td>\n",
       "      <td>05023</td>\n",
       "      <td>México</td>\n",
       "      <td>(5) 555-3932</td>\n",
       "      <td>None</td>\n",
       "    </tr>\n",
       "    <tr>\n",
       "      <th>3</th>\n",
       "      <td>AROUT</td>\n",
       "      <td>Around the Horn</td>\n",
       "      <td>Thomas Hardy</td>\n",
       "      <td>Representante de ventas</td>\n",
       "      <td>120 Hanover Sq.</td>\n",
       "      <td>Londres</td>\n",
       "      <td>None</td>\n",
       "      <td>WA1 1DP</td>\n",
       "      <td>Reino Unido</td>\n",
       "      <td>(71) 555-7788</td>\n",
       "      <td>(71) 555-6750</td>\n",
       "    </tr>\n",
       "    <tr>\n",
       "      <th>4</th>\n",
       "      <td>BERGS</td>\n",
       "      <td>Berglunds snabbköp</td>\n",
       "      <td>Christina Berglund</td>\n",
       "      <td>Administrador de pedidos</td>\n",
       "      <td>Berguvsvägen  8</td>\n",
       "      <td>Luleå</td>\n",
       "      <td>None</td>\n",
       "      <td>S-958 22</td>\n",
       "      <td>Suecia</td>\n",
       "      <td>0921-12 34 65</td>\n",
       "      <td>0921-12 34 67</td>\n",
       "    </tr>\n",
       "  </tbody>\n",
       "</table>\n",
       "</div>"
      ],
      "text/plain": [
       "  idCliente                      NombreCompañia      NombreContacto  \\\n",
       "0     ALFKI                 Alfreds Futterkiste        Maria Anders   \n",
       "1     ANATR  Ana Trujillo Emparedados y helados        Ana Trujillo   \n",
       "2     ANTON             Antonio Moreno Taquería      Antonio Moreno   \n",
       "3     AROUT                     Around the Horn        Thomas Hardy   \n",
       "4     BERGS                  Berglunds snabbköp  Christina Berglund   \n",
       "\n",
       "              CargoContacto                      Direccion       Ciudad  \\\n",
       "0   Representante de ventas                  Obere Str. 57       Berlín   \n",
       "1               Propietario  Avda. de la Constitución 2222  México D.F.   \n",
       "2               Propietario                Mataderos  2312  México D.F.   \n",
       "3   Representante de ventas                120 Hanover Sq.      Londres   \n",
       "4  Administrador de pedidos                Berguvsvägen  8        Luleå   \n",
       "\n",
       "  Region CodPostal         Pais       Telefono            Fax  \n",
       "0   None     12209     Alemania    030-0074321    030-0076545  \n",
       "1   None     05021       México   (5) 555-4729   (5) 555-3745  \n",
       "2   None     05023       México   (5) 555-3932           None  \n",
       "3   None   WA1 1DP  Reino Unido  (71) 555-7788  (71) 555-6750  \n",
       "4   None  S-958 22       Suecia  0921-12 34 65  0921-12 34 67  "
      ]
     },
     "execution_count": 69,
     "metadata": {},
     "output_type": "execute_result"
    }
   ],
   "source": [
    "consulta= pd.read_sql_query(\"SELECT * from student.clientes\", conexion)\n",
    "consulta.head()"
   ]
  },
  {
   "cell_type": "markdown",
   "id": "a4db14d8",
   "metadata": {},
   "source": [
    "conexion.close()"
   ]
  },
  {
   "cell_type": "markdown",
   "id": "54c28940",
   "metadata": {},
   "source": [
    "## Conexion PostgreSQL"
   ]
  },
  {
   "cell_type": "code",
   "execution_count": 85,
   "id": "fde32219",
   "metadata": {},
   "outputs": [],
   "source": [
    "import psycopg2 as psycopg2\n"
   ]
  },
  {
   "cell_type": "code",
   "execution_count": 86,
   "id": "80c88268",
   "metadata": {},
   "outputs": [
    {
     "name": "stdout",
     "output_type": "stream",
     "text": [
      "Conexion exitosa\n"
     ]
    }
   ],
   "source": [
    "servidor = \"69.164.192.245\"\n",
    "database = 'alumno'\n",
    "usuario = 'sdc_read'\n",
    "password = '#sDc_Read#21'\n",
    "\n",
    "try:\n",
    "    conexion = psycopg2.connect(\"dbname=alumno user=postgres password=sdc2019PERU host=69.164.192.245\")\n",
    "   \n",
    "\n",
    "    print(\"Conexion exitosa\")\n",
    "except Exception as e:\n",
    "    # Atrapar error\n",
    "    print(\"Ocurrió un error al conectar a SQL Server: \", e)"
   ]
  },
  {
   "cell_type": "code",
   "execution_count": 87,
   "id": "9e207f82",
   "metadata": {},
   "outputs": [],
   "source": [
    "##conexion = psycopg2.connect(\"dbname=alumno user=postgres password=sdc2019PERU host=69.164.192.245\")"
   ]
  },
  {
   "cell_type": "code",
   "execution_count": 88,
   "id": "c285d4cc",
   "metadata": {},
   "outputs": [
    {
     "name": "stderr",
     "output_type": "stream",
     "text": [
      "C:\\Users\\olive\\anaconda3\\lib\\site-packages\\pandas\\io\\sql.py:762: UserWarning: pandas only support SQLAlchemy connectable(engine/connection) ordatabase string URI or sqlite3 DBAPI2 connectionother DBAPI2 objects are not tested, please consider using SQLAlchemy\n",
      "  warnings.warn(\n"
     ]
    },
    {
     "data": {
      "text/html": [
       "<div>\n",
       "<style scoped>\n",
       "    .dataframe tbody tr th:only-of-type {\n",
       "        vertical-align: middle;\n",
       "    }\n",
       "\n",
       "    .dataframe tbody tr th {\n",
       "        vertical-align: top;\n",
       "    }\n",
       "\n",
       "    .dataframe thead th {\n",
       "        text-align: right;\n",
       "    }\n",
       "</style>\n",
       "<table border=\"1\" class=\"dataframe\">\n",
       "  <thead>\n",
       "    <tr style=\"text-align: right;\">\n",
       "      <th></th>\n",
       "      <th>nombre</th>\n",
       "      <th>autor</th>\n",
       "      <th>precio_anterior</th>\n",
       "      <th>precio_posterior</th>\n",
       "    </tr>\n",
       "  </thead>\n",
       "  <tbody>\n",
       "    <tr>\n",
       "      <th>0</th>\n",
       "      <td>Big Data</td>\n",
       "      <td>Dawn E. Holmes</td>\n",
       "      <td>S/ 117,98</td>\n",
       "      <td>S/ 82,58</td>\n",
       "    </tr>\n",
       "    <tr>\n",
       "      <th>1</th>\n",
       "      <td>Big Data Para Directivos</td>\n",
       "      <td>Genis Roca</td>\n",
       "      <td>S/ 113,05</td>\n",
       "      <td>S/ 79,14</td>\n",
       "    </tr>\n",
       "    <tr>\n",
       "      <th>2</th>\n",
       "      <td>Big Data: La Utilización del big Data, el Anál...</td>\n",
       "      <td>Bernard Marr</td>\n",
       "      <td>S/ 166,14</td>\n",
       "      <td>S/ 116,30</td>\n",
       "    </tr>\n",
       "    <tr>\n",
       "      <th>3</th>\n",
       "      <td>Data Strategy: Como Beneficiarse de un Mundo d...</td>\n",
       "      <td>Bernard Marr</td>\n",
       "      <td>S/ 118,42</td>\n",
       "      <td>S/ 82,89</td>\n",
       "    </tr>\n",
       "    <tr>\n",
       "      <th>4</th>\n",
       "      <td>Big Data, el Poder de los Datos</td>\n",
       "      <td>Bill Schmarzo</td>\n",
       "      <td>S/ 186,11</td>\n",
       "      <td>S/ 130,27</td>\n",
       "    </tr>\n",
       "  </tbody>\n",
       "</table>\n",
       "</div>"
      ],
      "text/plain": [
       "                                              nombre           autor  \\\n",
       "0                                           Big Data  Dawn E. Holmes   \n",
       "1                           Big Data Para Directivos      Genis Roca   \n",
       "2  Big Data: La Utilización del big Data, el Anál...    Bernard Marr   \n",
       "3  Data Strategy: Como Beneficiarse de un Mundo d...    Bernard Marr   \n",
       "4                    Big Data, el Poder de los Datos   Bill Schmarzo   \n",
       "\n",
       "  precio_anterior precio_posterior  \n",
       "0       S/ 117,98         S/ 82,58  \n",
       "1       S/ 113,05         S/ 79,14  \n",
       "2       S/ 166,14        S/ 116,30  \n",
       "3       S/ 118,42         S/ 82,89  \n",
       "4       S/ 186,11        S/ 130,27  "
      ]
     },
     "execution_count": 88,
     "metadata": {},
     "output_type": "execute_result"
    }
   ],
   "source": [
    "df_postgreSQL= pd.read_sql_query(\"SELECT * FROM BOOKS\", conexion)\n",
    "df_postgreSQL.head()"
   ]
  },
  {
   "cell_type": "code",
   "execution_count": 90,
   "id": "9e4dbce1",
   "metadata": {},
   "outputs": [],
   "source": [
    "conexion.close()"
   ]
  },
  {
   "cell_type": "code",
   "execution_count": null,
   "id": "622192fb",
   "metadata": {},
   "outputs": [],
   "source": []
  }
 ],
 "metadata": {
  "kernelspec": {
   "display_name": "Python 3 (ipykernel)",
   "language": "python",
   "name": "python3"
  },
  "language_info": {
   "codemirror_mode": {
    "name": "ipython",
    "version": 3
   },
   "file_extension": ".py",
   "mimetype": "text/x-python",
   "name": "python",
   "nbconvert_exporter": "python",
   "pygments_lexer": "ipython3",
   "version": "3.10.9"
  }
 },
 "nbformat": 4,
 "nbformat_minor": 5
}
