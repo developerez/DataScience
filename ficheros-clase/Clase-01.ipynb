{
 "cells": [
  {
   "cell_type": "code",
   "execution_count": 16,
   "id": "446b11d3",
   "metadata": {},
   "outputs": [
    {
     "name": "stdout",
     "output_type": "stream",
     "text": [
      "Oliver\n",
      "Ibrahim\n"
     ]
    }
   ],
   "source": [
    "print(\"Oliver\")\n",
    "print(\"Ibrahim\")"
   ]
  },
  {
   "cell_type": "code",
   "execution_count": 17,
   "id": "13b648ef",
   "metadata": {},
   "outputs": [
    {
     "name": "stdout",
     "output_type": "stream",
     "text": [
      "País\n"
     ]
    }
   ],
   "source": [
    "print(\"País\")"
   ]
  },
  {
   "cell_type": "code",
   "execution_count": 18,
   "id": "febab3bb",
   "metadata": {},
   "outputs": [
    {
     "name": "stdout",
     "output_type": "stream",
     "text": [
      "13\n"
     ]
    }
   ],
   "source": [
    "a = 5\n",
    "b = 8\n",
    "resultado = a + b\n",
    "print(resultado)"
   ]
  },
  {
   "cell_type": "code",
   "execution_count": 20,
   "id": "2a34742e",
   "metadata": {},
   "outputs": [],
   "source": [
    "import sklearn"
   ]
  },
  {
   "cell_type": "code",
   "execution_count": 21,
   "id": "9b87f70c",
   "metadata": {},
   "outputs": [],
   "source": [
    "from sklearn.cluster import KMeans"
   ]
  },
  {
   "cell_type": "code",
   "execution_count": 22,
   "id": "eb98b8b9",
   "metadata": {},
   "outputs": [],
   "source": [
    "import os\n"
   ]
  },
  {
   "cell_type": "code",
   "execution_count": 23,
   "id": "9ec7206d",
   "metadata": {},
   "outputs": [
    {
     "data": {
      "text/plain": [
       "'C:\\\\Users\\\\olive\\\\Downloads'"
      ]
     },
     "execution_count": 23,
     "metadata": {},
     "output_type": "execute_result"
    }
   ],
   "source": [
    "os.getcwd()"
   ]
  },
  {
   "cell_type": "code",
   "execution_count": 24,
   "id": "3102a6c2",
   "metadata": {},
   "outputs": [],
   "source": [
    "os.chdir(\"C:/Users/olive/Downloads\")"
   ]
  },
  {
   "cell_type": "code",
   "execution_count": 25,
   "id": "58a0d82e",
   "metadata": {},
   "outputs": [],
   "source": [
    "import model_evaluation_utils"
   ]
  },
  {
   "cell_type": "code",
   "execution_count": 38,
   "id": "54e5a0ea",
   "metadata": {},
   "outputs": [],
   "source": [
    "def alumn(x):\n",
    "    if x<=10.4:\n",
    "        y=\"desaprobado\"\n",
    "    elif x>=10.4 and x<14:\n",
    "        y=\"aprobado pero sin creditos\"\n",
    "    else:\n",
    "        y = \"aprobado con credito\"\n",
    "    return y"
   ]
  },
  {
   "cell_type": "code",
   "execution_count": 41,
   "id": "ff23133f",
   "metadata": {},
   "outputs": [
    {
     "data": {
      "text/plain": [
       "'aprobado con credito'"
      ]
     },
     "execution_count": 41,
     "metadata": {},
     "output_type": "execute_result"
    }
   ],
   "source": [
    "alumn(15)"
   ]
  },
  {
   "cell_type": "code",
   "execution_count": null,
   "id": "f0abbe7d",
   "metadata": {},
   "outputs": [],
   "source": [
    "def alumn(x):\n",
    "    if x<=10.4:\n",
    "        y=\"desaprobado\"\n",
    "    elif 10.5<=x<14:\n",
    "        y=\"aprobado pero sin creditos\"\n",
    "    else:\n",
    "        y = \"aprobado con credito\"\n",
    "    return y"
   ]
  }
 ],
 "metadata": {
  "kernelspec": {
   "display_name": "Python 3 (ipykernel)",
   "language": "python",
   "name": "python3"
  },
  "language_info": {
   "codemirror_mode": {
    "name": "ipython",
    "version": 3
   },
   "file_extension": ".py",
   "mimetype": "text/x-python",
   "name": "python",
   "nbconvert_exporter": "python",
   "pygments_lexer": "ipython3",
   "version": "3.9.7"
  }
 },
 "nbformat": 4,
 "nbformat_minor": 5
}
