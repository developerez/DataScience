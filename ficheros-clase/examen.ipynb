{
 "cells": [
  {
   "cell_type": "code",
   "execution_count": 23,
   "id": "6a71f6cd",
   "metadata": {},
   "outputs": [],
   "source": [
    "import numpy as np\n",
    "import pandas as pd\n",
    "import os"
   ]
  },
  {
   "cell_type": "code",
   "execution_count": 24,
   "id": "d1ac41a0",
   "metadata": {},
   "outputs": [
    {
     "data": {
      "text/plain": [
       "'C:\\\\Users\\\\olive\\\\DataScience'"
      ]
     },
     "execution_count": 24,
     "metadata": {},
     "output_type": "execute_result"
    }
   ],
   "source": [
    "os.getcwd()"
   ]
  },
  {
   "cell_type": "code",
   "execution_count": 25,
   "id": "9e2c703a",
   "metadata": {},
   "outputs": [],
   "source": [
    "# os.listdir(\"C:\\\\Users\\\\olive\\\\DataScience\")"
   ]
  },
  {
   "cell_type": "code",
   "execution_count": 26,
   "id": "e7d3eeaa",
   "metadata": {},
   "outputs": [],
   "source": [
    "df = pd.read_csv('DATA_FUGA.csv')"
   ]
  },
  {
   "cell_type": "code",
   "execution_count": 27,
   "id": "883577d5",
   "metadata": {},
   "outputs": [
    {
     "data": {
      "text/html": [
       "<div>\n",
       "<style scoped>\n",
       "    .dataframe tbody tr th:only-of-type {\n",
       "        vertical-align: middle;\n",
       "    }\n",
       "\n",
       "    .dataframe tbody tr th {\n",
       "        vertical-align: top;\n",
       "    }\n",
       "\n",
       "    .dataframe thead th {\n",
       "        text-align: right;\n",
       "    }\n",
       "</style>\n",
       "<table border=\"1\" class=\"dataframe\">\n",
       "  <thead>\n",
       "    <tr style=\"text-align: right;\">\n",
       "      <th></th>\n",
       "      <th>CODMES</th>\n",
       "      <th>TARGET_MODEL2</th>\n",
       "      <th>EDAD</th>\n",
       "      <th>SEXO</th>\n",
       "      <th>DEPARTAMENTO</th>\n",
       "      <th>INGRESO_BRUTO_M1</th>\n",
       "      <th>FLG_CLIENTE</th>\n",
       "      <th>SEGMENTO</th>\n",
       "      <th>FLG_ADEL_SUELDO_M1</th>\n",
       "      <th>FREC_AGENTE</th>\n",
       "      <th>FLG_VEH_SF</th>\n",
       "      <th>FLG_CONV_SF</th>\n",
       "      <th>FREC_KIOSKO</th>\n",
       "      <th>FREC_BPI_TD</th>\n",
       "      <th>FREC_MON_TD</th>\n",
       "      <th>PROM_CTD_TRX_6M</th>\n",
       "      <th>ANT_CLIENTE</th>\n",
       "      <th>REC_AGENTE_TD</th>\n",
       "      <th>CTD_RECLAMOS_M1</th>\n",
       "    </tr>\n",
       "  </thead>\n",
       "  <tbody>\n",
       "    <tr>\n",
       "      <th>0</th>\n",
       "      <td>201411</td>\n",
       "      <td>0</td>\n",
       "      <td>46</td>\n",
       "      <td>F</td>\n",
       "      <td>PIURA</td>\n",
       "      <td>NaN</td>\n",
       "      <td>NO CLIENTE</td>\n",
       "      <td>2</td>\n",
       "      <td>0</td>\n",
       "      <td>0</td>\n",
       "      <td>0.0</td>\n",
       "      <td>0.0</td>\n",
       "      <td>0</td>\n",
       "      <td>0</td>\n",
       "      <td>0</td>\n",
       "      <td>0.0</td>\n",
       "      <td>224.0</td>\n",
       "      <td>NaN</td>\n",
       "      <td>0</td>\n",
       "    </tr>\n",
       "    <tr>\n",
       "      <th>1</th>\n",
       "      <td>201411</td>\n",
       "      <td>0</td>\n",
       "      <td>54</td>\n",
       "      <td>M</td>\n",
       "      <td>LORETO</td>\n",
       "      <td>4718.0</td>\n",
       "      <td>CLIENTE</td>\n",
       "      <td>1BC</td>\n",
       "      <td>0</td>\n",
       "      <td>0</td>\n",
       "      <td>0.0</td>\n",
       "      <td>1.0</td>\n",
       "      <td>0</td>\n",
       "      <td>0</td>\n",
       "      <td>0</td>\n",
       "      <td>0.0</td>\n",
       "      <td>123.0</td>\n",
       "      <td>NaN</td>\n",
       "      <td>0</td>\n",
       "    </tr>\n",
       "    <tr>\n",
       "      <th>2</th>\n",
       "      <td>201411</td>\n",
       "      <td>0</td>\n",
       "      <td>81</td>\n",
       "      <td>M</td>\n",
       "      <td>NaN</td>\n",
       "      <td>NaN</td>\n",
       "      <td>CLIENTE</td>\n",
       "      <td>6</td>\n",
       "      <td>0</td>\n",
       "      <td>0</td>\n",
       "      <td>NaN</td>\n",
       "      <td>NaN</td>\n",
       "      <td>0</td>\n",
       "      <td>0</td>\n",
       "      <td>0</td>\n",
       "      <td>0.0</td>\n",
       "      <td>264.0</td>\n",
       "      <td>NaN</td>\n",
       "      <td>0</td>\n",
       "    </tr>\n",
       "    <tr>\n",
       "      <th>3</th>\n",
       "      <td>201411</td>\n",
       "      <td>0</td>\n",
       "      <td>42</td>\n",
       "      <td>M</td>\n",
       "      <td>PIURA</td>\n",
       "      <td>936.0</td>\n",
       "      <td>CLIENTE</td>\n",
       "      <td>2</td>\n",
       "      <td>0</td>\n",
       "      <td>0</td>\n",
       "      <td>NaN</td>\n",
       "      <td>NaN</td>\n",
       "      <td>0</td>\n",
       "      <td>0</td>\n",
       "      <td>0</td>\n",
       "      <td>0.0</td>\n",
       "      <td>263.0</td>\n",
       "      <td>NaN</td>\n",
       "      <td>0</td>\n",
       "    </tr>\n",
       "    <tr>\n",
       "      <th>4</th>\n",
       "      <td>201411</td>\n",
       "      <td>0</td>\n",
       "      <td>52</td>\n",
       "      <td>M</td>\n",
       "      <td>MOQUEGUA</td>\n",
       "      <td>5844.0</td>\n",
       "      <td>CLIENTE</td>\n",
       "      <td>1BC</td>\n",
       "      <td>0</td>\n",
       "      <td>0</td>\n",
       "      <td>NaN</td>\n",
       "      <td>NaN</td>\n",
       "      <td>0</td>\n",
       "      <td>0</td>\n",
       "      <td>0</td>\n",
       "      <td>0.0</td>\n",
       "      <td>263.0</td>\n",
       "      <td>NaN</td>\n",
       "      <td>0</td>\n",
       "    </tr>\n",
       "  </tbody>\n",
       "</table>\n",
       "</div>"
      ],
      "text/plain": [
       "   CODMES  TARGET_MODEL2  EDAD SEXO DEPARTAMENTO  INGRESO_BRUTO_M1  \\\n",
       "0  201411              0    46    F        PIURA               NaN   \n",
       "1  201411              0    54    M       LORETO            4718.0   \n",
       "2  201411              0    81    M          NaN               NaN   \n",
       "3  201411              0    42    M        PIURA             936.0   \n",
       "4  201411              0    52    M     MOQUEGUA            5844.0   \n",
       "\n",
       "  FLG_CLIENTE SEGMENTO  FLG_ADEL_SUELDO_M1  FREC_AGENTE  FLG_VEH_SF  \\\n",
       "0  NO CLIENTE        2                   0            0         0.0   \n",
       "1     CLIENTE      1BC                   0            0         0.0   \n",
       "2     CLIENTE        6                   0            0         NaN   \n",
       "3     CLIENTE        2                   0            0         NaN   \n",
       "4     CLIENTE      1BC                   0            0         NaN   \n",
       "\n",
       "   FLG_CONV_SF  FREC_KIOSKO  FREC_BPI_TD  FREC_MON_TD  PROM_CTD_TRX_6M  \\\n",
       "0          0.0            0            0            0              0.0   \n",
       "1          1.0            0            0            0              0.0   \n",
       "2          NaN            0            0            0              0.0   \n",
       "3          NaN            0            0            0              0.0   \n",
       "4          NaN            0            0            0              0.0   \n",
       "\n",
       "   ANT_CLIENTE  REC_AGENTE_TD  CTD_RECLAMOS_M1  \n",
       "0        224.0            NaN                0  \n",
       "1        123.0            NaN                0  \n",
       "2        264.0            NaN                0  \n",
       "3        263.0            NaN                0  \n",
       "4        263.0            NaN                0  "
      ]
     },
     "execution_count": 27,
     "metadata": {},
     "output_type": "execute_result"
    }
   ],
   "source": [
    "df.head()"
   ]
  },
  {
   "cell_type": "code",
   "execution_count": 28,
   "id": "50f2fa3e",
   "metadata": {},
   "outputs": [],
   "source": [
    "# Detalle del dataframe\n",
    "#df.info()"
   ]
  },
  {
   "cell_type": "code",
   "execution_count": 29,
   "id": "44b4a600",
   "metadata": {},
   "outputs": [],
   "source": [
    "#print(df.index) "
   ]
  },
  {
   "cell_type": "code",
   "execution_count": 30,
   "id": "b4334efb",
   "metadata": {},
   "outputs": [
    {
     "name": "stdout",
     "output_type": "stream",
     "text": [
      "Total filas:  787495\n"
     ]
    }
   ],
   "source": [
    "# Número de filas y núnero de columnas del dataframe.\n",
    "totalFilas = df.shape[0]\n",
    "print(f'Total filas:  {totalFilas}' )"
   ]
  },
  {
   "cell_type": "code",
   "execution_count": 32,
   "id": "7aa20fc6",
   "metadata": {},
   "outputs": [
    {
     "name": "stdout",
     "output_type": "stream",
     "text": [
      "Total valores:\" CODMES                 0.000000\n",
      "TARGET_MODEL2          0.000000\n",
      "EDAD                   0.000000\n",
      "SEXO                   0.000000\n",
      "DEPARTAMENTO           3.425419\n",
      "INGRESO_BRUTO_M1      23.778437\n",
      "FLG_CLIENTE            0.000000\n",
      "SEGMENTO               0.000000\n",
      "FLG_ADEL_SUELDO_M1     0.000000\n",
      "FREC_AGENTE            0.000000\n",
      "FLG_VEH_SF            34.207582\n",
      "FLG_CONV_SF           34.207582\n",
      "FREC_KIOSKO            0.000000\n",
      "FREC_BPI_TD            0.000000\n",
      "FREC_MON_TD            0.000000\n",
      "PROM_CTD_TRX_6M        0.000000\n",
      "ANT_CLIENTE            0.117207\n",
      "REC_AGENTE_TD         88.280687\n",
      "CTD_RECLAMOS_M1        0.000000\n",
      "dtype: float64\n"
     ]
    }
   ],
   "source": [
    "valores = df.isnull().sum()\n",
    "valores = valores / totalFilas * 100\n",
    "print(f'Total valores:\" {valores}')"
   ]
  },
  {
   "cell_type": "code",
   "execution_count": 33,
   "id": "f89d3557",
   "metadata": {},
   "outputs": [
    {
     "data": {
      "text/plain": [
       "Index(['FLG_VEH_SF', 'FLG_CONV_SF', 'REC_AGENTE_TD'], dtype='object')"
      ]
     },
     "execution_count": 33,
     "metadata": {},
     "output_type": "execute_result"
    }
   ],
   "source": [
    "valores = valoresNull[valoresNull > 30].keys()\n",
    "valores"
   ]
  },
  {
   "cell_type": "markdown",
   "id": "0a01f8bc",
   "metadata": {},
   "source": [
    "# Segunda pregunta"
   ]
  },
  {
   "cell_type": "code",
   "execution_count": 65,
   "id": "d21547b7",
   "metadata": {},
   "outputs": [],
   "source": [
    "from collections import defaultdict #crea por defecto diccionario\n",
    "from sklearn.preprocessing import LabelEncoder #codificación \n",
    "import numpy as np"
   ]
  },
  {
   "cell_type": "code",
   "execution_count": 35,
   "id": "4a185f0e",
   "metadata": {},
   "outputs": [],
   "source": [
    "df = df.drop(columns= 'REC_AGENTE_TD')"
   ]
  },
  {
   "cell_type": "code",
   "execution_count": 47,
   "id": "25544a44",
   "metadata": {},
   "outputs": [
    {
     "data": {
      "text/html": [
       "<div>\n",
       "<style scoped>\n",
       "    .dataframe tbody tr th:only-of-type {\n",
       "        vertical-align: middle;\n",
       "    }\n",
       "\n",
       "    .dataframe tbody tr th {\n",
       "        vertical-align: top;\n",
       "    }\n",
       "\n",
       "    .dataframe thead th {\n",
       "        text-align: right;\n",
       "    }\n",
       "</style>\n",
       "<table border=\"1\" class=\"dataframe\">\n",
       "  <thead>\n",
       "    <tr style=\"text-align: right;\">\n",
       "      <th></th>\n",
       "      <th>CODMES</th>\n",
       "      <th>TARGET_MODEL2</th>\n",
       "      <th>EDAD</th>\n",
       "      <th>SEXO</th>\n",
       "      <th>DEPARTAMENTO</th>\n",
       "      <th>INGRESO_BRUTO_M1</th>\n",
       "      <th>FLG_CLIENTE</th>\n",
       "      <th>SEGMENTO</th>\n",
       "      <th>FLG_ADEL_SUELDO_M1</th>\n",
       "      <th>FREC_AGENTE</th>\n",
       "      <th>FLG_VEH_SF</th>\n",
       "      <th>FLG_CONV_SF</th>\n",
       "      <th>FREC_KIOSKO</th>\n",
       "      <th>FREC_BPI_TD</th>\n",
       "      <th>FREC_MON_TD</th>\n",
       "      <th>PROM_CTD_TRX_6M</th>\n",
       "      <th>ANT_CLIENTE</th>\n",
       "      <th>CTD_RECLAMOS_M1</th>\n",
       "    </tr>\n",
       "  </thead>\n",
       "  <tbody>\n",
       "    <tr>\n",
       "      <th>0</th>\n",
       "      <td>201411</td>\n",
       "      <td>0</td>\n",
       "      <td>46</td>\n",
       "      <td>F</td>\n",
       "      <td>PIURA</td>\n",
       "      <td>NaN</td>\n",
       "      <td>NO CLIENTE</td>\n",
       "      <td>2</td>\n",
       "      <td>0</td>\n",
       "      <td>0</td>\n",
       "      <td>0.0</td>\n",
       "      <td>0.0</td>\n",
       "      <td>0</td>\n",
       "      <td>0</td>\n",
       "      <td>0</td>\n",
       "      <td>0.0</td>\n",
       "      <td>224.0</td>\n",
       "      <td>0</td>\n",
       "    </tr>\n",
       "    <tr>\n",
       "      <th>1</th>\n",
       "      <td>201411</td>\n",
       "      <td>0</td>\n",
       "      <td>54</td>\n",
       "      <td>M</td>\n",
       "      <td>LORETO</td>\n",
       "      <td>4718.0</td>\n",
       "      <td>CLIENTE</td>\n",
       "      <td>1BC</td>\n",
       "      <td>0</td>\n",
       "      <td>0</td>\n",
       "      <td>0.0</td>\n",
       "      <td>1.0</td>\n",
       "      <td>0</td>\n",
       "      <td>0</td>\n",
       "      <td>0</td>\n",
       "      <td>0.0</td>\n",
       "      <td>123.0</td>\n",
       "      <td>0</td>\n",
       "    </tr>\n",
       "    <tr>\n",
       "      <th>2</th>\n",
       "      <td>201411</td>\n",
       "      <td>0</td>\n",
       "      <td>81</td>\n",
       "      <td>M</td>\n",
       "      <td>NaN</td>\n",
       "      <td>NaN</td>\n",
       "      <td>CLIENTE</td>\n",
       "      <td>6</td>\n",
       "      <td>0</td>\n",
       "      <td>0</td>\n",
       "      <td>NaN</td>\n",
       "      <td>NaN</td>\n",
       "      <td>0</td>\n",
       "      <td>0</td>\n",
       "      <td>0</td>\n",
       "      <td>0.0</td>\n",
       "      <td>264.0</td>\n",
       "      <td>0</td>\n",
       "    </tr>\n",
       "    <tr>\n",
       "      <th>3</th>\n",
       "      <td>201411</td>\n",
       "      <td>0</td>\n",
       "      <td>42</td>\n",
       "      <td>M</td>\n",
       "      <td>PIURA</td>\n",
       "      <td>936.0</td>\n",
       "      <td>CLIENTE</td>\n",
       "      <td>2</td>\n",
       "      <td>0</td>\n",
       "      <td>0</td>\n",
       "      <td>NaN</td>\n",
       "      <td>NaN</td>\n",
       "      <td>0</td>\n",
       "      <td>0</td>\n",
       "      <td>0</td>\n",
       "      <td>0.0</td>\n",
       "      <td>263.0</td>\n",
       "      <td>0</td>\n",
       "    </tr>\n",
       "    <tr>\n",
       "      <th>4</th>\n",
       "      <td>201411</td>\n",
       "      <td>0</td>\n",
       "      <td>52</td>\n",
       "      <td>M</td>\n",
       "      <td>MOQUEGUA</td>\n",
       "      <td>5844.0</td>\n",
       "      <td>CLIENTE</td>\n",
       "      <td>1BC</td>\n",
       "      <td>0</td>\n",
       "      <td>0</td>\n",
       "      <td>NaN</td>\n",
       "      <td>NaN</td>\n",
       "      <td>0</td>\n",
       "      <td>0</td>\n",
       "      <td>0</td>\n",
       "      <td>0.0</td>\n",
       "      <td>263.0</td>\n",
       "      <td>0</td>\n",
       "    </tr>\n",
       "  </tbody>\n",
       "</table>\n",
       "</div>"
      ],
      "text/plain": [
       "   CODMES  TARGET_MODEL2  EDAD SEXO DEPARTAMENTO  INGRESO_BRUTO_M1  \\\n",
       "0  201411              0    46    F        PIURA               NaN   \n",
       "1  201411              0    54    M       LORETO            4718.0   \n",
       "2  201411              0    81    M          NaN               NaN   \n",
       "3  201411              0    42    M        PIURA             936.0   \n",
       "4  201411              0    52    M     MOQUEGUA            5844.0   \n",
       "\n",
       "  FLG_CLIENTE SEGMENTO  FLG_ADEL_SUELDO_M1  FREC_AGENTE  FLG_VEH_SF  \\\n",
       "0  NO CLIENTE        2                   0            0         0.0   \n",
       "1     CLIENTE      1BC                   0            0         0.0   \n",
       "2     CLIENTE        6                   0            0         NaN   \n",
       "3     CLIENTE        2                   0            0         NaN   \n",
       "4     CLIENTE      1BC                   0            0         NaN   \n",
       "\n",
       "   FLG_CONV_SF  FREC_KIOSKO  FREC_BPI_TD  FREC_MON_TD  PROM_CTD_TRX_6M  \\\n",
       "0          0.0            0            0            0              0.0   \n",
       "1          1.0            0            0            0              0.0   \n",
       "2          NaN            0            0            0              0.0   \n",
       "3          NaN            0            0            0              0.0   \n",
       "4          NaN            0            0            0              0.0   \n",
       "\n",
       "   ANT_CLIENTE  CTD_RECLAMOS_M1  \n",
       "0        224.0                0  \n",
       "1        123.0                0  \n",
       "2        264.0                0  \n",
       "3        263.0                0  \n",
       "4        263.0                0  "
      ]
     },
     "execution_count": 47,
     "metadata": {},
     "output_type": "execute_result"
    }
   ],
   "source": [
    "df.head()"
   ]
  },
  {
   "cell_type": "code",
   "execution_count": 66,
   "id": "862894ec",
   "metadata": {},
   "outputs": [],
   "source": [
    "d= defaultdict(LabelEncoder)"
   ]
  },
  {
   "cell_type": "code",
   "execution_count": 53,
   "id": "ba19ad1e",
   "metadata": {},
   "outputs": [
    {
     "name": "stdout",
     "output_type": "stream",
     "text": [
      "<class 'pandas.core.frame.DataFrame'>\n",
      "RangeIndex: 787495 entries, 0 to 787494\n",
      "Data columns (total 18 columns):\n",
      " #   Column              Non-Null Count   Dtype  \n",
      "---  ------              --------------   -----  \n",
      " 0   CODMES              787495 non-null  int64  \n",
      " 1   TARGET_MODEL2       787495 non-null  int64  \n",
      " 2   EDAD                787495 non-null  int64  \n",
      " 3   SEXO                787495 non-null  object \n",
      " 4   DEPARTAMENTO        760520 non-null  object \n",
      " 5   INGRESO_BRUTO_M1    600241 non-null  float64\n",
      " 6   FLG_CLIENTE         787495 non-null  object \n",
      " 7   SEGMENTO            787495 non-null  object \n",
      " 8   FLG_ADEL_SUELDO_M1  787495 non-null  int64  \n",
      " 9   FREC_AGENTE         787495 non-null  int64  \n",
      " 10  FLG_VEH_SF          518112 non-null  float64\n",
      " 11  FLG_CONV_SF         518112 non-null  float64\n",
      " 12  FREC_KIOSKO         787495 non-null  int64  \n",
      " 13  FREC_BPI_TD         787495 non-null  int64  \n",
      " 14  FREC_MON_TD         787495 non-null  int64  \n",
      " 15  PROM_CTD_TRX_6M     787495 non-null  float64\n",
      " 16  ANT_CLIENTE         786572 non-null  float64\n",
      " 17  CTD_RECLAMOS_M1     787495 non-null  int64  \n",
      "dtypes: float64(5), int64(9), object(4)\n",
      "memory usage: 108.1+ MB\n"
     ]
    }
   ],
   "source": [
    "df.info()"
   ]
  },
  {
   "cell_type": "code",
   "execution_count": 46,
   "id": "e51017ec",
   "metadata": {},
   "outputs": [],
   "source": [
    "from sklearn.model_selection import train_test_split"
   ]
  },
  {
   "cell_type": "code",
   "execution_count": 50,
   "id": "7cca994e",
   "metadata": {},
   "outputs": [
    {
     "data": {
      "text/plain": [
       "['SEXO', 'DEPARTAMENTO', 'FLG_CLIENTE', 'SEGMENTO']"
      ]
     },
     "execution_count": 50,
     "metadata": {},
     "output_type": "execute_result"
    }
   ],
   "source": [
    "objeto_list=list(df.columns.to_series().groupby(df.dtypes).groups[np.dtype(\"object\")])\n",
    "objeto_list"
   ]
  },
  {
   "cell_type": "code",
   "execution_count": 63,
   "id": "19e93de4",
   "metadata": {},
   "outputs": [
    {
     "data": {
      "text/plain": [
       "['SEXO', 'DEPARTAMENTO', 'FLG_CLIENTE', 'SEGMENTO']"
      ]
     },
     "execution_count": 63,
     "metadata": {},
     "output_type": "execute_result"
    }
   ],
   "source": [
    "# Variables a codificar\n",
    "list(df.columns.to_series().groupby(df.dtypes).groups[np.dtype(\"object\")])"
   ]
  },
  {
   "cell_type": "markdown",
   "id": "691a1cbc",
   "metadata": {},
   "source": [
    "### Codificar variables categóricas en variables numéricas."
   ]
  },
  {
   "cell_type": "markdown",
   "id": "c4128faa",
   "metadata": {},
   "source": [
    "***Codificación Data Frame***"
   ]
  },
  {
   "cell_type": "code",
   "execution_count": 67,
   "id": "bb6f702a",
   "metadata": {},
   "outputs": [],
   "source": [
    "df_v2 = df.apply(lambda x:d[x.name].fit_transform(x) if x.name in objeto_list else x)"
   ]
  },
  {
   "cell_type": "code",
   "execution_count": 68,
   "id": "a64ca97e",
   "metadata": {},
   "outputs": [
    {
     "data": {
      "text/html": [
       "<div>\n",
       "<style scoped>\n",
       "    .dataframe tbody tr th:only-of-type {\n",
       "        vertical-align: middle;\n",
       "    }\n",
       "\n",
       "    .dataframe tbody tr th {\n",
       "        vertical-align: top;\n",
       "    }\n",
       "\n",
       "    .dataframe thead th {\n",
       "        text-align: right;\n",
       "    }\n",
       "</style>\n",
       "<table border=\"1\" class=\"dataframe\">\n",
       "  <thead>\n",
       "    <tr style=\"text-align: right;\">\n",
       "      <th></th>\n",
       "      <th>CODMES</th>\n",
       "      <th>TARGET_MODEL2</th>\n",
       "      <th>EDAD</th>\n",
       "      <th>SEXO</th>\n",
       "      <th>DEPARTAMENTO</th>\n",
       "      <th>INGRESO_BRUTO_M1</th>\n",
       "      <th>FLG_CLIENTE</th>\n",
       "      <th>SEGMENTO</th>\n",
       "      <th>FLG_ADEL_SUELDO_M1</th>\n",
       "      <th>FREC_AGENTE</th>\n",
       "      <th>FLG_VEH_SF</th>\n",
       "      <th>FLG_CONV_SF</th>\n",
       "      <th>FREC_KIOSKO</th>\n",
       "      <th>FREC_BPI_TD</th>\n",
       "      <th>FREC_MON_TD</th>\n",
       "      <th>PROM_CTD_TRX_6M</th>\n",
       "      <th>ANT_CLIENTE</th>\n",
       "      <th>CTD_RECLAMOS_M1</th>\n",
       "    </tr>\n",
       "  </thead>\n",
       "  <tbody>\n",
       "    <tr>\n",
       "      <th>0</th>\n",
       "      <td>201411</td>\n",
       "      <td>0</td>\n",
       "      <td>46</td>\n",
       "      <td>0</td>\n",
       "      <td>19</td>\n",
       "      <td>NaN</td>\n",
       "      <td>1</td>\n",
       "      <td>3</td>\n",
       "      <td>0</td>\n",
       "      <td>0</td>\n",
       "      <td>0.0</td>\n",
       "      <td>0.0</td>\n",
       "      <td>0</td>\n",
       "      <td>0</td>\n",
       "      <td>0</td>\n",
       "      <td>0.0</td>\n",
       "      <td>224.0</td>\n",
       "      <td>0</td>\n",
       "    </tr>\n",
       "    <tr>\n",
       "      <th>1</th>\n",
       "      <td>201411</td>\n",
       "      <td>0</td>\n",
       "      <td>54</td>\n",
       "      <td>1</td>\n",
       "      <td>15</td>\n",
       "      <td>4718.0</td>\n",
       "      <td>0</td>\n",
       "      <td>2</td>\n",
       "      <td>0</td>\n",
       "      <td>0</td>\n",
       "      <td>0.0</td>\n",
       "      <td>1.0</td>\n",
       "      <td>0</td>\n",
       "      <td>0</td>\n",
       "      <td>0</td>\n",
       "      <td>0.0</td>\n",
       "      <td>123.0</td>\n",
       "      <td>0</td>\n",
       "    </tr>\n",
       "    <tr>\n",
       "      <th>2</th>\n",
       "      <td>201411</td>\n",
       "      <td>0</td>\n",
       "      <td>81</td>\n",
       "      <td>1</td>\n",
       "      <td>25</td>\n",
       "      <td>NaN</td>\n",
       "      <td>0</td>\n",
       "      <td>7</td>\n",
       "      <td>0</td>\n",
       "      <td>0</td>\n",
       "      <td>NaN</td>\n",
       "      <td>NaN</td>\n",
       "      <td>0</td>\n",
       "      <td>0</td>\n",
       "      <td>0</td>\n",
       "      <td>0.0</td>\n",
       "      <td>264.0</td>\n",
       "      <td>0</td>\n",
       "    </tr>\n",
       "  </tbody>\n",
       "</table>\n",
       "</div>"
      ],
      "text/plain": [
       "   CODMES  TARGET_MODEL2  EDAD  SEXO  DEPARTAMENTO  INGRESO_BRUTO_M1  \\\n",
       "0  201411              0    46     0            19               NaN   \n",
       "1  201411              0    54     1            15            4718.0   \n",
       "2  201411              0    81     1            25               NaN   \n",
       "\n",
       "   FLG_CLIENTE  SEGMENTO  FLG_ADEL_SUELDO_M1  FREC_AGENTE  FLG_VEH_SF  \\\n",
       "0            1         3                   0            0         0.0   \n",
       "1            0         2                   0            0         0.0   \n",
       "2            0         7                   0            0         NaN   \n",
       "\n",
       "   FLG_CONV_SF  FREC_KIOSKO  FREC_BPI_TD  FREC_MON_TD  PROM_CTD_TRX_6M  \\\n",
       "0          0.0            0            0            0              0.0   \n",
       "1          1.0            0            0            0              0.0   \n",
       "2          NaN            0            0            0              0.0   \n",
       "\n",
       "   ANT_CLIENTE  CTD_RECLAMOS_M1  \n",
       "0        224.0                0  \n",
       "1        123.0                0  \n",
       "2        264.0                0  "
      ]
     },
     "execution_count": 68,
     "metadata": {},
     "output_type": "execute_result"
    }
   ],
   "source": [
    "df_v2.head(n=3)"
   ]
  },
  {
   "cell_type": "code",
   "execution_count": null,
   "id": "5e1a77d9",
   "metadata": {},
   "outputs": [],
   "source": []
  }
 ],
 "metadata": {
  "kernelspec": {
   "display_name": "Python 3 (ipykernel)",
   "language": "python",
   "name": "python3"
  },
  "language_info": {
   "codemirror_mode": {
    "name": "ipython",
    "version": 3
   },
   "file_extension": ".py",
   "mimetype": "text/x-python",
   "name": "python",
   "nbconvert_exporter": "python",
   "pygments_lexer": "ipython3",
   "version": "3.10.9"
  }
 },
 "nbformat": 4,
 "nbformat_minor": 5
}
